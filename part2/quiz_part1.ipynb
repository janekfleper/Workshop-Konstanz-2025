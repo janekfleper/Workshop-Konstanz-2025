{
 "cells": [
  {
   "cell_type": "markdown",
   "id": "243f0a5d-0315-438b-9cde-c80a1b07f2ab",
   "metadata": {
    "editable": false,
    "slideshow": {
     "slide_type": ""
    },
    "tags": []
   },
   "source": [
    "## Quiz - Day 1\n",
    "You are going to start with a password again and compute a few different properties of the password. If you are not able to solve a task, you can just skip it and continue with the next one. The tasks only require the `password` variable that is assigned at the top of the Notebook. If you overwrite the password by accident, just run the first `Code` cell again to reassign the password."
   ]
  },
  {
   "cell_type": "code",
   "execution_count": 1,
   "id": "cc6ba91e-4e2c-4b0a-b8db-dd909d857cf0",
   "metadata": {
    "editable": true,
    "slideshow": {
     "slide_type": ""
    },
    "tags": []
   },
   "outputs": [],
   "source": [
    "password = \"MySecurePassword2024\""
   ]
  },
  {
   "cell_type": "markdown",
   "id": "0213f8e7-5404-4c8c-acb9-6b1cdf40c219",
   "metadata": {
    "editable": false,
    "slideshow": {
     "slide_type": ""
    },
    "tags": []
   },
   "source": [
    "### Q1.1 Password slicing\n",
    "Slice the year at the end of the `password`, convert it to an `integer` and assign it to a new variable. Use an index range such that the slicing works for any password that ends with a four digit year!"
   ]
  },
  {
   "cell_type": "code",
   "execution_count": null,
   "id": "75d8fa46-bdf8-4b60-98c4-ef1ae4069c3f",
   "metadata": {
    "editable": true,
    "slideshow": {
     "slide_type": ""
    },
    "tags": []
   },
   "outputs": [],
   "source": []
  },
  {
   "cell_type": "markdown",
   "id": "5850a9f2-20e4-4f87-b841-16a916d24a87",
   "metadata": {
    "editable": false,
    "slideshow": {
     "slide_type": ""
    },
    "tags": []
   },
   "source": [
    "### Q1.2 Upper and lower case characters\n",
    "Loop over the characters in the `password` and sort them into lower case letters, upper case letters and other characters. You can use the string methods `s.islower()` and `s.isupper()` to check the case of a letter `s`. Instead of the characters, the three lists should contain the _indices_ of the characters!"
   ]
  },
  {
   "cell_type": "code",
   "execution_count": null,
   "id": "df614faa-399c-4e00-8c4f-087269f7ab2c",
   "metadata": {
    "editable": true,
    "slideshow": {
     "slide_type": ""
    },
    "tags": []
   },
   "outputs": [],
   "source": []
  },
  {
   "cell_type": "markdown",
   "id": "f15c7fdc-7e85-4a3a-930c-1901c212468e",
   "metadata": {
    "editable": false,
    "slideshow": {
     "slide_type": ""
    },
    "tags": []
   },
   "source": [
    "### Q1.3 Digit product\n",
    "The digit product is the product of all numeric characters in a string. As an example, the digit product of the string `\"hello01234\"` is $1 \\times 2 \\times 3 \\times 4 = 24$. The character `\"0\"` has to be excluded from the calculation since the product would always be $0$.\n",
    "\n",
    "Iterate over the characters in the `password` and compute the product of the numeric characters excluding `\"0\"`."
   ]
  },
  {
   "cell_type": "code",
   "execution_count": null,
   "id": "8ac6b2e4-04f5-4a32-a3b2-d082bed3b501",
   "metadata": {
    "editable": true,
    "slideshow": {
     "slide_type": ""
    },
    "tags": []
   },
   "outputs": [],
   "source": []
  },
  {
   "cell_type": "markdown",
   "id": "2e6e14d2-07f1-47f2-82db-8d646a6b14e5",
   "metadata": {
    "editable": false,
    "slideshow": {
     "slide_type": ""
    },
    "tags": []
   },
   "source": [
    "### Q1.4 Unicode sum\n",
    "Every character also has an associated integer value that is used internally to represent the character. In Python, you can get this so-called [Unicode](https://en.wikipedia.org/wiki/Unicode) value with the function `ord(c)` where `c` is any string with length 1. As an example, `ord(\"A\")` will return the integer value $65$.\n",
    "\n",
    "Iterate over the characters in the `password`, compute the sum of the Unicode values, assign the result to a variable and output/print the variable."
   ]
  },
  {
   "cell_type": "code",
   "execution_count": null,
   "id": "49632b29-4d82-4bf6-9809-5d15458a305f",
   "metadata": {
    "editable": true,
    "slideshow": {
     "slide_type": ""
    },
    "tags": []
   },
   "outputs": [],
   "source": []
  },
  {
   "cell_type": "markdown",
   "id": "9374f8f0-5337-47e9-93ef-cf69b0c33d7f",
   "metadata": {
    "editable": false,
    "slideshow": {
     "slide_type": ""
    },
    "tags": []
   },
   "source": [
    "### Q1.5 Characters in a dictionary\n",
    "Dictionaries are useful to group data together. Instead of using bare lists to store the different character categories, you can use a single dictionary to store the lists.\n",
    "\n",
    "Create a dictionary with the keys `\"alphabetic\"` and `\"numeric\"` and empty lists as the values. Iterate over the characters in the `password` and store the alphabetic characters and the numeric characters in the respective lists."
   ]
  },
  {
   "cell_type": "code",
   "execution_count": null,
   "id": "a08791a1-62ed-4f9a-b50c-894d4d909e58",
   "metadata": {
    "editable": true,
    "slideshow": {
     "slide_type": ""
    },
    "tags": []
   },
   "outputs": [],
   "source": []
  },
  {
   "cell_type": "markdown",
   "id": "46ae4b2f-b0b6-440f-8c25-26563fe76547",
   "metadata": {
    "editable": false,
    "slideshow": {
     "slide_type": ""
    },
    "tags": []
   },
   "source": [
    "### Q1.6 Password encryption\n",
    "The so-called shift cypher encrypts a password by _shifting_ all characters by the fixed value `n = 5`. As an example, the letters `\"a\"` and `\"B\"` are turned into the letters `\"f\"` and `\"G\"` respectively. Use the function `ord(c)` to get the Unicode value of a character `c` as an integer, and use the function `chr(i)` to get the character of a Unicode value `i`. Iterate over the `password` and print the original character and the encrypted character in each step of the loop."
   ]
  },
  {
   "cell_type": "code",
   "execution_count": null,
   "id": "6dadd802-3e7b-4a0a-9ebb-e37c96665e90",
   "metadata": {
    "editable": true,
    "slideshow": {
     "slide_type": ""
    },
    "tags": []
   },
   "outputs": [],
   "source": []
  }
 ],
 "metadata": {
  "kernelspec": {
   "display_name": "Python 3 (ipykernel)",
   "language": "python",
   "name": "python3"
  },
  "language_info": {
   "codemirror_mode": {
    "name": "ipython",
    "version": 3
   },
   "file_extension": ".py",
   "mimetype": "text/x-python",
   "name": "python",
   "nbconvert_exporter": "python",
   "pygments_lexer": "ipython3",
   "version": "3.12.7"
  }
 },
 "nbformat": 4,
 "nbformat_minor": 5
}
