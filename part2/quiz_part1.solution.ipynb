{
 "cells": [
  {
   "cell_type": "markdown",
   "id": "243f0a5d-0315-438b-9cde-c80a1b07f2ab",
   "metadata": {
    "editable": false,
    "slideshow": {
     "slide_type": ""
    },
    "tags": []
   },
   "source": [
    "## Quiz - Day 1\n",
    "You are going to start with a password again and compute a few different properties of the password. If you are not able to solve a task, you can just skip it and continue with the next one. The tasks only require the `password` variable that is assigned at the top of the Notebook. If you overwrite the password by accident, just run the first `Code` cell again to reassign the password."
   ]
  },
  {
   "cell_type": "code",
   "execution_count": 1,
   "id": "cc6ba91e-4e2c-4b0a-b8db-dd909d857cf0",
   "metadata": {
    "editable": true,
    "slideshow": {
     "slide_type": ""
    },
    "tags": []
   },
   "outputs": [],
   "source": [
    "password = \"MySecurePassword2024\""
   ]
  },
  {
   "cell_type": "markdown",
   "id": "0213f8e7-5404-4c8c-acb9-6b1cdf40c219",
   "metadata": {
    "editable": false,
    "slideshow": {
     "slide_type": ""
    },
    "tags": []
   },
   "source": [
    "### Q1.1 Password slicing\n",
    "Slice the year at the end of the `password`, convert it to an `integer` and assign it to a new variable. Use an index range such that the slicing works for any password that ends with a four digit year!"
   ]
  },
  {
   "cell_type": "code",
   "execution_count": 2,
   "id": "2935cdeb-3056-4afd-bd69-04e0633edfeb",
   "metadata": {},
   "outputs": [
    {
     "data": {
      "text/plain": [
       "2024"
      ]
     },
     "execution_count": 2,
     "metadata": {},
     "output_type": "execute_result"
    }
   ],
   "source": [
    "# use the start index -4 to get the last four characters counting from the end of the password\n",
    "# just leave the stop index open to get all characters to the end of the password\n",
    "# use the int() function to convert the substring \"2024\" into an integer\n",
    "year = int(password[-4:])\n",
    "year"
   ]
  },
  {
   "cell_type": "code",
   "execution_count": null,
   "id": "75d8fa46-bdf8-4b60-98c4-ef1ae4069c3f",
   "metadata": {
    "editable": true,
    "slideshow": {
     "slide_type": ""
    },
    "tags": []
   },
   "outputs": [],
   "source": []
  },
  {
   "cell_type": "markdown",
   "id": "5850a9f2-20e4-4f87-b841-16a916d24a87",
   "metadata": {
    "editable": false,
    "slideshow": {
     "slide_type": ""
    },
    "tags": []
   },
   "source": [
    "### Q1.2 Upper and lower case characters\n",
    "Loop over the characters in the `password` and sort them into lower case letters, upper case letters and other characters. You can use the string methods `s.islower()` and `s.isupper()` to check the case of a letter `s`. Instead of the characters, the three lists should contain the _indices_ of the characters!"
   ]
  },
  {
   "cell_type": "code",
   "execution_count": 3,
   "id": "88caaf6a-91e9-4c81-8efa-41f55aadf436",
   "metadata": {},
   "outputs": [
    {
     "data": {
      "text/plain": [
       "([1, 3, 4, 5, 6, 7, 9, 10, 11, 12, 13, 14, 15], [0, 2, 8], [16, 17, 18, 19])"
      ]
     },
     "execution_count": 3,
     "metadata": {},
     "output_type": "execute_result"
    }
   ],
   "source": [
    "# create three lists to store the different character types\n",
    "lower = []\n",
    "upper = []\n",
    "other = []\n",
    "\n",
    "# use enumerate() to get the index and character for each step in the for-loop\n",
    "for i, char in enumerate(password):\n",
    "    # check the conditions with the char but append the index to the lists\n",
    "    if char.islower():\n",
    "        lower.append(i)\n",
    "    elif char.isupper():\n",
    "        upper.append(i)\n",
    "    else:\n",
    "        other.append(i)\n",
    "\n",
    "lower, upper, other"
   ]
  },
  {
   "cell_type": "code",
   "execution_count": null,
   "id": "df614faa-399c-4e00-8c4f-087269f7ab2c",
   "metadata": {
    "editable": true,
    "slideshow": {
     "slide_type": ""
    },
    "tags": []
   },
   "outputs": [],
   "source": []
  },
  {
   "cell_type": "markdown",
   "id": "f15c7fdc-7e85-4a3a-930c-1901c212468e",
   "metadata": {
    "editable": false,
    "slideshow": {
     "slide_type": ""
    },
    "tags": []
   },
   "source": [
    "### Q1.3 Digit product\n",
    "The digit product is the product of all numeric characters in a string. As an example, the digit product of the string `\"hello01234\"` is $1 \\times 2 \\times 3 \\times 4 = 24$. The character `\"0\"` has to be excluded from the calculation since the product would always be $0$.\n",
    "\n",
    "Iterate over the characters in the `password` and compute the product of the numeric characters excluding `\"0\"`."
   ]
  },
  {
   "cell_type": "code",
   "execution_count": 4,
   "id": "e668b046-31ab-4849-b13a-3a5b13302805",
   "metadata": {},
   "outputs": [
    {
     "data": {
      "text/plain": [
       "16"
      ]
     },
     "execution_count": 4,
     "metadata": {},
     "output_type": "execute_result"
    }
   ],
   "source": [
    "# start with the value 1 since it is a product\n",
    "product = 1\n",
    "for char in password:\n",
    "    # check that the characters are numeric and not equal to \"0\"\n",
    "    if char.isnumeric() and char != \"0\":\n",
    "        # directly reassign the value to the variable product, x *= 2 is equivalent to x = x * 2\n",
    "        product *= int(char)\n",
    "\n",
    "product"
   ]
  },
  {
   "cell_type": "code",
   "execution_count": null,
   "id": "8ac6b2e4-04f5-4a32-a3b2-d082bed3b501",
   "metadata": {
    "editable": true,
    "slideshow": {
     "slide_type": ""
    },
    "tags": []
   },
   "outputs": [],
   "source": []
  },
  {
   "cell_type": "markdown",
   "id": "2e6e14d2-07f1-47f2-82db-8d646a6b14e5",
   "metadata": {
    "editable": false,
    "slideshow": {
     "slide_type": ""
    },
    "tags": []
   },
   "source": [
    "### Q1.4 Unicode sum\n",
    "Every character also has an associated integer value that is used internally to represent the character. In Python, you can get this so-called [Unicode](https://en.wikipedia.org/wiki/Unicode) value with the function `ord(c)` where `c` is any string with length 1. As an example, `ord(\"A\")` will return the integer value $65$.\n",
    "\n",
    "Iterate over the characters in the `password`, compute the sum of the Unicode values, assign the result to a variable and output/print the variable."
   ]
  },
  {
   "cell_type": "code",
   "execution_count": 5,
   "id": "f56c4633-9e1a-4953-93e8-e868664f54ed",
   "metadata": {},
   "outputs": [
    {
     "data": {
      "text/plain": [
       "1864"
      ]
     },
     "execution_count": 5,
     "metadata": {},
     "output_type": "execute_result"
    }
   ],
   "source": [
    "# start with the value 0, do not use the variable name \"sum\" since this will overwrite the built-in function sum()\n",
    "unicode_sum = 0\n",
    "for char in password:\n",
    "    # add the value of ord(char) to the sum in every step of the for loop\n",
    "    unicode_sum += ord(char)\n",
    "\n",
    "unicode_sum"
   ]
  },
  {
   "cell_type": "code",
   "execution_count": 6,
   "id": "664186a1-b398-4986-94f0-93b81736b22d",
   "metadata": {},
   "outputs": [
    {
     "data": {
      "text/plain": [
       "1864"
      ]
     },
     "execution_count": 6,
     "metadata": {},
     "output_type": "execute_result"
    }
   ],
   "source": [
    "# use a list comprehension to get all Unicode values in a new list and take the sum of that list\n",
    "sum([ord(char) for char in password])"
   ]
  },
  {
   "cell_type": "code",
   "execution_count": null,
   "id": "49632b29-4d82-4bf6-9809-5d15458a305f",
   "metadata": {
    "editable": true,
    "slideshow": {
     "slide_type": ""
    },
    "tags": []
   },
   "outputs": [],
   "source": []
  },
  {
   "cell_type": "markdown",
   "id": "9374f8f0-5337-47e9-93ef-cf69b0c33d7f",
   "metadata": {
    "editable": false,
    "slideshow": {
     "slide_type": ""
    },
    "tags": []
   },
   "source": [
    "### Q1.5 Characters in a dictionary\n",
    "Dictionaries are useful to group data together. Instead of using bare lists to store the different character categories, you can use a single dictionary to store the lists.\n",
    "\n",
    "Create a dictionary with the keys `\"alphabetic\"` and `\"numeric\"` and empty lists as the values. Iterate over the characters in the `password` and store the alphabetic characters and the numeric characters in the respective lists."
   ]
  },
  {
   "cell_type": "code",
   "execution_count": 7,
   "id": "1b0cb70b-2388-4a42-87b0-c1ca02b2434e",
   "metadata": {},
   "outputs": [
    {
     "data": {
      "text/plain": [
       "{'alphabetic': ['M',\n",
       "  'y',\n",
       "  'S',\n",
       "  'e',\n",
       "  'c',\n",
       "  'u',\n",
       "  'r',\n",
       "  'e',\n",
       "  'P',\n",
       "  'a',\n",
       "  's',\n",
       "  's',\n",
       "  'w',\n",
       "  'o',\n",
       "  'r',\n",
       "  'd'],\n",
       " 'numeric': ['2', '0', '2', '4']}"
      ]
     },
     "execution_count": 7,
     "metadata": {},
     "output_type": "execute_result"
    }
   ],
   "source": [
    "# create the two lists inside a dictionary\n",
    "characters = dict(alphabetic=[], numeric=[])\n",
    "\n",
    "for char in password:\n",
    "    # use if-elif to highlight that you are checking mutually exclusive conditions\n",
    "    if char.isalpha():\n",
    "        # use the respective keys to get the lists from the dictionary\n",
    "        characters[\"alphabetic\"].append(char)\n",
    "    elif char.isnumeric():\n",
    "        characters[\"numeric\"].append(char)\n",
    "\n",
    "characters"
   ]
  },
  {
   "cell_type": "code",
   "execution_count": null,
   "id": "a08791a1-62ed-4f9a-b50c-894d4d909e58",
   "metadata": {
    "editable": true,
    "slideshow": {
     "slide_type": ""
    },
    "tags": []
   },
   "outputs": [],
   "source": []
  },
  {
   "cell_type": "markdown",
   "id": "46ae4b2f-b0b6-440f-8c25-26563fe76547",
   "metadata": {
    "editable": false,
    "slideshow": {
     "slide_type": ""
    },
    "tags": []
   },
   "source": [
    "### Q1.6 Password encryption\n",
    "The so-called shift cypher encrypts a password by _shifting_ all characters by the fixed value `n = 5`. As an example, the letters `\"a\"` and `\"B\"` are turned into the letters `\"f\"` and `\"G\"` respectively. Use the function `ord(c)` to get the Unicode value of a character `c` as an integer, and use the function `chr(i)` to get the character of a Unicode value `i`. Iterate over the `password` and print the original character and the encrypted character in each step of the loop."
   ]
  },
  {
   "cell_type": "code",
   "execution_count": 8,
   "id": "1e72f31d-ab9d-41dd-a4f8-30acc33f45f1",
   "metadata": {},
   "outputs": [],
   "source": [
    "# assign the shift distance to a variable\n",
    "n = 5"
   ]
  },
  {
   "cell_type": "code",
   "execution_count": 9,
   "id": "6ae2f14e-219c-46ed-867a-cd733bf7e7b4",
   "metadata": {},
   "outputs": [
    {
     "name": "stdout",
     "output_type": "stream",
     "text": [
      "M R\n",
      "y ~\n",
      "S X\n",
      "e j\n",
      "c h\n",
      "u z\n",
      "r w\n",
      "e j\n",
      "P U\n",
      "a f\n",
      "s x\n",
      "s x\n",
      "w |\n",
      "o t\n",
      "r w\n",
      "d i\n",
      "2 7\n",
      "0 5\n",
      "2 7\n",
      "4 9\n"
     ]
    }
   ],
   "source": [
    "for char in password:\n",
    "    # get the Unicode value with ord(char), add the variable n and convert this into the new character with chr()\n",
    "    encrypted = chr(ord(char) + n)\n",
    "    # print the original character and the encrypted character in the same line\n",
    "    print(char, encrypted)"
   ]
  },
  {
   "cell_type": "code",
   "execution_count": null,
   "id": "6dadd802-3e7b-4a0a-9ebb-e37c96665e90",
   "metadata": {
    "editable": true,
    "slideshow": {
     "slide_type": ""
    },
    "tags": []
   },
   "outputs": [],
   "source": []
  }
 ],
 "metadata": {
  "kernelspec": {
   "display_name": "Python 3 (ipykernel)",
   "language": "python",
   "name": "python3"
  },
  "language_info": {
   "codemirror_mode": {
    "name": "ipython",
    "version": 3
   },
   "file_extension": ".py",
   "mimetype": "text/x-python",
   "name": "python",
   "nbconvert_exporter": "python",
   "pygments_lexer": "ipython3",
   "version": "3.10.10"
  }
 },
 "nbformat": 4,
 "nbformat_minor": 5
}
