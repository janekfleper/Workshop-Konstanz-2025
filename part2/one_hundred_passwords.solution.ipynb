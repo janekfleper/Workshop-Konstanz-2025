{
 "cells": [
  {
   "cell_type": "markdown",
   "id": "b151cf5c-5bde-4eeb-a1c9-3f313bc92b64",
   "metadata": {
    "editable": false,
    "slideshow": {
     "slide_type": ""
    },
    "tags": [
     "exercise"
    ]
   },
   "source": [
    "## 2.1 Reading passwords from a file\n",
    "You are now going to start working with a tiny part of the actual password dataset. Whenever there is data saved in files, you need a way to load the data into your programming environment. In this case you have a plain text file with the first 100 passwords from the large dataset. You can open the file in a new tab to check (and edit) its content. Make sure to save the file after you changed something (and you want to keep those changes).  \n",
    "\n",
    "With the following code snippet you can open a file called `some_file.txt` and print the first line from the file. The file is closed automatically at the end of the indented code block in the `with` statement.\n",
    "```python\n",
    "with open(\"some_file.txt\") as f:\n",
    "    print(f.readline())\n",
    "```\n",
    "It is a convention to name the file variable `f`. If you want to change the name, you also have to use the new name in the indented block of the `with` statement.\n",
    "\n",
    "The method `f.readline()` returns the current line as a string and moves the file variable `f` to the next line. If you call the method for a second time, you will get the second line from the file etc... You can call the method `f.readline()` as often as you want, but the returned strings will be empty if you have reached the end of the file.\n",
    "\n",
    "If you already know that you want to iterate over all lines in the file, you can directly use the file variable `f` in a `for` loop. In each step of the loop, a new line will be assigned to the loop variable `line` as a string. The loop will stop automatically once it reaches the end of the file.\n",
    "```python\n",
    "with open(\"some_file.txt\") as f:\n",
    "    for line in f:\n",
    "        print(line)\n",
    "```\n",
    "\n",
    "1. Use a `for` loop to print the first 10 passwords from the file `100.txt`. Open the file in a new tab and compare it to the printed output.\n",
    "2. Print the _last_ 10 passwords from the file `100.txt`. You can assume that you already know the length of the file (100 lines).\n",
    "3. Use a `for` loop of your choice to iterate over the entire file `100.txt` and count the total number of characters in the file.\n",
    "4. Assign the first password in the file to a variable. Output the password (without using `print()`) and calculate the length of the password. Can you see what is \"wrong\" with the password?\n",
    "<!-- - Calculate the length of the password  -->\n",
    "\n",
    "\n",
    "<!-- - You can read the entire file at once with the method `f.readlines()`. The lines in the file will be returned as a list of strings. Assign the list to a new variable and check that its length matches the length of the file. -->\n",
    "<!-- - Take a closer look at a few passwords in the list and calculate their lengths. Can you see what is \"wrong\" with the password data in the list? -->"
   ]
  },
  {
   "cell_type": "code",
   "execution_count": 1,
   "id": "c464dfb4-8007-4d38-b0ee-cfc4fbbb30db",
   "metadata": {
    "editable": true,
    "slideshow": {
     "slide_type": ""
    },
    "tags": []
   },
   "outputs": [
    {
     "name": "stdout",
     "output_type": "stream",
     "text": [
      "lfc\n",
      "\n",
      "LFL870206\n",
      "\n",
      "123abc\n",
      "\n",
      "123abc@\n",
      "\n",
      "teh-cnt\n",
      "\n",
      "sweet1\n",
      "\n",
      "hfrtnxbr\n",
      "\n",
      "25bush\n",
      "\n",
      "5172980a\n",
      "\n",
      "north33\n",
      "\n"
     ]
    }
   ],
   "source": [
    "# task 1: the passwords match the file content but there are empty lines printed after the passwords\n",
    "with open(\"100.txt\") as f:\n",
    "    # count to 10 with the for loop\n",
    "    for i in range(10):\n",
    "        print(f.readline())"
   ]
  },
  {
   "cell_type": "code",
   "execution_count": 2,
   "id": "f800af7f-0cd0-4f86-80ab-a0b84ef414fd",
   "metadata": {
    "editable": true,
    "slideshow": {
     "slide_type": ""
    },
    "tags": []
   },
   "outputs": [
    {
     "name": "stdout",
     "output_type": "stream",
     "text": [
      "slutty\n",
      "\n",
      "treelo93\n",
      "\n",
      "kilgarvan\n",
      "\n",
      "treanor\n",
      "\n",
      "treelo93\n",
      "\n",
      "b15174142\n",
      "\n",
      "mossy\n",
      "\n",
      "ronaldo\n",
      "\n",
      "daniluv\n",
      "\n",
      "fffff\n"
     ]
    }
   ],
   "source": [
    "# task 2\n",
    "with open(\"100.txt\") as f:\n",
    "    # read the first 90 lines without printing them\n",
    "    for i in range(90):\n",
    "        f.readline()\n",
    "\n",
    "    # actually print the last 10 lines\n",
    "    for i in range(10):\n",
    "        print(f.readline())"
   ]
  },
  {
   "cell_type": "code",
   "execution_count": 3,
   "id": "5b31285e-24d4-4f9b-857b-f87c2116eb83",
   "metadata": {
    "editable": true,
    "slideshow": {
     "slide_type": ""
    },
    "tags": []
   },
   "outputs": [
    {
     "data": {
      "text/plain": [
       "861"
      ]
     },
     "execution_count": 3,
     "metadata": {},
     "output_type": "execute_result"
    }
   ],
   "source": [
    "# task 3: create a variable to start counting at 0\n",
    "n_characters = 0\n",
    "with open(\"100.txt\") as f:\n",
    "    # directly iterate over the file variable...\n",
    "    for line in f:\n",
    "        # ... and add the length of each line to the counting variable\n",
    "        n_characters += len(line)\n",
    "\n",
    "# output the resulting character count\n",
    "n_characters"
   ]
  },
  {
   "cell_type": "code",
   "execution_count": 4,
   "id": "217e3183-ddd8-41cc-b40c-698a144e5040",
   "metadata": {
    "editable": true,
    "slideshow": {
     "slide_type": ""
    },
    "tags": []
   },
   "outputs": [
    {
     "data": {
      "text/plain": [
       "('lfc\\n', 4)"
      ]
     },
     "execution_count": 4,
     "metadata": {},
     "output_type": "execute_result"
    }
   ],
   "source": [
    "# task 4\n",
    "with open(\"100.txt\") as f:\n",
    "    password = f.readline()\n",
    "\n",
    "# there is the character \"\\n\" at the end of the password, this causes the length to be off by 1\n",
    "password, len(password)"
   ]
  },
  {
   "cell_type": "code",
   "execution_count": null,
   "id": "ad798b07-61be-415e-97d7-2ca67caf00a3",
   "metadata": {
    "editable": true,
    "slideshow": {
     "slide_type": ""
    },
    "tags": []
   },
   "outputs": [],
   "source": []
  },
  {
   "cell_type": "markdown",
   "id": "3fca6f52-f743-4d14-b6bf-aebd461ed5b5",
   "metadata": {
    "editable": false,
    "slideshow": {
     "slide_type": ""
    },
    "tags": [
     "exercise"
    ]
   },
   "source": [
    "## 2.2 Preprocessing the file data\n",
    "The reason why the length of the password data was \"wrong\" in the [previous exercise](#2.1-Reading-passwords-from-a-file) was the newline character `\"\\n\"` at the end of each line. Since this character should not be part of the passwords, you need to remove it from every password before you can start the data analysis.\n",
    "\n",
    "If you want to remove a trailing (or leading) newline character from a string `s`, you can use the method `s.strip(\"\\n\")`. Strings are immutable (they cannot be modified) in Python, the method will therefore return a new string without the newline character that you have to assign to the variable `s` or to a new variable.\n",
    "```python\n",
    "\"hello\\n\".strip(\"\\n\") -> \"hello\"\n",
    "```\n",
    "<!-- (By default the method `.strip()` also removes leading and trailing whitespace characters. In the context of this password data this is okay, but you have to keep this in mind if you are working with data where the whitespaces matter! If you want the method to only target newline characters, you can also call the method with the newline character as the argument `s.strip(\"\\n\")`.) -->\n",
    "\n",
    "Another approach to preprocess the data is to read the entire file as a single string using the method `f.read()`. You can then split the string at the newline characters with the method `s.split(\"\\n\")`. The resulting substrings will be the individual passwords without newline characters.\n",
    "```python\n",
    "\"hello\\nworld\".split(\"\\n\") -> [\"hello\", \"world\"]\n",
    "```\n",
    "\n",
    "<!-- Instead of looping over the file variable `f` or repeatedly calling `f.readline()`, you can directly use the method `f.readlines()` to get a list of all the lines in the file `f`. You can then loop over the list again to strip the newline characters from the passwords.\n",
    "```python\n",
    "with open(\"some_file.txt\") as f:\n",
    "    lines = f.readlines()\n",
    "```\n",
    "This character should not be part of the passwords \n",
    "Since there is not a good reason for a password to ever contain a newline character, the best approach is to remove it from the passwords before storing them in a list. If you want to remove the newline character `\"\\n\"` from each line of the file, you can use the method `line.strip()` (use the name of your string variable in place of `line`). -->\n",
    " \n",
    "1. Read the first 10 passwords from the file again and remove the newline characters before printing the passwords. The empty lines should be gone now.\n",
    "2. Create an empty list, iterate over the file `100.txt` and strip the newline character from each line before appending it to the empty list.\n",
    "3. EXTRA: Use a list comprehension to iterate over the file and to strip the newline characters in a single line of code.\n",
    "4. Compute the total number of characters in the list of passwords. Why is the difference to the result from the [previous exercise](#2.1-Reading-passwords-from-a-file) not 100?\n",
    "5. Try the second approach with the methods `f.read()` and `s.split(\"\\n\")` to get the passwords from the file. Confirm that the total number of characters is equal to the number from the previous task."
   ]
  },
  {
   "cell_type": "code",
   "execution_count": 5,
   "id": "555e1859-86f0-4457-a510-65ef1d4e169a",
   "metadata": {
    "editable": true,
    "slideshow": {
     "slide_type": ""
    },
    "tags": []
   },
   "outputs": [
    {
     "name": "stdout",
     "output_type": "stream",
     "text": [
      "lfc\n",
      "LFL870206\n",
      "123abc\n",
      "123abc@\n",
      "teh-cnt\n",
      "sweet1\n",
      "hfrtnxbr\n",
      "25bush\n",
      "5172980a\n",
      "north33\n"
     ]
    }
   ],
   "source": [
    "# task 1: you can call the method strip() directly on each string returned by f.readline()\n",
    "with open(\"100.txt\") as f:\n",
    "    for i in range(10):\n",
    "        print(f.readline().strip(\"\\n\"))"
   ]
  },
  {
   "cell_type": "code",
   "execution_count": 6,
   "id": "4cb072f1-765b-4c96-a8f9-0f24855df1c2",
   "metadata": {
    "editable": true,
    "slideshow": {
     "slide_type": ""
    },
    "tags": []
   },
   "outputs": [
    {
     "data": {
      "text/plain": [
       "100"
      ]
     },
     "execution_count": 6,
     "metadata": {},
     "output_type": "execute_result"
    }
   ],
   "source": [
    "# task 2: create an empty list\n",
    "passwords = []\n",
    "with open(\"100.txt\") as f:\n",
    "    # instead of getting printed, the lines are appended to the list of passwords\n",
    "    for line in f:\n",
    "        passwords.append(line.strip(\"\\n\"))\n",
    "\n",
    "# there should be 100 passwords in the list\n",
    "len(passwords)"
   ]
  },
  {
   "cell_type": "code",
   "execution_count": 7,
   "id": "92f1e58e-42e9-4978-8203-dbfabff3a191",
   "metadata": {
    "editable": true,
    "slideshow": {
     "slide_type": ""
    },
    "tags": []
   },
   "outputs": [
    {
     "data": {
      "text/plain": [
       "100"
      ]
     },
     "execution_count": 7,
     "metadata": {},
     "output_type": "execute_result"
    }
   ],
   "source": [
    "# task 3: the list comprehension makes the preprocessing more compact than the regular for loop\n",
    "with open(\"100.txt\") as f:\n",
    "    passwords = [line.strip(\"\\n\") for line in f]\n",
    "len(passwords)"
   ]
  },
  {
   "cell_type": "code",
   "execution_count": 8,
   "id": "8671b873-6246-4627-8be1-6b41ea139f74",
   "metadata": {
    "editable": true,
    "slideshow": {
     "slide_type": ""
    },
    "tags": []
   },
   "outputs": [
    {
     "data": {
      "text/plain": [
       "762"
      ]
     },
     "execution_count": 8,
     "metadata": {},
     "output_type": "execute_result"
    }
   ],
   "source": [
    "# task 4: compute the total number of characters\n",
    "n_characters = 0\n",
    "for password in passwords:\n",
    "    n_characters += len(password)\n",
    "\n",
    "# the difference is only 99 since the last line in the file does not have a newline character\n",
    "n_characters"
   ]
  },
  {
   "cell_type": "code",
   "execution_count": 9,
   "id": "f64b9b90-724d-403b-87a5-8fda6ec3cd17",
   "metadata": {
    "editable": true,
    "slideshow": {
     "slide_type": ""
    },
    "tags": []
   },
   "outputs": [
    {
     "data": {
      "text/plain": [
       "762"
      ]
     },
     "execution_count": 9,
     "metadata": {},
     "output_type": "execute_result"
    }
   ],
   "source": [
    "# task 4: use a list comprehension to compute the total number of characters\n",
    "sum([len(p) for p in passwords])"
   ]
  },
  {
   "cell_type": "code",
   "execution_count": 10,
   "id": "75c5db71-21d5-4f87-8eea-3c60851f5789",
   "metadata": {
    "editable": true,
    "slideshow": {
     "slide_type": ""
    },
    "tags": []
   },
   "outputs": [
    {
     "data": {
      "text/plain": [
       "(100, 762)"
      ]
     },
     "execution_count": 10,
     "metadata": {},
     "output_type": "execute_result"
    }
   ],
   "source": [
    "# task 5: read the entire file as a string and use the newline characters for splitting\n",
    "with open(\"100.txt\") as f:\n",
    "    passwords = f.read().split(\"\\n\")\n",
    "\n",
    "# check the length and the total number of characters again\n",
    "len(passwords), sum([len(p) for p in passwords])"
   ]
  },
  {
   "cell_type": "code",
   "execution_count": null,
   "id": "0dd98740-e01d-4c00-a806-d85173cd7799",
   "metadata": {
    "editable": true,
    "slideshow": {
     "slide_type": ""
    },
    "tags": []
   },
   "outputs": [],
   "source": []
  },
  {
   "cell_type": "markdown",
   "id": "862e9f64-ce87-4e8e-92e6-b4edd9b3ed21",
   "metadata": {
    "editable": false,
    "slideshow": {
     "slide_type": ""
    },
    "tags": [
     "exercise"
    ]
   },
   "source": [
    "## 2.3 Filtering the file data\n",
    "When you open the text file in a new tab, you can see that a few lines are empty (or look empty at least). If there are no characters left in a password after you have removed the newline character, you do not want to keep the password since an empty string cannot be a valid password. If you have a string variable named `s`, there are two ways to check if it is empty:\n",
    "```python\n",
    "if s == \"\":\n",
    "    print(\"The string is empty\")\n",
    "\n",
    "if not s:\n",
    "    print(\"The string is still empty\")\n",
    "```\n",
    "The first option is quite intuitive. The string variable `s` is compared to an empty string with the operator `==` and the result is `True` if the string is actually empty. The second option looks a bit weird at first sight, but this is the \"pythonic\" way of checking if a string is empty since it is then considered to be `False` in a boolean context. With the keyword `not` this condition is then negated to be `True` for empty strings. Instead of using an `if` statement, you can also pass any variable to the built-in function `bool()` to check its boolean value.\n",
    "\n",
    "1. What is the boolean value of the list `[False, False]`? When would you expect a list to equate to `False`? Does the same approach work for dictionaries?\n",
    "2. Numbers are also considered to be either `True` or `False`. There is only a single number that equates to `False`, can you find out which one it is?\n",
    "3. Load all the passwords from the file `100.txt` again, but exclude the empty passwords from the list. Use your preferred approach from [exercise 2.2](#2.2-Preprocessing-the-file-data).\n",
    "4. Check the length of the new list of passwords to see how many passwords were filtered out. Take a look at the file again to see if this number is correct.\n",
    "5. EXTRA: There is an almost empty line in the file which was not filtered out yet. Find a way to also exclude this line from the passwords."
   ]
  },
  {
   "cell_type": "code",
   "execution_count": 11,
   "id": "a337d6ba-d8c9-4adb-87be-72065ad23f09",
   "metadata": {
    "editable": true,
    "slideshow": {
     "slide_type": ""
    },
    "tags": []
   },
   "outputs": [
    {
     "data": {
      "text/plain": [
       "(True, False)"
      ]
     },
     "execution_count": 11,
     "metadata": {},
     "output_type": "execute_result"
    }
   ],
   "source": [
    "# task 1: only an empty list is considered False, similar to the an string\n",
    "some_list = [False, False]\n",
    "bool(some_list), bool([])"
   ]
  },
  {
   "cell_type": "code",
   "execution_count": 12,
   "id": "6642ad63-2480-4b56-9510-656224e4f763",
   "metadata": {
    "editable": true,
    "slideshow": {
     "slide_type": ""
    },
    "tags": []
   },
   "outputs": [
    {
     "data": {
      "text/plain": [
       "(True, False)"
      ]
     },
     "execution_count": 12,
     "metadata": {},
     "output_type": "execute_result"
    }
   ],
   "source": [
    "# task 1: dictionaries work just like lists, they are only False if they are completely empty\n",
    "some_dict = {\"a\":1, \"b\":2, \"c\":3}\n",
    "bool(some_dict), bool({})"
   ]
  },
  {
   "cell_type": "code",
   "execution_count": 13,
   "id": "6262ac87-e1bb-4c7a-a721-505a69e9835a",
   "metadata": {
    "editable": true,
    "slideshow": {
     "slide_type": ""
    },
    "tags": []
   },
   "outputs": [
    {
     "data": {
      "text/plain": [
       "(True, False)"
      ]
     },
     "execution_count": 13,
     "metadata": {},
     "output_type": "execute_result"
    }
   ],
   "source": [
    "# task 2: only the number 0 equates to False, every other number (integer or float) is considered to be True\n",
    "some_number = 7\n",
    "bool(some_number), bool(0.0)"
   ]
  },
  {
   "cell_type": "code",
   "execution_count": 14,
   "id": "cafbf3a3-a6a0-4674-9853-6794f6f24b65",
   "metadata": {
    "editable": true,
    "slideshow": {
     "slide_type": ""
    },
    "tags": []
   },
   "outputs": [
    {
     "data": {
      "text/plain": [
       "98"
      ]
     },
     "execution_count": 14,
     "metadata": {},
     "output_type": "execute_result"
    }
   ],
   "source": [
    "# task 3: regular for loop\n",
    "# load the passwords by iterating over the file variable f\n",
    "passwords = []\n",
    "with open(\"100.txt\") as f:\n",
    "    for line in f:\n",
    "        # keep the stripped in line in a variable ...\n",
    "        password = line.strip(\"\\n\")\n",
    "        # ... but only append it to the list if it is not empty\n",
    "        if password:\n",
    "            passwords.append(password)\n",
    "\n",
    "# task 4: two passwords are missing since only the lines 28 and 29 were completely empty\n",
    "len(passwords)"
   ]
  },
  {
   "cell_type": "code",
   "execution_count": 15,
   "id": "ed4edfd5-748b-4bca-8b58-4f0b6a218810",
   "metadata": {
    "editable": true,
    "slideshow": {
     "slide_type": ""
    },
    "tags": []
   },
   "outputs": [
    {
     "data": {
      "text/plain": [
       "98"
      ]
     },
     "execution_count": 15,
     "metadata": {},
     "output_type": "execute_result"
    }
   ],
   "source": [
    "# task 3: list comprehension\n",
    "# load the passwords by iterating over the file variable f\n",
    "with open(\"100.txt\") as f:\n",
    "    # the method line.strip(\"\\n\") has to be called twice here...\n",
    "    passwords = [line.strip(\"\\n\") for line in f if line.strip(\"\\n\")]\n",
    "\n",
    "# task 4: two passwords are missing\n",
    "len(passwords)"
   ]
  },
  {
   "cell_type": "code",
   "execution_count": 16,
   "id": "cf6b8f43-eecb-47b2-b137-6f0c89970260",
   "metadata": {
    "editable": true,
    "slideshow": {
     "slide_type": ""
    },
    "tags": []
   },
   "outputs": [
    {
     "data": {
      "text/plain": [
       "98"
      ]
     },
     "execution_count": 16,
     "metadata": {},
     "output_type": "execute_result"
    }
   ],
   "source": [
    "# task 3: regular for loop\n",
    "# load the passwords by splitting the entire file at the newline characters \"\\n\"\n",
    "passwords = []\n",
    "with open(\"100.txt\") as f:\n",
    "    for password in f.read().split(\"\\n\"):\n",
    "        # only append the password if it is not empty\n",
    "        if password:\n",
    "            passwords.append(password)\n",
    "\n",
    "# task 4: two passwords are missing\n",
    "len(passwords)"
   ]
  },
  {
   "cell_type": "code",
   "execution_count": 19,
   "id": "f3266fd4-a499-4181-9ea7-c0814febdda9",
   "metadata": {
    "editable": true,
    "slideshow": {
     "slide_type": ""
    },
    "tags": []
   },
   "outputs": [
    {
     "data": {
      "text/plain": [
       "98"
      ]
     },
     "execution_count": 19,
     "metadata": {},
     "output_type": "execute_result"
    }
   ],
   "source": [
    "# task 3: list comprehension\n",
    "# load the passwords by splitting the entire file at the newline characters \"\\n\"\n",
    "with open(\"100.txt\") as f:\n",
    "    passwords = [password for password in f.read().split(\"\\n\") if password]\n",
    "\n",
    "# task 4: two passwords are missing\n",
    "len(passwords)"
   ]
  },
  {
   "cell_type": "code",
   "execution_count": 18,
   "id": "14adc9c8-2e9d-4b64-bced-803edace6efd",
   "metadata": {
    "editable": true,
    "slideshow": {
     "slide_type": ""
    },
    "tags": []
   },
   "outputs": [
    {
     "data": {
      "text/plain": [
       "97"
      ]
     },
     "execution_count": 18,
     "metadata": {},
     "output_type": "execute_result"
    }
   ],
   "source": [
    "# task 5: there is a line that contains a single space in addition to the newline character\n",
    "with open(\"100.txt\") as f:\n",
    "    # check the boolean value of password.strip(\" \") since this will be False if the password only contains whitespace characters\n",
    "    passwords = [password for password in f.read().split(\"\\n\") if password.strip(\" \")]\n",
    "\n",
    "# there are now three passwords missing\n",
    "len(passwords)"
   ]
  },
  {
   "cell_type": "code",
   "execution_count": null,
   "id": "c0e60818-f142-439e-a4d8-86cf8a07c964",
   "metadata": {
    "editable": true,
    "slideshow": {
     "slide_type": ""
    },
    "tags": []
   },
   "outputs": [],
   "source": []
  },
  {
   "cell_type": "markdown",
   "id": "3ed1e229-54e0-4d27-a086-b4e7520c984c",
   "metadata": {
    "editable": false,
    "slideshow": {
     "slide_type": ""
    },
    "tags": [
     "exercise"
    ]
   },
   "source": [
    "## 2.4 First password statistics\n",
    "With the preprocessed and filtered list of passwords you can now start to evaluate the data. As for the single password, the first value you have to compute is the length of each password. The length data will be very important to filter and group the password data during the further analysis.\n",
    "\n",
    "1. Store the lengths of the passwords in a new list. You can use a regular `for` loop or a list comprehension to iterate over the passwords.\n",
    "2. Compute the average length of the passwords and assign the result to a variable. Do not use a `for` loop for this task!\n",
    "3. What is the type of the average length of the passwords? You can pass any variable to the built-in function `type()` to check its type.\n",
    "4. Compute the [(population) variance](https://en.wikipedia.org/wiki/Variance#Population_variance) of the password lengths. Use a list comprehension if possible. You can square a number `x` using the expression `x**2`.\n",
    "5. Take the square root of the population variance to compute the standard deviation of the password lengths."
   ]
  },
  {
   "cell_type": "code",
   "execution_count": 20,
   "id": "a0d952b2-5d52-49d6-88ee-c71151cb4a68",
   "metadata": {
    "editable": true,
    "slideshow": {
     "slide_type": ""
    },
    "tags": []
   },
   "outputs": [],
   "source": [
    "# task 1: regular for loop\n",
    "password_lengths = []\n",
    "for password in passwords:\n",
    "    password_lengths.append(len(password))"
   ]
  },
  {
   "cell_type": "code",
   "execution_count": 21,
   "id": "31ad8eaf-43f4-441c-9318-f61a97723445",
   "metadata": {
    "editable": true,
    "slideshow": {
     "slide_type": ""
    },
    "tags": []
   },
   "outputs": [],
   "source": [
    "# task 1: list comprehension\n",
    "password_lengths = [len(password) for password in passwords]"
   ]
  },
  {
   "cell_type": "code",
   "execution_count": 22,
   "id": "4f7fea4d-06a2-4889-8b14-c7ac5f19fd04",
   "metadata": {
    "editable": true,
    "slideshow": {
     "slide_type": ""
    },
    "tags": []
   },
   "outputs": [
    {
     "data": {
      "text/plain": [
       "7.775510204081633"
      ]
     },
     "execution_count": 22,
     "metadata": {},
     "output_type": "execute_result"
    }
   ],
   "source": [
    "# task 2: the sum of all lengths divided by the number of lengths is the average length\n",
    "length_average = sum(password_lengths) / len(password_lengths)\n",
    "length_average"
   ]
  },
  {
   "cell_type": "code",
   "execution_count": 23,
   "id": "abf40a66-0655-4e6c-8548-4426ab153869",
   "metadata": {
    "editable": true,
    "slideshow": {
     "slide_type": ""
    },
    "tags": []
   },
   "outputs": [
    {
     "data": {
      "text/plain": [
       "float"
      ]
     },
     "execution_count": 23,
     "metadata": {},
     "output_type": "execute_result"
    }
   ],
   "source": [
    "# task 3: the type of the average length is float\n",
    "type(length_average)"
   ]
  },
  {
   "cell_type": "code",
   "execution_count": 24,
   "id": "7d0e6c7f-c841-4e6e-a4c1-01813cb8ae29",
   "metadata": {
    "editable": true,
    "slideshow": {
     "slide_type": ""
    },
    "tags": []
   },
   "outputs": [
    {
     "data": {
      "text/plain": [
       "3.6026655560183256"
      ]
     },
     "execution_count": 24,
     "metadata": {},
     "output_type": "execute_result"
    }
   ],
   "source": [
    "# task 4: the population variance is calculated from the average squared deviation from the average length\n",
    "length_variance = sum([(length - length_average)**2 for length in password_lengths]) / len(password_lengths)\n",
    "length_variance"
   ]
  },
  {
   "cell_type": "code",
   "execution_count": 25,
   "id": "1abd3e4f-e646-4d1b-a385-131da247f100",
   "metadata": {
    "editable": true,
    "slideshow": {
     "slide_type": ""
    },
    "tags": []
   },
   "outputs": [
    {
     "data": {
      "text/plain": [
       "3.602665556018326"
      ]
     },
     "execution_count": 25,
     "metadata": {},
     "output_type": "execute_result"
    }
   ],
   "source": [
    "# task 4: use a regular for loop to compute the sum of the deviations from the mean\n",
    "sum_of_deviations = 0\n",
    "for length in password_lengths:\n",
    "    sum_of_deviations += (length - length_average)**2\n",
    "\n",
    "length_variance = sum_of_deviations / len(password_lengths)\n",
    "length_variance"
   ]
  },
  {
   "cell_type": "code",
   "execution_count": 26,
   "id": "3e368daf-acda-40bd-9b49-69123eca158c",
   "metadata": {
    "editable": true,
    "slideshow": {
     "slide_type": ""
    },
    "tags": []
   },
   "outputs": [
    {
     "data": {
      "text/plain": [
       "(1.898068901810028, 1.898068901810028)"
      ]
     },
     "execution_count": 26,
     "metadata": {},
     "output_type": "execute_result"
    }
   ],
   "source": [
    "# task 5: you can take the square root by using the exponent 1/2 or 0.5\n",
    "length_variance**(1/2), length_variance**0.5"
   ]
  },
  {
   "cell_type": "code",
   "execution_count": null,
   "id": "931db282-eca1-46eb-a5e1-93c029d6a538",
   "metadata": {
    "editable": true,
    "slideshow": {
     "slide_type": ""
    },
    "tags": []
   },
   "outputs": [],
   "source": []
  },
  {
   "cell_type": "markdown",
   "id": "7ad1caaa-cce9-4e6a-a98f-9dfe77055c95",
   "metadata": {
    "editable": false,
    "slideshow": {
     "slide_type": ""
    },
    "tags": [
     "exercise"
    ]
   },
   "source": [
    "## 2.5 Using arrays for numerical data\n",
    "In principle you could continue to use lists to store any kind of data related to the passwords. There are no restrictions on the types that you can store in the list and you can modify/slice the lists if you only want to work with a subset of the passwords. The downside is that lists are very limited when it comes to mathematical operations. As you could see during the [last exercise](#2.4-First-password-statistics), something as simple as computing the mean value is not directly implemented as a function or method. And the computation of the population variance even requires an iteration over the entire list.  \n",
    "\n",
    "To overcome this limitation of native Python lists, the package [NumPy](https://numpy.org/) provides so-called arrays that are designed to store homogeneous (and multi-dimensional) numerical data and to run (mathematical) operations on the data. To use the package you have to import it with the `import` statement:\n",
    "```python\n",
    "import numpy as np\n",
    "```\n",
    "Instead of just using `import numpy` it is a convention to rename the import to `np`. You now have access to the entire NumPy package with the prefix `np.`\n",
    "\n",
    "1. Import the NumPy package to your notebook. (Note: If a `ModuleNotFoundError` is raised you do not have numpy installed on your system yet.)\n",
    "2. Convert the list of password lengths to a NumPy array with the function `np.array()` and assign it to a new variable. Print or output it to look at the data.\n",
    "3. An array can be indexed and sliced just like a list. Look at a few single positions and a few index ranges. Can you raise an `IndexError` with the array?\n",
    "4. You can get the length of an array `a` using the function `len(a)` or the attribute `a.shape`. Can you think of a reason why the shape is a `tuple`?\n",
    "5. EXTRA: The type of the data in the array is saved in the attribute `a.dtype`. Check the data type of the array of lengths and find out what it means.\n",
    "6. EXTRA: You can pass the data type of the lengths array to `np.iinfo()` to get some more information. What happens if you try to assign a value outside of the allowed range to the array?"
   ]
  },
  {
   "cell_type": "code",
   "execution_count": 27,
   "id": "022a110b-0b93-4c6c-99c5-9b830f3c18b2",
   "metadata": {
    "editable": true,
    "slideshow": {
     "slide_type": ""
    },
    "tags": []
   },
   "outputs": [],
   "source": [
    "# task 1: import the numpy package with the alias \"np\"\n",
    "import numpy as np"
   ]
  },
  {
   "cell_type": "code",
   "execution_count": 28,
   "id": "fe7e9efc-a449-47a0-8565-22c724550cdf",
   "metadata": {
    "editable": true,
    "slideshow": {
     "slide_type": ""
    },
    "tags": []
   },
   "outputs": [
    {
     "data": {
      "text/plain": [
       "array([ 3,  9,  6,  7,  7,  6,  8,  6,  8,  7,  6,  8,  7,  8, 10,  7, 12,\n",
       "       10,  8,  8,  5,  7,  8,  8,  8,  8,  6, 11,  7, 10,  7, 13, 10,  9,\n",
       "        6,  6,  1,  8,  8, 10,  8,  8,  8,  8,  6, 13,  6,  9,  8,  7, 11,\n",
       "       10,  9,  8, 10,  6,  7,  9,  9,  9,  6,  7,  7,  6,  9, 10,  4,  8,\n",
       "        9,  7, 10,  9,  8,  7,  7,  6,  8,  8,  6,  7,  8,  9, 11,  8, 11,\n",
       "        7,  7,  5,  6,  8,  9,  7,  8,  9,  5,  7,  7,  5])"
      ]
     },
     "execution_count": 28,
     "metadata": {},
     "output_type": "execute_result"
    }
   ],
   "source": [
    "# task 2: call the array \"lengths\" to keep the initial list of password lengths\n",
    "lengths = np.array(password_lengths)\n",
    "\n",
    "# the array is formatted such that it is nicely readable\n",
    "lengths"
   ]
  },
  {
   "cell_type": "code",
   "execution_count": 29,
   "id": "a406c5ea-64a2-4efd-b1b1-f3a20172c633",
   "metadata": {
    "editable": true,
    "slideshow": {
     "slide_type": ""
    },
    "tags": []
   },
   "outputs": [
    {
     "data": {
      "text/plain": [
       "(np.int64(7), np.int64(5), array([ 6,  8,  7,  8, 10,  7, 12, 10,  8,  8]))"
      ]
     },
     "execution_count": 29,
     "metadata": {},
     "output_type": "execute_result"
    }
   ],
   "source": [
    "# task 3: all the indexing of lists also works for the array\n",
    "lengths[9], lengths[-1], lengths[10:20]"
   ]
  },
  {
   "cell_type": "code",
   "execution_count": 30,
   "id": "54e5953e-af6b-407c-902a-fab394c52dae",
   "metadata": {
    "editable": true,
    "slideshow": {
     "slide_type": ""
    },
    "tags": []
   },
   "outputs": [
    {
     "ename": "IndexError",
     "evalue": "index 137 is out of bounds for axis 0 with size 98",
     "output_type": "error",
     "traceback": [
      "\u001b[0;31m---------------------------------------------------------------------------\u001b[0m",
      "\u001b[0;31mIndexError\u001b[0m                                Traceback (most recent call last)",
      "Cell \u001b[0;32mIn[30], line 2\u001b[0m\n\u001b[1;32m      1\u001b[0m \u001b[38;5;66;03m# task 3: the IndexError even tells you the size of the array (along the selected axis)\u001b[39;00m\n\u001b[0;32m----> 2\u001b[0m \u001b[43mlengths\u001b[49m\u001b[43m[\u001b[49m\u001b[38;5;241;43m137\u001b[39;49m\u001b[43m]\u001b[49m\n",
      "\u001b[0;31mIndexError\u001b[0m: index 137 is out of bounds for axis 0 with size 98"
     ]
    }
   ],
   "source": [
    "# task 3: the IndexError even tells you the size of the array (along the selected axis)\n",
    "lengths[137]"
   ]
  },
  {
   "cell_type": "code",
   "execution_count": 31,
   "id": "d9339955-d483-44e6-a042-f9c32c33d76f",
   "metadata": {
    "editable": true,
    "slideshow": {
     "slide_type": ""
    },
    "tags": []
   },
   "outputs": [
    {
     "data": {
      "text/plain": [
       "(98, (98,))"
      ]
     },
     "execution_count": 31,
     "metadata": {},
     "output_type": "execute_result"
    }
   ],
   "source": [
    "# task 4: the shape is always a tuple since numpy arrays can be multi-dimensional\n",
    "# the length of the array always returns the size of the first axis\n",
    "len(lengths), lengths.shape"
   ]
  },
  {
   "cell_type": "code",
   "execution_count": 32,
   "id": "afd867fa-a20c-4095-bfb4-d43989f866a3",
   "metadata": {
    "editable": true,
    "slideshow": {
     "slide_type": ""
    },
    "tags": []
   },
   "outputs": [
    {
     "data": {
      "text/plain": [
       "dtype('int64')"
      ]
     },
     "execution_count": 32,
     "metadata": {},
     "output_type": "execute_result"
    }
   ],
   "source": [
    "# task 5: the data type is a 64 bit (signed) integer\n",
    "lengths.dtype"
   ]
  },
  {
   "cell_type": "code",
   "execution_count": 33,
   "id": "dc5ace5e-70bc-41e8-b74a-89e8b2e292b0",
   "metadata": {
    "editable": true,
    "slideshow": {
     "slide_type": ""
    },
    "tags": []
   },
   "outputs": [
    {
     "data": {
      "text/plain": [
       "iinfo(min=-9223372036854775808, max=9223372036854775807, dtype=int64)"
      ]
     },
     "execution_count": 33,
     "metadata": {},
     "output_type": "execute_result"
    }
   ],
   "source": [
    "# task 6: the np.iinfo() reveals the minimum and maximum allowed values of the data type\n",
    "np.iinfo(lengths.dtype)"
   ]
  },
  {
   "cell_type": "code",
   "execution_count": 34,
   "id": "7d8b2094-5a6d-45e1-9dd9-dd37bb315b68",
   "metadata": {
    "editable": true,
    "slideshow": {
     "slide_type": ""
    },
    "tags": []
   },
   "outputs": [
    {
     "ename": "OverflowError",
     "evalue": "Python int too large to convert to C long",
     "output_type": "error",
     "traceback": [
      "\u001b[0;31m---------------------------------------------------------------------------\u001b[0m",
      "\u001b[0;31mOverflowError\u001b[0m                             Traceback (most recent call last)",
      "Cell \u001b[0;32mIn[34], line 2\u001b[0m\n\u001b[1;32m      1\u001b[0m \u001b[38;5;66;03m# task 6: an OverflowError is raised when you try to assign a value smaller/greater than the minimum/maximum allowed value\u001b[39;00m\n\u001b[0;32m----> 2\u001b[0m \u001b[43mlengths\u001b[49m\u001b[43m[\u001b[49m\u001b[38;5;241;43m0\u001b[39;49m\u001b[43m]\u001b[49m \u001b[38;5;241m=\u001b[39m \u001b[38;5;241m9223372036854775808\u001b[39m\n",
      "\u001b[0;31mOverflowError\u001b[0m: Python int too large to convert to C long"
     ]
    }
   ],
   "source": [
    "# task 6: an OverflowError is raised when you try to assign a value smaller/greater than the minimum/maximum allowed value\n",
    "lengths[0] = 9223372036854775808"
   ]
  },
  {
   "cell_type": "code",
   "execution_count": null,
   "id": "71c0ed2d-230f-4686-99f1-2fb86ac49864",
   "metadata": {
    "editable": true,
    "slideshow": {
     "slide_type": ""
    },
    "tags": []
   },
   "outputs": [],
   "source": []
  },
  {
   "cell_type": "markdown",
   "id": "ea7b8ac4-11c0-41b0-a3a9-0c12c1de4aa4",
   "metadata": {
    "editable": false,
    "slideshow": {
     "slide_type": ""
    },
    "tags": [
     "exercise"
    ]
   },
   "source": [
    "## EXTRA: Finding the best data type\n",
    "While NumPy arrays are already optimized to store numerical data, you can still do some additional optimization manually. When you pass the list of password lengths to `np.array()`, an array with the dtype `np.int64` is returned. NumPy is able to correctly pick an integer data type since there are only integers in the list of lengths. However, NumPy will always pick the most general data type that correctly represents the data. Since the array will only contain lengths of passwords, you can restrict the data type further when creating the array. Alternative you can get a copy of an existing array `a` with a different data type using the method `a.astype()`.\n",
    "\n",
    "Disclaimer: This optimization might not be appropriate yet if you are analyzing fewer than 100 passwords. However, if you are working on millions of passwords, using another data type can save you a lot of memory.\n",
    "\n",
    "1. Specify the requirements for the optimal data type of an array to store password lengths.\n",
    "2. Check the available integer data types provided by NumPy. Which one is the best match for the specified requirements?\n",
    "3. Create a new array from the lists or create a copy of the existing array using the new data type you picked.\n",
    "4. Use the array attributes `size` and `itemsize` to compute the memory size of both arrays. How much memory did you save with the new data type?\n",
    "5. Store the maximum allowed integer for the type `np.int64` in the variable `n_max`. Create an array using `np.array([n_max])` and check the data type. How does the data type of the array change if you use `n_max + 1` or `n_max * 10` instead?"
   ]
  },
  {
   "cell_type": "code",
   "execution_count": 35,
   "id": "a95ba641-1bcc-450d-8f10-77e8e57f3b3d",
   "metadata": {
    "editable": true,
    "slideshow": {
     "slide_type": ""
    },
    "tags": []
   },
   "outputs": [],
   "source": [
    "# task 1 + 2\n",
    "# the password lengths will never be negative which allows you to use an unsigned integer type\n",
    "# using a limit of 255 characters is reasonable for passwords, the corresponding data type would be np.uint8\n",
    "# with the data type np.uint16 the maximum length would be 65535 which will definitely be enough"
   ]
  },
  {
   "cell_type": "code",
   "execution_count": 36,
   "id": "d2e2b23c-d870-4fca-b7d8-cf8b69633cad",
   "metadata": {
    "editable": true,
    "slideshow": {
     "slide_type": ""
    },
    "tags": []
   },
   "outputs": [],
   "source": [
    "# task 3: use the dtype np.uint8 which only allows values in the range [0, 255]\n",
    "lengths_uint8 = np.array(password_lengths, dtype=np.uint8)"
   ]
  },
  {
   "cell_type": "code",
   "execution_count": 37,
   "id": "08cbc9e1-f017-49f8-ad89-81500f999ceb",
   "metadata": {
    "editable": true,
    "slideshow": {
     "slide_type": ""
    },
    "tags": []
   },
   "outputs": [
    {
     "data": {
      "text/plain": [
       "(98, 8, 98, 1)"
      ]
     },
     "execution_count": 37,
     "metadata": {},
     "output_type": "execute_result"
    }
   ],
   "source": [
    "# task 4: compare the size and the itemsize to the original array\n",
    "lengths.size, lengths.itemsize, lengths_uint8.size, lengths_uint8.itemsize"
   ]
  },
  {
   "cell_type": "code",
   "execution_count": 38,
   "id": "de1cdf59-2c40-44fe-9f7f-5b00864274e0",
   "metadata": {
    "editable": true,
    "slideshow": {
     "slide_type": ""
    },
    "tags": []
   },
   "outputs": [
    {
     "data": {
      "text/plain": [
       "(784, 98, 8.0)"
      ]
     },
     "execution_count": 38,
     "metadata": {},
     "output_type": "execute_result"
    }
   ],
   "source": [
    "# task 4: the array with the new data type np.uint8 uses 8x less memory\n",
    "memory_size = lengths.size * lengths.itemsize\n",
    "memory_size_uint8 = lengths_uint8.size * lengths_uint8.itemsize\n",
    "memory_size, memory_size_uint8, memory_size / memory_size_uint8"
   ]
  },
  {
   "cell_type": "code",
   "execution_count": 39,
   "id": "9150161a-c943-4720-95b6-b3a0e10b3e44",
   "metadata": {
    "editable": true,
    "slideshow": {
     "slide_type": ""
    },
    "tags": []
   },
   "outputs": [],
   "source": [
    "# task 5: get the maximum allowed value from np.iinfo()\n",
    "n_max = np.iinfo(np.int64).max"
   ]
  },
  {
   "cell_type": "code",
   "execution_count": 40,
   "id": "0fe57ecd-42dc-4689-9d82-e66787f9eb6d",
   "metadata": {
    "editable": true,
    "slideshow": {
     "slide_type": ""
    },
    "tags": []
   },
   "outputs": [
    {
     "data": {
      "text/plain": [
       "dtype('int64')"
      ]
     },
     "execution_count": 40,
     "metadata": {},
     "output_type": "execute_result"
    }
   ],
   "source": [
    "# task 5: with just n_max the array will have the data type np.int64\n",
    "np.array([n_max]).dtype"
   ]
  },
  {
   "cell_type": "code",
   "execution_count": 41,
   "id": "ceeb2189-2989-447e-8d8c-1c1e733e9483",
   "metadata": {
    "editable": true,
    "slideshow": {
     "slide_type": ""
    },
    "tags": []
   },
   "outputs": [
    {
     "data": {
      "text/plain": [
       "dtype('uint64')"
      ]
     },
     "execution_count": 41,
     "metadata": {},
     "output_type": "execute_result"
    }
   ],
   "source": [
    "# task 5: with n_max + 1 the data type will be 'uint64' (unsigned 64 bit integer) which has a greater maximum value\n",
    "np.array([n_max + 1]).dtype"
   ]
  },
  {
   "cell_type": "code",
   "execution_count": 42,
   "id": "7a64e231-6b63-477f-893c-af89216aa029",
   "metadata": {
    "editable": true,
    "slideshow": {
     "slide_type": ""
    },
    "tags": []
   },
   "outputs": [
    {
     "data": {
      "text/plain": [
       "dtype('O')"
      ]
     },
     "execution_count": 42,
     "metadata": {},
     "output_type": "execute_result"
    }
   ],
   "source": [
    "# task 5: with n_max * 10 the data type will be 'O' (object) since there is no larger an integer data type available in NumPy\n",
    "np.array([n_max * 10]).dtype"
   ]
  },
  {
   "cell_type": "code",
   "execution_count": null,
   "id": "089bf58f-6995-4916-8582-ca9c829e974a",
   "metadata": {
    "editable": true,
    "slideshow": {
     "slide_type": ""
    },
    "tags": []
   },
   "outputs": [],
   "source": []
  },
  {
   "cell_type": "markdown",
   "id": "5112420b-b039-4da4-b982-2aafff740c1e",
   "metadata": {
    "editable": false,
    "slideshow": {
     "slide_type": ""
    },
    "tags": [
     "exercise"
    ]
   },
   "source": [
    "## 2.6 Basic array computations\n",
    "Since NumPy arrays are optimized for numerical data, they already offer a lot of computational capabilities. You can directly use the arithmetic operators `+`, `-`, `*`, `/` and `**` with NumPy arrays, and there are quite a few methods/functions implemented to run more complex computations on single arrays. The most common ones are `sum()`, `mean()`, `std()`, `max()` and `min()`. You can either use them as methods of an array or as functions from the NumPy package. Which option you use is mainly a matter of preference, most computations are implemented as functions and array methods. E.g. to compute the sum of all values in an array `a` you can either use the method `a.sum()` or the function `np.sum(a)`. Less common computations such as `np.median()` might only be implemented as a function.\n",
    "\n",
    "In any case, you should avoid mixing the two options all the time since this can make your code more difficult to read/understand. Especially if you use different options for the same computation.\n",
    "\n",
    "1. Try the operators `+`, `-`, `*`, `/` and `**` with the array of lengths and the number 3. How is each operator applied to the array and the scalar value?\n",
    "2. What happens when you try to multiply the list of passwords with the number 3 (use `print()` to get a compact output)? Why is it not possible to divide the list by 3?\n",
    "3. Use the computational methods/functions introduced in this exercise on the array of lengths. Check that the mean value and the standard deviation match the results you manually calculated with the list in [exercise 2.5](#2.5-Using-arrays-for-numerical-data).\n",
    "4. EXTRA: Try one more computational method/function with the array of lengths. If you don't know where to start, you can type `lengths.` (use your array name here) in a cell and use tab completion to show you the available methods, or you can check the [NumPy user guide](https://numpy.org/doc/stable/user/quickstart.html#functions-and-methods-overview) for some inspiration. If you already have something in mind, you can also look online to find out if there is an implementation in the NumPy package."
   ]
  },
  {
   "cell_type": "code",
   "execution_count": 43,
   "id": "20cb789c-4d24-4e44-88cc-c9e43786b7f0",
   "metadata": {
    "editable": true,
    "slideshow": {
     "slide_type": ""
    },
    "tags": []
   },
   "outputs": [
    {
     "data": {
      "text/plain": [
       "(array([ 0,  6,  3,  4,  4,  3,  5,  3,  5,  4,  3,  5,  4,  5,  7,  4,  9,\n",
       "         7,  5,  5,  2,  4,  5,  5,  5,  5,  3,  8,  4,  7,  4, 10,  7,  6,\n",
       "         3,  3, -2,  5,  5,  7,  5,  5,  5,  5,  3, 10,  3,  6,  5,  4,  8,\n",
       "         7,  6,  5,  7,  3,  4,  6,  6,  6,  3,  4,  4,  3,  6,  7,  1,  5,\n",
       "         6,  4,  7,  6,  5,  4,  4,  3,  5,  5,  3,  4,  5,  6,  8,  5,  8,\n",
       "         4,  4,  2,  3,  5,  6,  4,  5,  6,  2,  4,  4,  2]),\n",
       " array([ 9, 27, 18, 21, 21, 18, 24, 18, 24, 21, 18, 24, 21, 24, 30, 21, 36,\n",
       "        30, 24, 24, 15, 21, 24, 24, 24, 24, 18, 33, 21, 30, 21, 39, 30, 27,\n",
       "        18, 18,  3, 24, 24, 30, 24, 24, 24, 24, 18, 39, 18, 27, 24, 21, 33,\n",
       "        30, 27, 24, 30, 18, 21, 27, 27, 27, 18, 21, 21, 18, 27, 30, 12, 24,\n",
       "        27, 21, 30, 27, 24, 21, 21, 18, 24, 24, 18, 21, 24, 27, 33, 24, 33,\n",
       "        21, 21, 15, 18, 24, 27, 21, 24, 27, 15, 21, 21, 15]),\n",
       " array([  27,  729,  216,  343,  343,  216,  512,  216,  512,  343,  216,\n",
       "         512,  343,  512, 1000,  343, 1728, 1000,  512,  512,  125,  343,\n",
       "         512,  512,  512,  512,  216, 1331,  343, 1000,  343, 2197, 1000,\n",
       "         729,  216,  216,    1,  512,  512, 1000,  512,  512,  512,  512,\n",
       "         216, 2197,  216,  729,  512,  343, 1331, 1000,  729,  512, 1000,\n",
       "         216,  343,  729,  729,  729,  216,  343,  343,  216,  729, 1000,\n",
       "          64,  512,  729,  343, 1000,  729,  512,  343,  343,  216,  512,\n",
       "         512,  216,  343,  512,  729, 1331,  512, 1331,  343,  343,  125,\n",
       "         216,  512,  729,  343,  512,  729,  125,  343,  343,  125]))"
      ]
     },
     "execution_count": 43,
     "metadata": {},
     "output_type": "execute_result"
    }
   ],
   "source": [
    "# task 1: the operator is applied to every item in the array individually\n",
    "lengths - 3, lengths * 3, lengths**3"
   ]
  },
  {
   "cell_type": "code",
   "execution_count": 44,
   "id": "c4e19842-3d0c-46fb-a20e-6c160d025275",
   "metadata": {
    "editable": true,
    "slideshow": {
     "slide_type": ""
    },
    "tags": []
   },
   "outputs": [
    {
     "name": "stdout",
     "output_type": "stream",
     "text": [
      "[3, 9, 6, 7, 7, 6, 8, 6, 8, 7, 6, 8, 7, 8, 10, 7, 12, 10, 8, 8, 5, 7, 8, 8, 8, 8, 6, 11, 7, 10, 7, 13, 10, 9, 6, 6, 1, 8, 8, 10, 8, 8, 8, 8, 6, 13, 6, 9, 8, 7, 11, 10, 9, 8, 10, 6, 7, 9, 9, 9, 6, 7, 7, 6, 9, 10, 4, 8, 9, 7, 10, 9, 8, 7, 7, 6, 8, 8, 6, 7, 8, 9, 11, 8, 11, 7, 7, 5, 6, 8, 9, 7, 8, 9, 5, 7, 7, 5, 3, 9, 6, 7, 7, 6, 8, 6, 8, 7, 6, 8, 7, 8, 10, 7, 12, 10, 8, 8, 5, 7, 8, 8, 8, 8, 6, 11, 7, 10, 7, 13, 10, 9, 6, 6, 1, 8, 8, 10, 8, 8, 8, 8, 6, 13, 6, 9, 8, 7, 11, 10, 9, 8, 10, 6, 7, 9, 9, 9, 6, 7, 7, 6, 9, 10, 4, 8, 9, 7, 10, 9, 8, 7, 7, 6, 8, 8, 6, 7, 8, 9, 11, 8, 11, 7, 7, 5, 6, 8, 9, 7, 8, 9, 5, 7, 7, 5, 3, 9, 6, 7, 7, 6, 8, 6, 8, 7, 6, 8, 7, 8, 10, 7, 12, 10, 8, 8, 5, 7, 8, 8, 8, 8, 6, 11, 7, 10, 7, 13, 10, 9, 6, 6, 1, 8, 8, 10, 8, 8, 8, 8, 6, 13, 6, 9, 8, 7, 11, 10, 9, 8, 10, 6, 7, 9, 9, 9, 6, 7, 7, 6, 9, 10, 4, 8, 9, 7, 10, 9, 8, 7, 7, 6, 8, 8, 6, 7, 8, 9, 11, 8, 11, 7, 7, 5, 6, 8, 9, 7, 8, 9, 5, 7, 7, 5]\n"
     ]
    }
   ],
   "source": [
    "# task 2: the list is repeated three times instead of every item getting multiplied by 3\n",
    "print(password_lengths * 3)"
   ]
  },
  {
   "cell_type": "code",
   "execution_count": 45,
   "id": "efcb93b8-cac8-4b66-81de-e8320775f707",
   "metadata": {
    "editable": true,
    "slideshow": {
     "slide_type": ""
    },
    "tags": []
   },
   "outputs": [
    {
     "ename": "TypeError",
     "evalue": "unsupported operand type(s) for /: 'list' and 'int'",
     "output_type": "error",
     "traceback": [
      "\u001b[0;31m---------------------------------------------------------------------------\u001b[0m",
      "\u001b[0;31mTypeError\u001b[0m                                 Traceback (most recent call last)",
      "Cell \u001b[0;32mIn[45], line 2\u001b[0m\n\u001b[1;32m      1\u001b[0m \u001b[38;5;66;03m# task 2: division by 3 is not possible, you have to use slicing to \"invert\" the multiplication of a list and an integer\u001b[39;00m\n\u001b[0;32m----> 2\u001b[0m \u001b[43mpassword_lengths\u001b[49m\u001b[43m \u001b[49m\u001b[38;5;241;43m/\u001b[39;49m\u001b[43m \u001b[49m\u001b[38;5;241;43m3\u001b[39;49m\n",
      "\u001b[0;31mTypeError\u001b[0m: unsupported operand type(s) for /: 'list' and 'int'"
     ]
    }
   ],
   "source": [
    "# task 2: division by 3 is not possible, you have to use slicing to \"invert\" the multiplication of a list and an integer\n",
    "password_lengths / 3"
   ]
  },
  {
   "cell_type": "code",
   "execution_count": 46,
   "id": "b5236feb-9600-493a-a500-c5e52d85673e",
   "metadata": {
    "editable": true,
    "slideshow": {
     "slide_type": ""
    },
    "tags": []
   },
   "outputs": [
    {
     "data": {
      "text/plain": [
       "(np.int64(762),\n",
       " np.float64(7.775510204081633),\n",
       " np.float64(1.898068901810028),\n",
       " np.int64(13),\n",
       " np.int64(1))"
      ]
     },
     "execution_count": 46,
     "metadata": {},
     "output_type": "execute_result"
    }
   ],
   "source": [
    "# task 3: the mean value and the standard deviation agree with the manually calculated values\n",
    "np.sum(lengths), np.mean(lengths), np.std(lengths), np.max(lengths), np.min(lengths)"
   ]
  },
  {
   "cell_type": "code",
   "execution_count": 47,
   "id": "84776c62-03e7-4d7a-9c84-6965a7a8662d",
   "metadata": {
    "editable": true,
    "slideshow": {
     "slide_type": ""
    },
    "tags": []
   },
   "outputs": [
    {
     "data": {
      "text/plain": [
       "np.float64(3.6026655560183256)"
      ]
     },
     "execution_count": 47,
     "metadata": {},
     "output_type": "execute_result"
    }
   ],
   "source": [
    "# task 4: compute the variance of the lengths, which also matches the previously calculated value\n",
    "np.var(lengths)"
   ]
  },
  {
   "cell_type": "code",
   "execution_count": 48,
   "id": "508dbc29-9ec9-46fe-ab66-bfa469189256",
   "metadata": {
    "editable": true,
    "slideshow": {
     "slide_type": ""
    },
    "tags": []
   },
   "outputs": [
    {
     "data": {
      "text/plain": [
       "np.float64(8.0)"
      ]
     },
     "execution_count": 48,
     "metadata": {},
     "output_type": "execute_result"
    }
   ],
   "source": [
    "# task 4: find the median value of the lengths\n",
    "np.median(lengths)"
   ]
  },
  {
   "cell_type": "code",
   "execution_count": null,
   "id": "a48d52b4-1a39-43e4-bf8d-019867d70ce1",
   "metadata": {
    "editable": true,
    "slideshow": {
     "slide_type": ""
    },
    "tags": []
   },
   "outputs": [],
   "source": []
  },
  {
   "cell_type": "markdown",
   "id": "30657c84-6977-40b4-89e9-cf6d780b8054",
   "metadata": {
    "editable": false,
    "slideshow": {
     "slide_type": ""
    },
    "tags": [
     "exercise"
    ]
   },
   "source": [
    "## 2.7 Filtering data in NumPy arrays\n",
    "\n",
    "In addition to the arithmetic operators you can also use the comparison operators `==`, `>`, `<=` etc. directly with NumPy arrays. If you want to compare an array to another array, they must have the same shape (or at least similar shapes), otherwise the comparison is not well defined. If you compare an array to a scalar value, the comparison is done element-wise. You can directly use the result of the comparison to index an array with the same shape. This allows you to quickly filter data in NumPy arrays. See the following example that will return all values smaller than 5 from the array called `lengths`:\n",
    "```python\n",
    "lengths[lengths < 5]\n",
    "```\n",
    "\n",
    "1. Use the equality operator with the array of lengths and the number 7. What is the type of the data in the resulting array?\n",
    "2. Get all lengths greater than 6 from the array and compute their average value. You should not need more than one line of code for this task.\n",
    "3. Count the number of passwords that have the median length. Can you find more than one way to do this? Hint: In Python `True + True` equals `2`."
   ]
  },
  {
   "cell_type": "code",
   "execution_count": 49,
   "id": "3022c357-91eb-488f-8506-2555ba388600",
   "metadata": {
    "editable": true,
    "slideshow": {
     "slide_type": ""
    },
    "tags": []
   },
   "outputs": [
    {
     "data": {
      "text/plain": [
       "array([False, False, False,  True,  True, False, False, False, False,\n",
       "        True, False, False,  True, False, False,  True, False, False,\n",
       "       False, False, False,  True, False, False, False, False, False,\n",
       "       False,  True, False,  True, False, False, False, False, False,\n",
       "       False, False, False, False, False, False, False, False, False,\n",
       "       False, False, False, False,  True, False, False, False, False,\n",
       "       False, False,  True, False, False, False, False,  True,  True,\n",
       "       False, False, False, False, False, False,  True, False, False,\n",
       "       False,  True,  True, False, False, False, False,  True, False,\n",
       "       False, False, False, False,  True,  True, False, False, False,\n",
       "       False,  True, False, False, False,  True,  True, False])"
      ]
     },
     "execution_count": 49,
     "metadata": {},
     "output_type": "execute_result"
    }
   ],
   "source": [
    "# task 1: the comparison of the lengths to the number 7 returns an array with only True and False values\n",
    "lengths == 7"
   ]
  },
  {
   "cell_type": "code",
   "execution_count": 50,
   "id": "f276af37-f72a-4826-83f3-1411ba5c4efc",
   "metadata": {
    "editable": true,
    "slideshow": {
     "slide_type": ""
    },
    "tags": []
   },
   "outputs": [
    {
     "data": {
      "text/plain": [
       "dtype('bool')"
      ]
     },
     "execution_count": 50,
     "metadata": {},
     "output_type": "execute_result"
    }
   ],
   "source": [
    "# task 1: the data type of the array is 'bool', which is short for 'boolean'\n",
    "(lengths == 7).dtype"
   ]
  },
  {
   "cell_type": "code",
   "execution_count": 51,
   "id": "5da78fcd-c71a-4790-9f85-8915823a8200",
   "metadata": {
    "editable": true,
    "slideshow": {
     "slide_type": ""
    },
    "tags": []
   },
   "outputs": [
    {
     "data": {
      "text/plain": [
       "array([ 9,  7,  7,  8,  8,  7,  8,  7,  8, 10,  7, 12, 10,  8,  8,  7,  8,\n",
       "        8,  8,  8, 11,  7, 10,  7, 13, 10,  9,  8,  8, 10,  8,  8,  8,  8,\n",
       "       13,  9,  8,  7, 11, 10,  9,  8, 10,  7,  9,  9,  9,  7,  7,  9, 10,\n",
       "        8,  9,  7, 10,  9,  8,  7,  7,  8,  8,  7,  8,  9, 11,  8, 11,  7,\n",
       "        7,  8,  9,  7,  8,  9,  7,  7])"
      ]
     },
     "execution_count": 51,
     "metadata": {},
     "output_type": "execute_result"
    }
   ],
   "source": [
    "# task 2: directly index the lengths array with the result of the comparison\n",
    "lengths[lengths > 6]"
   ]
  },
  {
   "cell_type": "code",
   "execution_count": 52,
   "id": "a2485905-6129-461d-8060-cfa02215a074",
   "metadata": {
    "editable": true,
    "slideshow": {
     "slide_type": ""
    },
    "tags": []
   },
   "outputs": [
    {
     "data": {
      "text/plain": [
       "np.float64(8.473684210526315)"
      ]
     },
     "execution_count": 52,
     "metadata": {},
     "output_type": "execute_result"
    }
   ],
   "source": [
    "# task 2: compute the mean value of the filtered lengths\n",
    "np.mean(lengths[lengths > 6])"
   ]
  },
  {
   "cell_type": "code",
   "execution_count": 53,
   "id": "7800e7a5-3698-41cd-a0e7-f6ed98a31548",
   "metadata": {
    "editable": true,
    "slideshow": {
     "slide_type": ""
    },
    "tags": []
   },
   "outputs": [
    {
     "data": {
      "text/plain": [
       "np.float64(8.0)"
      ]
     },
     "execution_count": 53,
     "metadata": {},
     "output_type": "execute_result"
    }
   ],
   "source": [
    "# task 3: use the function np.median() which returns 8 (or rather 8.0)\n",
    "median_length = np.median(lengths)\n",
    "median_length"
   ]
  },
  {
   "cell_type": "code",
   "execution_count": 54,
   "id": "87c33ce2-06e5-4f21-bfef-8b451bfbf2bf",
   "metadata": {
    "editable": true,
    "slideshow": {
     "slide_type": ""
    },
    "tags": []
   },
   "outputs": [
    {
     "data": {
      "text/plain": [
       "26"
      ]
     },
     "execution_count": 54,
     "metadata": {},
     "output_type": "execute_result"
    }
   ],
   "source": [
    "# task 3: compute the length of the filtered lengths\n",
    "len(lengths[lengths == median_length])"
   ]
  },
  {
   "cell_type": "code",
   "execution_count": 55,
   "id": "80e10a32-a2ab-4b55-94b0-aaacf253fb76",
   "metadata": {
    "editable": true,
    "slideshow": {
     "slide_type": ""
    },
    "tags": []
   },
   "outputs": [
    {
     "data": {
      "text/plain": [
       "np.int64(26)"
      ]
     },
     "execution_count": 55,
     "metadata": {},
     "output_type": "execute_result"
    }
   ],
   "source": [
    "# task 3: take the sum of the boolean array which effectively counts the True values\n",
    "np.sum(lengths == median_length)"
   ]
  },
  {
   "cell_type": "code",
   "execution_count": null,
   "id": "357d214d-c3d0-4d23-9131-4017b43dd3f0",
   "metadata": {
    "editable": true,
    "slideshow": {
     "slide_type": ""
    },
    "tags": []
   },
   "outputs": [],
   "source": []
  },
  {
   "cell_type": "markdown",
   "id": "6cc014ea-67ed-4755-ab81-986d91c2aa15",
   "metadata": {
    "editable": false,
    "slideshow": {
     "slide_type": ""
    },
    "tags": [
     "exercise"
    ]
   },
   "source": [
    "## 2.8 A simple plot\n",
    "The most popular Python package for plotting is [matplotlib](https://matplotlib.org/). You can do everything from a simple line plot to advanced group plots, and the package works great together with NumPy. Instead of importing the entire package `matplotlib` it is usually sufficient if you directly import `matplotlib.pyplot` since the most common functions are all implemented there. By convention you should rename the import to `plt`. You can then create a simple plot of a one-dimensional array `y` with the following function:\n",
    "```python\n",
    "plt.plot(y)\n",
    "```\n",
    "If you call the function with two or three arguments, you can specify `x` values and you can change the style of the data points with the format string `fmt`:\n",
    "```python\n",
    "plt.plot(x, y)\n",
    "plt.plot(y, fmt)\n",
    "plt.plot(x, y, fmt)\n",
    "```\n",
    "If you want to learn more about the (possible) arguments of the function `plt.plot()`, take a look at the docstring or the documentation at [https://matplotlib.org](https://matplotlib.org/stable/api/_as_gen/matplotlib.pyplot.plot.html).\n",
    "\n",
    "<!-- where the square brackets indicate that both the `x` (values) and the `fmt` (format) are optional. If there is only one argument, it will be interpreted as the `y` (data). The format is a string that defines the shape of the markers, the line between the points and their color. By default, the plot will be a blue line without any markers.  -->\n",
    "\n",
    "1. Import the module `matplotlib.pyplot` and rename it to `plt`. What happens when you call the function `plt.plot()` without any data/arguments?\n",
    "2. Compute the passsword length distribution with the function `np.bincount()`. If you do not understand the length distribution array, look at the examples in the docstring of the function.\n",
    "3. Pass the length distribution data to the function `plt.plot()`. If you don't like the solid line, look for other formats in the docstring/documentation.\n",
    "4. If you only passed the y-data to the plot, why is the x-axis correct anyway? Hint: What are the x-values when you directly plot the array of lengths?"
   ]
  },
  {
   "cell_type": "code",
   "execution_count": 56,
   "id": "169aaa4f-d763-4d2a-82b7-7631786ef1ab",
   "metadata": {
    "editable": true,
    "slideshow": {
     "slide_type": ""
    },
    "tags": []
   },
   "outputs": [],
   "source": [
    "# task 1: import the module and rename it\n",
    "import matplotlib.pyplot as plt"
   ]
  },
  {
   "cell_type": "code",
   "execution_count": 57,
   "id": "6e4741b2-b0d5-41c3-bb92-c5260d23838e",
   "metadata": {
    "editable": true,
    "slideshow": {
     "slide_type": ""
    },
    "tags": []
   },
   "outputs": [
    {
     "data": {
      "text/plain": [
       "[]"
      ]
     },
     "execution_count": 57,
     "metadata": {},
     "output_type": "execute_result"
    },
    {
     "data": {
      "image/png": "[encoded data removed]",
      "text/plain": [
       "<Figure size 640x480 with 1 Axes>"
      ]
     },
     "metadata": {},
     "output_type": "display_data"
    }
   ],
   "source": [
    "# task 1: an empty plot is created and displayed with both axes centered around 0\n",
    "plt.plot()"
   ]
  },
  {
   "cell_type": "code",
   "execution_count": 58,
   "id": "91b5c2ab-140f-4f4c-8429-a6da6dc18ee0",
   "metadata": {
    "editable": true,
    "slideshow": {
     "slide_type": ""
    },
    "tags": []
   },
   "outputs": [
    {
     "data": {
      "text/plain": [
       "array([ 0,  1,  0,  1,  1,  4, 15, 21, 26, 13,  9,  4,  1,  2])"
      ]
     },
     "execution_count": 58,
     "metadata": {},
     "output_type": "execute_result"
    }
   ],
   "source": [
    "# task 2: the lengths are binned from 0 to max(lengths)\n",
    "length_counts = np.bincount(lengths)\n",
    "length_counts"
   ]
  },
  {
   "cell_type": "code",
   "execution_count": 59,
   "id": "adb7334d-396c-4e5b-8ef9-bb8b42e8860d",
   "metadata": {
    "editable": true,
    "slideshow": {
     "slide_type": ""
    },
    "tags": []
   },
   "outputs": [
    {
     "data": {
      "text/plain": [
       "[<matplotlib.lines.Line2D at 0x797f66936150>]"
      ]
     },
     "execution_count": 59,
     "metadata": {},
     "output_type": "execute_result"
    },
    {
     "data": {
      "image/png": "[encoded data removed]",
      "text/plain": [
       "<Figure size 640x480 with 1 Axes>"
      ]
     },
     "metadata": {},
     "output_type": "display_data"
    }
   ],
   "source": [
    "# task 3: use red pluses to plot the length distribution\n",
    "plt.plot(length_counts, \"r+\")"
   ]
  },
  {
   "cell_type": "code",
   "execution_count": 60,
   "id": "47934d31-ad51-4292-8f8e-eb639c220d40",
   "metadata": {
    "editable": true,
    "slideshow": {
     "slide_type": ""
    },
    "tags": []
   },
   "outputs": [
    {
     "data": {
      "text/plain": [
       "[<matplotlib.lines.Line2D at 0x797f66944c80>]"
      ]
     },
     "execution_count": 60,
     "metadata": {},
     "output_type": "execute_result"
    },
    {
     "data": {
      "image/png": "[encoded data removed]",
      "text/plain": [
       "<Figure size 640x480 with 1 Axes>"
      ]
     },
     "metadata": {},
     "output_type": "display_data"
    }
   ],
   "source": [
    "# task 4: by default the x-values will go from 0 to len(y) - 1, this just happens to be correct for the result of np.bincount()\n",
    "# if you just plot the lengths, the x-axis will go from 0 to 96/97\n",
    "plt.plot(lengths, \"bo\")"
   ]
  },
  {
   "cell_type": "code",
   "execution_count": null,
   "id": "09f171da-2f1c-4305-900e-d76176bc693f",
   "metadata": {
    "editable": true,
    "slideshow": {
     "slide_type": ""
    },
    "tags": []
   },
   "outputs": [],
   "source": []
  },
  {
   "cell_type": "markdown",
   "id": "3e53a912-be02-488c-a001-f951b0ba57f3",
   "metadata": {
    "editable": false,
    "slideshow": {
     "slide_type": ""
    },
    "tags": [
     "exercise"
    ]
   },
   "source": [
    "## 2.9 Improving the first plot\n",
    "If you want to display the length distribution of the passwords, a histogram would be much better suited than the simple plot from the [previous exercise](#2.8-A-simple-plot). In matplotlib you can do this with the function `plt.bar()`. Compared to `plt.plot()` this function requires both the x-values and the y-data (height) to display anything.\n",
    "\n",
    "You can use the function `np.arange()` to generate the x-values for the histogram. This function has essentially the same signature as the built-in function `range()`. You will get an array with integer values from the `start` (defaults to 0) to `stop - 1`.\n",
    "```python\n",
    "np.arange(4) -> np.array([0, 1, 2, 3])\n",
    "```\n",
    "\n",
    "1. Look at the docstring or the [documentation](https://matplotlib.org/stable/api/_as_gen/matplotlib.pyplot.bar.html) of the function `plt.bar()`. Can you understand that both the x-values and the y-data (called height) are required?\n",
    "2. Get the length distribution data without leading zeros. Try to find a general solution that works for any array of password lengths.\n",
    "3. Generate an array with the x-values to accompany the histogram data. Make sure that the array has the same shape as the y-data.\n",
    "4. Create a bar plot using the x-values and the filtered histogram data from task 2.\n",
    "5. Add axis labels with the functions `plt.xlabel(\"x\")` and `plt.ylabel(\"y\")`, and add a title with the function `plt.title(\"title\")`.\n",
    "6. Change one property of the bars to further improve the plot (based on your personal preference). You can pick something from the docstring of `plt.bar()` or you can find something else online."
   ]
  },
  {
   "cell_type": "code",
   "execution_count": 61,
   "id": "6e2f1e7d-5f0a-487c-bcf0-a0c52a0cc920",
   "metadata": {
    "editable": true,
    "slideshow": {
     "slide_type": ""
    },
    "tags": []
   },
   "outputs": [
    {
     "ename": "TypeError",
     "evalue": "bar() missing 2 required positional arguments: 'x' and 'height'",
     "output_type": "error",
     "traceback": [
      "\u001b[0;31m---------------------------------------------------------------------------\u001b[0m",
      "\u001b[0;31mTypeError\u001b[0m                                 Traceback (most recent call last)",
      "Cell \u001b[0;32mIn[61], line 2\u001b[0m\n\u001b[1;32m      1\u001b[0m \u001b[38;5;66;03m# task 1: according to the function signature both x and height are required\u001b[39;00m\n\u001b[0;32m----> 2\u001b[0m \u001b[43mplt\u001b[49m\u001b[38;5;241;43m.\u001b[39;49m\u001b[43mbar\u001b[49m\u001b[43m(\u001b[49m\u001b[43m)\u001b[49m\n",
      "\u001b[0;31mTypeError\u001b[0m: bar() missing 2 required positional arguments: 'x' and 'height'"
     ]
    }
   ],
   "source": [
    "# task 1: according to the function signature both x and height are required\n",
    "plt.bar()"
   ]
  },
  {
   "cell_type": "code",
   "execution_count": 62,
   "id": "44adb16c-f448-4f27-9f1c-8207b5750adc",
   "metadata": {
    "editable": true,
    "slideshow": {
     "slide_type": ""
    },
    "tags": []
   },
   "outputs": [
    {
     "data": {
      "text/plain": [
       "array([ 1,  0,  1,  1,  4, 15, 21, 26, 13,  9,  4,  1,  2])"
      ]
     },
     "execution_count": 62,
     "metadata": {},
     "output_type": "execute_result"
    }
   ],
   "source": [
    "# task 2: slice the array returned by np.bincount() with the minimum length\n",
    "length_counts = np.bincount(lengths)[np.min(lengths):]\n",
    "length_counts"
   ]
  },
  {
   "cell_type": "code",
   "execution_count": 63,
   "id": "b7997f3d-d981-48fd-8e2d-79b06d784238",
   "metadata": {
    "editable": true,
    "slideshow": {
     "slide_type": ""
    },
    "tags": []
   },
   "outputs": [],
   "source": [
    "# get the range from the minimum and maximum lengths\n",
    "x = np.array(range(np.min(lengths), np.max(lengths)+1))\n",
    "x = np.arange(np.min(lengths), np.max(lengths)+1)"
   ]
  },
  {
   "cell_type": "code",
   "execution_count": 64,
   "id": "123e5e93-b53e-4635-a442-cd05934f88c6",
   "metadata": {
    "editable": true,
    "slideshow": {
     "slide_type": ""
    },
    "tags": []
   },
   "outputs": [
    {
     "data": {
      "text/plain": [
       "(array([ 1,  0,  1,  1,  4, 15, 21, 26, 13,  9,  4,  1,  2]),\n",
       " array([ 1,  2,  3,  4,  5,  6,  7,  8,  9, 10, 11, 12, 13]))"
      ]
     },
     "execution_count": 64,
     "metadata": {},
     "output_type": "execute_result"
    }
   ],
   "source": [
    "# check that the two arrays have the same shapes\n",
    "length_counts, x"
   ]
  },
  {
   "cell_type": "code",
   "execution_count": 65,
   "id": "c267d81e-73f2-4e66-b821-ca3ae85fe7b2",
   "metadata": {
    "editable": true,
    "slideshow": {
     "slide_type": ""
    },
    "tags": []
   },
   "outputs": [
    {
     "data": {
      "text/plain": [
       "Text(0.5, 1.0, 'Length distribution of 98 passwords')"
      ]
     },
     "execution_count": 65,
     "metadata": {},
     "output_type": "execute_result"
    },
    {
     "data": {
      "image/png": "[encoded data removed]",
      "text/plain": [
       "<Figure size 640x480 with 1 Axes>"
      ]
     },
     "metadata": {},
     "output_type": "display_data"
    }
   ],
   "source": [
    "# task 4 - 6: plot the length distribution as bars with black edges\n",
    "plt.bar(x, length_counts, edgecolor=\"k\")\n",
    "# label the x-axis and the y-axis with a string\n",
    "plt.xlabel(\"Password length\")\n",
    "plt.ylabel(\"Count\")\n",
    "# set the title to a string\n",
    "plt.title(\"Length distribution of 98 passwords\")"
   ]
  },
  {
   "cell_type": "code",
   "execution_count": null,
   "id": "2f148567-415a-47ae-944a-be864192820e",
   "metadata": {
    "editable": true,
    "slideshow": {
     "slide_type": ""
    },
    "tags": []
   },
   "outputs": [],
   "source": []
  },
  {
   "cell_type": "markdown",
   "id": "8b464c0d-26a1-4832-9cb7-ec230d59f988",
   "metadata": {
    "editable": false,
    "slideshow": {
     "slide_type": ""
    },
    "tags": [
     "exercise"
    ]
   },
   "source": [
    "## 2.10 Readable and reusable code with functions\n",
    "So far you have directly written and executed your code in the cells, which is one of the big advantages of the Jupyter environment. This was a perfectly fine approach since most of the tasks required just a few lines of code and you never had to use more than one for-loop. Wrapping a task in a function makes sense as soon you have to repeat the task many times.\n",
    "\n",
    "If you want to compute the digit sum of a password, there is no function available in native Python or NumPy. You have to iterate over the characters in the password, filter out the numeric characters and convert them to integers before finally summing them up. Implementing the computation of the digit sum in a function will therefore make your code a lot more readable and reusable since you just have to call `compute_digit_sum(password)` for every password in the dataset. You can use the following template to write your own function for the computation of the sum of digits:\n",
    "```python\n",
    "def compute_digit_sum(password):\n",
    "    digit_sum = \n",
    "    \n",
    "    return digit_sum\n",
    "```\n",
    "The parameter is called `password` and it is only defined in the scope of the function (indicated by the indentation). The keyword `return` is followed by the computed digit sum that you want to return from the function.\n",
    "\n",
    "1. Recall how the computation of the digit sum worked. You can either copy the cell from the previous notebook or you can rewrite the computation.\n",
    "2. Implement the computation as a function. You can use the template above or you can write the function from scratch.\n",
    "3. Compute the digit sums for all the passwords and store the result in a NumPy array. You can store it in a list first, but the final result must be a NumPy array.\n",
    "4. Display the digit sums in a new plot and decide what data to use for the x-values. Label the axes, give the plot a title and modify a few plot properties to your liking.\n",
    "5. EXTRA: Try to write the computation of the digit sums for all passwords without a function. Do you agree that using the function increases the readability?"
   ]
  },
  {
   "cell_type": "code",
   "execution_count": 66,
   "id": "9a77190a-e60b-47dc-9fc7-da3550c34957",
   "metadata": {
    "editable": true,
    "slideshow": {
     "slide_type": ""
    },
    "tags": []
   },
   "outputs": [
    {
     "data": {
      "text/plain": [
       "21"
      ]
     },
     "execution_count": 66,
     "metadata": {},
     "output_type": "execute_result"
    }
   ],
   "source": [
    "# task 1: computation of the digit sum with a list comprehension\n",
    "password = \"123456\"\n",
    "sum([int(c) for c in password if c.isnumeric()])"
   ]
  },
  {
   "cell_type": "code",
   "execution_count": 67,
   "id": "79d624eb-accb-49d2-8f24-5c557b64ceb8",
   "metadata": {
    "editable": true,
    "slideshow": {
     "slide_type": ""
    },
    "tags": []
   },
   "outputs": [],
   "source": [
    "# task 2: function implementation with a regular for-loop\n",
    "def compute_digit_sum(password):\n",
    "    digit_sum = 0\n",
    "    for char in password:\n",
    "        if char.isnumeric():\n",
    "            digit_sum += int(char)\n",
    "    return digit_sum"
   ]
  },
  {
   "cell_type": "code",
   "execution_count": 68,
   "id": "43c90d04-ef94-4bb9-b6ec-b5811d0e238d",
   "metadata": {
    "editable": true,
    "slideshow": {
     "slide_type": ""
    },
    "tags": []
   },
   "outputs": [],
   "source": [
    "# task 2: the function implementation with a list comprehension allows you to directly return the result\n",
    "def compute_digit_sum(password):\n",
    "    return sum([int(c) for c in password if c.isnumeric()])"
   ]
  },
  {
   "cell_type": "code",
   "execution_count": 69,
   "id": "b0358d92-f469-4be8-95a0-53a94b6b40cc",
   "metadata": {
    "editable": true,
    "slideshow": {
     "slide_type": ""
    },
    "tags": []
   },
   "outputs": [],
   "source": [
    "# task 3: start from an empty list and iterate over the passwords to append the digit sums\n",
    "digit_sums = []\n",
    "for password in passwords:\n",
    "    digit_sums.append(compute_digit_sum(password))\n",
    "digit_sums = np.array(digit_sums)"
   ]
  },
  {
   "cell_type": "code",
   "execution_count": 70,
   "id": "75e3b0d8-4e57-4fff-adea-c90e5dd63413",
   "metadata": {
    "editable": true,
    "slideshow": {
     "slide_type": ""
    },
    "tags": []
   },
   "outputs": [],
   "source": [
    "# task 3: use a list comprehesion and directly pass the list to an array\n",
    "digit_sums = np.array([compute_digit_sum(password) for password in passwords])"
   ]
  },
  {
   "cell_type": "code",
   "execution_count": 71,
   "id": "f5f68835-59d9-4469-9d56-b4f3b173b529",
   "metadata": {
    "editable": true,
    "slideshow": {
     "slide_type": ""
    },
    "tags": []
   },
   "outputs": [
    {
     "data": {
      "text/plain": [
       "Text(0.5, 1.0, 'Computation of the digit sum of 98 passwords')"
      ]
     },
     "execution_count": 71,
     "metadata": {},
     "output_type": "execute_result"
    },
    {
     "data": {
      "image/png": "[encoded data removed]",
      "text/plain": [
       "<Figure size 640x480 with 1 Axes>"
      ]
     },
     "metadata": {},
     "output_type": "display_data"
    }
   ],
   "source": [
    "# task 4: plot the digit sum as a function of the length, use diamond-shaped markers with a black edge\n",
    "plt.plot(lengths, digit_sums, \"d\", markersize=7, markeredgewidth=1, markeredgecolor=\"k\")\n",
    "# label the two axes based on the data\n",
    "plt.xlabel(\"Password length\")\n",
    "plt.ylabel(\"Digit sum\")\n",
    "# describe the plot in the title\n",
    "plt.title(\"Computation of the digit sum of 98 passwords\")"
   ]
  },
  {
   "cell_type": "code",
   "execution_count": 72,
   "id": "b9a13352-1ef2-41ae-871c-2cf71ef71481",
   "metadata": {
    "editable": true,
    "slideshow": {
     "slide_type": ""
    },
    "tags": []
   },
   "outputs": [
    {
     "data": {
      "text/plain": [
       "array([ 0, 23,  6,  6,  0,  1,  0,  7, 32,  6,  1,  2,  7, 14,  0, 12, 16,\n",
       "       45,  2, 44,  2, 44, 44, 44, 44, 44,  6, 15,  0, 45, 22,  6, 48,  1,\n",
       "        6,  0,  0, 28,  0, 54, 32, 32, 32, 32,  0,  0, 22,  6, 14,  6,  6,\n",
       "       45,  1,  2, 19,  6,  0, 45, 24, 36,  0, 31, 16,  0,  0,  9, 13,  0,\n",
       "        0,  0, 56,  0,  5,  0,  0,  0,  5,  0,  2,  0,  0,  0, 18,  0,  0,\n",
       "        0,  2,  0,  0, 12,  0,  0, 12, 25,  0,  0,  0,  0])"
      ]
     },
     "execution_count": 72,
     "metadata": {},
     "output_type": "execute_result"
    }
   ],
   "source": [
    "# task 5: compute the digit sums without a function using regular for loops\n",
    "digit_sums = []\n",
    "for password in passwords:\n",
    "    digit_sum = 0\n",
    "    for c in password:\n",
    "        if c.isnumeric():\n",
    "            digit_sum += int(c)\n",
    "    digit_sums.append(digit_sum)\n",
    "np.array(digit_sums)"
   ]
  },
  {
   "cell_type": "code",
   "execution_count": 73,
   "id": "8ace2aaf-79e8-467b-9d09-3cd5faa90088",
   "metadata": {
    "editable": true,
    "slideshow": {
     "slide_type": ""
    },
    "tags": []
   },
   "outputs": [
    {
     "data": {
      "text/plain": [
       "array([ 0, 23,  6,  6,  0,  1,  0,  7, 32,  6,  1,  2,  7, 14,  0, 12, 16,\n",
       "       45,  2, 44,  2, 44, 44, 44, 44, 44,  6, 15,  0, 45, 22,  6, 48,  1,\n",
       "        6,  0,  0, 28,  0, 54, 32, 32, 32, 32,  0,  0, 22,  6, 14,  6,  6,\n",
       "       45,  1,  2, 19,  6,  0, 45, 24, 36,  0, 31, 16,  0,  0,  9, 13,  0,\n",
       "        0,  0, 56,  0,  5,  0,  0,  0,  5,  0,  2,  0,  0,  0, 18,  0,  0,\n",
       "        0,  2,  0,  0, 12,  0,  0, 12, 25,  0,  0,  0,  0])"
      ]
     },
     "execution_count": 73,
     "metadata": {},
     "output_type": "execute_result"
    }
   ],
   "source": [
    "# task 5: compute the digit sums without a function using nested list comprehensions\n",
    "np.array([sum([int(c) for c in password if c.isnumeric()]) for password in passwords])"
   ]
  },
  {
   "cell_type": "code",
   "execution_count": null,
   "id": "2842d3ef-42b2-4dab-ae1e-a9a941231f4c",
   "metadata": {
    "editable": true,
    "slideshow": {
     "slide_type": ""
    },
    "tags": []
   },
   "outputs": [],
   "source": []
  },
  {
   "cell_type": "markdown",
   "id": "26647cfc-8fb7-496e-b474-0875dadcf3f5",
   "metadata": {
    "editable": false,
    "slideshow": {
     "slide_type": ""
    },
    "tags": [
     "exercise"
    ]
   },
   "source": [
    "## 2.11 Labeling data in plots\n",
    "When you have multiple lines and/or markers in a single plot, you want to label the data and display the labels in a legend. In matplotlib all the plot functions such as `plt.plot()`, `plt.bar()` etc. have the optional string parameter `label` that allows you to label the data. You can then add a legend to the plot where the markers/lines will be displayed next to their labels. See the following code snippet that creates a simple line plot with a label and a legend:\n",
    "```python\n",
    "plt.plot(-np.arange(10) / 2, \"r-\", label=\"something linear\")\n",
    "plt.legend()\n",
    "```\n",
    "All labels that are assigned in the same cell before calling `plt.legend()` will be included in the legend. You should therefore call `plt.legend()` at tne end of a cell. If you want to exclude something from the legend, just omit the parameter `label` for that function.\n",
    "\n",
    "To include some \"dynamic\" information about the dataset in a label or a title, you can use string formatting to include variables in a string. The recommended way is to use so-called f-strings where the variables are just written directly in the string. As an example, consider a plot where the length distribution of the passwords with a digit sum lower than the value of the variable `max_digit_sum` is shown. You can then use the variable `max_digit_sum` to create the following title:\n",
    "```python\n",
    "plt.title(f\"Length distribution of passwords with a digit sum lower than {max_digit_sum}\")\n",
    "```\n",
    "\n",
    "1. Create an f-string that presents a password from the dataset including all the properties of the password that you have computed in this notebook.\n",
    "2. Plot the digit sums as a function of the password length and label the axes accordingly. Use a reasonable format to display the data.\n",
    "3. Compute the maximum possible digit sum as a function of the password length and include this in the plot by calling `plt.plot()` for a second time.\n",
    "4. Assign labels to all the data with the `label` parameter and add a legend to the plot. How can you change the position of the legend in the plot?\n",
    "5. Add a title to the plot that includes the number of passwords in the dataset using an f-string"
   ]
  },
  {
   "cell_type": "code",
   "execution_count": 74,
   "id": "04593920-67d5-4bc8-8706-f981a4b80ae6",
   "metadata": {
    "editable": true,
    "slideshow": {
     "slide_type": ""
    },
    "tags": []
   },
   "outputs": [
    {
     "data": {
      "text/plain": [
       "\"The password 'qwerty12345' has the length 11 and the digit sum 15\""
      ]
     },
     "execution_count": 74,
     "metadata": {},
     "output_type": "execute_result"
    }
   ],
   "source": [
    "# task 1: define an index to select a passowrd and read the corresponding length and digit sum\n",
    "i = 27\n",
    "f\"The password '{passwords[i]}' has the length {lengths[i]} and the digit sum {digit_sums[i]}\""
   ]
  },
  {
   "cell_type": "code",
   "execution_count": 75,
   "id": "4b37d664-b54b-44d9-874f-f8d679523bf2",
   "metadata": {
    "editable": true,
    "slideshow": {
     "slide_type": ""
    },
    "tags": []
   },
   "outputs": [
    {
     "data": {
      "text/plain": [
       "<matplotlib.legend.Legend at 0x797f65fe33e0>"
      ]
     },
     "execution_count": 75,
     "metadata": {},
     "output_type": "execute_result"
    },
    {
     "data": {
      "image/png": "[encoded data removed]",
      "text/plain": [
       "<Figure size 640x480 with 1 Axes>"
      ]
     },
     "metadata": {},
     "output_type": "display_data"
    }
   ],
   "source": [
    "# task 2 - 5: plot the digit_sums as a function of the lengths with diamond markers with a black edge, the label is just \"data\"\n",
    "plt.plot(lengths, digit_sums, \"d\", markeredgewidth=1, markeredgecolor=\"k\", label=\"data\")\n",
    "# plot the maximum possible digit sum as a function of the length with the label \"maximum\", the x-values are automatically correct\n",
    "plt.plot(9*np.arange(np.max(lengths) + 1), label=\"maximum\")\n",
    "# assign the usual labels to the axes\n",
    "plt.xlabel(\"Password length\")\n",
    "plt.ylabel(\"Sum of digits\")\n",
    "# include the number of passwords in the dataset in the title\n",
    "plt.title(f\"Computation of the digit sum of {len(passwords)} passwords\")\n",
    "# display the legend in the upper center of the plot\n",
    "plt.legend(loc=\"upper center\")"
   ]
  },
  {
   "cell_type": "code",
   "execution_count": null,
   "id": "f724912b-fbd3-41ca-afde-5fa28112bc14",
   "metadata": {
    "editable": true,
    "slideshow": {
     "slide_type": ""
    },
    "tags": []
   },
   "outputs": [],
   "source": []
  },
  {
   "cell_type": "markdown",
   "id": "00bb75bc-bafd-4c66-82c3-a6fedf15a8e4",
   "metadata": {
    "editable": false,
    "slideshow": {
     "slide_type": ""
    },
    "tags": [
     "exercise"
    ]
   },
   "source": [
    "## 2.12 Counting characters\n",
    "In this exercise you are going to count the characters of all passwords you have read from the file in a single dictionary. As a reminder, the count of a character tells you how often this character appeared in the passwords of your dataset.\n",
    "```python\n",
    "[\"abc\", \"dac\", \"bba\"] -> {\"a\": 3, \"b\": 3, \"c\": 2, \"d\": 1}\n",
    "```\n",
    "\n",
    "1. Write a function that accepts a password as an argument and returns a dictionary with the character counts.\n",
    "2. Copy the function from task 1 and change it to accept a dictionary as a second argument. Modify the existing dictionary in the function and do not return it.\n",
    "3. Use the function from task 2 to get the character counts of the entire dataset.\n",
    "4. EXTRA: Use the function from task 1 and \"merge\" the individual dictionaries from the dataset. Check that the resulting dictionary is equal to the one from task 3.\n",
    "5. Display the character counts in a bar plot. Label the axes and use an f-string that includes the length of the dataset in title.\n",
    "6. Create three new dictionaries to separate the counts of the alphabetic characters, the numeric characters and the special characters. Create a bar plot for each one and label it accordingly."
   ]
  },
  {
   "cell_type": "code",
   "execution_count": 76,
   "id": "de3fb818-2889-48a4-b52d-f33bfebbac32",
   "metadata": {
    "editable": true,
    "slideshow": {
     "slide_type": ""
    },
    "tags": []
   },
   "outputs": [
    {
     "data": {
      "text/plain": [
       "('123rrr', {'1': 1, '2': 1, '3': 1, 'r': 3})"
      ]
     },
     "execution_count": 76,
     "metadata": {},
     "output_type": "execute_result"
    }
   ],
   "source": [
    "# task 1: the function always starts with an empty dictionary\n",
    "def count_characters_task1(password):\n",
    "    character_count = {}\n",
    "    for char in password:\n",
    "        if char in character_count:\n",
    "            character_count[char] += 1\n",
    "        else:\n",
    "            character_count[char] = 1\n",
    "    return character_count\n",
    "\n",
    "i = 26\n",
    "passwords[i], count_characters_task1(passwords[i])"
   ]
  },
  {
   "cell_type": "code",
   "execution_count": 77,
   "id": "dc6b5033-04af-47a0-9728-0217a59ab230",
   "metadata": {
    "editable": true,
    "slideshow": {
     "slide_type": ""
    },
    "tags": []
   },
   "outputs": [
    {
     "data": {
      "text/plain": [
       "('123rrr', {'1': 1, '2': 1, '3': 1, 'r': 3})"
      ]
     },
     "execution_count": 77,
     "metadata": {},
     "output_type": "execute_result"
    }
   ],
   "source": [
    "# task 2: the function modifies the \"global\" dictionary\n",
    "def count_characters_task2(password, character_count):\n",
    "    for char in password:\n",
    "        if char in character_count:\n",
    "            character_count[char] += 1\n",
    "        else:\n",
    "            character_count[char] = 1\n",
    "\n",
    "i = 26\n",
    "character_count = {}\n",
    "count_characters_task2(passwords[i], character_count)\n",
    "passwords[i], character_count"
   ]
  },
  {
   "cell_type": "code",
   "execution_count": 78,
   "id": "0aec7361-3c72-48bf-9c8a-09b8b9bd0391",
   "metadata": {
    "editable": true,
    "slideshow": {
     "slide_type": ""
    },
    "tags": []
   },
   "outputs": [
    {
     "data": {
      "text/plain": [
       "762"
      ]
     },
     "execution_count": 78,
     "metadata": {},
     "output_type": "execute_result"
    }
   ],
   "source": [
    "# task 3: start with an empty dictionary and just iterate over the passwords\n",
    "character_count = {}\n",
    "for password in passwords:\n",
    "    count_characters_task2(password, character_count)\n",
    "\n",
    "# compute the total number of characters to check for errors\n",
    "sum(character_count.values())"
   ]
  },
  {
   "cell_type": "code",
   "execution_count": 79,
   "id": "c8019326-5ce5-4d58-af90-d8dd567f0a3c",
   "metadata": {
    "editable": true,
    "slideshow": {
     "slide_type": ""
    },
    "tags": []
   },
   "outputs": [
    {
     "data": {
      "text/plain": [
       "762"
      ]
     },
     "execution_count": 79,
     "metadata": {},
     "output_type": "execute_result"
    }
   ],
   "source": [
    "# task 4: this is essentially just a reimplementation of the functions from task 1 and 2\n",
    "character_count = {}\n",
    "for password in passwords:\n",
    "    for char, count in count_characters_task1(password).items():\n",
    "        # instead of incrementing by 1 or starting at 1 the \"count\" is used\n",
    "        if char in character_count:\n",
    "            character_count[char] += count\n",
    "        else:\n",
    "            character_count[char] = count\n",
    "\n",
    "sum(character_count.values())"
   ]
  },
  {
   "cell_type": "code",
   "execution_count": 80,
   "id": "3130ea0e-2fd8-4f28-aeeb-1f9793ff16db",
   "metadata": {
    "editable": true,
    "slideshow": {
     "slide_type": ""
    },
    "tags": []
   },
   "outputs": [
    {
     "data": {
      "text/plain": [
       "Text(0.5, 1.0, 'Character counts of 98 passwords')"
      ]
     },
     "execution_count": 80,
     "metadata": {},
     "output_type": "execute_result"
    },
    {
     "data": {
      "image/png": "[encoded data removed]",
      "text/plain": [
       "<Figure size 640x480 with 1 Axes>"
      ]
     },
     "metadata": {},
     "output_type": "display_data"
    }
   ],
   "source": [
    "# task 5: use the keys as the x-data and the values as the y-data\n",
    "plt.bar(character_count.keys(), character_count.values())\n",
    "plt.xlabel(\"Unique characters\")\n",
    "plt.ylabel(\"Counts\")\n",
    "plt.title(f\"Character counts of {len(passwords)} passwords\")"
   ]
  },
  {
   "cell_type": "code",
   "execution_count": null,
   "id": "cc27415d-677c-40cc-8c8e-617d969ff9d0",
   "metadata": {
    "editable": true,
    "slideshow": {
     "slide_type": ""
    },
    "tags": []
   },
   "outputs": [],
   "source": []
  },
  {
   "cell_type": "code",
   "execution_count": 81,
   "id": "8fc00557-1d83-4467-8a38-7ba36cda6355",
   "metadata": {
    "editable": true,
    "slideshow": {
     "slide_type": ""
    },
    "tags": []
   },
   "outputs": [],
   "source": [
    "# task 6: create three empty dictionaries\n",
    "alphabetic_count = {}\n",
    "numeric_count = {}\n",
    "special_count = {}\n",
    "\n",
    "# iterate over the character_count items\n",
    "for char, count in character_count.items():\n",
    "    # run the categorization on the keys and assign the key-value pairs to the respective dictionaries\n",
    "    if char.isalpha():\n",
    "        alphabetic_count[char] = count\n",
    "    elif char.isnumeric():\n",
    "        numeric_count[char] = count\n",
    "    else:\n",
    "        special_count[char] = count"
   ]
  },
  {
   "cell_type": "code",
   "execution_count": 82,
   "id": "239e7713-2922-45b0-ba4d-0721f0f2f76a",
   "metadata": {
    "editable": true,
    "slideshow": {
     "slide_type": ""
    },
    "tags": []
   },
   "outputs": [
    {
     "data": {
      "text/plain": [
       "Text(0.5, 1.0, 'Alphabetic character counts of 98 passwords')"
      ]
     },
     "execution_count": 82,
     "metadata": {},
     "output_type": "execute_result"
    },
    {
     "data": {
      "image/png": "[encoded data removed]",
      "text/plain": [
       "<Figure size 640x480 with 1 Axes>"
      ]
     },
     "metadata": {},
     "output_type": "display_data"
    }
   ],
   "source": [
    "# task 6\n",
    "plt.bar(alphabetic_count.keys(), alphabetic_count.values())\n",
    "plt.xlabel(\"Unique characters\")\n",
    "plt.ylabel(\"Counts\")\n",
    "plt.title(f\"Alphabetic character counts of {len(passwords)} passwords\")"
   ]
  },
  {
   "cell_type": "code",
   "execution_count": 83,
   "id": "312abd97-89b3-4fff-85be-107077e36d83",
   "metadata": {
    "editable": true,
    "slideshow": {
     "slide_type": ""
    },
    "tags": []
   },
   "outputs": [
    {
     "data": {
      "text/plain": [
       "Text(0.5, 1.0, 'Numeric character counts of 98 passwords')"
      ]
     },
     "execution_count": 83,
     "metadata": {},
     "output_type": "execute_result"
    },
    {
     "data": {
      "image/png": "[encoded data removed]",
      "text/plain": [
       "<Figure size 640x480 with 1 Axes>"
      ]
     },
     "metadata": {},
     "output_type": "display_data"
    }
   ],
   "source": [
    "# task 6\n",
    "plt.bar(numeric_count.keys(), numeric_count.values())\n",
    "plt.xlabel(\"Unique characters\")\n",
    "plt.ylabel(\"Counts\")\n",
    "plt.title(f\"Numeric character counts of {len(passwords)} passwords\")"
   ]
  },
  {
   "cell_type": "code",
   "execution_count": 84,
   "id": "da74b001-a2ec-4f90-a7f9-378be5174eb5",
   "metadata": {
    "editable": true,
    "slideshow": {
     "slide_type": ""
    },
    "tags": []
   },
   "outputs": [
    {
     "data": {
      "text/plain": [
       "Text(0.5, 1.0, 'Special character counts of 98 passwords')"
      ]
     },
     "execution_count": 84,
     "metadata": {},
     "output_type": "execute_result"
    },
    {
     "data": {
      "image/png": "[encoded data removed]",
      "text/plain": [
       "<Figure size 640x480 with 1 Axes>"
      ]
     },
     "metadata": {},
     "output_type": "display_data"
    }
   ],
   "source": [
    "# task 6\n",
    "plt.bar(special_count.keys(), special_count.values())\n",
    "plt.xlabel(\"Unique characters\")\n",
    "plt.ylabel(\"Counts\")\n",
    "plt.title(f\"Special character counts of {len(passwords)} passwords\")"
   ]
  },
  {
   "cell_type": "code",
   "execution_count": null,
   "id": "9aef32b6-f584-45fe-b105-baf82ba283b1",
   "metadata": {
    "editable": true,
    "slideshow": {
     "slide_type": ""
    },
    "tags": []
   },
   "outputs": [],
   "source": []
  },
  {
   "cell_type": "markdown",
   "id": "1fc04c67-a13e-4ebb-9a53-f6be88c41f3f",
   "metadata": {
    "editable": false,
    "slideshow": {
     "slide_type": ""
    },
    "tags": [
     "exercise"
    ]
   },
   "source": [
    "## EXTRA: Sorting the character counts\n",
    "The plots in the previous exercise look a bit messy since the character count data is not ordered in any reasonable way. Due to the iteration over the passwords and the characters, the characters are currently just ordered by their first occurrence in the password dataset. For all three categories it would be nice to sort the values in descending order such that the characters are ordered by their frequencies from left to right in the plot. Alternatively, you could also sort the alphabetic data by the keys in alphabetic order (meaning \"A\" to \"Z\"), and you could sort the numeric data by the keys in numeric order (meaning \"0\" to \"9\").  \n",
    "\n",
    "There are two options to approach the sorting. You can either use the native Python function `sorted()` or you can make use of the NumPy package and the functions `np.sort()` and `np.argsort()`. If you want to try the former option, read the section on using the `key` parameter in the `sorted()` function [here](https://realpython.com/sort-python-dictionary/#using-the-key-parameter-and-lambda-functions). If you want to use the NumPy approach, just read the remaining instructions in this exercise.  \n",
    "\n",
    "Even though NumPy is optimized for numerical data, the sorting functions also work for string data. If you sort an array of strings, it is ordered alphabetically from \"A\" to \"Z\" based on the first character in each string. Even though this might sound a bit complicated, this approach is used whenever strings have to be sorted, for example books in a library. The catch here is that you have to sort the keys together with the values, but to use the NumPy functions you need to separate the keys and values into two arrays. Note that you cannot directly create arrays from the dictionary keys and dictionary values, you have to pass them to the built-in function `list()` before turning them into an array.\n",
    "```python\n",
    "keys = np.array(list(alphabetic_counts.keys()))\n",
    "values = np.array(list(alphabetic_counts.values()))\n",
    "```\n",
    "This will convert the keys and values to NumPy data types. While this might look a bit odd when printing the arrays/dictionaries, this is not an issue for any further analysis or plotting. You can call `np.array()` with the argument `dtype=object` to conserve the native data types.\n",
    "\n",
    "The function `np.sort()` can sort the arrays individually but if you want to keep the arrays aligned during the sorting, you have to use the function `np.argsort()`. Instead of the sorted array, this function will return indices that you can use to sort both arrays (the keys and the values).\n",
    "\n",
    "1. Write a function that accepts a dictionary and returns a new dictionary that is sorted by the keys. Use your preferred approach to do the sorting.\n",
    "2. Continue with the function from task 1. Add a string parameter `by` that decides whether the dictionary is sorted by the `\"keys\"` or by the `\"values\"`. Also add a boolean parameter `ascending` that decides the order of the sorting. \n",
    "3. Start with the alphabetic character counts (you can use the dictionaries from the [previous exercise](#2.12-Counting-characters)). Sort the dictionary by the keys/values in descending/ascending order and display it in a bar plot. Don't forget to add axis labels and a title! Which sorting option (`by` and `ascending`) is your favorite one?\n",
    "4. Also display the numeric character counts. Reconsider which (sorting) key and order are most suitable to display the data.\n",
    "5. Display all three categories (alphabetic, numeric and special) in one plot. Call the function `plt.bar()` individually for each category to automatically get the bars in different colors. Label the data and add a legend to the plot."
   ]
  },
  {
   "cell_type": "code",
   "execution_count": 85,
   "id": "4b479da7-2c1b-48f9-8294-fcec841e089e",
   "metadata": {
    "editable": true,
    "slideshow": {
     "slide_type": ""
    },
    "tags": []
   },
   "outputs": [
    {
     "name": "stdout",
     "output_type": "stream",
     "text": [
      "{' ': 1, '-': 14, '.': 2, '0': 36, '1': 61, '2': 31, '3': 32, '4': 29, '5': 25, '6': 24, '7': 12, '8': 39, '9': 27, ':': 1, '@': 1, 'A': 2, 'F': 1, 'L': 2, 'a': 45, 'b': 10, 'c': 12, 'd': 20, 'e': 38, 'f': 11, 'g': 11, 'h': 13, 'i': 22, 'j': 6, 'k': 10, 'l': 25, 'm': 14, 'n': 30, 'o': 26, 'p': 8, 'q': 6, 'r': 35, 's': 20, 't': 26, 'u': 8, 'v': 7, 'w': 6, 'x': 2, 'y': 9, 'z': 2}\n"
     ]
    }
   ],
   "source": [
    "# task 1: native approach with sorted()\n",
    "def sort_dict_by_keys_native(d):\n",
    "    return dict(sorted(d.items()))\n",
    "\n",
    "# check the sorting with the character count from the previous exercise\n",
    "print(sort_dict_by_keys_native(character_count))"
   ]
  },
  {
   "cell_type": "code",
   "execution_count": 86,
   "id": "3d6b3cec-d91b-4a97-9e56-d19b7a5307f7",
   "metadata": {
    "editable": true,
    "slideshow": {
     "slide_type": ""
    },
    "tags": []
   },
   "outputs": [
    {
     "name": "stdout",
     "output_type": "stream",
     "text": [
      "{np.str_(' '): np.int64(1), np.str_('-'): np.int64(14), np.str_('.'): np.int64(2), np.str_('0'): np.int64(36), np.str_('1'): np.int64(61), np.str_('2'): np.int64(31), np.str_('3'): np.int64(32), np.str_('4'): np.int64(29), np.str_('5'): np.int64(25), np.str_('6'): np.int64(24), np.str_('7'): np.int64(12), np.str_('8'): np.int64(39), np.str_('9'): np.int64(27), np.str_(':'): np.int64(1), np.str_('@'): np.int64(1), np.str_('A'): np.int64(2), np.str_('F'): np.int64(1), np.str_('L'): np.int64(2), np.str_('a'): np.int64(45), np.str_('b'): np.int64(10), np.str_('c'): np.int64(12), np.str_('d'): np.int64(20), np.str_('e'): np.int64(38), np.str_('f'): np.int64(11), np.str_('g'): np.int64(11), np.str_('h'): np.int64(13), np.str_('i'): np.int64(22), np.str_('j'): np.int64(6), np.str_('k'): np.int64(10), np.str_('l'): np.int64(25), np.str_('m'): np.int64(14), np.str_('n'): np.int64(30), np.str_('o'): np.int64(26), np.str_('p'): np.int64(8), np.str_('q'): np.int64(6), np.str_('r'): np.int64(35), np.str_('s'): np.int64(20), np.str_('t'): np.int64(26), np.str_('u'): np.int64(8), np.str_('v'): np.int64(7), np.str_('w'): np.int64(6), np.str_('x'): np.int64(2), np.str_('y'): np.int64(9), np.str_('z'): np.int64(2)}\n"
     ]
    }
   ],
   "source": [
    "# task 1: NumPy approach with np.argsort()\n",
    "def sort_dict_by_keys_numpy(d):\n",
    "    # use the argument dtype=object to conserve the native data types\n",
    "    keys = np.array(list(d.keys()))\n",
    "    values = np.array(list(d.values()))\n",
    "    indices = np.argsort(keys)\n",
    "    # use the function zip() to create key-value tuples\n",
    "    return dict(zip(keys[indices], values[indices]))\n",
    "\n",
    "print(sort_dict_by_keys_numpy(character_count))"
   ]
  },
  {
   "cell_type": "code",
   "execution_count": 87,
   "id": "0075af15-9022-4e75-b5e4-3ea29cbe1fc2",
   "metadata": {
    "editable": true,
    "slideshow": {
     "slide_type": ""
    },
    "tags": []
   },
   "outputs": [
    {
     "name": "stdout",
     "output_type": "stream",
     "text": [
      "{'1': 61, 'a': 45, '8': 39, 'e': 38, '0': 36, 'r': 35, '3': 32, '2': 31, 'n': 30, '4': 29, '9': 27, 't': 26, 'o': 26, 'l': 25, '5': 25, '6': 24, 'i': 22, 's': 20, 'd': 20, '-': 14, 'm': 14, 'h': 13, 'c': 12, '7': 12, 'f': 11, 'g': 11, 'b': 10, 'k': 10, 'y': 9, 'u': 8, 'p': 8, 'v': 7, 'w': 6, 'q': 6, 'j': 6, 'L': 2, 'x': 2, '.': 2, 'A': 2, 'z': 2, 'F': 1, '@': 1, ' ': 1, ':': 1}\n"
     ]
    }
   ],
   "source": [
    "# task 2: native approach with sorted()\n",
    "def sort_dict_native(d, by, ascending):\n",
    "    # modify the key based on the value of \"by\"\n",
    "    key = None if by == \"keys\" else lambda item: item[1]\n",
    "    # use the parameter \"reverse\" to change the order of the items\n",
    "    return dict(sorted(d.items(), key=key, reverse=not ascending))\n",
    "\n",
    "# using named arguments can improve the readability\n",
    "print(sort_dict_native(character_count, by=\"values\", ascending=False))"
   ]
  },
  {
   "cell_type": "code",
   "execution_count": 88,
   "id": "a83b3072-13eb-4418-8b47-f17940140b1a",
   "metadata": {
    "editable": true,
    "slideshow": {
     "slide_type": ""
    },
    "tags": []
   },
   "outputs": [
    {
     "name": "stdout",
     "output_type": "stream",
     "text": [
      "{np.str_('1'): np.int64(61), np.str_('a'): np.int64(45), np.str_('8'): np.int64(39), np.str_('e'): np.int64(38), np.str_('0'): np.int64(36), np.str_('r'): np.int64(35), np.str_('3'): np.int64(32), np.str_('2'): np.int64(31), np.str_('n'): np.int64(30), np.str_('4'): np.int64(29), np.str_('9'): np.int64(27), np.str_('t'): np.int64(26), np.str_('o'): np.int64(26), np.str_('l'): np.int64(25), np.str_('5'): np.int64(25), np.str_('6'): np.int64(24), np.str_('i'): np.int64(22), np.str_('s'): np.int64(20), np.str_('d'): np.int64(20), np.str_('-'): np.int64(14), np.str_('m'): np.int64(14), np.str_('h'): np.int64(13), np.str_('c'): np.int64(12), np.str_('7'): np.int64(12), np.str_('g'): np.int64(11), np.str_('f'): np.int64(11), np.str_('b'): np.int64(10), np.str_('k'): np.int64(10), np.str_('y'): np.int64(9), np.str_('p'): np.int64(8), np.str_('u'): np.int64(8), np.str_('v'): np.int64(7), np.str_('q'): np.int64(6), np.str_('j'): np.int64(6), np.str_('w'): np.int64(6), np.str_('z'): np.int64(2), np.str_('x'): np.int64(2), np.str_('L'): np.int64(2), np.str_('A'): np.int64(2), np.str_('.'): np.int64(2), np.str_(' '): np.int64(1), np.str_(':'): np.int64(1), np.str_('@'): np.int64(1), np.str_('F'): np.int64(1)}\n"
     ]
    }
   ],
   "source": [
    "# task 2: NumPy approach with np.argsort()\n",
    "def sort_dict_numpy(d, by, ascending):\n",
    "    # use the argument dtype=object to conserve the native data types\n",
    "    keys = np.array(list(d.keys()))\n",
    "    values = np.array(list(d.values()))\n",
    "    # select the array to use for the sorting\n",
    "    indices = np.argsort(keys) if by == \"keys\" else np.argsort(values)\n",
    "    # reverse the indices if \"ascending\" is False\n",
    "    if not ascending:\n",
    "        indices = indices[::-1]\n",
    "    return dict(zip(keys[indices], values[indices]))\n",
    "\n",
    "# using named arguments can improve the readability\n",
    "print(sort_dict_numpy(character_count, by=\"values\", ascending=False))"
   ]
  },
  {
   "cell_type": "code",
   "execution_count": 89,
   "id": "e970c374-dc97-4353-a0c6-fc62e084ebdf",
   "metadata": {
    "editable": true,
    "slideshow": {
     "slide_type": ""
    },
    "tags": []
   },
   "outputs": [
    {
     "data": {
      "text/plain": [
       "Text(0.5, 1.0, 'Alphabetic character counts sorted by the \"values\" in descending order')"
      ]
     },
     "execution_count": 89,
     "metadata": {},
     "output_type": "execute_result"
    },
    {
     "data": {
      "image/png": "[encoded data removed]",
      "text/plain": [
       "<Figure size 640x480 with 1 Axes>"
      ]
     },
     "metadata": {},
     "output_type": "display_data"
    }
   ],
   "source": [
    "# task 3: display the sorted alphabetic counts\n",
    "by = \"values\"\n",
    "ascending = False\n",
    "d = sort_dict_native(alphabetic_count, by=by, ascending=ascending)\n",
    "\n",
    "plt.bar(d.keys(), d.values())\n",
    "plt.ylabel(\"Counts\")\n",
    "plt.xlabel(\"Unique alphabetic characters\")\n",
    "plt.title(f\"Alphabetic character counts sorted by the \\\"{by}\\\" in {\"ascending\" if ascending else \"descending\"} order\")"
   ]
  },
  {
   "cell_type": "code",
   "execution_count": 90,
   "id": "ff02e464-3432-4447-bf7b-237c3791fd24",
   "metadata": {
    "editable": true,
    "slideshow": {
     "slide_type": ""
    },
    "tags": []
   },
   "outputs": [
    {
     "data": {
      "text/plain": [
       "Text(0.5, 1.0, 'Numeric character counts sorted by the \"keys\" in ascending order')"
      ]
     },
     "execution_count": 90,
     "metadata": {},
     "output_type": "execute_result"
    },
    {
     "data": {
      "image/png": "[encoded data removed]",
      "text/plain": [
       "<Figure size 640x480 with 1 Axes>"
      ]
     },
     "metadata": {},
     "output_type": "display_data"
    }
   ],
   "source": [
    "# task 4: display the sorted numeric counts\n",
    "by = \"keys\"\n",
    "ascending = True\n",
    "d = sort_dict_native(numeric_count, by=by, ascending=ascending)\n",
    "\n",
    "plt.bar(d.keys(), d.values())\n",
    "plt.ylabel(\"Counts\")\n",
    "plt.xlabel(\"Unique numeric characters\")\n",
    "plt.title(f\"Numeric character counts sorted by the \\\"{by}\\\" in {\"ascending\" if ascending else \"descending\"} order\")"
   ]
  },
  {
   "cell_type": "code",
   "execution_count": 91,
   "id": "45175963-b083-4cf3-ab4d-c2edcad68bf8",
   "metadata": {
    "editable": true,
    "slideshow": {
     "slide_type": ""
    },
    "tags": []
   },
   "outputs": [
    {
     "data": {
      "text/plain": [
       "Text(0.5, 1.0, 'Categorized character counts sorted by the \"values\" in descending order')"
      ]
     },
     "execution_count": 91,
     "metadata": {},
     "output_type": "execute_result"
    },
    {
     "data": {
      "image/png": "[encoded data removed]",
      "text/plain": [
       "<Figure size 640x480 with 1 Axes>"
      ]
     },
     "metadata": {},
     "output_type": "display_data"
    }
   ],
   "source": [
    "# task 5: display all character counts in a single plot\n",
    "by = \"values\"\n",
    "ascending = False\n",
    "# use the same \"by\" and \"ascending\" for all categories\n",
    "alphabetic_sorted = sort_dict_native(alphabetic_count, by=by, ascending=ascending)\n",
    "numeric_sorted = sort_dict_native(numeric_count, by=by, ascending=ascending)\n",
    "special_sorted = sort_dict_native(special_count, by=by, ascending=ascending)\n",
    "\n",
    "# add labels to the bar plots to add a legend later\n",
    "plt.bar(alphabetic_sorted.keys(), alphabetic_sorted.values(), label=\"alphabetic\")\n",
    "plt.bar(numeric_sorted.keys(), numeric_sorted.values(), label=\"numeric\")\n",
    "plt.bar(special_sorted.keys(), special_sorted.values(), label=\"special\")\n",
    "plt.legend()\n",
    "plt.ylabel(\"Counts\")\n",
    "plt.xlabel(\"Unique characters\")\n",
    "plt.title(f\"Categorized character counts sorted by the \\\"{by}\\\" in {\"ascending\" if ascending else \"descending\"} order\")"
   ]
  },
  {
   "cell_type": "code",
   "execution_count": null,
   "id": "61010380-b311-4465-aa6a-664314309c38",
   "metadata": {
    "editable": true,
    "slideshow": {
     "slide_type": ""
    },
    "tags": []
   },
   "outputs": [],
   "source": []
  }
 ],
 "metadata": {
  "kernelspec": {
   "display_name": "konstanz2024",
   "language": "python",
   "name": "konstanz2024"
  },
  "language_info": {
   "codemirror_mode": {
    "name": "ipython",
    "version": 3
   },
   "file_extension": ".py",
   "mimetype": "text/x-python",
   "name": "python",
   "nbconvert_exporter": "python",
   "pygments_lexer": "ipython3",
   "version": "3.12.7"
  }
 },
 "nbformat": 4,
 "nbformat_minor": 5
}
