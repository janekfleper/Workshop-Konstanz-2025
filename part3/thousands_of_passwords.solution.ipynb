{
 "cells": [
  {
   "cell_type": "markdown",
   "id": "f2aee5d0-8103-4d36-bd89-8c55aee10cf7",
   "metadata": {
    "editable": true,
    "slideshow": {
     "slide_type": ""
    },
    "tags": [
     "exercise"
    ]
   },
   "source": [
    "## 3.1 Loading passwords with a function\n",
    "In the last notebook you learned how to read passwords from a text file. Since you are going to reuse this code many times, it is a perfect candidate to be implemented in a function. The function needs to have one (string) parameter which is the name of the file, and the function should return the preprocessed (all `\"\\n\"` removed) and filtered (no empty passwords) list of passwords. You can use the following template for the function:\n",
    "```python\n",
    "def load_passwords(path):\n",
    "    # load the passwords here\n",
    "    return passwords\n",
    "```\n",
    "\n",
    "1. Write the function that returns a list of passwords from a text file. Copy the template above or write the function from scratch.\n",
    "2. What happens if you call the function without any argument `load_passwords()`? The error message will tell you exactly what is wrong with the function call.\n",
    "3. Load the passwords from the file `passwords.txt` into a list. How many passwords are left after the preprocessing and filtering?\n",
    "4. Count the number of passwords in the list that _only_ contain alphabetic characters, numeric characters or special characters respectively. Try to use list comprehensions wherever possible. An example for a password with only special characters is `\"!?:\"`. Examples for a purely alphabetic password or a purely numeric password are `\"abc\"` and `\"123\"` respectively.\n",
    "5. EXTRA: Add a boolean parameter called `load_empty` that allows you to optionally load empty passwords. If you call the function with the argument `load_empty=True`, the empty lines will be included in the list of passwords."
   ]
  },
  {
   "cell_type": "code",
   "execution_count": 1,
   "id": "384df138-3ce8-428d-b2ae-5f5bf8a92aa0",
   "metadata": {
    "editable": true,
    "slideshow": {
     "slide_type": ""
    },
    "tags": []
   },
   "outputs": [],
   "source": [
    "# task 1, option 1: regular for loop + iterate over the file variable f\n",
    "def load_passwords(path):\n",
    "    passwords = []\n",
    "    with open(path) as f:\n",
    "        for line in f:\n",
    "            password = line.strip(\"\\n\")\n",
    "            if password:\n",
    "                passwords.append(password)\n",
    "\n",
    "    return passwords"
   ]
  },
  {
   "cell_type": "code",
   "execution_count": 2,
   "id": "6aa96687-ac2b-4b84-a458-b9d651c9fd4a",
   "metadata": {
    "editable": true,
    "slideshow": {
     "slide_type": ""
    },
    "tags": []
   },
   "outputs": [],
   "source": [
    "# task 1, option 2: list comprehension + iterate over the file variable f\n",
    "def load_passwords(path):\n",
    "    with open(path) as f:\n",
    "        return [line.strip(\"\\n\") for line in f if line.strip(\"\\n\")]"
   ]
  },
  {
   "cell_type": "code",
   "execution_count": 3,
   "id": "6d6a0a94-61ec-4b5a-bd49-f8fc407f8cb0",
   "metadata": {
    "editable": true,
    "slideshow": {
     "slide_type": ""
    },
    "tags": []
   },
   "outputs": [],
   "source": [
    "# task 1, option 3: regular for loop + split the entire file at the newline characters\n",
    "def load_passwords(path):\n",
    "    passwords = []\n",
    "    with open(path) as f:\n",
    "        for password in f.read().split(\"\\n\"):\n",
    "            if password:\n",
    "                passwords.append(password)\n",
    "\n",
    "    return passwords"
   ]
  },
  {
   "cell_type": "code",
   "execution_count": 4,
   "id": "bd4b4fdd-5aa1-40f9-a122-6268a5dfebb2",
   "metadata": {
    "editable": true,
    "slideshow": {
     "slide_type": ""
    },
    "tags": []
   },
   "outputs": [],
   "source": [
    "# task 1, option 4: list comprehension + split the entire file at the newline characters\n",
    "def load_passwords(path):\n",
    "    with open(path) as f:\n",
    "        return [password for password in f.read().split(\"\\n\") if password]"
   ]
  },
  {
   "cell_type": "code",
   "execution_count": 5,
   "id": "2345764b-9931-462c-aafe-988df59877df",
   "metadata": {
    "editable": true,
    "slideshow": {
     "slide_type": ""
    },
    "tags": []
   },
   "outputs": [
    {
     "ename": "TypeError",
     "evalue": "load_passwords() missing 1 required positional argument: 'path'",
     "output_type": "error",
     "traceback": [
      "\u001b[0;31m---------------------------------------------------------------------------\u001b[0m",
      "\u001b[0;31mTypeError\u001b[0m                                 Traceback (most recent call last)",
      "Cell \u001b[0;32mIn[5], line 2\u001b[0m\n\u001b[1;32m      1\u001b[0m \u001b[38;5;66;03m# task 2: the error message will state that the required positional argument 'path' is missing\u001b[39;00m\n\u001b[0;32m----> 2\u001b[0m \u001b[43mload_passwords\u001b[49m\u001b[43m(\u001b[49m\u001b[43m)\u001b[49m\n",
      "\u001b[0;31mTypeError\u001b[0m: load_passwords() missing 1 required positional argument: 'path'"
     ]
    }
   ],
   "source": [
    "# task 2: the error message will state that the required positional argument 'path' is missing\n",
    "load_passwords()"
   ]
  },
  {
   "cell_type": "code",
   "execution_count": 6,
   "id": "6b8ad26b-b452-4e4f-b54d-0484619cbe8e",
   "metadata": {
    "editable": true,
    "slideshow": {
     "slide_type": ""
    },
    "tags": []
   },
   "outputs": [
    {
     "data": {
      "text/plain": [
       "8879"
      ]
     },
     "execution_count": 6,
     "metadata": {},
     "output_type": "execute_result"
    }
   ],
   "source": [
    "# task 3: use the function for the text file with 9000 passwords\n",
    "passwords = load_passwords(\"passwords.txt\")\n",
    "len(passwords)"
   ]
  },
  {
   "cell_type": "code",
   "execution_count": 7,
   "id": "69c44f5c-b47c-408a-b850-17b623e5108c",
   "metadata": {
    "editable": true,
    "slideshow": {
     "slide_type": ""
    },
    "tags": []
   },
   "outputs": [
    {
     "data": {
      "text/plain": [
       "2283"
      ]
     },
     "execution_count": 7,
     "metadata": {},
     "output_type": "execute_result"
    }
   ],
   "source": [
    "# task 4: get the alphabetic character passwords\n",
    "alphabetic_passwords = [password for password in passwords if password.isalpha()]\n",
    "len(alphabetic_passwords)"
   ]
  },
  {
   "cell_type": "code",
   "execution_count": 8,
   "id": "0c012d66-06e4-4071-90f3-038cce1fc215",
   "metadata": {
    "editable": true,
    "slideshow": {
     "slide_type": ""
    },
    "tags": []
   },
   "outputs": [
    {
     "data": {
      "text/plain": [
       "1262"
      ]
     },
     "execution_count": 8,
     "metadata": {},
     "output_type": "execute_result"
    }
   ],
   "source": [
    "# task 4: get the numeric character passwords\n",
    "numeric_passwords = [password for password in passwords if password.isnumeric()]\n",
    "len(numeric_passwords)"
   ]
  },
  {
   "cell_type": "code",
   "execution_count": 9,
   "id": "a22a35e6-a5d0-4a3e-bf6a-99bbf5c24834",
   "metadata": {
    "editable": true,
    "slideshow": {
     "slide_type": ""
    },
    "tags": []
   },
   "outputs": [
    {
     "data": {
      "text/plain": [
       "28"
      ]
     },
     "execution_count": 9,
     "metadata": {},
     "output_type": "execute_result"
    }
   ],
   "source": [
    "# task 4: define a function to check if a password contains only special characters\n",
    "def is_special(password):\n",
    "    for char in password:\n",
    "        # return False as soon as you find an alphabetic character or a numeric character\n",
    "        if char.isalpha() or char.isnumeric():\n",
    "            return False\n",
    "\n",
    "    # return True if you don't find an alphabetic character or a numeric character during the for-loop\n",
    "    return True\n",
    "\n",
    "# use the result of the function in a list comprehension to get the special character passwords\n",
    "special_passwords = [password for password in passwords if is_special(password)]\n",
    "len(special_passwords)"
   ]
  },
  {
   "cell_type": "code",
   "execution_count": 10,
   "id": "29b47266-c23e-4eba-855c-afe3456dcea7",
   "metadata": {
    "editable": true,
    "slideshow": {
     "slide_type": ""
    },
    "tags": []
   },
   "outputs": [],
   "source": [
    "# task 5: add a second parameter 'load_empty'\n",
    "def load_passwords_improved(path, load_empty):\n",
    "    with open(path) as f:\n",
    "        # include the boolean parameter 'load_empty' with an or in the condition\n",
    "        # if 'load_empty' is True, the entire condition will always be True regardless of the 'password'\n",
    "        return [password for password in f.read().split(\"\\n\") if password or load_empty]"
   ]
  },
  {
   "cell_type": "code",
   "execution_count": 11,
   "id": "4be3c5e9-ac11-463b-921d-6025c2ce7f0c",
   "metadata": {
    "editable": true,
    "slideshow": {
     "slide_type": ""
    },
    "tags": []
   },
   "outputs": [
    {
     "data": {
      "text/plain": [
       "9000"
      ]
     },
     "execution_count": 11,
     "metadata": {},
     "output_type": "execute_result"
    }
   ],
   "source": [
    "# task 5: the list of all passwords will have a length of 9000\n",
    "all_passwords = load_passwords_improved(\"passwords.txt\", True)\n",
    "len(all_passwords)"
   ]
  },
  {
   "cell_type": "code",
   "execution_count": null,
   "id": "761f073f-4520-4571-91da-98cdf606462f",
   "metadata": {
    "editable": true,
    "slideshow": {
     "slide_type": ""
    },
    "tags": []
   },
   "outputs": [],
   "source": []
  },
  {
   "cell_type": "markdown",
   "id": "b246abd6-b5b0-4260-8c30-435a7282d1d2",
   "metadata": {
    "editable": true,
    "slideshow": {
     "slide_type": ""
    },
    "tags": [
     "exercise"
    ]
   },
   "source": [
    "## 3.2 Normalized length distribution\n",
    "Instead of the function `np.bincount()`, you can also use the function `np.unique()` to get the length distribution. As the name suggests, the primary usage of the function `np.unique()` is to get the unique values from an array. If you have an array called `lengths`, the function `np.unique(lengths)` will return the unique values in the array `lengths` in ascending order. \n",
    "```python\n",
    "lengths = np.array([2, 1, 4, 1, 1])\n",
    "np.unique(lengths) -> np.array([1, 2, 4])\n",
    "```\n",
    "However, if you call the function with the additional argument `return_counts=True`, you will receive two arrays. The first array will contain the unique values and the second array will return the corresponding counts:\n",
    "```python\n",
    "lengths = np.array([2, 1, 4, 1, 1])\n",
    "np.unique(lengths, return_counts=True) -> array([1, 2, 4]), array([3, 1, 1])\n",
    "```\n",
    "Compared to using `np.bincount()`, the function `np.unique()` can directly give you the x-values and the y-data for a (length) distribution plot.\n",
    "\n",
    "1. Reproduce the two examples in the exercise with the predefined array `lengths`. Make sure that you understand the relation between the `lengths` and the arrays returned from the function `np.unique()`.\n",
    "2. Create a new array with at least ten integer values in the interval $[0, 5]$. Write down the unique values and counts that you expect in a markdown cell or on paper, and then use the function `np.unique()` to see if you were right.\n",
    "3. Compute the array of lengths for the list of passwords that you loaded in the previous exercise. Use the function `np.unique()` to get the unique lengths and their counts.\n",
    "4. Normalize the array of the length counts and store the result in a new array. If the new array is normalized correctly, the sum of the values in the array will be `1.0`.\n",
    "5. Create a bar plot with the normalized length distribution. Add axis labels, add a title (that includes the number of passwords) and change one other property to improve the plot."
   ]
  },
  {
   "cell_type": "code",
   "execution_count": 12,
   "id": "56d77cf7-d896-4837-ba4e-f3d52e8aea4e",
   "metadata": {
    "editable": true,
    "slideshow": {
     "slide_type": ""
    },
    "tags": []
   },
   "outputs": [],
   "source": [
    "# import the packages numpy and matplotlib.pyplot\n",
    "import numpy as np\n",
    "import matplotlib.pyplot as plt"
   ]
  },
  {
   "cell_type": "code",
   "execution_count": 13,
   "id": "3826e1af-e5f5-4146-8b43-863c61f8e340",
   "metadata": {
    "editable": true,
    "slideshow": {
     "slide_type": ""
    },
    "tags": []
   },
   "outputs": [
    {
     "data": {
      "text/plain": [
       "array([1, 2, 4])"
      ]
     },
     "execution_count": 13,
     "metadata": {},
     "output_type": "execute_result"
    }
   ],
   "source": [
    "# task 1: the unique lengths will be sorted in ascending order\n",
    "lengths = np.array([2, 1, 4, 1, 1])\n",
    "unique_lengths = np.unique(lengths)\n",
    "unique_lengths"
   ]
  },
  {
   "cell_type": "code",
   "execution_count": 14,
   "id": "8e6213f3-67f6-4c8c-98dc-1c4c0168734b",
   "metadata": {
    "editable": true,
    "slideshow": {
     "slide_type": ""
    },
    "tags": []
   },
   "outputs": [
    {
     "data": {
      "text/plain": [
       "(array([1, 2, 4]), array([3, 1, 1]))"
      ]
     },
     "execution_count": 14,
     "metadata": {},
     "output_type": "execute_result"
    }
   ],
   "source": [
    "# task 1: the counts are \"aligned\" with the unique lengths\n",
    "lengths = np.array([2, 1, 4, 1, 1])\n",
    "unique_lengths, length_counts = np.unique(lengths, return_counts=True)\n",
    "unique_lengths, length_counts"
   ]
  },
  {
   "cell_type": "code",
   "execution_count": 15,
   "id": "20ceb3e9-55b8-4005-b641-e744508f1605",
   "metadata": {
    "editable": true,
    "slideshow": {
     "slide_type": ""
    },
    "tags": []
   },
   "outputs": [
    {
     "data": {
      "text/plain": [
       "(array([0, 1, 2, 3, 5]), array([1, 5, 3, 2, 2]))"
      ]
     },
     "execution_count": 15,
     "metadata": {},
     "output_type": "execute_result"
    }
   ],
   "source": [
    "# task 2: create your own array with length data from 0 to 5\n",
    "lengths = np.array([0, 1, 1, 1, 5, 3, 2, 1, 2, 5, 3, 2, 1])\n",
    "unique_lengths, length_counts = np.unique(lengths, return_counts=True)\n",
    "unique_lengths, length_counts"
   ]
  },
  {
   "cell_type": "code",
   "execution_count": 16,
   "id": "95416834-0853-494a-b334-b914d40ac97f",
   "metadata": {
    "editable": true,
    "slideshow": {
     "slide_type": ""
    },
    "tags": []
   },
   "outputs": [],
   "source": [
    "# task 3: compute the lengths of the password dataset\n",
    "lengths = np.array([len(password) for password in passwords])\n",
    "unique_lengths, length_counts = np.unique(lengths, return_counts=True)"
   ]
  },
  {
   "cell_type": "code",
   "execution_count": 17,
   "id": "9a1d2246-84c7-497a-9b39-6b4c304a9f30",
   "metadata": {
    "editable": true,
    "slideshow": {
     "slide_type": ""
    },
    "tags": []
   },
   "outputs": [
    {
     "data": {
      "text/plain": [
       "np.float64(1.0)"
      ]
     },
     "execution_count": 17,
     "metadata": {},
     "output_type": "execute_result"
    }
   ],
   "source": [
    "# task 4: the sum of length_counts is the same as len(passwords) or len(lengths) ...\n",
    "normalized_length_counts = length_counts / np.sum(length_counts)\n",
    "# ... and the sum of the distribution is now 1.0\n",
    "np.sum(normalized_length_counts)"
   ]
  },
  {
   "cell_type": "code",
   "execution_count": 18,
   "id": "c90937ea-0b93-40ea-8929-a3edcd8d2d08",
   "metadata": {
    "editable": true,
    "slideshow": {
     "slide_type": ""
    },
    "tags": []
   },
   "outputs": [
    {
     "data": {
      "text/plain": [
       "Text(0.5, 1.0, 'Normalized length distribution of 8879 passwords')"
      ]
     },
     "execution_count": 18,
     "metadata": {},
     "output_type": "execute_result"
    },
    {
     "data": {
      "image/png": "[encoded data removed]",
      "text/plain": [
       "<Figure size 640x480 with 1 Axes>"
      ]
     },
     "metadata": {},
     "output_type": "display_data"
    }
   ],
   "source": [
    "# task 5: reduce the bar width a bit since the bars are almost \"touching\" with the default width\n",
    "plt.bar(unique_lengths, normalized_length_counts, width=0.6, edgecolor=\"k\")\n",
    "plt.xlabel(\"Password length\")\n",
    "plt.ylabel(\"Normalized counts\")\n",
    "plt.title(f\"Normalized length distribution of {len(passwords)} passwords\")"
   ]
  },
  {
   "cell_type": "code",
   "execution_count": null,
   "id": "b88f6061-0b3e-44fb-bba0-c6d1265df65f",
   "metadata": {
    "editable": true,
    "slideshow": {
     "slide_type": ""
    },
    "tags": []
   },
   "outputs": [],
   "source": []
  },
  {
   "cell_type": "markdown",
   "id": "88dc762e-0c51-4ee6-a539-49121587bb5b",
   "metadata": {
    "editable": true,
    "slideshow": {
     "slide_type": ""
    },
    "tags": [
     "exercise"
    ]
   },
   "source": [
    "## 3.3 Counting duplicate passwords\n",
    "With an increasing number of passwords, there will also be an increasing number of duplicate passwords. (Actually, there were already a few duplicates in the first 100 passwords. Did you notice any of them?) Getting the unique passwords and their counts should therefore be the first step of the data analysis. This will allow you to get a much better overview of your data without removing any information. Even though the list of passwords is not numerical data, you can still use the function `np.unique()` that was introduced in the [previous exercise](#3.2-Normalized-length-distribution).\n",
    "\n",
    "1. Get the unique passwords and their counts with the function `np.unique()`. How are the unique passwords ordered? If the start of the array is too confusing, look at the last 50 unique passwords instead.\n",
    "2. Compare the number of _unique_ passwords to the number of _all_ passwords. How many passwords in the initial dataset were duplicates? What is the maximum number of duplicates of a password?\n",
    "3. Use NumPy array filtering to get the passwords with a count greater than 10 (greater than 2 if you are using the smaller dataset). If you are using one of these passwords yourself, you should probably consider changing it. :)\n",
    "4. Compute the length of each unique password and store the result in a new array. How can you calculate the average length of **all** passwords from the unique arrays?\n",
    "5. Plot the counts as a function of the lengths, add axis labels and add a title. You can either use the function `plt.scatter()` or you can use `plt.plot()` with a format that only displays markers.\n",
    "6. Create a second plot and highlight the data points where the count is greater than 10 (greater than 2 if you are using the smaller dataset). You can either use a different color or increase the size of the points. Hint: Call the plot function twice and use NumPy array filtering to select the data. Add axis labels, assign labels to the data and add a legend."
   ]
  },
  {
   "cell_type": "code",
   "execution_count": 19,
   "id": "fc7a7324-3c68-4ebd-a7cd-4a7f2e389504",
   "metadata": {
    "editable": true,
    "slideshow": {
     "slide_type": ""
    },
    "tags": []
   },
   "outputs": [
    {
     "data": {
      "text/plain": [
       "(array([' ', '  ', '    ', ..., 'zzxxaass', 'zzxxcc', 'zzzzzzz'],\n",
       "       dtype='<U32'),\n",
       " array([10,  5,  1, ...,  1,  1,  1]))"
      ]
     },
     "execution_count": 19,
     "metadata": {},
     "output_type": "execute_result"
    }
   ],
   "source": [
    "# task 1: use the function np.unique() with the parameter return_counts=True to get the unique passwords and their counts\n",
    "unique_passwords, password_counts = np.unique(passwords, return_counts=True)\n",
    "unique_passwords, password_counts"
   ]
  },
  {
   "cell_type": "code",
   "execution_count": 20,
   "id": "b98fa690-da2a-482d-8685-7eb7786ee228",
   "metadata": {
    "editable": true,
    "slideshow": {
     "slide_type": ""
    },
    "tags": []
   },
   "outputs": [
    {
     "data": {
      "text/plain": [
       "array(['zeHzwPuz6a', 'zefjo111', 'zehzwpuz6a', 'zenghui2', 'zenit-talnah',\n",
       "       'zenit2009', 'zet1108', 'zevs_ev', 'zewapido', 'zezina80',\n",
       "       'zezoxuba', 'zgd-', 'zgd-11', 'zink2008', 'zink2009', 'zitipemy',\n",
       "       'zivosely', 'zjxtymnt', 'zjxtymnt,zk.,k.', 'zk.:', 'zllf',\n",
       "       'zobokewa', 'zohegina', 'zolotarev08', 'zoloto12', 'zone12',\n",
       "       'zorro2009', 'zoxalyjy', 'zsp9527412', 'zuewamarija', 'zujerujy',\n",
       "       'zukizuki', 'zum-zum.ru', 'zupusyqe', 'zv0n04ek', 'zvezdopad',\n",
       "       'zx11081991xz', 'zxcv123', 'zxcvbnm', 'zxcvbnm:', 'zxdf1324',\n",
       "       'zyaqhlmw', 'zyhozazy', 'zyjibysi', 'zyx123456', 'zzgtbz',\n",
       "       'zztop1', 'zzxxaass', 'zzxxcc', 'zzzzzzz'], dtype='<U32')"
      ]
     },
     "execution_count": 20,
     "metadata": {},
     "output_type": "execute_result"
    }
   ],
   "source": [
    "# task 1: the passwords are ordered alphabetically, if the first character is equal, they are ordered by the second character etc...\n",
    "unique_passwords[-50:]"
   ]
  },
  {
   "cell_type": "code",
   "execution_count": 21,
   "id": "6ad1bc56-47ad-402e-bb02-182f9ab5b1cd",
   "metadata": {
    "editable": true,
    "slideshow": {
     "slide_type": ""
    },
    "tags": []
   },
   "outputs": [
    {
     "data": {
      "text/plain": [
       "array([' ', '  ', '    ', '  .', '  ?', ' 11.11.1987olga', '!!!voruch',\n",
       "       '!@#$%^star', '&#33;@#&#036;%^QWERTY', '&#33;tktyf&#33;',\n",
       "       '(pomo4ka)', '(pomo4ka</', '**', '*******', '**********',\n",
       "       '*rhfcfdbwf*', ',ehrjdcrfzvfhbzktjybljdyf', '--', '-- zanoza',\n",
       "       '-1111199', '-11111999', '-111999', '-331279', '-4121113', '-djuz',\n",
       "       '.', '.1234.', '.KF2440491', '.MORE.', '.andrei', '.hxtr1981',\n",
       "       '.kbxrf', '.kbz1177', '.princessl', '000---11', '00000', '000000',\n",
       "       '00000000', '000000000', '000459', '000666', '0009124560',\n",
       "       '000aaaq', '000rtye', '001110', '00174520', '002002002', '003145',\n",
       "       '01.07.2002', '010101'], dtype='<U32')"
      ]
     },
     "execution_count": 21,
     "metadata": {},
     "output_type": "execute_result"
    }
   ],
   "source": [
    "# task 1: special characters are sorted according to their unicode value, ord(\" \") < ord(\"!\") < ord(\"(\") etc...\n",
    "unique_passwords[:50]"
   ]
  },
  {
   "cell_type": "code",
   "execution_count": 22,
   "id": "06715468-470b-4ee5-a15f-43c46c20d477",
   "metadata": {
    "editable": true,
    "slideshow": {
     "slide_type": ""
    },
    "tags": []
   },
   "outputs": [
    {
     "data": {
      "text/plain": [
       "(8879, (5714,))"
      ]
     },
     "execution_count": 22,
     "metadata": {},
     "output_type": "execute_result"
    }
   ],
   "source": [
    "# task 2: compare the length of the initial password list to the shape of the unique passwords\n",
    "len(passwords), unique_passwords.shape"
   ]
  },
  {
   "cell_type": "code",
   "execution_count": 23,
   "id": "b97db256-a23d-46e6-9933-6c7868cbed39",
   "metadata": {
    "editable": true,
    "slideshow": {
     "slide_type": ""
    },
    "tags": []
   },
   "outputs": [
    {
     "data": {
      "text/plain": [
       "3165"
      ]
     },
     "execution_count": 23,
     "metadata": {},
     "output_type": "execute_result"
    }
   ],
   "source": [
    "# task 2: their difference will be the number of duplicate passwords\n",
    "len(passwords) - unique_passwords.shape[0]"
   ]
  },
  {
   "cell_type": "code",
   "execution_count": 24,
   "id": "0aa2c59c-47ea-4f1f-a49b-714bd240a71e",
   "metadata": {
    "editable": true,
    "slideshow": {
     "slide_type": ""
    },
    "tags": []
   },
   "outputs": [
    {
     "data": {
      "text/plain": [
       "np.int64(71)"
      ]
     },
     "execution_count": 24,
     "metadata": {},
     "output_type": "execute_result"
    }
   ],
   "source": [
    "# task 2: get the largest value from the counts array\n",
    "np.max(password_counts)"
   ]
  },
  {
   "cell_type": "code",
   "execution_count": 25,
   "id": "692d970f-8162-4a25-b650-474c747e27e6",
   "metadata": {
    "editable": true,
    "slideshow": {
     "slide_type": ""
    },
    "tags": []
   },
   "outputs": [
    {
     "data": {
      "text/plain": [
       "array(['11', '111111', '123456', '1234567', '123456789', 'passer2009',\n",
       "       'passer2010', 'q492578', 'qwerty', 'ronaldo'], dtype='<U32')"
      ]
     },
     "execution_count": 25,
     "metadata": {},
     "output_type": "execute_result"
    }
   ],
   "source": [
    "# task 3: use the condition password_counts > 10 to get the boolean array and use it as an index of the unique passwords\n",
    "unique_passwords[password_counts > 10]"
   ]
  },
  {
   "cell_type": "code",
   "execution_count": 26,
   "id": "8384353e-c618-4f4c-b912-f72e0489b761",
   "metadata": {
    "editable": true,
    "slideshow": {
     "slide_type": ""
    },
    "tags": []
   },
   "outputs": [
    {
     "data": {
      "text/plain": [
       "array([1, 2, 4, ..., 8, 6, 7])"
      ]
     },
     "execution_count": 26,
     "metadata": {},
     "output_type": "execute_result"
    }
   ],
   "source": [
    "# task 4: get the array of lengths from the unique passwords\n",
    "lengths = np.array([len(password) for password in unique_passwords])\n",
    "lengths"
   ]
  },
  {
   "cell_type": "code",
   "execution_count": 27,
   "id": "420ed15e-e161-43f9-a39b-879e042d97a7",
   "metadata": {
    "editable": true,
    "slideshow": {
     "slide_type": ""
    },
    "tags": []
   },
   "outputs": [
    {
     "data": {
      "text/plain": [
       "np.float64(9.48631602657957)"
      ]
     },
     "execution_count": 27,
     "metadata": {},
     "output_type": "execute_result"
    }
   ],
   "source": [
    "# task 4, option 1: sum over the product of the lengths and the counts and divide by the number of all passwords\n",
    "np.sum(lengths * password_counts) / len(passwords)"
   ]
  },
  {
   "cell_type": "code",
   "execution_count": 28,
   "id": "73fb4032-3f56-4f03-9d23-807b1fbae0df",
   "metadata": {
    "editable": true,
    "slideshow": {
     "slide_type": ""
    },
    "tags": []
   },
   "outputs": [
    {
     "data": {
      "text/plain": [
       "np.float64(9.48631602657957)"
      ]
     },
     "execution_count": 28,
     "metadata": {},
     "output_type": "execute_result"
    }
   ],
   "source": [
    "# task 4, option 2: sum over the product of the lengths and the counts and divide by the sum of the counts\n",
    "np.sum(lengths * password_counts) / np.sum(password_counts)"
   ]
  },
  {
   "cell_type": "code",
   "execution_count": 29,
   "id": "b3b22a4e-559e-485d-a2f4-df5b8e16a509",
   "metadata": {
    "editable": true,
    "slideshow": {
     "slide_type": ""
    },
    "tags": []
   },
   "outputs": [
    {
     "data": {
      "text/plain": [
       "np.float64(9.48631602657957)"
      ]
     },
     "execution_count": 29,
     "metadata": {},
     "output_type": "execute_result"
    }
   ],
   "source": [
    "# task 4, option 3: use the function np.average() with the password_counts as the weights\n",
    "np.average(lengths, weights=password_counts)"
   ]
  },
  {
   "cell_type": "code",
   "execution_count": 30,
   "id": "b086f765-6422-43be-af1c-0c1bd15a2a8c",
   "metadata": {
    "editable": true,
    "slideshow": {
     "slide_type": ""
    },
    "tags": []
   },
   "outputs": [
    {
     "data": {
      "text/plain": [
       "Text(0.5, 1.0, 'Duplicate counts of 8879 passwords')"
      ]
     },
     "execution_count": 30,
     "metadata": {},
     "output_type": "execute_result"
    },
    {
     "data": {
      "image/png": "[encoded data removed]",
      "text/plain": [
       "<Figure size 640x480 with 1 Axes>"
      ]
     },
     "metadata": {},
     "output_type": "display_data"
    }
   ],
   "source": [
    "# task 5: display the counts as a function of the length with a scatter plot\n",
    "plt.scatter(lengths, password_counts)\n",
    "plt.xlabel(\"Password length\")\n",
    "plt.ylabel(\"Counts\")\n",
    "plt.title(f\"Duplicate counts of {len(passwords)} passwords\")"
   ]
  },
  {
   "cell_type": "code",
   "execution_count": 31,
   "id": "0b9aab02-7acd-413f-9420-c6cf2aa6710f",
   "metadata": {
    "editable": true,
    "slideshow": {
     "slide_type": ""
    },
    "tags": []
   },
   "outputs": [
    {
     "data": {
      "text/plain": [
       "<matplotlib.legend.Legend at 0x7331bc981670>"
      ]
     },
     "execution_count": 31,
     "metadata": {},
     "output_type": "execute_result"
    },
    {
     "data": {
      "image/png": "[encoded data removed]",
      "text/plain": [
       "<Figure size 640x480 with 1 Axes>"
      ]
     },
     "metadata": {},
     "output_type": "display_data"
    }
   ],
   "source": [
    "# task 6: separate the data with the condition counts > 10 and call the scatter plot twice\n",
    "plt.scatter(lengths[password_counts <= 10], password_counts[password_counts <= 10], label=\"counts <= 10\")\n",
    "plt.scatter(lengths[password_counts > 10], password_counts[password_counts > 10], label=\"counts > 10\")\n",
    "plt.xlabel(\"Password length\")\n",
    "plt.ylabel(\"Counts\")\n",
    "plt.title(f\"Duplicate counts of {len(passwords)} passwords\")\n",
    "plt.legend()"
   ]
  },
  {
   "cell_type": "code",
   "execution_count": null,
   "id": "47a155f7-11d9-46c1-9d59-3925ee44380d",
   "metadata": {
    "editable": true,
    "slideshow": {
     "slide_type": ""
    },
    "tags": []
   },
   "outputs": [],
   "source": []
  },
  {
   "cell_type": "markdown",
   "id": "d7ac74f5-d701-4b52-84e8-c12b09f6f625",
   "metadata": {
    "editable": true,
    "slideshow": {
     "slide_type": ""
    },
    "tags": [
     "exercise"
    ]
   },
   "source": [
    "## 3.4 Sorting the passwords\n",
    "The current order of the unique passwords is somewhat unfortunate to further analyze the data, since there are just some weird passwords beginning with special characters at the start of the array of _unique_ passwords. Sorting the arrays by the counts in descending order would make a lot more sense, the most recurring passwords would then come first in the arrays. If you just want to sort the array of counts, you can directly do that with the function `np.sort()`. By default the counts will be sorted in ascending order but you can reverse the array with the indexing `[::-1]`. See the following code snippet to sort an array in descending order:\n",
    "```python\n",
    "some_numbers = np.array([3, 1, 4, 1, 5, 9, 2, 6])\n",
    "np.sort(some_numbers)[::-1] -> np.array([9, 6, 5, 4, 3, 2, 1, 1])\n",
    "```\n",
    "The problem here is that you will only sort the counts but not the unique passwords and their lengths. Instead of directly sorting the counts, you should therefore use the function `np.argsort()` that will return the indices to sort the counts. See the following code snippet that will have the same result as the example above:\n",
    "```python\n",
    "some_numbers = np.array([3, 1, 4, 1, 5, 9, 2, 6])\n",
    "sorted_indices = np.argsort(some_numbers)[::-1]\n",
    "some_numbers[sorted_indices]\n",
    "```\n",
    "You can then use the array `sorted_indices` to sort the _unique_ passwords, their counts and their lengths.\n",
    "\n",
    "1. Reproduce the two examples in the exercise with the predefined array `some_numbers`.\n",
    "2. Create a new array with at least seven integer values. Write down the results you expect from the functions `np.sort()` and `np.argsort()` in a Markdown cell or on paper, and then execute the functions to see if you were right. You can choose whether you want to sort the array in ascending order or in descending order.\n",
    "3. Use the function `np.argsort()` and the reverse index to get the indices that will sort the counts in descending order.\n",
    "4. Create three new arrays for the _unique_ passwords, their counts and their lengths by applying the sorted indices to the respective arrays.\n",
    "5. Look at the first ten passwords and their counts in the sorted arrays. Which passwords did you expect to be in the \"top 10\"?"
   ]
  },
  {
   "cell_type": "code",
   "execution_count": 32,
   "id": "98c1bf41-094f-48d0-b501-a4376392826b",
   "metadata": {
    "editable": true,
    "slideshow": {
     "slide_type": ""
    },
    "tags": []
   },
   "outputs": [
    {
     "data": {
      "text/plain": [
       "array([9, 6, 5, 4, 3, 2, 1, 1])"
      ]
     },
     "execution_count": 32,
     "metadata": {},
     "output_type": "execute_result"
    }
   ],
   "source": [
    "# task 1: directly sort the numbers in descending order\n",
    "some_numbers = np.array([3, 1, 4, 1, 5, 9, 2, 6])\n",
    "np.sort(some_numbers)[::-1]"
   ]
  },
  {
   "cell_type": "code",
   "execution_count": 33,
   "id": "f31d4f5a-dfd1-4d8c-b767-06ee40680c5a",
   "metadata": {
    "editable": true,
    "slideshow": {
     "slide_type": ""
    },
    "tags": []
   },
   "outputs": [
    {
     "data": {
      "text/plain": [
       "(array([5, 7, 4, 2, 0, 6, 3, 1]), array([9, 6, 5, 4, 3, 2, 1, 1]))"
      ]
     },
     "execution_count": 33,
     "metadata": {},
     "output_type": "execute_result"
    }
   ],
   "source": [
    "# task 1: use the sorted indices to sort the numbers in descending order\n",
    "some_numbers = np.array([3, 1, 4, 1, 5, 9, 2, 6])\n",
    "sorted_indices = np.argsort(some_numbers)[::-1]\n",
    "sorted_indices, some_numbers[sorted_indices]"
   ]
  },
  {
   "cell_type": "code",
   "execution_count": 34,
   "id": "dce3399f-3484-4c88-b4a2-8247b0adaf2b",
   "metadata": {
    "editable": true,
    "slideshow": {
     "slide_type": ""
    },
    "tags": []
   },
   "outputs": [
    {
     "data": {
      "text/plain": [
       "array([1, 2, 3, 4, 4, 6, 8])"
      ]
     },
     "execution_count": 34,
     "metadata": {},
     "output_type": "execute_result"
    }
   ],
   "source": [
    "# task 2: directly sort the numbers in ascending order \n",
    "more_numbers = np.array([8, 3, 1, 4, 4, 6, 2])\n",
    "np.sort(more_numbers)"
   ]
  },
  {
   "cell_type": "code",
   "execution_count": 35,
   "id": "cddc01d3-9e3d-4c13-a2de-3bf9987524c2",
   "metadata": {
    "editable": true,
    "slideshow": {
     "slide_type": ""
    },
    "tags": []
   },
   "outputs": [
    {
     "data": {
      "text/plain": [
       "(array([2, 6, 1, 3, 4, 5, 0]), array([1, 2, 3, 4, 4, 6, 8]))"
      ]
     },
     "execution_count": 35,
     "metadata": {},
     "output_type": "execute_result"
    }
   ],
   "source": [
    "# task 2: use the sorted indices to sort the numbers in ascending order\n",
    "more_numbers = np.array([8, 3, 1, 4, 4, 6, 2])\n",
    "sorted_indices = np.argsort(more_numbers)\n",
    "sorted_indices, more_numbers[sorted_indices]"
   ]
  },
  {
   "cell_type": "code",
   "execution_count": 36,
   "id": "7c854256-9342-4585-aaf2-657de2e35df5",
   "metadata": {
    "editable": true,
    "slideshow": {
     "slide_type": ""
    },
    "tags": []
   },
   "outputs": [],
   "source": [
    "# task 3: use the function np.argsort() on the counts and reverse the array to get the indices for the descending order\n",
    "sorted_indices = np.argsort(password_counts)[::-1]"
   ]
  },
  {
   "cell_type": "code",
   "execution_count": 37,
   "id": "8a5d4ecd-774e-442a-a940-d5ce8ba67e69",
   "metadata": {
    "editable": true,
    "slideshow": {
     "slide_type": ""
    },
    "tags": []
   },
   "outputs": [],
   "source": [
    "# task 4: use the sorted indices on all three arrays to apply the sort\n",
    "sorted_passwords = unique_passwords[sorted_indices]\n",
    "sorted_counts = password_counts[sorted_indices]\n",
    "sorted_lengths = lengths[sorted_indices]"
   ]
  },
  {
   "cell_type": "code",
   "execution_count": 38,
   "id": "ff56b347-b80e-4d67-9f52-9586e940d8d2",
   "metadata": {
    "editable": true,
    "slideshow": {
     "slide_type": ""
    },
    "tags": []
   },
   "outputs": [
    {
     "data": {
      "text/plain": [
       "array(['passer2010', 'passer2009', '123456', '111111', '123456789',\n",
       "       'qwerty', '11', '1234567', 'ronaldo', 'q492578'], dtype='<U32')"
      ]
     },
     "execution_count": 38,
     "metadata": {},
     "output_type": "execute_result"
    }
   ],
   "source": [
    "# task 5: the first two passwords and \"ronaldo\" are rather surprising, they are probably only in the \"top 10\" due to the small sample size\n",
    "# the numeric passwords and \"qwerty\" are (unfortunately) reasonable candidates for the most regularly used passwords\n",
    "sorted_passwords[:10]"
   ]
  },
  {
   "cell_type": "code",
   "execution_count": null,
   "id": "004a3d0f-284e-4812-acab-23dd3285ea4d",
   "metadata": {
    "editable": true,
    "slideshow": {
     "slide_type": ""
    },
    "tags": []
   },
   "outputs": [],
   "source": []
  },
  {
   "cell_type": "markdown",
   "id": "4c8528d0-3243-47bf-a12f-8baced20f01b",
   "metadata": {
    "editable": true,
    "slideshow": {
     "slide_type": ""
    },
    "tags": [
     "exercise"
    ]
   },
   "source": [
    "## 3.5 Storing arrays in a data frame\n",
    "The sorting process of the three arrays in the previous section showed you that it is not very convenient to manage multiple NumPy arrays manually. In principle, you could stack the three arrays from the previous exercise to create a two-dimensional NumPy array. The data would then remain aligned if you change the order in any way. However, since one of the arrays stores string data and the other two arrays store integer data, this data is not suitable to be combined in a single array.  \n",
    "\n",
    "The package [pandas](https://pandas.pydata.org/) (imported as `pd` by convention) resolves this issue with a so-called data frame that works very similar to a spreadsheet (from Excel or LibreOffice Calc). A data frame has an index (as an identifier of the rows) and columns to store the data. Each column in the data frame works just like a NumPy array, but the columns are not required to have the same data type. A data frame is therefore suited to store mixed data, such as your passwords, their counts and their lengths. See the following code snippet to create a data frame from the (unsorted) arrays:\n",
    "```python\n",
    "import pandas as pd\n",
    "df = pd.DataFrame(dict(password=passwords, count=counts, length=lengths))\n",
    "```\n",
    "The variable name `df` is often used for data frames but you can also use a different variable name here. The keys in the dictionary will be the names of the columns and the values are the column data. By default, the index counts from `0` to the `len(unique_passwords) - 1`, just like `range(len(unique_passwords))` or `np.arange(len(unique_passwords))`.  \n",
    "\n",
    "You can directly create a plot from the data frame using the method `df.plot(x, y)` where `x` and `y` are the names of the columns, the data is then taken directly from the data frame. See the following code snippet to plot the counts as a function of the length:\n",
    "```python\n",
    "df.plot(\"length\", \"count\")\n",
    "```\n",
    "\n",
    "1. Import the package `pandas` and rename it to `pd`.\n",
    "2. Create the data frame containing the password data from the [previous exercise](#3.4-Sorting-the-passwords) with the code snippet above and output the data frame.\n",
    "3. How could you change the column names when creating the data frame? You do not have to find better names for the columns, just try any other names to understand how the renaming works.\n",
    "4. Use the data frame method `df.plot()` to display the counts as a function of the length. Look at the docstring of the method to find out which parameter you have to change to get a scatter plot. How can you change the marker and the color?"
   ]
  },
  {
   "cell_type": "code",
   "execution_count": 39,
   "id": "98a50e59-6af1-4a3a-9a04-e8ecfa1b61d7",
   "metadata": {
    "editable": true,
    "slideshow": {
     "slide_type": ""
    },
    "tags": []
   },
   "outputs": [],
   "source": [
    "# task 1: import the pandas package\n",
    "import pandas as pd"
   ]
  },
  {
   "cell_type": "code",
   "execution_count": 40,
   "id": "0e724ef7-53c3-4acb-89ea-ba52585d9a8c",
   "metadata": {
    "editable": true,
    "slideshow": {
     "slide_type": ""
    },
    "tags": []
   },
   "outputs": [
    {
     "data": {
      "text/html": [
       "<div>\n",
       "<style scoped>\n",
       "    .dataframe tbody tr th:only-of-type {\n",
       "        vertical-align: middle;\n",
       "    }\n",
       "\n",
       "    .dataframe tbody tr th {\n",
       "        vertical-align: top;\n",
       "    }\n",
       "\n",
       "    .dataframe thead th {\n",
       "        text-align: right;\n",
       "    }\n",
       "</style>\n",
       "<table border=\"1\" class=\"dataframe\">\n",
       "  <thead>\n",
       "    <tr style=\"text-align: right;\">\n",
       "      <th></th>\n",
       "      <th>password</th>\n",
       "      <th>count</th>\n",
       "      <th>length</th>\n",
       "    </tr>\n",
       "  </thead>\n",
       "  <tbody>\n",
       "    <tr>\n",
       "      <th>0</th>\n",
       "      <td>passer2010</td>\n",
       "      <td>71</td>\n",
       "      <td>10</td>\n",
       "    </tr>\n",
       "    <tr>\n",
       "      <th>1</th>\n",
       "      <td>passer2009</td>\n",
       "      <td>63</td>\n",
       "      <td>10</td>\n",
       "    </tr>\n",
       "    <tr>\n",
       "      <th>2</th>\n",
       "      <td>123456</td>\n",
       "      <td>51</td>\n",
       "      <td>6</td>\n",
       "    </tr>\n",
       "    <tr>\n",
       "      <th>3</th>\n",
       "      <td>111111</td>\n",
       "      <td>30</td>\n",
       "      <td>6</td>\n",
       "    </tr>\n",
       "    <tr>\n",
       "      <th>4</th>\n",
       "      <td>123456789</td>\n",
       "      <td>28</td>\n",
       "      <td>9</td>\n",
       "    </tr>\n",
       "    <tr>\n",
       "      <th>...</th>\n",
       "      <td>...</td>\n",
       "      <td>...</td>\n",
       "      <td>...</td>\n",
       "    </tr>\n",
       "    <tr>\n",
       "      <th>5709</th>\n",
       "      <td>fbobh_68&amp;*</td>\n",
       "      <td>1</td>\n",
       "      <td>10</td>\n",
       "    </tr>\n",
       "    <tr>\n",
       "      <th>5710</th>\n",
       "      <td>fbobh_3h'g</td>\n",
       "      <td>1</td>\n",
       "      <td>10</td>\n",
       "    </tr>\n",
       "    <tr>\n",
       "      <th>5711</th>\n",
       "      <td>fbobh_1(km</td>\n",
       "      <td>1</td>\n",
       "      <td>10</td>\n",
       "    </tr>\n",
       "    <tr>\n",
       "      <th>5712</th>\n",
       "      <td>fbobh_0rvj</td>\n",
       "      <td>1</td>\n",
       "      <td>10</td>\n",
       "    </tr>\n",
       "    <tr>\n",
       "      <th>5713</th>\n",
       "      <td>f81678</td>\n",
       "      <td>1</td>\n",
       "      <td>6</td>\n",
       "    </tr>\n",
       "  </tbody>\n",
       "</table>\n",
       "<p>5714 rows × 3 columns</p>\n",
       "</div>"
      ],
      "text/plain": [
       "        password  count  length\n",
       "0     passer2010     71      10\n",
       "1     passer2009     63      10\n",
       "2         123456     51       6\n",
       "3         111111     30       6\n",
       "4      123456789     28       9\n",
       "...          ...    ...     ...\n",
       "5709  fbobh_68&*      1      10\n",
       "5710  fbobh_3h'g      1      10\n",
       "5711  fbobh_1(km      1      10\n",
       "5712  fbobh_0rvj      1      10\n",
       "5713      f81678      1       6\n",
       "\n",
       "[5714 rows x 3 columns]"
      ]
     },
     "execution_count": 40,
     "metadata": {},
     "output_type": "execute_result"
    }
   ],
   "source": [
    "# task 2: create the data frame\n",
    "df = pd.DataFrame(dict(password=sorted_passwords, count=sorted_counts, length=sorted_lengths))\n",
    "df"
   ]
  },
  {
   "cell_type": "code",
   "execution_count": 41,
   "id": "c24b6372-3758-4cee-a2af-46644acdac51",
   "metadata": {
    "editable": true,
    "slideshow": {
     "slide_type": ""
    },
    "tags": []
   },
   "outputs": [
    {
     "data": {
      "text/html": [
       "<div>\n",
       "<style scoped>\n",
       "    .dataframe tbody tr th:only-of-type {\n",
       "        vertical-align: middle;\n",
       "    }\n",
       "\n",
       "    .dataframe tbody tr th {\n",
       "        vertical-align: top;\n",
       "    }\n",
       "\n",
       "    .dataframe thead th {\n",
       "        text-align: right;\n",
       "    }\n",
       "</style>\n",
       "<table border=\"1\" class=\"dataframe\">\n",
       "  <thead>\n",
       "    <tr style=\"text-align: right;\">\n",
       "      <th></th>\n",
       "      <th>I_changed</th>\n",
       "      <th>the</th>\n",
       "      <th>column_names</th>\n",
       "    </tr>\n",
       "  </thead>\n",
       "  <tbody>\n",
       "    <tr>\n",
       "      <th>0</th>\n",
       "      <td>passer2010</td>\n",
       "      <td>71</td>\n",
       "      <td>10</td>\n",
       "    </tr>\n",
       "    <tr>\n",
       "      <th>1</th>\n",
       "      <td>passer2009</td>\n",
       "      <td>63</td>\n",
       "      <td>10</td>\n",
       "    </tr>\n",
       "    <tr>\n",
       "      <th>2</th>\n",
       "      <td>123456</td>\n",
       "      <td>51</td>\n",
       "      <td>6</td>\n",
       "    </tr>\n",
       "    <tr>\n",
       "      <th>3</th>\n",
       "      <td>111111</td>\n",
       "      <td>30</td>\n",
       "      <td>6</td>\n",
       "    </tr>\n",
       "    <tr>\n",
       "      <th>4</th>\n",
       "      <td>123456789</td>\n",
       "      <td>28</td>\n",
       "      <td>9</td>\n",
       "    </tr>\n",
       "    <tr>\n",
       "      <th>...</th>\n",
       "      <td>...</td>\n",
       "      <td>...</td>\n",
       "      <td>...</td>\n",
       "    </tr>\n",
       "    <tr>\n",
       "      <th>5709</th>\n",
       "      <td>fbobh_68&amp;*</td>\n",
       "      <td>1</td>\n",
       "      <td>10</td>\n",
       "    </tr>\n",
       "    <tr>\n",
       "      <th>5710</th>\n",
       "      <td>fbobh_3h'g</td>\n",
       "      <td>1</td>\n",
       "      <td>10</td>\n",
       "    </tr>\n",
       "    <tr>\n",
       "      <th>5711</th>\n",
       "      <td>fbobh_1(km</td>\n",
       "      <td>1</td>\n",
       "      <td>10</td>\n",
       "    </tr>\n",
       "    <tr>\n",
       "      <th>5712</th>\n",
       "      <td>fbobh_0rvj</td>\n",
       "      <td>1</td>\n",
       "      <td>10</td>\n",
       "    </tr>\n",
       "    <tr>\n",
       "      <th>5713</th>\n",
       "      <td>f81678</td>\n",
       "      <td>1</td>\n",
       "      <td>6</td>\n",
       "    </tr>\n",
       "  </tbody>\n",
       "</table>\n",
       "<p>5714 rows × 3 columns</p>\n",
       "</div>"
      ],
      "text/plain": [
       "       I_changed  the  column_names\n",
       "0     passer2010   71            10\n",
       "1     passer2009   63            10\n",
       "2         123456   51             6\n",
       "3         111111   30             6\n",
       "4      123456789   28             9\n",
       "...          ...  ...           ...\n",
       "5709  fbobh_68&*    1            10\n",
       "5710  fbobh_3h'g    1            10\n",
       "5711  fbobh_1(km    1            10\n",
       "5712  fbobh_0rvj    1            10\n",
       "5713      f81678    1             6\n",
       "\n",
       "[5714 rows x 3 columns]"
      ]
     },
     "execution_count": 41,
     "metadata": {},
     "output_type": "execute_result"
    }
   ],
   "source": [
    "# task 3: rename the columns by changing the keys of the dictionary\n",
    "pd.DataFrame(data=dict(I_changed=sorted_passwords, the=sorted_counts, column_names=sorted_lengths))"
   ]
  },
  {
   "cell_type": "code",
   "execution_count": 42,
   "id": "8bca93c6-570f-4205-841a-3cb7ad63c05f",
   "metadata": {
    "editable": true,
    "slideshow": {
     "slide_type": ""
    },
    "tags": []
   },
   "outputs": [
    {
     "data": {
      "text/plain": [
       "<Axes: xlabel='length', ylabel='count'>"
      ]
     },
     "execution_count": 42,
     "metadata": {},
     "output_type": "execute_result"
    },
    {
     "data": {
      "image/png": "[encoded data removed]",
      "text/plain": [
       "<Figure size 640x480 with 1 Axes>"
      ]
     },
     "metadata": {},
     "output_type": "display_data"
    }
   ],
   "source": [
    "# task 4: use the argument kind=\"scatter\" to change the type of the plot and use a different marker\n",
    "df.plot(\"length\", \"count\", kind=\"scatter\", marker=\"x\")"
   ]
  },
  {
   "cell_type": "code",
   "execution_count": null,
   "id": "1f4a81b5-691f-4b6b-adfe-1e3b01257a9f",
   "metadata": {
    "editable": true,
    "slideshow": {
     "slide_type": ""
    },
    "tags": []
   },
   "outputs": [],
   "source": []
  },
  {
   "cell_type": "markdown",
   "id": "ebb70869-76d1-4a1d-a326-3dc097a618aa",
   "metadata": {
    "editable": true,
    "slideshow": {
     "slide_type": ""
    },
    "tags": []
   },
   "source": [
    "## 3.6 Accessing rows in a data frame\n",
    "The data frame you created in the [previous exercise](#3.5-Storing-arrays-in-a-data-frame) should have three columns storing the (unique) passwords, their counts and their lengths. Since the passwords are the \"identifier\" of each row in the data frame, it makes sense to turn this column into the index column (which currently just holds the numbers $0$ to $n - 1$ where $n$ is the number of unique passwords). If you want to turn the existing column `\"password\"` in the data frame `df` into the index column, you can use the method\n",
    "```python\n",
    "df.set_index(\"password\")\n",
    "```\n",
    "This will return a modified copy of the data frame. If you want to persist this change, you can either reassign the return value to the variable `df`, or you can call the method with the argument `inplace=True`. Be careful, in the latter case the method will not return anything! If you assign this to the variable `df`, the variable will just be empty afterwards.\n",
    "\n",
    "With the new index column, you can directly use a password to read the corresponding row from the data frame. The following code snippet will return the row of the password `\"123456\"` (if it exists):\n",
    "```python\n",
    "df.loc[\"123456\"]\n",
    "```\n",
    "\n",
    "Even though the passwords are now the index of the data frame, you can still use a numerical index to read rows from the data frame. The corresponding property of the data frame is called `.iloc`. See the following code snippet that will select the 10th row from the data frame (regardless of the actual value of the index column):\n",
    "```python\n",
    "df.iloc[9]\n",
    "```\n",
    "Instead of a single index, you can also use this with an index range to get multiple rows of the data frame. The indexing with `df.iloc[]` works just like the indexing of a NumPy array.\n",
    "\n",
    "1. Turn your password column into the index column and persist the change.\n",
    "2. Look at the documentation of the method `df.set_index()` to find out how to add a column to the index instead of completely replacing the index. Try this with one of the other columns in the data frame, but don't persist the change!\n",
    "3. Read a few rows from the data frame by using the passwords as the index. You can try the passwords `\"123456\"` and `\"ronaldo\"`, or any other (memorable) password from the previous exercises. What happens if you are trying to get a password that does not exist?\n",
    "4. Use the property `df.iloc` to read the first/last 20 passwords from the data frame. How can you reverse the data frame using the property `.iloc`?"
   ]
  },
  {
   "cell_type": "code",
   "execution_count": 43,
   "id": "460f52f9-801c-4074-815a-6344017035ee",
   "metadata": {
    "editable": true,
    "slideshow": {
     "slide_type": ""
    },
    "tags": []
   },
   "outputs": [],
   "source": [
    "# task 1: move the column \"password\" to the index and reassign the data frame to the variable \"df\"\n",
    "df = df.set_index(\"password\")"
   ]
  },
  {
   "cell_type": "code",
   "execution_count": 44,
   "id": "7bac7447-37c8-4a24-8d28-2e32aa60e599",
   "metadata": {
    "editable": true,
    "slideshow": {
     "slide_type": ""
    },
    "tags": []
   },
   "outputs": [
    {
     "data": {
      "text/html": [
       "<div>\n",
       "<style scoped>\n",
       "    .dataframe tbody tr th:only-of-type {\n",
       "        vertical-align: middle;\n",
       "    }\n",
       "\n",
       "    .dataframe tbody tr th {\n",
       "        vertical-align: top;\n",
       "    }\n",
       "\n",
       "    .dataframe thead th {\n",
       "        text-align: right;\n",
       "    }\n",
       "</style>\n",
       "<table border=\"1\" class=\"dataframe\">\n",
       "  <thead>\n",
       "    <tr style=\"text-align: right;\">\n",
       "      <th></th>\n",
       "      <th></th>\n",
       "      <th>length</th>\n",
       "    </tr>\n",
       "    <tr>\n",
       "      <th>password</th>\n",
       "      <th>count</th>\n",
       "      <th></th>\n",
       "    </tr>\n",
       "  </thead>\n",
       "  <tbody>\n",
       "    <tr>\n",
       "      <th>passer2010</th>\n",
       "      <th>71</th>\n",
       "      <td>10</td>\n",
       "    </tr>\n",
       "    <tr>\n",
       "      <th>passer2009</th>\n",
       "      <th>63</th>\n",
       "      <td>10</td>\n",
       "    </tr>\n",
       "    <tr>\n",
       "      <th>123456</th>\n",
       "      <th>51</th>\n",
       "      <td>6</td>\n",
       "    </tr>\n",
       "    <tr>\n",
       "      <th>111111</th>\n",
       "      <th>30</th>\n",
       "      <td>6</td>\n",
       "    </tr>\n",
       "    <tr>\n",
       "      <th>123456789</th>\n",
       "      <th>28</th>\n",
       "      <td>9</td>\n",
       "    </tr>\n",
       "    <tr>\n",
       "      <th>...</th>\n",
       "      <th>...</th>\n",
       "      <td>...</td>\n",
       "    </tr>\n",
       "    <tr>\n",
       "      <th>fbobh_68&amp;*</th>\n",
       "      <th>1</th>\n",
       "      <td>10</td>\n",
       "    </tr>\n",
       "    <tr>\n",
       "      <th>fbobh_3h'g</th>\n",
       "      <th>1</th>\n",
       "      <td>10</td>\n",
       "    </tr>\n",
       "    <tr>\n",
       "      <th>fbobh_1(km</th>\n",
       "      <th>1</th>\n",
       "      <td>10</td>\n",
       "    </tr>\n",
       "    <tr>\n",
       "      <th>fbobh_0rvj</th>\n",
       "      <th>1</th>\n",
       "      <td>10</td>\n",
       "    </tr>\n",
       "    <tr>\n",
       "      <th>f81678</th>\n",
       "      <th>1</th>\n",
       "      <td>6</td>\n",
       "    </tr>\n",
       "  </tbody>\n",
       "</table>\n",
       "<p>5714 rows × 1 columns</p>\n",
       "</div>"
      ],
      "text/plain": [
       "                  length\n",
       "password   count        \n",
       "passer2010 71         10\n",
       "passer2009 63         10\n",
       "123456     51          6\n",
       "111111     30          6\n",
       "123456789  28          9\n",
       "...                  ...\n",
       "fbobh_68&* 1          10\n",
       "fbobh_3h'g 1          10\n",
       "fbobh_1(km 1          10\n",
       "fbobh_0rvj 1          10\n",
       "f81678     1           6\n",
       "\n",
       "[5714 rows x 1 columns]"
      ]
     },
     "execution_count": 44,
     "metadata": {},
     "output_type": "execute_result"
    }
   ],
   "source": [
    "# task 2: the keyword argument \"append\" allows you to add append a column to the index\n",
    "df.set_index(\"count\", append=True)"
   ]
  },
  {
   "cell_type": "code",
   "execution_count": 45,
   "id": "9202d214-0d75-469b-9041-8d3c8fb953e9",
   "metadata": {
    "editable": true,
    "slideshow": {
     "slide_type": ""
    },
    "tags": []
   },
   "outputs": [
    {
     "data": {
      "text/plain": [
       "count     51\n",
       "length     6\n",
       "Name: 123456, dtype: int64"
      ]
     },
     "execution_count": 45,
     "metadata": {},
     "output_type": "execute_result"
    }
   ],
   "source": [
    "# task 3: if the password exists, a dictionary-like value is returned with all the information from the row in the data frame\n",
    "df.loc[\"123456\"]"
   ]
  },
  {
   "cell_type": "code",
   "execution_count": 46,
   "id": "6a3abda4-0ca1-4e83-a624-9a900e0a55b2",
   "metadata": {
    "editable": true,
    "slideshow": {
     "slide_type": ""
    },
    "tags": []
   },
   "outputs": [
    {
     "ename": "KeyError",
     "evalue": "'test'",
     "output_type": "error",
     "traceback": [
      "\u001b[0;31m---------------------------------------------------------------------------\u001b[0m",
      "\u001b[0;31mKeyError\u001b[0m                                  Traceback (most recent call last)",
      "File \u001b[0;32m~/Documents/workshops/2024-konstanz/venv/lib/python3.12/site-packages/pandas/core/indexes/base.py:3805\u001b[0m, in \u001b[0;36mIndex.get_loc\u001b[0;34m(self, key)\u001b[0m\n\u001b[1;32m   3804\u001b[0m \u001b[38;5;28;01mtry\u001b[39;00m:\n\u001b[0;32m-> 3805\u001b[0m     \u001b[38;5;28;01mreturn\u001b[39;00m \u001b[38;5;28;43mself\u001b[39;49m\u001b[38;5;241;43m.\u001b[39;49m\u001b[43m_engine\u001b[49m\u001b[38;5;241;43m.\u001b[39;49m\u001b[43mget_loc\u001b[49m\u001b[43m(\u001b[49m\u001b[43mcasted_key\u001b[49m\u001b[43m)\u001b[49m\n\u001b[1;32m   3806\u001b[0m \u001b[38;5;28;01mexcept\u001b[39;00m \u001b[38;5;167;01mKeyError\u001b[39;00m \u001b[38;5;28;01mas\u001b[39;00m err:\n",
      "File \u001b[0;32mindex.pyx:167\u001b[0m, in \u001b[0;36mpandas._libs.index.IndexEngine.get_loc\u001b[0;34m()\u001b[0m\n",
      "File \u001b[0;32mindex.pyx:196\u001b[0m, in \u001b[0;36mpandas._libs.index.IndexEngine.get_loc\u001b[0;34m()\u001b[0m\n",
      "File \u001b[0;32mpandas/_libs/hashtable_class_helper.pxi:7081\u001b[0m, in \u001b[0;36mpandas._libs.hashtable.PyObjectHashTable.get_item\u001b[0;34m()\u001b[0m\n",
      "File \u001b[0;32mpandas/_libs/hashtable_class_helper.pxi:7089\u001b[0m, in \u001b[0;36mpandas._libs.hashtable.PyObjectHashTable.get_item\u001b[0;34m()\u001b[0m\n",
      "\u001b[0;31mKeyError\u001b[0m: 'test'",
      "\nThe above exception was the direct cause of the following exception:\n",
      "\u001b[0;31mKeyError\u001b[0m                                  Traceback (most recent call last)",
      "Cell \u001b[0;32mIn[46], line 2\u001b[0m\n\u001b[1;32m      1\u001b[0m \u001b[38;5;66;03m# task 3: if the password does not exist, a KeyError is raised (just like in a dictionary if a key does not exist)\u001b[39;00m\n\u001b[0;32m----> 2\u001b[0m \u001b[43mdf\u001b[49m\u001b[38;5;241;43m.\u001b[39;49m\u001b[43mloc\u001b[49m\u001b[43m[\u001b[49m\u001b[38;5;124;43m\"\u001b[39;49m\u001b[38;5;124;43mtest\u001b[39;49m\u001b[38;5;124;43m\"\u001b[39;49m\u001b[43m]\u001b[49m\n",
      "File \u001b[0;32m~/Documents/workshops/2024-konstanz/venv/lib/python3.12/site-packages/pandas/core/indexing.py:1191\u001b[0m, in \u001b[0;36m_LocationIndexer.__getitem__\u001b[0;34m(self, key)\u001b[0m\n\u001b[1;32m   1189\u001b[0m maybe_callable \u001b[38;5;241m=\u001b[39m com\u001b[38;5;241m.\u001b[39mapply_if_callable(key, \u001b[38;5;28mself\u001b[39m\u001b[38;5;241m.\u001b[39mobj)\n\u001b[1;32m   1190\u001b[0m maybe_callable \u001b[38;5;241m=\u001b[39m \u001b[38;5;28mself\u001b[39m\u001b[38;5;241m.\u001b[39m_check_deprecated_callable_usage(key, maybe_callable)\n\u001b[0;32m-> 1191\u001b[0m \u001b[38;5;28;01mreturn\u001b[39;00m \u001b[38;5;28;43mself\u001b[39;49m\u001b[38;5;241;43m.\u001b[39;49m\u001b[43m_getitem_axis\u001b[49m\u001b[43m(\u001b[49m\u001b[43mmaybe_callable\u001b[49m\u001b[43m,\u001b[49m\u001b[43m \u001b[49m\u001b[43maxis\u001b[49m\u001b[38;5;241;43m=\u001b[39;49m\u001b[43maxis\u001b[49m\u001b[43m)\u001b[49m\n",
      "File \u001b[0;32m~/Documents/workshops/2024-konstanz/venv/lib/python3.12/site-packages/pandas/core/indexing.py:1431\u001b[0m, in \u001b[0;36m_LocIndexer._getitem_axis\u001b[0;34m(self, key, axis)\u001b[0m\n\u001b[1;32m   1429\u001b[0m \u001b[38;5;66;03m# fall thru to straight lookup\u001b[39;00m\n\u001b[1;32m   1430\u001b[0m \u001b[38;5;28mself\u001b[39m\u001b[38;5;241m.\u001b[39m_validate_key(key, axis)\n\u001b[0;32m-> 1431\u001b[0m \u001b[38;5;28;01mreturn\u001b[39;00m \u001b[38;5;28;43mself\u001b[39;49m\u001b[38;5;241;43m.\u001b[39;49m\u001b[43m_get_label\u001b[49m\u001b[43m(\u001b[49m\u001b[43mkey\u001b[49m\u001b[43m,\u001b[49m\u001b[43m \u001b[49m\u001b[43maxis\u001b[49m\u001b[38;5;241;43m=\u001b[39;49m\u001b[43maxis\u001b[49m\u001b[43m)\u001b[49m\n",
      "File \u001b[0;32m~/Documents/workshops/2024-konstanz/venv/lib/python3.12/site-packages/pandas/core/indexing.py:1381\u001b[0m, in \u001b[0;36m_LocIndexer._get_label\u001b[0;34m(self, label, axis)\u001b[0m\n\u001b[1;32m   1379\u001b[0m \u001b[38;5;28;01mdef\u001b[39;00m \u001b[38;5;21m_get_label\u001b[39m(\u001b[38;5;28mself\u001b[39m, label, axis: AxisInt):\n\u001b[1;32m   1380\u001b[0m     \u001b[38;5;66;03m# GH#5567 this will fail if the label is not present in the axis.\u001b[39;00m\n\u001b[0;32m-> 1381\u001b[0m     \u001b[38;5;28;01mreturn\u001b[39;00m \u001b[38;5;28;43mself\u001b[39;49m\u001b[38;5;241;43m.\u001b[39;49m\u001b[43mobj\u001b[49m\u001b[38;5;241;43m.\u001b[39;49m\u001b[43mxs\u001b[49m\u001b[43m(\u001b[49m\u001b[43mlabel\u001b[49m\u001b[43m,\u001b[49m\u001b[43m \u001b[49m\u001b[43maxis\u001b[49m\u001b[38;5;241;43m=\u001b[39;49m\u001b[43maxis\u001b[49m\u001b[43m)\u001b[49m\n",
      "File \u001b[0;32m~/Documents/workshops/2024-konstanz/venv/lib/python3.12/site-packages/pandas/core/generic.py:4301\u001b[0m, in \u001b[0;36mNDFrame.xs\u001b[0;34m(self, key, axis, level, drop_level)\u001b[0m\n\u001b[1;32m   4299\u001b[0m             new_index \u001b[38;5;241m=\u001b[39m index[loc]\n\u001b[1;32m   4300\u001b[0m \u001b[38;5;28;01melse\u001b[39;00m:\n\u001b[0;32m-> 4301\u001b[0m     loc \u001b[38;5;241m=\u001b[39m \u001b[43mindex\u001b[49m\u001b[38;5;241;43m.\u001b[39;49m\u001b[43mget_loc\u001b[49m\u001b[43m(\u001b[49m\u001b[43mkey\u001b[49m\u001b[43m)\u001b[49m\n\u001b[1;32m   4303\u001b[0m     \u001b[38;5;28;01mif\u001b[39;00m \u001b[38;5;28misinstance\u001b[39m(loc, np\u001b[38;5;241m.\u001b[39mndarray):\n\u001b[1;32m   4304\u001b[0m         \u001b[38;5;28;01mif\u001b[39;00m loc\u001b[38;5;241m.\u001b[39mdtype \u001b[38;5;241m==\u001b[39m np\u001b[38;5;241m.\u001b[39mbool_:\n",
      "File \u001b[0;32m~/Documents/workshops/2024-konstanz/venv/lib/python3.12/site-packages/pandas/core/indexes/base.py:3812\u001b[0m, in \u001b[0;36mIndex.get_loc\u001b[0;34m(self, key)\u001b[0m\n\u001b[1;32m   3807\u001b[0m     \u001b[38;5;28;01mif\u001b[39;00m \u001b[38;5;28misinstance\u001b[39m(casted_key, \u001b[38;5;28mslice\u001b[39m) \u001b[38;5;129;01mor\u001b[39;00m (\n\u001b[1;32m   3808\u001b[0m         \u001b[38;5;28misinstance\u001b[39m(casted_key, abc\u001b[38;5;241m.\u001b[39mIterable)\n\u001b[1;32m   3809\u001b[0m         \u001b[38;5;129;01mand\u001b[39;00m \u001b[38;5;28many\u001b[39m(\u001b[38;5;28misinstance\u001b[39m(x, \u001b[38;5;28mslice\u001b[39m) \u001b[38;5;28;01mfor\u001b[39;00m x \u001b[38;5;129;01min\u001b[39;00m casted_key)\n\u001b[1;32m   3810\u001b[0m     ):\n\u001b[1;32m   3811\u001b[0m         \u001b[38;5;28;01mraise\u001b[39;00m InvalidIndexError(key)\n\u001b[0;32m-> 3812\u001b[0m     \u001b[38;5;28;01mraise\u001b[39;00m \u001b[38;5;167;01mKeyError\u001b[39;00m(key) \u001b[38;5;28;01mfrom\u001b[39;00m \u001b[38;5;21;01merr\u001b[39;00m\n\u001b[1;32m   3813\u001b[0m \u001b[38;5;28;01mexcept\u001b[39;00m \u001b[38;5;167;01mTypeError\u001b[39;00m:\n\u001b[1;32m   3814\u001b[0m     \u001b[38;5;66;03m# If we have a listlike key, _check_indexing_error will raise\u001b[39;00m\n\u001b[1;32m   3815\u001b[0m     \u001b[38;5;66;03m#  InvalidIndexError. Otherwise we fall through and re-raise\u001b[39;00m\n\u001b[1;32m   3816\u001b[0m     \u001b[38;5;66;03m#  the TypeError.\u001b[39;00m\n\u001b[1;32m   3817\u001b[0m     \u001b[38;5;28mself\u001b[39m\u001b[38;5;241m.\u001b[39m_check_indexing_error(key)\n",
      "\u001b[0;31mKeyError\u001b[0m: 'test'"
     ]
    }
   ],
   "source": [
    "# task 3: if the password does not exist, a KeyError is raised (just like in a dictionary if a key does not exist)\n",
    "df.loc[\"test\"]"
   ]
  },
  {
   "cell_type": "code",
   "execution_count": 47,
   "id": "c43dbe88-574f-4196-a587-09d39a4d58ff",
   "metadata": {
    "editable": true,
    "slideshow": {
     "slide_type": ""
    },
    "tags": []
   },
   "outputs": [
    {
     "data": {
      "text/html": [
       "<div>\n",
       "<style scoped>\n",
       "    .dataframe tbody tr th:only-of-type {\n",
       "        vertical-align: middle;\n",
       "    }\n",
       "\n",
       "    .dataframe tbody tr th {\n",
       "        vertical-align: top;\n",
       "    }\n",
       "\n",
       "    .dataframe thead th {\n",
       "        text-align: right;\n",
       "    }\n",
       "</style>\n",
       "<table border=\"1\" class=\"dataframe\">\n",
       "  <thead>\n",
       "    <tr style=\"text-align: right;\">\n",
       "      <th></th>\n",
       "      <th>count</th>\n",
       "      <th>length</th>\n",
       "    </tr>\n",
       "    <tr>\n",
       "      <th>password</th>\n",
       "      <th></th>\n",
       "      <th></th>\n",
       "    </tr>\n",
       "  </thead>\n",
       "  <tbody>\n",
       "    <tr>\n",
       "      <th>fbobh_otpr</th>\n",
       "      <td>1</td>\n",
       "      <td>10</td>\n",
       "    </tr>\n",
       "    <tr>\n",
       "      <th>fbobh_m&amp;6!</th>\n",
       "      <td>1</td>\n",
       "      <td>10</td>\n",
       "    </tr>\n",
       "    <tr>\n",
       "      <th>fanera32</th>\n",
       "      <td>1</td>\n",
       "      <td>8</td>\n",
       "    </tr>\n",
       "    <tr>\n",
       "      <th>fagboy69</th>\n",
       "      <td>1</td>\n",
       "      <td>8</td>\n",
       "    </tr>\n",
       "    <tr>\n",
       "      <th>faga344546</th>\n",
       "      <td>1</td>\n",
       "      <td>10</td>\n",
       "    </tr>\n",
       "    <tr>\n",
       "      <th>fCN6uQf6</th>\n",
       "      <td>1</td>\n",
       "      <td>8</td>\n",
       "    </tr>\n",
       "    <tr>\n",
       "      <th>f9jjbTHm</th>\n",
       "      <td>1</td>\n",
       "      <td>8</td>\n",
       "    </tr>\n",
       "    <tr>\n",
       "      <th>f8849a19c3108a390f033c9d80768e67</th>\n",
       "      <td>1</td>\n",
       "      <td>32</td>\n",
       "    </tr>\n",
       "    <tr>\n",
       "      <th>f8849a19c3108a390f03</th>\n",
       "      <td>1</td>\n",
       "      <td>20</td>\n",
       "    </tr>\n",
       "    <tr>\n",
       "      <th>f865fd67</th>\n",
       "      <td>1</td>\n",
       "      <td>8</td>\n",
       "    </tr>\n",
       "    <tr>\n",
       "      <th>fbobh_0$1m</th>\n",
       "      <td>1</td>\n",
       "      <td>10</td>\n",
       "    </tr>\n",
       "    <tr>\n",
       "      <th>f58d234ab85076864c6a450123a11dc2</th>\n",
       "      <td>1</td>\n",
       "      <td>32</td>\n",
       "    </tr>\n",
       "    <tr>\n",
       "      <th>eyn 4949</th>\n",
       "      <td>1</td>\n",
       "      <td>8</td>\n",
       "    </tr>\n",
       "    <tr>\n",
       "      <th>eyn</th>\n",
       "      <td>1</td>\n",
       "      <td>3</td>\n",
       "    </tr>\n",
       "    <tr>\n",
       "      <th>fbobh_a3g0</th>\n",
       "      <td>1</td>\n",
       "      <td>10</td>\n",
       "    </tr>\n",
       "    <tr>\n",
       "      <th>fbobh_68&amp;*</th>\n",
       "      <td>1</td>\n",
       "      <td>10</td>\n",
       "    </tr>\n",
       "    <tr>\n",
       "      <th>fbobh_3h'g</th>\n",
       "      <td>1</td>\n",
       "      <td>10</td>\n",
       "    </tr>\n",
       "    <tr>\n",
       "      <th>fbobh_1(km</th>\n",
       "      <td>1</td>\n",
       "      <td>10</td>\n",
       "    </tr>\n",
       "    <tr>\n",
       "      <th>fbobh_0rvj</th>\n",
       "      <td>1</td>\n",
       "      <td>10</td>\n",
       "    </tr>\n",
       "    <tr>\n",
       "      <th>f81678</th>\n",
       "      <td>1</td>\n",
       "      <td>6</td>\n",
       "    </tr>\n",
       "  </tbody>\n",
       "</table>\n",
       "</div>"
      ],
      "text/plain": [
       "                                  count  length\n",
       "password                                       \n",
       "fbobh_otpr                            1      10\n",
       "fbobh_m&6!                            1      10\n",
       "fanera32                              1       8\n",
       "fagboy69                              1       8\n",
       "faga344546                            1      10\n",
       "fCN6uQf6                              1       8\n",
       "f9jjbTHm                              1       8\n",
       "f8849a19c3108a390f033c9d80768e67      1      32\n",
       "f8849a19c3108a390f03                  1      20\n",
       "f865fd67                              1       8\n",
       "fbobh_0$1m                            1      10\n",
       "f58d234ab85076864c6a450123a11dc2      1      32\n",
       "eyn 4949                              1       8\n",
       "eyn                                   1       3\n",
       "fbobh_a3g0                            1      10\n",
       "fbobh_68&*                            1      10\n",
       "fbobh_3h'g                            1      10\n",
       "fbobh_1(km                            1      10\n",
       "fbobh_0rvj                            1      10\n",
       "f81678                                1       6"
      ]
     },
     "execution_count": 47,
     "metadata": {},
     "output_type": "execute_result"
    }
   ],
   "source": [
    "# task 4: use an index range to read the first/last 20 passwords from the data frame\n",
    "df.iloc[-20:]"
   ]
  },
  {
   "cell_type": "code",
   "execution_count": 48,
   "id": "33c62ee5-3769-4cfb-9192-26ebc8c2fd68",
   "metadata": {
    "editable": true,
    "slideshow": {
     "slide_type": ""
    },
    "tags": []
   },
   "outputs": [
    {
     "data": {
      "text/html": [
       "<div>\n",
       "<style scoped>\n",
       "    .dataframe tbody tr th:only-of-type {\n",
       "        vertical-align: middle;\n",
       "    }\n",
       "\n",
       "    .dataframe tbody tr th {\n",
       "        vertical-align: top;\n",
       "    }\n",
       "\n",
       "    .dataframe thead th {\n",
       "        text-align: right;\n",
       "    }\n",
       "</style>\n",
       "<table border=\"1\" class=\"dataframe\">\n",
       "  <thead>\n",
       "    <tr style=\"text-align: right;\">\n",
       "      <th></th>\n",
       "      <th>count</th>\n",
       "      <th>length</th>\n",
       "    </tr>\n",
       "    <tr>\n",
       "      <th>password</th>\n",
       "      <th></th>\n",
       "      <th></th>\n",
       "    </tr>\n",
       "  </thead>\n",
       "  <tbody>\n",
       "    <tr>\n",
       "      <th>f81678</th>\n",
       "      <td>1</td>\n",
       "      <td>6</td>\n",
       "    </tr>\n",
       "    <tr>\n",
       "      <th>fbobh_0rvj</th>\n",
       "      <td>1</td>\n",
       "      <td>10</td>\n",
       "    </tr>\n",
       "    <tr>\n",
       "      <th>fbobh_1(km</th>\n",
       "      <td>1</td>\n",
       "      <td>10</td>\n",
       "    </tr>\n",
       "    <tr>\n",
       "      <th>fbobh_3h'g</th>\n",
       "      <td>1</td>\n",
       "      <td>10</td>\n",
       "    </tr>\n",
       "    <tr>\n",
       "      <th>fbobh_68&amp;*</th>\n",
       "      <td>1</td>\n",
       "      <td>10</td>\n",
       "    </tr>\n",
       "    <tr>\n",
       "      <th>...</th>\n",
       "      <td>...</td>\n",
       "      <td>...</td>\n",
       "    </tr>\n",
       "    <tr>\n",
       "      <th>123456789</th>\n",
       "      <td>28</td>\n",
       "      <td>9</td>\n",
       "    </tr>\n",
       "    <tr>\n",
       "      <th>111111</th>\n",
       "      <td>30</td>\n",
       "      <td>6</td>\n",
       "    </tr>\n",
       "    <tr>\n",
       "      <th>123456</th>\n",
       "      <td>51</td>\n",
       "      <td>6</td>\n",
       "    </tr>\n",
       "    <tr>\n",
       "      <th>passer2009</th>\n",
       "      <td>63</td>\n",
       "      <td>10</td>\n",
       "    </tr>\n",
       "    <tr>\n",
       "      <th>passer2010</th>\n",
       "      <td>71</td>\n",
       "      <td>10</td>\n",
       "    </tr>\n",
       "  </tbody>\n",
       "</table>\n",
       "<p>5714 rows × 2 columns</p>\n",
       "</div>"
      ],
      "text/plain": [
       "            count  length\n",
       "password                 \n",
       "f81678          1       6\n",
       "fbobh_0rvj      1      10\n",
       "fbobh_1(km      1      10\n",
       "fbobh_3h'g      1      10\n",
       "fbobh_68&*      1      10\n",
       "...           ...     ...\n",
       "123456789      28       9\n",
       "111111         30       6\n",
       "123456         51       6\n",
       "passer2009     63      10\n",
       "passer2010     71      10\n",
       "\n",
       "[5714 rows x 2 columns]"
      ]
     },
     "execution_count": 48,
     "metadata": {},
     "output_type": "execute_result"
    }
   ],
   "source": [
    "# task 4: you can use the index [::-1] to reverse the data frame\n",
    "df.iloc[::-1]"
   ]
  },
  {
   "cell_type": "code",
   "execution_count": null,
   "id": "68f63e7c-c1d2-4f0d-ac31-84bef82fbb3c",
   "metadata": {
    "editable": true,
    "slideshow": {
     "slide_type": ""
    },
    "tags": []
   },
   "outputs": [],
   "source": []
  },
  {
   "cell_type": "markdown",
   "id": "9e8149f0-affd-4941-a7b4-5851760b6dd2",
   "metadata": {
    "editable": true,
    "slideshow": {
     "slide_type": ""
    },
    "tags": []
   },
   "source": [
    "## 3.7 Accessing columns in a data frame\n",
    "Regarding the columns a data frame works just like a dictionary. The key is the column name and the value will be the data saved in the column. You can use this to read existing columns from the data frame, and you can also use this to assign new columns to the data frame. See the following code snippet to get the column `\"length\"` from the data frame `df`:\n",
    "```python\n",
    "length_series = df[\"length\"]\n",
    "```\n",
    "When you read a single column from a data frame, the column will be returned as a series. Instead of a single column name, you can also index the data frame with a list of column names. In that case, the returned variable is a data frame.\n",
    "\n",
    "1. Compute the array of digit sums by iterating over the passwords in `df.index`. Assign the array to the data frame with the column name `\"digit_sum\"`.\n",
    "2. Plot the digit sums in a histogram with a logarithmic y-axis. How can you adjust the number of bins?"
   ]
  },
  {
   "cell_type": "code",
   "execution_count": 49,
   "id": "be2f6c66-2c09-450a-900c-bae4a5b15cce",
   "metadata": {
    "editable": true,
    "slideshow": {
     "slide_type": ""
    },
    "tags": []
   },
   "outputs": [],
   "source": [
    "# task 1: define a function to compute the digit sum\n",
    "def digit_sum(password):\n",
    "    return sum([int(char) for char in password if char.isnumeric()])"
   ]
  },
  {
   "cell_type": "code",
   "execution_count": 50,
   "id": "ddbd9649-8cca-4b29-92f5-51ec872bd0a7",
   "metadata": {
    "editable": true,
    "slideshow": {
     "slide_type": ""
    },
    "tags": []
   },
   "outputs": [],
   "source": [
    "# task 1: assign the digit sums as an array to a column in the data frame\n",
    "df[\"digit_sum\"] = np.array([digit_sum(password) for password in df.index])"
   ]
  },
  {
   "cell_type": "code",
   "execution_count": 51,
   "id": "3e474189-f724-4887-9ad5-a32da283215b",
   "metadata": {
    "editable": true,
    "slideshow": {
     "slide_type": ""
    },
    "tags": []
   },
   "outputs": [
    {
     "data": {
      "text/plain": [
       "<Axes: ylabel='Frequency'>"
      ]
     },
     "execution_count": 51,
     "metadata": {},
     "output_type": "execute_result"
    },
    {
     "data": {
      "image/png": "[encoded data removed]",
      "text/plain": [
       "<Figure size 640x480 with 1 Axes>"
      ]
     },
     "metadata": {},
     "output_type": "display_data"
    }
   ],
   "source": [
    "# task 2: you have to specify the column name with the keyword argument \"y\", since the first argument will be interpreted as the \"x\"\n",
    "# use kind=\"hist\" to get a histogram, use the keyword argument bins to change the number of bins\n",
    "# use the keyword argument logy to enable a logarithmic y-axis\n",
    "df.plot(y=\"digit_sum\", kind=\"hist\", bins=100, logy=True)"
   ]
  },
  {
   "cell_type": "code",
   "execution_count": null,
   "id": "fa9701d9-f39b-49da-aefb-8f18e48cdd1e",
   "metadata": {
    "editable": true,
    "slideshow": {
     "slide_type": ""
    },
    "tags": []
   },
   "outputs": [],
   "source": []
  },
  {
   "cell_type": "markdown",
   "id": "d0adee96-e7ca-4008-98bf-f5101d2f3bc8",
   "metadata": {
    "editable": true,
    "slideshow": {
     "slide_type": ""
    },
    "tags": []
   },
   "source": [
    "## 3.8 Computing more password metrics\n",
    "Besides the count and the length of each password, it would be nice to have some more data for each password. In the [exercise 3.7](#3.7-Accessing-columns-in-a-data-frame) you have already added the digit sum that computes the sum of all digits in each password. Two more interesting values of passwords are the count of alphabetic characters and numeric characters. To compute these values, you just have to count the characters of the respective categories. See the following example password with an alphabetic character count of `4` and a numeric character count of `2`:\n",
    "```python\n",
    "password = \"stop12!?\"\n",
    "```\n",
    "\n",
    "1. Write two functions to count the alphabetic characters and numeric characters of a single password. Use this function to calculate the two values for all passwords, and assign them to the data frame as new columns.\n",
    "2. Display the digit sum as a function of the numeric character count and as a function of the alphabetic character count. Can you already spot some correlation in the data?\n",
    "3. EXTRA: Implement the function to count the special characters and also add the number of special characters as a new column to the data frame. Create a plot that shows the digit sum as a function of the special character count."
   ]
  },
  {
   "cell_type": "code",
   "execution_count": 52,
   "id": "7ba3ffd9-0571-4ba6-8763-92506dff1c40",
   "metadata": {
    "editable": true,
    "slideshow": {
     "slide_type": ""
    },
    "tags": []
   },
   "outputs": [],
   "source": [
    "# task 1: only implement the functions to get the lists of alphabetic/numeric characters, you can compute their lengths with the function len() in the loop over the passwords\n",
    "def get_alphabetic_characters(password):\n",
    "    return [character for character in password if character.isalpha()]\n",
    "\n",
    "# directly converting the characters to integers is just a matter of convenience since you might want to do something else with the list, for the length of the list it does not matter\n",
    "def get_numeric_characters(password):\n",
    "    return [int(character) for character in password if character.isnumeric()]"
   ]
  },
  {
   "cell_type": "code",
   "execution_count": 53,
   "id": "4bf7c168-69ab-40ab-921d-46f9053720dc",
   "metadata": {
    "editable": true,
    "slideshow": {
     "slide_type": ""
    },
    "tags": []
   },
   "outputs": [],
   "source": [
    "# task 1: count the alphabetic characters and numeric characters\n",
    "n_alphabetic = np.array([len(get_alphabetic_characters(password)) for password in df.index])\n",
    "n_numeric = np.array([len(get_numeric_characters(password)) for password in df.index])\n",
    "df[\"n_alphabetic\"] = n_alphabetic\n",
    "df[\"n_numeric\"] = n_numeric"
   ]
  },
  {
   "cell_type": "code",
   "execution_count": 54,
   "id": "bc845598-312e-4419-8581-3ab82431605d",
   "metadata": {
    "editable": true,
    "slideshow": {
     "slide_type": ""
    },
    "tags": []
   },
   "outputs": [
    {
     "data": {
      "text/plain": [
       "<Axes: xlabel='n_numeric', ylabel='digit_sum'>"
      ]
     },
     "execution_count": 54,
     "metadata": {},
     "output_type": "execute_result"
    },
    {
     "data": {
      "image/png": "[encoded data removed]",
      "text/plain": [
       "<Figure size 640x480 with 1 Axes>"
      ]
     },
     "metadata": {},
     "output_type": "display_data"
    }
   ],
   "source": [
    "# task 2: the digit sum will be greater with an increasing count of numeric characters\n",
    "df.plot(\"n_numeric\", \"digit_sum\", kind=\"scatter\")"
   ]
  },
  {
   "cell_type": "code",
   "execution_count": 55,
   "id": "74ecab64-02b2-4a23-ab0b-e63eeae202e2",
   "metadata": {
    "editable": true,
    "slideshow": {
     "slide_type": ""
    },
    "tags": []
   },
   "outputs": [
    {
     "data": {
      "text/plain": [
       "<Axes: xlabel='n_alphabetic', ylabel='digit_sum'>"
      ]
     },
     "execution_count": 55,
     "metadata": {},
     "output_type": "execute_result"
    },
    {
     "data": {
      "image/png": "[encoded data removed]",
      "text/plain": [
       "<Figure size 640x480 with 1 Axes>"
      ]
     },
     "metadata": {},
     "output_type": "display_data"
    }
   ],
   "source": [
    "# task 2: the digit sum appears to be anticorrelated to the alphabetic character count\n",
    "# this makes sense if you consider that alphabetic characters are taking away the \"character space\" from numeric characters in the passwords\n",
    "df.plot(\"n_alphabetic\", \"digit_sum\", kind=\"scatter\")"
   ]
  },
  {
   "cell_type": "code",
   "execution_count": 56,
   "id": "caafcfe4-8820-4cb4-8275-cac56c57a8d2",
   "metadata": {
    "editable": true,
    "slideshow": {
     "slide_type": ""
    },
    "tags": []
   },
   "outputs": [],
   "source": [
    "# task 3: special characters are neither alphabetic nor numeric\n",
    "def get_special_characters(password):\n",
    "    return [character for character in password if not character.isalnum()]"
   ]
  },
  {
   "cell_type": "code",
   "execution_count": 57,
   "id": "09ef06f1-2398-4378-b55e-095ea799dcc5",
   "metadata": {
    "editable": true,
    "slideshow": {
     "slide_type": ""
    },
    "tags": []
   },
   "outputs": [],
   "source": [
    "# task 3: count the special characters and add a new column to the data frame\n",
    "df[\"n_special\"] = np.array([len(get_special_characters(password)) for password in df.index])"
   ]
  },
  {
   "cell_type": "code",
   "execution_count": 58,
   "id": "957478e4-f882-44de-b713-530a2386d8de",
   "metadata": {
    "editable": true,
    "slideshow": {
     "slide_type": ""
    },
    "tags": []
   },
   "outputs": [
    {
     "data": {
      "text/plain": [
       "<Axes: xlabel='n_special', ylabel='digit_sum'>"
      ]
     },
     "execution_count": 58,
     "metadata": {},
     "output_type": "execute_result"
    },
    {
     "data": {
      "image/png": "[encoded data removed]",
      "text/plain": [
       "<Figure size 640x480 with 1 Axes>"
      ]
     },
     "metadata": {},
     "output_type": "display_data"
    }
   ],
   "source": [
    "# task 3: just like for the alphabetic character count, the digit sum appears to be anticorrelated to the special character count\n",
    "df.plot(\"n_special\", \"digit_sum\", kind=\"scatter\")"
   ]
  },
  {
   "cell_type": "code",
   "execution_count": null,
   "id": "b1bbaab7-ad45-4c18-b52b-1190c938c45f",
   "metadata": {
    "editable": true,
    "slideshow": {
     "slide_type": ""
    },
    "tags": []
   },
   "outputs": [],
   "source": []
  },
  {
   "cell_type": "markdown",
   "id": "8df2af5f-958b-4f14-89b1-4514aad1bb4a",
   "metadata": {
    "editable": true,
    "slideshow": {
     "slide_type": ""
    },
    "tags": []
   },
   "source": [
    "## 3.9 Statistics on data frame columns\n",
    "If your data frame only contains numerical data, you can directly use the data frame methods `df.sum()`, `df.min()`, `df.max()`, `df.mean()` etc. to run these computations. The result will be a dictionary-like value where the keys are the names of the columns and the values are the results of the computations. You can also run the same methods on a single column (also called series) to immediately get a single return value.  \n",
    "\n",
    "Besides computations on single columns, you can also compute correlations across the data frame columns. The corresponding method `df.corr()` will return a new data frame with the [Pearson correlation coefficient](https://en.wikipedia.org/wiki/Pearson_correlation_coefficient) between all the columns. If the coefficient is > 0, the two columns are positively correlated, and if the coefficient is < 0, the two columns are negatively correlated. The maximum correlations are reached at +1 and -1 respectively. Note that the Pearson correlation coefficient is only the default option of the method `df.corr()`, there are also other correlation coefficients available and you can even compute your own correlation coefficient.\n",
    "\n",
    "1. Try the computational methods on the entire data frame. Do the unique passwords contain more alphabetic characters or numeric characters on average?\n",
    "2. Use the methods `df.idxmax()` and `df.idxmin()` to get the passwords (which are the indices of the data frame) for the maximum/minimum value of each column.\n",
    "3. Compute the Pearson correlation coefficient across all the columns in the data frame. Look at the individual coefficients, are any of them surprising to you?\n",
    "4. Plot the alphabetic character count as a function of the numeric character count. Can you see the strongly negative correlation in the data?"
   ]
  },
  {
   "cell_type": "code",
   "execution_count": 59,
   "id": "e45b3d6a-e688-4bc0-a6de-96214114786d",
   "metadata": {
    "editable": true,
    "slideshow": {
     "slide_type": ""
    },
    "tags": []
   },
   "outputs": [
    {
     "data": {
      "text/plain": [
       "count            8879\n",
       "length          52580\n",
       "digit_sum       73868\n",
       "n_alphabetic    31740\n",
       "n_numeric       19470\n",
       "n_special        1370\n",
       "dtype: int64"
      ]
     },
     "execution_count": 59,
     "metadata": {},
     "output_type": "execute_result"
    }
   ],
   "source": [
    "# task 1: calculate the sum of all columns, this will for example give you the total sum of all digits\n",
    "df.sum()"
   ]
  },
  {
   "cell_type": "code",
   "execution_count": 60,
   "id": "cd74a682-9007-4195-a871-a4fece52a7cb",
   "metadata": {
    "editable": true,
    "slideshow": {
     "slide_type": ""
    },
    "tags": []
   },
   "outputs": [
    {
     "data": {
      "text/plain": [
       "count            1.553903\n",
       "length           9.201960\n",
       "digit_sum       12.927546\n",
       "n_alphabetic     5.554778\n",
       "n_numeric        3.407420\n",
       "n_special        0.239762\n",
       "dtype: float64"
      ]
     },
     "execution_count": 60,
     "metadata": {},
     "output_type": "execute_result"
    }
   ],
   "source": [
    "# task 1: on average, there are fewer numeric characters than alphabetic characters in the unique passwords\n",
    "df.mean()"
   ]
  },
  {
   "cell_type": "code",
   "execution_count": 61,
   "id": "13e8248d-7e97-484e-95e4-a243169885dc",
   "metadata": {
    "editable": true,
    "slideshow": {
     "slide_type": ""
    },
    "tags": []
   },
   "outputs": [
    {
     "data": {
      "text/plain": [
       "count                                 passer2010\n",
       "length          f7034326808541d195fc2992cbea621c\n",
       "digit_sum       8424893419b7aaf28746934e40f14453\n",
       "n_alphabetic      ifyousmellwhattherockiscooking\n",
       "n_numeric       8424893419b7aaf28746934e40f14453\n",
       "n_special       1.1.1.1.1.1.1.1.1.1.1.1111n@gmai\n",
       "dtype: object"
      ]
     },
     "execution_count": 61,
     "metadata": {},
     "output_type": "execute_result"
    }
   ],
   "source": [
    "# task 2: apart from the count, the passwords with the maximum values are some really weird ones...\n",
    "df.idxmax()"
   ]
  },
  {
   "cell_type": "code",
   "execution_count": 62,
   "id": "d270d9cd-9526-49d9-9714-90a1d4d8be59",
   "metadata": {
    "editable": true,
    "slideshow": {
     "slide_type": ""
    },
    "tags": []
   },
   "outputs": [
    {
     "data": {
      "text/plain": [
       "count              yfafyz1\n",
       "length                    \n",
       "digit_sum           qwerty\n",
       "n_alphabetic        123456\n",
       "n_numeric           qwerty\n",
       "n_special       passer2010\n",
       "dtype: object"
      ]
     },
     "execution_count": 62,
     "metadata": {},
     "output_type": "execute_result"
    }
   ],
   "source": [
    "# task 2: the minimum values are not really well defined since there are many passwords with the count 1, the length 1, etc...\n",
    "df.idxmin()"
   ]
  },
  {
   "cell_type": "code",
   "execution_count": 63,
   "id": "dd972c78-c1d6-4a02-8f97-ec7caf733fa0",
   "metadata": {
    "editable": true,
    "slideshow": {
     "slide_type": ""
    },
    "tags": []
   },
   "outputs": [
    {
     "data": {
      "text/html": [
       "<div>\n",
       "<style scoped>\n",
       "    .dataframe tbody tr th:only-of-type {\n",
       "        vertical-align: middle;\n",
       "    }\n",
       "\n",
       "    .dataframe tbody tr th {\n",
       "        vertical-align: top;\n",
       "    }\n",
       "\n",
       "    .dataframe thead th {\n",
       "        text-align: right;\n",
       "    }\n",
       "</style>\n",
       "<table border=\"1\" class=\"dataframe\">\n",
       "  <thead>\n",
       "    <tr style=\"text-align: right;\">\n",
       "      <th></th>\n",
       "      <th>count</th>\n",
       "      <th>length</th>\n",
       "      <th>digit_sum</th>\n",
       "      <th>n_alphabetic</th>\n",
       "      <th>n_numeric</th>\n",
       "      <th>n_special</th>\n",
       "    </tr>\n",
       "  </thead>\n",
       "  <tbody>\n",
       "    <tr>\n",
       "      <th>count</th>\n",
       "      <td>1.000000</td>\n",
       "      <td>0.066973</td>\n",
       "      <td>-0.060152</td>\n",
       "      <td>0.115577</td>\n",
       "      <td>-0.072929</td>\n",
       "      <td>0.057134</td>\n",
       "    </tr>\n",
       "    <tr>\n",
       "      <th>length</th>\n",
       "      <td>0.066973</td>\n",
       "      <td>1.000000</td>\n",
       "      <td>0.341771</td>\n",
       "      <td>0.565346</td>\n",
       "      <td>0.342324</td>\n",
       "      <td>0.274027</td>\n",
       "    </tr>\n",
       "    <tr>\n",
       "      <th>digit_sum</th>\n",
       "      <td>-0.060152</td>\n",
       "      <td>0.341771</td>\n",
       "      <td>1.000000</td>\n",
       "      <td>-0.475848</td>\n",
       "      <td>0.905127</td>\n",
       "      <td>-0.047270</td>\n",
       "    </tr>\n",
       "    <tr>\n",
       "      <th>n_alphabetic</th>\n",
       "      <td>0.115577</td>\n",
       "      <td>0.565346</td>\n",
       "      <td>-0.475848</td>\n",
       "      <td>1.000000</td>\n",
       "      <td>-0.566441</td>\n",
       "      <td>0.082553</td>\n",
       "    </tr>\n",
       "    <tr>\n",
       "      <th>n_numeric</th>\n",
       "      <td>-0.072929</td>\n",
       "      <td>0.342324</td>\n",
       "      <td>0.905127</td>\n",
       "      <td>-0.566441</td>\n",
       "      <td>1.000000</td>\n",
       "      <td>-0.001811</td>\n",
       "    </tr>\n",
       "    <tr>\n",
       "      <th>n_special</th>\n",
       "      <td>0.057134</td>\n",
       "      <td>0.274027</td>\n",
       "      <td>-0.047270</td>\n",
       "      <td>0.082553</td>\n",
       "      <td>-0.001811</td>\n",
       "      <td>1.000000</td>\n",
       "    </tr>\n",
       "  </tbody>\n",
       "</table>\n",
       "</div>"
      ],
      "text/plain": [
       "                 count    length  digit_sum  n_alphabetic  n_numeric  \\\n",
       "count         1.000000  0.066973  -0.060152      0.115577  -0.072929   \n",
       "length        0.066973  1.000000   0.341771      0.565346   0.342324   \n",
       "digit_sum    -0.060152  0.341771   1.000000     -0.475848   0.905127   \n",
       "n_alphabetic  0.115577  0.565346  -0.475848      1.000000  -0.566441   \n",
       "n_numeric    -0.072929  0.342324   0.905127     -0.566441   1.000000   \n",
       "n_special     0.057134  0.274027  -0.047270      0.082553  -0.001811   \n",
       "\n",
       "              n_special  \n",
       "count          0.057134  \n",
       "length         0.274027  \n",
       "digit_sum     -0.047270  \n",
       "n_alphabetic   0.082553  \n",
       "n_numeric     -0.001811  \n",
       "n_special      1.000000  "
      ]
     },
     "execution_count": 63,
     "metadata": {},
     "output_type": "execute_result"
    }
   ],
   "source": [
    "# task 3: the digit sum has a small positive correlation with the length, but a strong positive correlation with the number of numeric characters\n",
    "# the number of alphabetic characters shows a negative correlation on the digit sum and the number of numeric characters\n",
    "df.corr()"
   ]
  },
  {
   "cell_type": "code",
   "execution_count": 64,
   "id": "7fba055a-eb89-4fae-9039-6668d9a3f94a",
   "metadata": {
    "editable": true,
    "slideshow": {
     "slide_type": ""
    },
    "tags": []
   },
   "outputs": [
    {
     "data": {
      "text/plain": [
       "<Axes: xlabel='n_numeric', ylabel='n_alphabetic'>"
      ]
     },
     "execution_count": 64,
     "metadata": {},
     "output_type": "execute_result"
    },
    {
     "data": {
      "image/png": "[encoded data removed]",
      "text/plain": [
       "<Figure size 640x480 with 1 Axes>"
      ]
     },
     "metadata": {},
     "output_type": "display_data"
    }
   ],
   "source": [
    "# task 4: the negative correlation is clearly visible between the numeric characters and the alphabetic characters\n",
    "df.plot(\"n_numeric\", \"n_alphabetic\", kind=\"scatter\")"
   ]
  },
  {
   "cell_type": "code",
   "execution_count": null,
   "id": "93fb5276-5460-4766-ada1-abcb3e30d947",
   "metadata": {
    "editable": true,
    "slideshow": {
     "slide_type": ""
    },
    "tags": []
   },
   "outputs": [],
   "source": []
  },
  {
   "cell_type": "markdown",
   "id": "d34f4605-b144-46d0-8ea5-9878c5dca47b",
   "metadata": {
    "editable": true,
    "slideshow": {
     "slide_type": ""
    },
    "tags": []
   },
   "source": [
    "## 3.10 Sorting and querying a data frame\n",
    "Since the index and the columns in the data frame are aligned, you can directly sort the entire data frame based on the values of one (or mulitple) column(s). The corresponding method `df.sort_values()` returns a sorted copy of data frame `df`, and you can decide the order with the boolean argument `ascending`. If you want to keep the sorted data frame, you have to overwrite the existing one, create a new variable or use the keyword argument `inplace`. See the following code snippet that returns the data frame sorted by the `\"length\"` in descending order:\n",
    "```python\n",
    "df.sort_values(\"length\", ascending=False)\n",
    "```\n",
    "\n",
    "In a data frame you can use a so-called query to select specific rows from the data frame. The data frame method `df.query()` takes a string argument with one (or multiple) filter condition(s) and returns the reduced data frame. As an example, see the following code snippet that will return all rows where the length of the password is greater than 10:\n",
    "```python\n",
    "df.query(\"length > 10\")\n",
    "```\n",
    "You can combine multiple conditions with `and`/`or` or the characters `&`/`|`. If you want to create more complex conditions, you can also use parentheses to group the conditions.\n",
    "\n",
    "1. Try a few different queries with the comparison operators `==`, `<=`, `>` and `!=` to get used to the method `df.query()`. \n",
    "2. Use the query method to get all passwords with a length equal to 6 that occur between 5 and 9 times (including 5 and 9) in the data frame.\n",
    "3. Combine the query and the sorting to find the 10 longest passwords that occur at least twice in the dataset. You can \"stack\" the methods and write everything in a single line of code."
   ]
  },
  {
   "cell_type": "code",
   "execution_count": 65,
   "id": "a2a8efa8-0ecd-4e6d-8b28-5a930e752665",
   "metadata": {
    "editable": true,
    "slideshow": {
     "slide_type": ""
    },
    "tags": []
   },
   "outputs": [
    {
     "data": {
      "text/html": [
       "<div>\n",
       "<style scoped>\n",
       "    .dataframe tbody tr th:only-of-type {\n",
       "        vertical-align: middle;\n",
       "    }\n",
       "\n",
       "    .dataframe tbody tr th {\n",
       "        vertical-align: top;\n",
       "    }\n",
       "\n",
       "    .dataframe thead th {\n",
       "        text-align: right;\n",
       "    }\n",
       "</style>\n",
       "<table border=\"1\" class=\"dataframe\">\n",
       "  <thead>\n",
       "    <tr style=\"text-align: right;\">\n",
       "      <th></th>\n",
       "      <th>count</th>\n",
       "      <th>length</th>\n",
       "      <th>digit_sum</th>\n",
       "      <th>n_alphabetic</th>\n",
       "      <th>n_numeric</th>\n",
       "      <th>n_special</th>\n",
       "    </tr>\n",
       "    <tr>\n",
       "      <th>password</th>\n",
       "      <th></th>\n",
       "      <th></th>\n",
       "      <th></th>\n",
       "      <th></th>\n",
       "      <th></th>\n",
       "      <th></th>\n",
       "    </tr>\n",
       "  </thead>\n",
       "  <tbody>\n",
       "    <tr>\n",
       "      <th>passer2010</th>\n",
       "      <td>71</td>\n",
       "      <td>10</td>\n",
       "      <td>3</td>\n",
       "      <td>6</td>\n",
       "      <td>4</td>\n",
       "      <td>0</td>\n",
       "    </tr>\n",
       "    <tr>\n",
       "      <th>passer2009</th>\n",
       "      <td>63</td>\n",
       "      <td>10</td>\n",
       "      <td>11</td>\n",
       "      <td>6</td>\n",
       "      <td>4</td>\n",
       "      <td>0</td>\n",
       "    </tr>\n",
       "    <tr>\n",
       "      <th>123456</th>\n",
       "      <td>51</td>\n",
       "      <td>6</td>\n",
       "      <td>21</td>\n",
       "      <td>0</td>\n",
       "      <td>6</td>\n",
       "      <td>0</td>\n",
       "    </tr>\n",
       "    <tr>\n",
       "      <th>111111</th>\n",
       "      <td>30</td>\n",
       "      <td>6</td>\n",
       "      <td>6</td>\n",
       "      <td>0</td>\n",
       "      <td>6</td>\n",
       "      <td>0</td>\n",
       "    </tr>\n",
       "    <tr>\n",
       "      <th>123456789</th>\n",
       "      <td>28</td>\n",
       "      <td>9</td>\n",
       "      <td>45</td>\n",
       "      <td>0</td>\n",
       "      <td>9</td>\n",
       "      <td>0</td>\n",
       "    </tr>\n",
       "    <tr>\n",
       "      <th>...</th>\n",
       "      <td>...</td>\n",
       "      <td>...</td>\n",
       "      <td>...</td>\n",
       "      <td>...</td>\n",
       "      <td>...</td>\n",
       "      <td>...</td>\n",
       "    </tr>\n",
       "    <tr>\n",
       "      <th>fbobh_68&amp;*</th>\n",
       "      <td>1</td>\n",
       "      <td>10</td>\n",
       "      <td>14</td>\n",
       "      <td>5</td>\n",
       "      <td>2</td>\n",
       "      <td>3</td>\n",
       "    </tr>\n",
       "    <tr>\n",
       "      <th>fbobh_3h'g</th>\n",
       "      <td>1</td>\n",
       "      <td>10</td>\n",
       "      <td>3</td>\n",
       "      <td>7</td>\n",
       "      <td>1</td>\n",
       "      <td>2</td>\n",
       "    </tr>\n",
       "    <tr>\n",
       "      <th>fbobh_1(km</th>\n",
       "      <td>1</td>\n",
       "      <td>10</td>\n",
       "      <td>1</td>\n",
       "      <td>7</td>\n",
       "      <td>1</td>\n",
       "      <td>2</td>\n",
       "    </tr>\n",
       "    <tr>\n",
       "      <th>fbobh_0rvj</th>\n",
       "      <td>1</td>\n",
       "      <td>10</td>\n",
       "      <td>0</td>\n",
       "      <td>8</td>\n",
       "      <td>1</td>\n",
       "      <td>1</td>\n",
       "    </tr>\n",
       "    <tr>\n",
       "      <th>f81678</th>\n",
       "      <td>1</td>\n",
       "      <td>6</td>\n",
       "      <td>30</td>\n",
       "      <td>1</td>\n",
       "      <td>5</td>\n",
       "      <td>0</td>\n",
       "    </tr>\n",
       "  </tbody>\n",
       "</table>\n",
       "<p>5328 rows × 6 columns</p>\n",
       "</div>"
      ],
      "text/plain": [
       "            count  length  digit_sum  n_alphabetic  n_numeric  n_special\n",
       "password                                                                \n",
       "passer2010     71      10          3             6          4          0\n",
       "passer2009     63      10         11             6          4          0\n",
       "123456         51       6         21             0          6          0\n",
       "111111         30       6          6             0          6          0\n",
       "123456789      28       9         45             0          9          0\n",
       "...           ...     ...        ...           ...        ...        ...\n",
       "fbobh_68&*      1      10         14             5          2          3\n",
       "fbobh_3h'g      1      10          3             7          1          2\n",
       "fbobh_1(km      1      10          1             7          1          2\n",
       "fbobh_0rvj      1      10          0             8          1          1\n",
       "f81678          1       6         30             1          5          0\n",
       "\n",
       "[5328 rows x 6 columns]"
      ]
     },
     "execution_count": 65,
     "metadata": {},
     "output_type": "execute_result"
    }
   ],
   "source": [
    "# task 1: get the rows where the count is unequal to 2\n",
    "df.query(\"count != 2\")"
   ]
  },
  {
   "cell_type": "code",
   "execution_count": 66,
   "id": "6036dca0-d397-492c-9aeb-849628c8b45b",
   "metadata": {
    "editable": true,
    "slideshow": {
     "slide_type": ""
    },
    "tags": []
   },
   "outputs": [
    {
     "data": {
      "text/html": [
       "<div>\n",
       "<style scoped>\n",
       "    .dataframe tbody tr th:only-of-type {\n",
       "        vertical-align: middle;\n",
       "    }\n",
       "\n",
       "    .dataframe tbody tr th {\n",
       "        vertical-align: top;\n",
       "    }\n",
       "\n",
       "    .dataframe thead th {\n",
       "        text-align: right;\n",
       "    }\n",
       "</style>\n",
       "<table border=\"1\" class=\"dataframe\">\n",
       "  <thead>\n",
       "    <tr style=\"text-align: right;\">\n",
       "      <th></th>\n",
       "      <th>count</th>\n",
       "      <th>length</th>\n",
       "      <th>digit_sum</th>\n",
       "      <th>n_alphabetic</th>\n",
       "      <th>n_numeric</th>\n",
       "      <th>n_special</th>\n",
       "    </tr>\n",
       "    <tr>\n",
       "      <th>password</th>\n",
       "      <th></th>\n",
       "      <th></th>\n",
       "      <th></th>\n",
       "      <th></th>\n",
       "      <th></th>\n",
       "      <th></th>\n",
       "    </tr>\n",
       "  </thead>\n",
       "  <tbody>\n",
       "    <tr>\n",
       "      <th>f7034326808541d195fc2992cbea621c</th>\n",
       "      <td>3</td>\n",
       "      <td>32</td>\n",
       "      <td>97</td>\n",
       "      <td>9</td>\n",
       "      <td>23</td>\n",
       "      <td>0</td>\n",
       "    </tr>\n",
       "    <tr>\n",
       "      <th>eeb535b32676f201a6fd36458d091699</th>\n",
       "      <td>2</td>\n",
       "      <td>32</td>\n",
       "      <td>106</td>\n",
       "      <td>9</td>\n",
       "      <td>23</td>\n",
       "      <td>0</td>\n",
       "    </tr>\n",
       "    <tr>\n",
       "      <th>Eeb535b32676f201a6fd36458d091699</th>\n",
       "      <td>2</td>\n",
       "      <td>32</td>\n",
       "      <td>106</td>\n",
       "      <td>9</td>\n",
       "      <td>23</td>\n",
       "      <td>0</td>\n",
       "    </tr>\n",
       "    <tr>\n",
       "      <th>55a118725b3586223f621cde342f3533</th>\n",
       "      <td>1</td>\n",
       "      <td>32</td>\n",
       "      <td>95</td>\n",
       "      <td>7</td>\n",
       "      <td>25</td>\n",
       "      <td>0</td>\n",
       "    </tr>\n",
       "    <tr>\n",
       "      <th>50cfb4f28592459d8a0d19948a6371d0</th>\n",
       "      <td>1</td>\n",
       "      <td>32</td>\n",
       "      <td>109</td>\n",
       "      <td>9</td>\n",
       "      <td>23</td>\n",
       "      <td>0</td>\n",
       "    </tr>\n",
       "    <tr>\n",
       "      <th>51336d050144e0cc607fd0de9e76d2d0</th>\n",
       "      <td>1</td>\n",
       "      <td>32</td>\n",
       "      <td>69</td>\n",
       "      <td>11</td>\n",
       "      <td>21</td>\n",
       "      <td>0</td>\n",
       "    </tr>\n",
       "    <tr>\n",
       "      <th>5049c858d56e6e6a3ed12b112bea7f7a</th>\n",
       "      <td>1</td>\n",
       "      <td>32</td>\n",
       "      <td>86</td>\n",
       "      <td>13</td>\n",
       "      <td>19</td>\n",
       "      <td>0</td>\n",
       "    </tr>\n",
       "    <tr>\n",
       "      <th>4b1e43a9266201b618f5ea0392d00e98</th>\n",
       "      <td>1</td>\n",
       "      <td>32</td>\n",
       "      <td>89</td>\n",
       "      <td>9</td>\n",
       "      <td>23</td>\n",
       "      <td>0</td>\n",
       "    </tr>\n",
       "    <tr>\n",
       "      <th>832a4c18fc9c6caef9f8cc11ed1afb6e</th>\n",
       "      <td>1</td>\n",
       "      <td>32</td>\n",
       "      <td>67</td>\n",
       "      <td>18</td>\n",
       "      <td>14</td>\n",
       "      <td>0</td>\n",
       "    </tr>\n",
       "    <tr>\n",
       "      <th>8035ba720b38eb2966e41184271a611c</th>\n",
       "      <td>1</td>\n",
       "      <td>32</td>\n",
       "      <td>95</td>\n",
       "      <td>8</td>\n",
       "      <td>24</td>\n",
       "      <td>0</td>\n",
       "    </tr>\n",
       "    <tr>\n",
       "      <th>8424893419b7aaf28746934e40f14453</th>\n",
       "      <td>1</td>\n",
       "      <td>32</td>\n",
       "      <td>123</td>\n",
       "      <td>6</td>\n",
       "      <td>26</td>\n",
       "      <td>0</td>\n",
       "    </tr>\n",
       "    <tr>\n",
       "      <th>94b7bedbf55b4a3b1fad5af4bfce2925</th>\n",
       "      <td>1</td>\n",
       "      <td>32</td>\n",
       "      <td>65</td>\n",
       "      <td>18</td>\n",
       "      <td>14</td>\n",
       "      <td>0</td>\n",
       "    </tr>\n",
       "    <tr>\n",
       "      <th>99ba226e99be5f68f34386e8cd33d31d</th>\n",
       "      <td>1</td>\n",
       "      <td>32</td>\n",
       "      <td>107</td>\n",
       "      <td>12</td>\n",
       "      <td>20</td>\n",
       "      <td>0</td>\n",
       "    </tr>\n",
       "    <tr>\n",
       "      <th>21103edebc456e5bf6dac0e093f9eebf</th>\n",
       "      <td>1</td>\n",
       "      <td>32</td>\n",
       "      <td>54</td>\n",
       "      <td>17</td>\n",
       "      <td>15</td>\n",
       "      <td>0</td>\n",
       "    </tr>\n",
       "    <tr>\n",
       "      <th>01c981d1f4300cd70f2c1354b43bf722</th>\n",
       "      <td>1</td>\n",
       "      <td>32</td>\n",
       "      <td>67</td>\n",
       "      <td>10</td>\n",
       "      <td>22</td>\n",
       "      <td>0</td>\n",
       "    </tr>\n",
       "    <tr>\n",
       "      <th>02bff799b9af645065a5f5f38e92447f</th>\n",
       "      <td>1</td>\n",
       "      <td>32</td>\n",
       "      <td>109</td>\n",
       "      <td>11</td>\n",
       "      <td>21</td>\n",
       "      <td>0</td>\n",
       "    </tr>\n",
       "    <tr>\n",
       "      <th>061f2fed77be121a337623a4af34cc11</th>\n",
       "      <td>1</td>\n",
       "      <td>32</td>\n",
       "      <td>64</td>\n",
       "      <td>12</td>\n",
       "      <td>20</td>\n",
       "      <td>0</td>\n",
       "    </tr>\n",
       "    <tr>\n",
       "      <th>1.1.1.1.1.1.1.1.1.1.1.1111n@gmai</th>\n",
       "      <td>1</td>\n",
       "      <td>32</td>\n",
       "      <td>15</td>\n",
       "      <td>5</td>\n",
       "      <td>15</td>\n",
       "      <td>12</td>\n",
       "    </tr>\n",
       "    <tr>\n",
       "      <th>0ec9b5d9e79afc539f98f1517df5179a</th>\n",
       "      <td>1</td>\n",
       "      <td>32</td>\n",
       "      <td>109</td>\n",
       "      <td>13</td>\n",
       "      <td>19</td>\n",
       "      <td>0</td>\n",
       "    </tr>\n",
       "    <tr>\n",
       "      <th>cc32731c65a807f9dc2b86f32fcab02e</th>\n",
       "      <td>1</td>\n",
       "      <td>32</td>\n",
       "      <td>74</td>\n",
       "      <td>14</td>\n",
       "      <td>18</td>\n",
       "      <td>0</td>\n",
       "    </tr>\n",
       "    <tr>\n",
       "      <th>cf9c407d5b922652053a5ef6f249d88d</th>\n",
       "      <td>1</td>\n",
       "      <td>32</td>\n",
       "      <td>101</td>\n",
       "      <td>11</td>\n",
       "      <td>21</td>\n",
       "      <td>0</td>\n",
       "    </tr>\n",
       "    <tr>\n",
       "      <th>d87404024e4eb3614e7ab9a43cd49fd7</th>\n",
       "      <td>1</td>\n",
       "      <td>32</td>\n",
       "      <td>90</td>\n",
       "      <td>12</td>\n",
       "      <td>20</td>\n",
       "      <td>0</td>\n",
       "    </tr>\n",
       "    <tr>\n",
       "      <th>afea59a552f285428f6ea3b351436905</th>\n",
       "      <td>1</td>\n",
       "      <td>32</td>\n",
       "      <td>100</td>\n",
       "      <td>10</td>\n",
       "      <td>22</td>\n",
       "      <td>0</td>\n",
       "    </tr>\n",
       "    <tr>\n",
       "      <th>a609ccaa46005d9c7db59cb30ee065e1</th>\n",
       "      <td>1</td>\n",
       "      <td>32</td>\n",
       "      <td>75</td>\n",
       "      <td>14</td>\n",
       "      <td>18</td>\n",
       "      <td>0</td>\n",
       "    </tr>\n",
       "    <tr>\n",
       "      <th>b77b049b22aff3ec6a5c6f3645fa0d15</th>\n",
       "      <td>1</td>\n",
       "      <td>32</td>\n",
       "      <td>75</td>\n",
       "      <td>14</td>\n",
       "      <td>18</td>\n",
       "      <td>0</td>\n",
       "    </tr>\n",
       "    <tr>\n",
       "      <th>b772525d98459e3f2bcb83bb4f5ba63c</th>\n",
       "      <td>1</td>\n",
       "      <td>32</td>\n",
       "      <td>97</td>\n",
       "      <td>13</td>\n",
       "      <td>19</td>\n",
       "      <td>0</td>\n",
       "    </tr>\n",
       "    <tr>\n",
       "      <th>ecab39287e488b47122bc220a634cd36</th>\n",
       "      <td>1</td>\n",
       "      <td>32</td>\n",
       "      <td>91</td>\n",
       "      <td>11</td>\n",
       "      <td>21</td>\n",
       "      <td>0</td>\n",
       "    </tr>\n",
       "    <tr>\n",
       "      <th>fd5ec4b051205be492e97eb80e6a0d63</th>\n",
       "      <td>1</td>\n",
       "      <td>32</td>\n",
       "      <td>76</td>\n",
       "      <td>13</td>\n",
       "      <td>19</td>\n",
       "      <td>0</td>\n",
       "    </tr>\n",
       "    <tr>\n",
       "      <th>fbf4a8c872550342d5a26024daae375f</th>\n",
       "      <td>1</td>\n",
       "      <td>32</td>\n",
       "      <td>82</td>\n",
       "      <td>12</td>\n",
       "      <td>20</td>\n",
       "      <td>0</td>\n",
       "    </tr>\n",
       "    <tr>\n",
       "      <th>f8849a19c3108a390f033c9d80768e67</th>\n",
       "      <td>1</td>\n",
       "      <td>32</td>\n",
       "      <td>120</td>\n",
       "      <td>8</td>\n",
       "      <td>24</td>\n",
       "      <td>0</td>\n",
       "    </tr>\n",
       "    <tr>\n",
       "      <th>f58d234ab85076864c6a450123a11dc2</th>\n",
       "      <td>1</td>\n",
       "      <td>32</td>\n",
       "      <td>91</td>\n",
       "      <td>9</td>\n",
       "      <td>23</td>\n",
       "      <td>0</td>\n",
       "    </tr>\n",
       "  </tbody>\n",
       "</table>\n",
       "</div>"
      ],
      "text/plain": [
       "                                  count  length  digit_sum  n_alphabetic  \\\n",
       "password                                                                   \n",
       "f7034326808541d195fc2992cbea621c      3      32         97             9   \n",
       "eeb535b32676f201a6fd36458d091699      2      32        106             9   \n",
       "Eeb535b32676f201a6fd36458d091699      2      32        106             9   \n",
       "55a118725b3586223f621cde342f3533      1      32         95             7   \n",
       "50cfb4f28592459d8a0d19948a6371d0      1      32        109             9   \n",
       "51336d050144e0cc607fd0de9e76d2d0      1      32         69            11   \n",
       "5049c858d56e6e6a3ed12b112bea7f7a      1      32         86            13   \n",
       "4b1e43a9266201b618f5ea0392d00e98      1      32         89             9   \n",
       "832a4c18fc9c6caef9f8cc11ed1afb6e      1      32         67            18   \n",
       "8035ba720b38eb2966e41184271a611c      1      32         95             8   \n",
       "8424893419b7aaf28746934e40f14453      1      32        123             6   \n",
       "94b7bedbf55b4a3b1fad5af4bfce2925      1      32         65            18   \n",
       "99ba226e99be5f68f34386e8cd33d31d      1      32        107            12   \n",
       "21103edebc456e5bf6dac0e093f9eebf      1      32         54            17   \n",
       "01c981d1f4300cd70f2c1354b43bf722      1      32         67            10   \n",
       "02bff799b9af645065a5f5f38e92447f      1      32        109            11   \n",
       "061f2fed77be121a337623a4af34cc11      1      32         64            12   \n",
       "1.1.1.1.1.1.1.1.1.1.1.1111n@gmai      1      32         15             5   \n",
       "0ec9b5d9e79afc539f98f1517df5179a      1      32        109            13   \n",
       "cc32731c65a807f9dc2b86f32fcab02e      1      32         74            14   \n",
       "cf9c407d5b922652053a5ef6f249d88d      1      32        101            11   \n",
       "d87404024e4eb3614e7ab9a43cd49fd7      1      32         90            12   \n",
       "afea59a552f285428f6ea3b351436905      1      32        100            10   \n",
       "a609ccaa46005d9c7db59cb30ee065e1      1      32         75            14   \n",
       "b77b049b22aff3ec6a5c6f3645fa0d15      1      32         75            14   \n",
       "b772525d98459e3f2bcb83bb4f5ba63c      1      32         97            13   \n",
       "ecab39287e488b47122bc220a634cd36      1      32         91            11   \n",
       "fd5ec4b051205be492e97eb80e6a0d63      1      32         76            13   \n",
       "fbf4a8c872550342d5a26024daae375f      1      32         82            12   \n",
       "f8849a19c3108a390f033c9d80768e67      1      32        120             8   \n",
       "f58d234ab85076864c6a450123a11dc2      1      32         91             9   \n",
       "\n",
       "                                  n_numeric  n_special  \n",
       "password                                                \n",
       "f7034326808541d195fc2992cbea621c         23          0  \n",
       "eeb535b32676f201a6fd36458d091699         23          0  \n",
       "Eeb535b32676f201a6fd36458d091699         23          0  \n",
       "55a118725b3586223f621cde342f3533         25          0  \n",
       "50cfb4f28592459d8a0d19948a6371d0         23          0  \n",
       "51336d050144e0cc607fd0de9e76d2d0         21          0  \n",
       "5049c858d56e6e6a3ed12b112bea7f7a         19          0  \n",
       "4b1e43a9266201b618f5ea0392d00e98         23          0  \n",
       "832a4c18fc9c6caef9f8cc11ed1afb6e         14          0  \n",
       "8035ba720b38eb2966e41184271a611c         24          0  \n",
       "8424893419b7aaf28746934e40f14453         26          0  \n",
       "94b7bedbf55b4a3b1fad5af4bfce2925         14          0  \n",
       "99ba226e99be5f68f34386e8cd33d31d         20          0  \n",
       "21103edebc456e5bf6dac0e093f9eebf         15          0  \n",
       "01c981d1f4300cd70f2c1354b43bf722         22          0  \n",
       "02bff799b9af645065a5f5f38e92447f         21          0  \n",
       "061f2fed77be121a337623a4af34cc11         20          0  \n",
       "1.1.1.1.1.1.1.1.1.1.1.1111n@gmai         15         12  \n",
       "0ec9b5d9e79afc539f98f1517df5179a         19          0  \n",
       "cc32731c65a807f9dc2b86f32fcab02e         18          0  \n",
       "cf9c407d5b922652053a5ef6f249d88d         21          0  \n",
       "d87404024e4eb3614e7ab9a43cd49fd7         20          0  \n",
       "afea59a552f285428f6ea3b351436905         22          0  \n",
       "a609ccaa46005d9c7db59cb30ee065e1         18          0  \n",
       "b77b049b22aff3ec6a5c6f3645fa0d15         18          0  \n",
       "b772525d98459e3f2bcb83bb4f5ba63c         19          0  \n",
       "ecab39287e488b47122bc220a634cd36         21          0  \n",
       "fd5ec4b051205be492e97eb80e6a0d63         19          0  \n",
       "fbf4a8c872550342d5a26024daae375f         20          0  \n",
       "f8849a19c3108a390f033c9d80768e67         24          0  \n",
       "f58d234ab85076864c6a450123a11dc2         23          0  "
      ]
     },
     "execution_count": 66,
     "metadata": {},
     "output_type": "execute_result"
    }
   ],
   "source": [
    "# task 1: get the rows where the length is greater than 30, there are some really weird passwords here...\n",
    "df.query(\"length > 30\")"
   ]
  },
  {
   "cell_type": "code",
   "execution_count": 67,
   "id": "2c84ec0c-5d2b-4d58-b85f-027c3ed1032d",
   "metadata": {
    "editable": true,
    "slideshow": {
     "slide_type": ""
    },
    "tags": []
   },
   "outputs": [
    {
     "data": {
      "text/html": [
       "<div>\n",
       "<style scoped>\n",
       "    .dataframe tbody tr th:only-of-type {\n",
       "        vertical-align: middle;\n",
       "    }\n",
       "\n",
       "    .dataframe tbody tr th {\n",
       "        vertical-align: top;\n",
       "    }\n",
       "\n",
       "    .dataframe thead th {\n",
       "        text-align: right;\n",
       "    }\n",
       "</style>\n",
       "<table border=\"1\" class=\"dataframe\">\n",
       "  <thead>\n",
       "    <tr style=\"text-align: right;\">\n",
       "      <th></th>\n",
       "      <th>count</th>\n",
       "      <th>length</th>\n",
       "      <th>digit_sum</th>\n",
       "      <th>n_alphabetic</th>\n",
       "      <th>n_numeric</th>\n",
       "      <th>n_special</th>\n",
       "    </tr>\n",
       "    <tr>\n",
       "      <th>password</th>\n",
       "      <th></th>\n",
       "      <th></th>\n",
       "      <th></th>\n",
       "      <th></th>\n",
       "      <th></th>\n",
       "      <th></th>\n",
       "    </tr>\n",
       "  </thead>\n",
       "  <tbody>\n",
       "    <tr>\n",
       "      <th>123123</th>\n",
       "      <td>10</td>\n",
       "      <td>6</td>\n",
       "      <td>12</td>\n",
       "      <td>0</td>\n",
       "      <td>6</td>\n",
       "      <td>0</td>\n",
       "    </tr>\n",
       "    <tr>\n",
       "      <th>qwe123</th>\n",
       "      <td>9</td>\n",
       "      <td>6</td>\n",
       "      <td>6</td>\n",
       "      <td>3</td>\n",
       "      <td>3</td>\n",
       "      <td>0</td>\n",
       "    </tr>\n",
       "    <tr>\n",
       "      <th>pppppp</th>\n",
       "      <td>8</td>\n",
       "      <td>6</td>\n",
       "      <td>0</td>\n",
       "      <td>6</td>\n",
       "      <td>0</td>\n",
       "      <td>0</td>\n",
       "    </tr>\n",
       "    <tr>\n",
       "      <th>11111q</th>\n",
       "      <td>7</td>\n",
       "      <td>6</td>\n",
       "      <td>5</td>\n",
       "      <td>1</td>\n",
       "      <td>5</td>\n",
       "      <td>0</td>\n",
       "    </tr>\n",
       "    <tr>\n",
       "      <th>121212</th>\n",
       "      <td>6</td>\n",
       "      <td>6</td>\n",
       "      <td>9</td>\n",
       "      <td>0</td>\n",
       "      <td>6</td>\n",
       "      <td>0</td>\n",
       "    </tr>\n",
       "    <tr>\n",
       "      <th>12345q</th>\n",
       "      <td>6</td>\n",
       "      <td>6</td>\n",
       "      <td>15</td>\n",
       "      <td>1</td>\n",
       "      <td>5</td>\n",
       "      <td>0</td>\n",
       "    </tr>\n",
       "    <tr>\n",
       "      <th>12345s</th>\n",
       "      <td>5</td>\n",
       "      <td>6</td>\n",
       "      <td>15</td>\n",
       "      <td>1</td>\n",
       "      <td>5</td>\n",
       "      <td>0</td>\n",
       "    </tr>\n",
       "    <tr>\n",
       "      <th>112233</th>\n",
       "      <td>5</td>\n",
       "      <td>6</td>\n",
       "      <td>12</td>\n",
       "      <td>0</td>\n",
       "      <td>6</td>\n",
       "      <td>0</td>\n",
       "    </tr>\n",
       "    <tr>\n",
       "      <th>hateaa</th>\n",
       "      <td>5</td>\n",
       "      <td>6</td>\n",
       "      <td>0</td>\n",
       "      <td>6</td>\n",
       "      <td>0</td>\n",
       "      <td>0</td>\n",
       "    </tr>\n",
       "    <tr>\n",
       "      <th>nastya</th>\n",
       "      <td>5</td>\n",
       "      <td>6</td>\n",
       "      <td>0</td>\n",
       "      <td>6</td>\n",
       "      <td>0</td>\n",
       "      <td>0</td>\n",
       "    </tr>\n",
       "    <tr>\n",
       "      <th>000000</th>\n",
       "      <td>5</td>\n",
       "      <td>6</td>\n",
       "      <td>0</td>\n",
       "      <td>0</td>\n",
       "      <td>6</td>\n",
       "      <td>0</td>\n",
       "    </tr>\n",
       "  </tbody>\n",
       "</table>\n",
       "</div>"
      ],
      "text/plain": [
       "          count  length  digit_sum  n_alphabetic  n_numeric  n_special\n",
       "password                                                              \n",
       "123123       10       6         12             0          6          0\n",
       "qwe123        9       6          6             3          3          0\n",
       "pppppp        8       6          0             6          0          0\n",
       "11111q        7       6          5             1          5          0\n",
       "121212        6       6          9             0          6          0\n",
       "12345q        6       6         15             1          5          0\n",
       "12345s        5       6         15             1          5          0\n",
       "112233        5       6         12             0          6          0\n",
       "hateaa        5       6          0             6          0          0\n",
       "nastya        5       6          0             6          0          0\n",
       "000000        5       6          0             0          6          0"
      ]
     },
     "execution_count": 67,
     "metadata": {},
     "output_type": "execute_result"
    }
   ],
   "source": [
    "# task 2: use a combined query with the keyword \"and\"\n",
    "df.query(\"length == 6 and (5 <= count <= 10)\")"
   ]
  },
  {
   "cell_type": "code",
   "execution_count": 68,
   "id": "9598a9ae-7140-4ee9-9dcb-dd20a01c7fd8",
   "metadata": {
    "editable": true,
    "slideshow": {
     "slide_type": ""
    },
    "tags": []
   },
   "outputs": [
    {
     "data": {
      "text/html": [
       "<div>\n",
       "<style scoped>\n",
       "    .dataframe tbody tr th:only-of-type {\n",
       "        vertical-align: middle;\n",
       "    }\n",
       "\n",
       "    .dataframe tbody tr th {\n",
       "        vertical-align: top;\n",
       "    }\n",
       "\n",
       "    .dataframe thead th {\n",
       "        text-align: right;\n",
       "    }\n",
       "</style>\n",
       "<table border=\"1\" class=\"dataframe\">\n",
       "  <thead>\n",
       "    <tr style=\"text-align: right;\">\n",
       "      <th></th>\n",
       "      <th>count</th>\n",
       "      <th>length</th>\n",
       "      <th>digit_sum</th>\n",
       "      <th>n_alphabetic</th>\n",
       "      <th>n_numeric</th>\n",
       "      <th>n_special</th>\n",
       "    </tr>\n",
       "    <tr>\n",
       "      <th>password</th>\n",
       "      <th></th>\n",
       "      <th></th>\n",
       "      <th></th>\n",
       "      <th></th>\n",
       "      <th></th>\n",
       "      <th></th>\n",
       "    </tr>\n",
       "  </thead>\n",
       "  <tbody>\n",
       "    <tr>\n",
       "      <th>Eeb535b32676f201a6fd36458d091699</th>\n",
       "      <td>2</td>\n",
       "      <td>32</td>\n",
       "      <td>106</td>\n",
       "      <td>9</td>\n",
       "      <td>23</td>\n",
       "      <td>0</td>\n",
       "    </tr>\n",
       "    <tr>\n",
       "      <th>eeb535b32676f201a6fd36458d091699</th>\n",
       "      <td>2</td>\n",
       "      <td>32</td>\n",
       "      <td>106</td>\n",
       "      <td>9</td>\n",
       "      <td>23</td>\n",
       "      <td>0</td>\n",
       "    </tr>\n",
       "    <tr>\n",
       "      <th>f7034326808541d195fc2992cbea621c</th>\n",
       "      <td>3</td>\n",
       "      <td>32</td>\n",
       "      <td>97</td>\n",
       "      <td>9</td>\n",
       "      <td>23</td>\n",
       "      <td>0</td>\n",
       "    </tr>\n",
       "    <tr>\n",
       "      <th>794gerard143698prigge1994113</th>\n",
       "      <td>3</td>\n",
       "      <td>28</td>\n",
       "      <td>79</td>\n",
       "      <td>12</td>\n",
       "      <td>16</td>\n",
       "      <td>0</td>\n",
       "    </tr>\n",
       "    <tr>\n",
       "      <th>sharmaine005foskett6071988</th>\n",
       "      <td>3</td>\n",
       "      <td>26</td>\n",
       "      <td>44</td>\n",
       "      <td>16</td>\n",
       "      <td>10</td>\n",
       "      <td>0</td>\n",
       "    </tr>\n",
       "    <tr>\n",
       "      <th>rachelle289ariyoshi5251987</th>\n",
       "      <td>3</td>\n",
       "      <td>26</td>\n",
       "      <td>56</td>\n",
       "      <td>16</td>\n",
       "      <td>10</td>\n",
       "      <td>0</td>\n",
       "    </tr>\n",
       "    <tr>\n",
       "      <th>miss.marina.nikolaeva.2013</th>\n",
       "      <td>3</td>\n",
       "      <td>26</td>\n",
       "      <td>6</td>\n",
       "      <td>19</td>\n",
       "      <td>4</td>\n",
       "      <td>3</td>\n",
       "    </tr>\n",
       "    <tr>\n",
       "      <th>raymonde336schwegel7331987</th>\n",
       "      <td>3</td>\n",
       "      <td>26</td>\n",
       "      <td>50</td>\n",
       "      <td>16</td>\n",
       "      <td>10</td>\n",
       "      <td>0</td>\n",
       "    </tr>\n",
       "    <tr>\n",
       "      <th>victoria392eliezrie1992frp</th>\n",
       "      <td>3</td>\n",
       "      <td>26</td>\n",
       "      <td>35</td>\n",
       "      <td>19</td>\n",
       "      <td>7</td>\n",
       "      <td>0</td>\n",
       "    </tr>\n",
       "    <tr>\n",
       "      <th>qwertyuiopasdfghjkl151515</th>\n",
       "      <td>3</td>\n",
       "      <td>25</td>\n",
       "      <td>18</td>\n",
       "      <td>19</td>\n",
       "      <td>6</td>\n",
       "      <td>0</td>\n",
       "    </tr>\n",
       "  </tbody>\n",
       "</table>\n",
       "</div>"
      ],
      "text/plain": [
       "                                  count  length  digit_sum  n_alphabetic  \\\n",
       "password                                                                   \n",
       "Eeb535b32676f201a6fd36458d091699      2      32        106             9   \n",
       "eeb535b32676f201a6fd36458d091699      2      32        106             9   \n",
       "f7034326808541d195fc2992cbea621c      3      32         97             9   \n",
       "794gerard143698prigge1994113          3      28         79            12   \n",
       "sharmaine005foskett6071988            3      26         44            16   \n",
       "rachelle289ariyoshi5251987            3      26         56            16   \n",
       "miss.marina.nikolaeva.2013            3      26          6            19   \n",
       "raymonde336schwegel7331987            3      26         50            16   \n",
       "victoria392eliezrie1992frp            3      26         35            19   \n",
       "qwertyuiopasdfghjkl151515             3      25         18            19   \n",
       "\n",
       "                                  n_numeric  n_special  \n",
       "password                                                \n",
       "Eeb535b32676f201a6fd36458d091699         23          0  \n",
       "eeb535b32676f201a6fd36458d091699         23          0  \n",
       "f7034326808541d195fc2992cbea621c         23          0  \n",
       "794gerard143698prigge1994113             16          0  \n",
       "sharmaine005foskett6071988               10          0  \n",
       "rachelle289ariyoshi5251987               10          0  \n",
       "miss.marina.nikolaeva.2013                4          3  \n",
       "raymonde336schwegel7331987               10          0  \n",
       "victoria392eliezrie1992frp                7          0  \n",
       "qwertyuiopasdfghjkl151515                 6          0  "
      ]
     },
     "execution_count": 68,
     "metadata": {},
     "output_type": "execute_result"
    }
   ],
   "source": [
    "# task 3: first apply the query to reduce the data frame to count > 1, then sort everything by the length and select the first ten passwords\n",
    "df.query(\"count > 1\").sort_values(\"length\", ascending=False).iloc[:10]"
   ]
  },
  {
   "cell_type": "code",
   "execution_count": null,
   "id": "e9c0b224-ae01-4f15-87d8-739566f82910",
   "metadata": {
    "editable": true,
    "slideshow": {
     "slide_type": ""
    },
    "tags": []
   },
   "outputs": [],
   "source": []
  }
 ],
 "metadata": {
  "kernelspec": {
   "display_name": "konstanz2024",
   "language": "python",
   "name": "konstanz2024"
  },
  "language_info": {
   "codemirror_mode": {
    "name": "ipython",
    "version": 3
   },
   "file_extension": ".py",
   "mimetype": "text/x-python",
   "name": "python",
   "nbconvert_exporter": "python",
   "pygments_lexer": "ipython3",
   "version": "3.12.7"
  }
 },
 "nbformat": 4,
 "nbformat_minor": 5
}
