{
 "cells": [
  {
   "cell_type": "markdown",
   "id": "5cab5bc7-d469-4fc9-9e72-e5faa43aa18a",
   "metadata": {
    "editable": false,
    "slideshow": {
     "slide_type": ""
    },
    "tags": []
   },
   "source": [
    "## Quiz - Day 2\n",
    "The tasks are independent again. If you are not able to solve a task, just skip it and try the next one."
   ]
  },
  {
   "cell_type": "markdown",
   "id": "ba3ec5f9-39fd-409d-87de-b327cbe916d3",
   "metadata": {
    "editable": false,
    "slideshow": {
     "slide_type": ""
    },
    "tags": []
   },
   "source": [
    "### Q2.1 File properties\n",
    "Open the file `\"passwords.txt\"`, count the number of lines and count the number of characters (including newline characters)."
   ]
  },
  {
   "cell_type": "code",
   "execution_count": 1,
   "id": "da00a2e5-3f1d-4d64-a1af-ca5fbc9906bc",
   "metadata": {},
   "outputs": [],
   "source": [
    "# open the file and read the content as a string with f.read()\n",
    "# assign the content to a variable and continue working with the data when the file is closed\n",
    "with open(\"passwords.txt\") as f:\n",
    "    data = f.read()"
   ]
  },
  {
   "cell_type": "code",
   "execution_count": 2,
   "id": "879b5981-755e-419e-a490-4c0819f738e1",
   "metadata": {},
   "outputs": [
    {
     "data": {
      "text/plain": [
       "93228"
      ]
     },
     "execution_count": 2,
     "metadata": {},
     "output_type": "execute_result"
    }
   ],
   "source": [
    "# compute the length of the string \"data\" to get the number of characters\n",
    "n_characters = len(data)\n",
    "n_characters"
   ]
  },
  {
   "cell_type": "code",
   "execution_count": 3,
   "id": "ad222028-60c8-4b21-83cd-d88c373b426c",
   "metadata": {},
   "outputs": [
    {
     "data": {
      "text/plain": [
       "9000"
      ]
     },
     "execution_count": 3,
     "metadata": {},
     "output_type": "execute_result"
    }
   ],
   "source": [
    "# split the \"data\" at the newline characters and compute the length of the list to get the number of lines\n",
    "n_lines = len(data.split(\"\\n\"))\n",
    "n_lines"
   ]
  },
  {
   "cell_type": "code",
   "execution_count": 4,
   "id": "7c204d5d-3779-498e-9cd6-efd73cf81242",
   "metadata": {},
   "outputs": [
    {
     "data": {
      "text/plain": [
       "9000"
      ]
     },
     "execution_count": 4,
     "metadata": {},
     "output_type": "execute_result"
    }
   ],
   "source": [
    "# count the characters \"\\n\" in the \"data\" and add 1 since there is no newline character in the last line\n",
    "n_lines = data.count(\"\\n\") + 1\n",
    "n_lines"
   ]
  },
  {
   "cell_type": "code",
   "execution_count": null,
   "id": "f982449e-4cd0-4fbe-a121-a1d545494610",
   "metadata": {},
   "outputs": [],
   "source": []
  },
  {
   "cell_type": "markdown",
   "id": "ea0f3077-45fa-4e80-b02a-1be2c710ef83",
   "metadata": {
    "editable": false,
    "slideshow": {
     "slide_type": ""
    },
    "tags": []
   },
   "source": [
    "### Q2.2 String splitting\n",
    "The string `data` contains integer values separated by commas. Split the string to get the individual values, convert the values to integers and compute the sum of the values."
   ]
  },
  {
   "cell_type": "code",
   "execution_count": 5,
   "id": "0aaab435-a1b8-4a36-a3df-2baa1262bde7",
   "metadata": {
    "editable": true,
    "slideshow": {
     "slide_type": ""
    },
    "tags": []
   },
   "outputs": [],
   "source": [
    "data = \"1, 1, 2, 3, 5, 8, 13, 21, 34, 55\""
   ]
  },
  {
   "cell_type": "code",
   "execution_count": 6,
   "id": "a75cf56c-89f4-494a-874a-1b741318196f",
   "metadata": {},
   "outputs": [],
   "source": [
    "# you can just leave the spaces in front of the numbers, they ignored by the function int()\n",
    "values = data.split(\",\")"
   ]
  },
  {
   "cell_type": "code",
   "execution_count": 7,
   "id": "dc8f15b6-229b-4205-b920-7e2a9a45bb0f",
   "metadata": {},
   "outputs": [
    {
     "data": {
      "text/plain": [
       "143"
      ]
     },
     "execution_count": 7,
     "metadata": {},
     "output_type": "execute_result"
    }
   ],
   "source": [
    "# use a regular for-loop to iterate over the values\n",
    "values_sum = 0\n",
    "for value in values:\n",
    "    values_sum += int(value)\n",
    "values_sum"
   ]
  },
  {
   "cell_type": "code",
   "execution_count": 8,
   "id": "cb3e91a2-66c4-4d29-aad9-a7396b530c6b",
   "metadata": {},
   "outputs": [
    {
     "data": {
      "text/plain": [
       "143"
      ]
     },
     "execution_count": 8,
     "metadata": {},
     "output_type": "execute_result"
    }
   ],
   "source": [
    "# compute the sum of the values in a list comprehension\n",
    "sum([int(value) for value in data.split(\",\")])"
   ]
  },
  {
   "cell_type": "code",
   "execution_count": null,
   "id": "a9e9c2c5-77ce-4271-bf20-2de4e694f3fc",
   "metadata": {},
   "outputs": [],
   "source": []
  },
  {
   "cell_type": "markdown",
   "id": "cfbe299c-b5d3-4b8c-ac3a-b59831ac863e",
   "metadata": {
    "editable": false,
    "slideshow": {
     "slide_type": ""
    },
    "tags": []
   },
   "source": [
    "### Q2.3 Quick array maths\n",
    "Create a NumPy array from the list `data` and assign it to a new variable. Divide the array by the mean value of the array and compute the sum of those values."
   ]
  },
  {
   "cell_type": "code",
   "execution_count": 9,
   "id": "cf430c8d-09a9-4a0e-bbe9-d8a13ae578c6",
   "metadata": {
    "editable": true,
    "slideshow": {
     "slide_type": ""
    },
    "tags": []
   },
   "outputs": [],
   "source": [
    "data = [0, 3, 8, 15, 24, 35, 48, 63, 80]"
   ]
  },
  {
   "cell_type": "code",
   "execution_count": 10,
   "id": "abdf3298-12e6-41e4-9bc0-aebea897d9ae",
   "metadata": {},
   "outputs": [],
   "source": [
    "# import the numpy package with the renaming convention\n",
    "import numpy as np"
   ]
  },
  {
   "cell_type": "code",
   "execution_count": 11,
   "id": "39b7c2d4-d93f-4020-9d47-b996fa01990f",
   "metadata": {},
   "outputs": [],
   "source": [
    "# create an array from the list \"data\"\n",
    "values = np.array(data)"
   ]
  },
  {
   "cell_type": "code",
   "execution_count": 12,
   "id": "670956e5-ba29-4871-9d19-7a4bc1f87cb8",
   "metadata": {},
   "outputs": [
    {
     "data": {
      "text/plain": [
       "np.float64(9.0)"
      ]
     },
     "execution_count": 12,
     "metadata": {},
     "output_type": "execute_result"
    }
   ],
   "source": [
    "# divide the values by their mean to get the element-wise division, take the sum afterwards\n",
    "np.sum(values / values.mean())"
   ]
  },
  {
   "cell_type": "code",
   "execution_count": null,
   "id": "f378dc23-cb7a-4d35-be29-981311354894",
   "metadata": {},
   "outputs": [],
   "source": []
  },
  {
   "cell_type": "markdown",
   "id": "f6ba95c1-df92-4d5d-893d-27d6613a3596",
   "metadata": {
    "editable": false,
    "slideshow": {
     "slide_type": ""
    },
    "tags": []
   },
   "source": [
    "### Q2.4 Array filtering\n",
    "Use conditions to index the array `data` to compute the mean of the positive values and the mean of the negative values."
   ]
  },
  {
   "cell_type": "code",
   "execution_count": 13,
   "id": "5a8bc802-d6ee-4dd3-9271-ea15821b2688",
   "metadata": {
    "editable": true,
    "slideshow": {
     "slide_type": ""
    },
    "tags": []
   },
   "outputs": [],
   "source": [
    "data = np.array([9, -87, 79, -76, 80, 35, 23, 55, -27, -75, 9])"
   ]
  },
  {
   "cell_type": "code",
   "execution_count": 14,
   "id": "2c1e5564-eba2-4232-bb5c-cc625d4060c3",
   "metadata": {},
   "outputs": [
    {
     "data": {
      "text/plain": [
       "array([ True, False,  True, False,  True,  True,  True,  True, False,\n",
       "       False,  True])"
      ]
     },
     "execution_count": 14,
     "metadata": {},
     "output_type": "execute_result"
    }
   ],
   "source": [
    "# the comparison operators will return a boolean array with the same shape as \"data\"\n",
    "data > 0"
   ]
  },
  {
   "cell_type": "code",
   "execution_count": 15,
   "id": "b862594b-bb63-45ca-941c-5079b52ed8f2",
   "metadata": {},
   "outputs": [
    {
     "data": {
      "text/plain": [
       "np.float64(41.42857142857143)"
      ]
     },
     "execution_count": 15,
     "metadata": {},
     "output_type": "execute_result"
    }
   ],
   "source": [
    "# you can use this boolean array to directly index the data, and compute the mean of the reduced array\n",
    "data[data > 0].mean()"
   ]
  },
  {
   "cell_type": "code",
   "execution_count": 16,
   "id": "c3171990-1f30-4be5-8ddb-8c07523f09c0",
   "metadata": {},
   "outputs": [
    {
     "data": {
      "text/plain": [
       "np.float64(-66.25)"
      ]
     },
     "execution_count": 16,
     "metadata": {},
     "output_type": "execute_result"
    }
   ],
   "source": [
    "data[data < 0].mean()"
   ]
  },
  {
   "cell_type": "code",
   "execution_count": null,
   "id": "00230ea8-d646-4cb3-a33d-9bd4093caf1c",
   "metadata": {},
   "outputs": [],
   "source": []
  },
  {
   "cell_type": "markdown",
   "id": "dc17c292-f537-4eee-baa8-937169172506",
   "metadata": {
    "editable": false,
    "slideshow": {
     "slide_type": ""
    },
    "tags": []
   },
   "source": [
    "### Q2.5 Plot a function\n",
    "Define a function `f` that accepts a parameter `x` and returns the value $(x - 1)^3$. Create a plot that displays the function in the interval $x = [-4, +4]$. Add axis labels and a title."
   ]
  },
  {
   "cell_type": "code",
   "execution_count": 17,
   "id": "467b352d-80cb-4f51-8ac7-32429430a3d9",
   "metadata": {},
   "outputs": [],
   "source": [
    "# import the matplotlib package with the renaming convention\n",
    "import matplotlib.pyplot as plt"
   ]
  },
  {
   "cell_type": "code",
   "execution_count": 18,
   "id": "99a7b020-d885-416c-9030-63ba41f11524",
   "metadata": {},
   "outputs": [],
   "source": [
    "# define a function with a parameter x that returns (x - 1)^3\n",
    "def f(x):\n",
    "    return (x - 1)**3"
   ]
  },
  {
   "cell_type": "code",
   "execution_count": 19,
   "id": "39308957-fb37-4339-ae81-d06974fd5fcc",
   "metadata": {},
   "outputs": [
    {
     "data": {
      "text/plain": [
       "array([-4, -3, -2, -1,  0,  1,  2,  3,  4])"
      ]
     },
     "execution_count": 19,
     "metadata": {},
     "output_type": "execute_result"
    }
   ],
   "source": [
    "# get the x-values in the interval [-4, +4], be careful that the stop is not included in np.arange()\n",
    "x = np.arange(-4, 5)\n",
    "x"
   ]
  },
  {
   "cell_type": "code",
   "execution_count": 20,
   "id": "17163593-d9bd-4d4d-b3f5-0dae73c1155a",
   "metadata": {},
   "outputs": [
    {
     "data": {
      "text/plain": [
       "Text(0.5, 1.0, 'Plot the function $f(x) = (x - 1)^3$')"
      ]
     },
     "execution_count": 20,
     "metadata": {},
     "output_type": "execute_result"
    },
    {
     "data": {
      "image/png": "[encoded data removed]",
      "text/plain": [
       "<Figure size 640x480 with 1 Axes>"
      ]
     },
     "metadata": {},
     "output_type": "display_data"
    }
   ],
   "source": [
    "# display x, f(x) as a line plot\n",
    "plt.plot(x, f(x))\n",
    "# add axis labels\n",
    "plt.xlabel(\"x-values\")\n",
    "plt.ylabel(\"y-data\")\n",
    "# add a title, use $$ to render equations (similar to LaTeX)\n",
    "plt.title(\"Plot the function $f(x) = (x - 1)^3$\")"
   ]
  },
  {
   "cell_type": "code",
   "execution_count": null,
   "id": "9e56b303-36ce-4415-b4b8-fa9693350ec2",
   "metadata": {},
   "outputs": [],
   "source": []
  },
  {
   "cell_type": "markdown",
   "id": "da72ccd8-a079-4628-90e6-23aec9a67f91",
   "metadata": {
    "editable": false,
    "slideshow": {
     "slide_type": ""
    },
    "tags": []
   },
   "source": [
    "### Q2.6 Histogram of character counts\n",
    "Separate the dictionary `characters` into two dictionaries, one for the alphabetic characters and one for the numeric characters. Display the two dictionaries in a bar plot, label the data and add a legend to the plot."
   ]
  },
  {
   "cell_type": "code",
   "execution_count": 21,
   "id": "bd106d79-f163-4ff6-ae22-831541392500",
   "metadata": {
    "editable": true,
    "slideshow": {
     "slide_type": ""
    },
    "tags": []
   },
   "outputs": [],
   "source": [
    "characters = {\"a\": 4, \"c\": 2, \"b\": 1, \"0\": 7, \"1\": 5, \"2\": 2}"
   ]
  },
  {
   "cell_type": "code",
   "execution_count": 22,
   "id": "3fc6eb47-85d2-475a-bd3a-4ca8f36a6d8b",
   "metadata": {},
   "outputs": [
    {
     "data": {
      "text/plain": [
       "({'a': 4, 'c': 2, 'b': 1}, {'0': 7, '1': 5, '2': 2})"
      ]
     },
     "execution_count": 22,
     "metadata": {},
     "output_type": "execute_result"
    }
   ],
   "source": [
    "# create two dictionaries for the alphabetic characters and numeric characters\n",
    "alphabetic = {}\n",
    "numeric = {}\n",
    "\n",
    "# iterate over the items to directly unpack the key-values pairs as \"char\" and \"count\"\n",
    "for char, count in characters.items():\n",
    "    # use if-elif to separate the characters into alphabetic and numeric\n",
    "    if char.isalpha():\n",
    "        alphabetic[char] = count\n",
    "    elif char.isnumeric():\n",
    "        numeric[char] = count\n",
    "\n",
    "alphabetic, numeric"
   ]
  },
  {
   "cell_type": "code",
   "execution_count": 23,
   "id": "6ea6921b-a9af-4d83-b288-2840614b58dc",
   "metadata": {},
   "outputs": [
    {
     "data": {
      "text/plain": [
       "<matplotlib.legend.Legend at 0xffff57913970>"
      ]
     },
     "execution_count": 23,
     "metadata": {},
     "output_type": "execute_result"
    },
    {
     "data": {
      "image/png": "[encoded data removed]",
      "text/plain": [
       "<Figure size 640x480 with 1 Axes>"
      ]
     },
     "metadata": {},
     "output_type": "display_data"
    }
   ],
   "source": [
    "# call the function plt.bar() with the keys and values of each dictionary, use the keyword argument \"label\" to label the data\n",
    "plt.bar(alphabetic.keys(), alphabetic.values(), label=\"alphabetic\")\n",
    "plt.bar(numeric.keys(), numeric.values(), label=\"numeric\")\n",
    "# call the function plt.legend() to actually add the labels to a legend\n",
    "plt.legend()"
   ]
  },
  {
   "cell_type": "code",
   "execution_count": null,
   "id": "6dadd802-3e7b-4a0a-9ebb-e37c96665e90",
   "metadata": {
    "editable": true,
    "slideshow": {
     "slide_type": ""
    },
    "tags": []
   },
   "outputs": [],
   "source": []
  }
 ],
 "metadata": {
  "kernelspec": {
   "display_name": "Python 3 (ipykernel)",
   "language": "python",
   "name": "python3"
  },
  "language_info": {
   "codemirror_mode": {
    "name": "ipython",
    "version": 3
   },
   "file_extension": ".py",
   "mimetype": "text/x-python",
   "name": "python",
   "nbconvert_exporter": "python",
   "pygments_lexer": "ipython3",
   "version": "3.10.10"
  }
 },
 "nbformat": 4,
 "nbformat_minor": 5
}
