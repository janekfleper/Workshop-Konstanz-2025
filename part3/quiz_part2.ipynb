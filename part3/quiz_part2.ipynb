{
 "cells": [
  {
   "cell_type": "markdown",
   "id": "5cab5bc7-d469-4fc9-9e72-e5faa43aa18a",
   "metadata": {
    "editable": false,
    "slideshow": {
     "slide_type": ""
    },
    "tags": []
   },
   "source": [
    "## Quiz - Day 2\n",
    "The tasks are independent again. If you are not able to solve a task, just skip it and try the next one."
   ]
  },
  {
   "cell_type": "markdown",
   "id": "ba3ec5f9-39fd-409d-87de-b327cbe916d3",
   "metadata": {
    "editable": false,
    "slideshow": {
     "slide_type": ""
    },
    "tags": []
   },
   "source": [
    "### Q2.1 File properties\n",
    "Open the file `\"passwords.txt\"`, count the number of lines and count the number of characters (including newline characters)."
   ]
  },
  {
   "cell_type": "markdown",
   "id": "ea0f3077-45fa-4e80-b02a-1be2c710ef83",
   "metadata": {
    "editable": false,
    "slideshow": {
     "slide_type": ""
    },
    "tags": []
   },
   "source": [
    "### Q2.2 String splitting\n",
    "The string `data` contains integer values separated by commas. Split the string to get the individual values, convert the values to integers and compute the sum of the values."
   ]
  },
  {
   "cell_type": "code",
   "execution_count": null,
   "id": "0aaab435-a1b8-4a36-a3df-2baa1262bde7",
   "metadata": {
    "editable": true,
    "slideshow": {
     "slide_type": ""
    },
    "tags": []
   },
   "outputs": [],
   "source": [
    "data = \"1, 1, 2, 3, 5, 8, 13, 21, 34, 55\""
   ]
  },
  {
   "cell_type": "markdown",
   "id": "cfbe299c-b5d3-4b8c-ac3a-b59831ac863e",
   "metadata": {
    "editable": false,
    "slideshow": {
     "slide_type": ""
    },
    "tags": []
   },
   "source": [
    "### Q2.3 Quick array maths\n",
    "Create a NumPy array from the list `data` and assign it to a new variable. Divide the array by the mean value of the array and compute the sum of those values."
   ]
  },
  {
   "cell_type": "code",
   "execution_count": null,
   "id": "cf430c8d-09a9-4a0e-bbe9-d8a13ae578c6",
   "metadata": {
    "editable": true,
    "slideshow": {
     "slide_type": ""
    },
    "tags": []
   },
   "outputs": [],
   "source": [
    "data = [0, 3, 8, 15, 24, 35, 48, 63, 80]"
   ]
  },
  {
   "cell_type": "markdown",
   "id": "f6ba95c1-df92-4d5d-893d-27d6613a3596",
   "metadata": {
    "editable": false,
    "slideshow": {
     "slide_type": ""
    },
    "tags": []
   },
   "source": [
    "### Q2.4 Array filtering\n",
    "Use conditions to index the array `data` to compute the mean of the positive values and the mean of the negative values."
   ]
  },
  {
   "cell_type": "code",
   "execution_count": null,
   "id": "5a8bc802-d6ee-4dd3-9271-ea15821b2688",
   "metadata": {
    "editable": true,
    "slideshow": {
     "slide_type": ""
    },
    "tags": []
   },
   "outputs": [],
   "source": [
    "data = np.array([9, -87, 79, -76, 80, 35, 23, 55, -27, -75, 9])"
   ]
  },
  {
   "cell_type": "markdown",
   "id": "dc17c292-f537-4eee-baa8-937169172506",
   "metadata": {
    "editable": false,
    "slideshow": {
     "slide_type": ""
    },
    "tags": []
   },
   "source": [
    "### Q2.5 Plot a function\n",
    "Define a function `f` that accepts a parameter `x` and returns the value $(x - 1)^3$. Create a plot that displays the function in the interval $x = [-4, +4]$. Add axis labels and a title."
   ]
  },
  {
   "cell_type": "markdown",
   "id": "da72ccd8-a079-4628-90e6-23aec9a67f91",
   "metadata": {
    "editable": false,
    "slideshow": {
     "slide_type": ""
    },
    "tags": []
   },
   "source": [
    "### Q2.6 Histogram of character counts\n",
    "Separate the dictionary `characters` into two dictionaries, one for the alphabetic characters and one for the numeric characters. Display the two dictionaries in a bar plot, label the data and add a legend to the plot."
   ]
  },
  {
   "cell_type": "code",
   "execution_count": null,
   "id": "bd106d79-f163-4ff6-ae22-831541392500",
   "metadata": {
    "editable": true,
    "slideshow": {
     "slide_type": ""
    },
    "tags": []
   },
   "outputs": [],
   "source": [
    "characters = {\"a\": 4, \"c\": 2, \"b\": 1, \"0\": 7, \"1\": 5, \"2\": 2}"
   ]
  },
  {
   "cell_type": "code",
   "execution_count": null,
   "id": "6dadd802-3e7b-4a0a-9ebb-e37c96665e90",
   "metadata": {
    "editable": true,
    "slideshow": {
     "slide_type": ""
    },
    "tags": []
   },
   "outputs": [],
   "source": []
  }
 ],
 "metadata": {
  "kernelspec": {
   "display_name": "Python 3 (ipykernel)",
   "language": "python",
   "name": "python3"
  },
  "language_info": {
   "codemirror_mode": {
    "name": "ipython",
    "version": 3
   },
   "file_extension": ".py",
   "mimetype": "text/x-python",
   "name": "python",
   "nbconvert_exporter": "python",
   "pygments_lexer": "ipython3",
   "version": "3.12.7"
  }
 },
 "nbformat": 4,
 "nbformat_minor": 5
}
