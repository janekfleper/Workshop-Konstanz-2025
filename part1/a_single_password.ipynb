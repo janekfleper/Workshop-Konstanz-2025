{
 "cells": [
  {
   "cell_type": "markdown",
   "id": "6fd0d862-7b60-4c1b-83ad-c9b617a315e0",
   "metadata": {
    "editable": false,
    "slideshow": {
     "slide_type": ""
    },
    "tags": [
     "exercise"
    ]
   },
   "source": [
    "## 1.1 A single password\n",
    "Choose a password that consists of regular letters, numbers and a few special characters (anything you can find on your keyboard). The password will be a variable of type `string` which is indicated by either double quotes or single quotes:\n",
    "```python\n",
    "password = \"duck137][(!\"\n",
    "password = 'duck137][(!'\n",
    "```\n",
    "If the assignment is valid, the syntax highlighting will show the variable name in black (white if you are using the dark mode) and the string (including the quotes) in red.\n",
    "\n",
    "Create a new cell for each task using the mouse icons or the keyboard shortcuts. There should be at least three new cells in this section once you're done. You can minimize the output and/or the input of cells if you don't want to scroll back to the exercise every time, please just don't delete the cells!\n",
    "\n",
    "1. Assign a string of your choice to the variable `password`.\n",
    "2. Print the password by passing it to the built-in function `print(password)`. Your password string should now appear below the cell.\n",
    "3. Instead of using the `print()` function, just write `password` in a cell and execute it. Can you spot the difference in the output compared to the `print()` function?"
   ]
  },
  {
   "cell_type": "code",
   "execution_count": null,
   "id": "1e70ffa0-7408-446d-8ea4-160f4c110745",
   "metadata": {
    "editable": true,
    "slideshow": {
     "slide_type": ""
    },
    "tags": []
   },
   "outputs": [],
   "source": []
  },
  {
   "cell_type": "markdown",
   "id": "707aab01-ab63-4191-9764-52f685157539",
   "metadata": {
    "editable": false,
    "slideshow": {
     "slide_type": ""
    },
    "tags": [
     "exercise"
    ]
   },
   "source": [
    "## 1.2 Character indexing\n",
    "To analyze the password you need to access the individual characters in the string. You can do this specifying an _index_ in square brackets. E.g. `password[1]` will return the character `\"u\"` for the example password from [exercise 1.1](#1.1-A-single-password). The index in the square brackets must be an `integer`. Besides individual characters, you can also select/slice multiple characters by specifying an index range. The expression `password[start:stop]` will return the characters in the password from the `start` to the `stop`.\n",
    "\n",
    "1. Try to understand how the indexing of the password string works to access the individual characters. Which index returns the first/last character?\n",
    "2. What is the smallest/greatest allowed value for the index? You can brute force this search by increasing/decreasing the index until you get an `IndexError`.\n",
    "3. How does the string slicing work with an index range? Try to find values for `start` and `stop` that return the entire password.\n",
    "4. What values are required for `start` and `stop` to return a single character at any position `i` in the string?\n",
    "5. Can you find an index range `start:stop` to raise an `IndexError`? What happens in the cases where you would expect an `IndexError` to be raised?"
   ]
  },
  {
   "cell_type": "code",
   "execution_count": null,
   "id": "3c3ebeeb-6309-405e-b370-e77c2f259609",
   "metadata": {
    "editable": true,
    "slideshow": {
     "slide_type": ""
    },
    "tags": []
   },
   "outputs": [],
   "source": []
  },
  {
   "cell_type": "markdown",
   "id": "f4faee9c-2237-4a36-9345-9e8e3b8bdb42",
   "metadata": {
    "editable": false,
    "slideshow": {
     "slide_type": ""
    },
    "tags": [
     "exercise"
    ]
   },
   "source": [
    "## 1.3 Index iteration\n",
    "In the [previous exercise 1.2](#1.2-Character-indexing) you learned how to get specific characters from the password. To iterate over all characters you need all valid indices from the first to the last character in the password. Instead of manually writing the indices into a list you can generate them based on the length of the password. The built-in function `len()` will return the number of characters in the password, and the built-in function `range()` will then return the individual indices to cover that range. You can then iterate over the range with a `for` loop, see the following code snippet to print the characters in the password one by one:\n",
    "```python\n",
    "for i in range(len(password)):\n",
    "    print(password[i])\n",
    "```\n",
    "The code in the for-loop must be indented by four spaces. You can also use the tab key since it will be automatically replaced by four spaces in a Jupyter Notebook. This should be true for any development environment that is correctly configured for Python.\n",
    "\n",
    "1. Try to understand the individual keywords in the for-loop. Which variable can you rename in the cell without raising an error or changing the output?\n",
    "2. Look at the error messages when you omit the colon at the end of the first line or the indent in the second line. Try to remember these errors, they will probably happen regularly as you are learning to write Python code.\n",
    "3. What happens if you print/output the `range()`? Can you get the values from the range with the indexing/slicing from the [previous exercise 1.2](#1.2-Character-indexing)? Try a single index and an index range."
   ]
  },
  {
   "cell_type": "code",
   "execution_count": null,
   "id": "73e2fa39-c26c-41ad-8737-d48b408b2aab",
   "metadata": {
    "editable": true,
    "slideshow": {
     "slide_type": ""
    },
    "tags": []
   },
   "outputs": [],
   "source": []
  },
  {
   "cell_type": "markdown",
   "id": "4184350a-698d-4e60-af63-f415f1c4be3e",
   "metadata": {
    "editable": false,
    "slideshow": {
     "slide_type": ""
    },
    "tags": [
     "exercise"
    ]
   },
   "source": [
    "## 1.4 Direct iteration\n",
    "Instead of using an index to select the characters, you can also directly iterate over the password. The following `for` loop will return/store the characters one by one in the loop variable `character`:\n",
    "```python\n",
    "for character in password:\n",
    "    print(character)\n",
    "```\n",
    "You can use a combination of the index iteration and the direct iteration with the built-in function `enumerate()`. This will return the index and the corresponding character for each step in the `for` loop:\n",
    "```python\n",
    "for i, character in enumerate(password):\n",
    "    print(i, character)\n",
    "```\n",
    "Which loop variant is the most suitable for a task is something that you will learn over time. For now, just try to get used to the syntax of the different loop variants.\n",
    "\n",
    "1. Try the new loop variants introduced in this exercise. Which variables can you rename without changing the output or raising an error?\n",
    "2. Use a single loop variable with `enumerate()` and print it in the for-loop. How can you access the index and character in the loop variable?"
   ]
  },
  {
   "cell_type": "code",
   "execution_count": null,
   "id": "37ea72eb-df38-4511-a517-81cd972a079c",
   "metadata": {
    "editable": true,
    "slideshow": {
     "slide_type": ""
    },
    "tags": []
   },
   "outputs": [],
   "source": []
  },
  {
   "cell_type": "markdown",
   "id": "1aa12b9e-f131-4306-8054-2b5dccd31797",
   "metadata": {
    "editable": false,
    "slideshow": {
     "slide_type": ""
    },
    "tags": [
     "exercise"
    ]
   },
   "source": [
    "## 1.5 Categorizing the characters\n",
    "You will now iterate over the password characters to sort them into lists of alphabetic characters and numeric characters. Regarding the indexing and slicing, lists work just like strings. However, lists can store values of any type, even other lists, whereas strings can only contain characters. You can create lists with square brackets where the values are separated by commas, e.g. `[1, 2, \"a\"]`. With just the square brackets `[]` you can create an empty list.    \n",
    "\n",
    "To check if a character is alphabetic or numeric, you can use the string methods `isalpha()` and `isnumeric()`. Calling `character.isalpha()` will return a boolean (`True` or `False`). You can use this in an `if` statement to decide if the `character` should be appended to the `alphabetic` list:\n",
    "```python\n",
    "if character.isalpha():\n",
    "    alphabetic.append(character)\n",
    "```\n",
    "Just like the for-loop, the `if` statement also requires a colon `:` at the end of the line and the code inside the `if` statement is indented by four spaces.\n",
    "\n",
    "1. Try the string methods `isalpha()` and `isnumeric()` with a few different strings. You can either change your password variable or use new strings.\n",
    "2. Create two empty lists to store the alphabetic characters and numeric characters respectively.\n",
    "3. Iterate over the password characters with a `for` loop of your choice and use two `if` statements inside the loop to append the alphabetic characters and numeric characters to separate lists. Be careful with the leading spaces since the `if` statements will already be indentend by four spaces inside the `for` loop.\n",
    "4. Compare the values in the two lists to your password. Which characters are (expectedly) missing from the lists? Try this with a few different passwords that contain alphabetic, numeric and special characters.\n",
    "5. Count the alphabetic characters and numeric characters by passing the respective lists to the `len()` function. Compute the number of missing characters using the length of the password."
   ]
  },
  {
   "cell_type": "code",
   "execution_count": null,
   "id": "a6eee41c-18db-476b-a951-686cb3025876",
   "metadata": {
    "editable": true,
    "slideshow": {
     "slide_type": ""
    },
    "tags": []
   },
   "outputs": [],
   "source": []
  },
  {
   "cell_type": "markdown",
   "id": "8e4273d5-b9b9-4986-a618-f63cc8504a15",
   "metadata": {
    "editable": false,
    "slideshow": {
     "slide_type": ""
    },
    "tags": [
     "exercise"
    ]
   },
   "source": [
    "## 1.6 Writing a password policy\n",
    "If you sign up somewhere, your password might be rejected because it does not meet some requirements of the password policy. Typical requirements can be:\n",
    "1. The length of the password must be at least 8 characters\n",
    "2. The password must contain at least one alphabetic character\n",
    "3. The password must contain at least one numeric character\n",
    "\n",
    "If any of the requirements are not fulfilled, you will be told to pick a different (and more secure) password. In order to know the changes you have to make to the password, the failed requirements have to be returned to you. E.g. if the length of the password is only 6 characters, the following message should be printed: `The password must be at least 8 characters long.`\n",
    "\n",
    "- Check the password length requirement with the comparison operators `==`, `>` etc... See this [list](https://www.w3schools.com/python/gloss_python_comparison_operators.asp) or the cheatsheet for all available comparison operators.\n",
    "- Compute the lengths of the lists of alphabetic characters and numeric characters to check the other two requirements.\n",
    "- If all three requirements are fulfilled, print a message stating that the password is secure according to the password policy. You can combine conditions with the keywords `or`/`and`.\n",
    "- Check the password policy with a few different passwords. Can you find a password that breaks all three rules of the password policy?"
   ]
  },
  {
   "cell_type": "code",
   "execution_count": null,
   "id": "b7613ccb-5051-4d85-b707-dda83298f8b5",
   "metadata": {
    "editable": true,
    "slideshow": {
     "slide_type": ""
    },
    "tags": []
   },
   "outputs": [],
   "source": []
  },
  {
   "cell_type": "markdown",
   "id": "fe14d01e-85ec-4bf3-a564-daf8984d5e7a",
   "metadata": {
    "editable": false,
    "slideshow": {
     "slide_type": ""
    },
    "tags": [
     "exercise"
    ]
   },
   "source": [
    "## 1.7 Identifying special characters\n",
    "The previous categorization only distinguished between alphabetic characters and numeric characters using the respective string methods `isalpha()` and `isnumeric()`. Unfortunately, checking a string for special characters such as `\"!\"`, `\"?\"` etc... is not implemented as a string method ([source](https://www.w3schools.com/python/python_ref_string.asp)). The solution to this problem is to assume that any character that is neither alphabetic nor numeric must be a special character. In Python you can implement this using an `if`-`elif`-`else` statement.    \n",
    "As an example, the following code snippet shows how you could check if the password is between 8 and 16 characters long\n",
    "```python\n",
    "if len(password) < 8:\n",
    "    print(\"The password is too short\")\n",
    "elif len(password) > 16:\n",
    "    print(\"The password is too long\")\n",
    "else:\n",
    "    print(\"The password has a valid length\")\n",
    "```\n",
    "The keyword `elif` is a combination of `else` and `if`. It allows you to check a second condition if the first condition was `False`. You can also use more than one `elif` statement to handle more complicated cases. When none of the `elif` conditions are `True` either, the code in the `else` statement is executed. As you (implicitely) learned in [exercise 1.5](#1.5-Categorizing-the-characters), the `elif` statement and the `else` statement are optional. If you don't need to handle the case(s) where the initial condition is `False`, it is perfectly fine to just use the `if` statement.\n",
    "\n",
    "1. Use three separate lists to store the alphabetic, numeric and special characters.\n",
    "2. Iterate over the characters in the password and use an `if`-`elif`-`else` statement to sort the characters into the three categories. There should be no characters missing from the three lists this time.\n",
    "3. Compute the lengths of the three lists and compare them to the length of the password to confirm that no characters are missing this time.\n",
    "4. Try a few different passwords with and without characters from the three categories. Your code should handle all passwords without any errors."
   ]
  },
  {
   "cell_type": "code",
   "execution_count": null,
   "id": "173cc3d8-1f82-412d-99ca-12f069c5304c",
   "metadata": {
    "editable": true,
    "slideshow": {
     "slide_type": ""
    },
    "tags": []
   },
   "outputs": [],
   "source": []
  },
  {
   "cell_type": "markdown",
   "id": "d9afd6ed-7d99-4410-95fd-ed1441040fdf",
   "metadata": {
    "editable": false,
    "slideshow": {
     "slide_type": ""
    },
    "tags": [
     "exercise"
    ]
   },
   "source": [
    "## EXTRA: Improving the password policy\n",
    "The requirements are now slightly different compared to [exercise 1.6](#1.6-Writing-a-password-policy), with the goal of increasing the password security even further:\n",
    "1. The length must be between 8 and 16 characters (including 8 and 16)\n",
    "2. The password must contain at least one lower-case character and one upper-case character\n",
    "3. The password must contain at least two numeric characters\n",
    "4. The password must contain at least one special character\n",
    "\n",
    "The rest of the exercise is the same as before. For any requirement that is not fulfilled there should be a message that states the requirement, and if all requirements are fulfilled there should be a message that confirms the security of the password. You can use this [list](https://www.w3schools.com/python/python_ref_string.asp) to find the string methods that you need to solve this exercise.\n",
    "\n",
    "- Use a (boolean) variable for each rule. Otherwise you have to check the (inverse) of the rules again to check if all rules are fulfilled.\n",
    "- Implement the improved password policy. Use the keywords `or`/`and` to combine conditions, and the keyword `not` to invert them.\n",
    "- Try a few different passwords to make sure that all the checks are working as intended."
   ]
  },
  {
   "cell_type": "code",
   "execution_count": null,
   "id": "e695c4b2-f252-41aa-85c1-7a8e526284c2",
   "metadata": {
    "editable": true,
    "slideshow": {
     "slide_type": ""
    },
    "tags": []
   },
   "outputs": [],
   "source": []
  },
  {
   "cell_type": "markdown",
   "id": "e2aa6c6c-9059-41eb-a638-3118f54efcd0",
   "metadata": {
    "editable": false,
    "slideshow": {
     "slide_type": ""
    },
    "tags": [
     "exercise"
    ]
   },
   "source": [
    "## 1.8 Sum of digits\n",
    "You can calculate the digit sum of a passwod by identifying all numeric characters and subsequently computing their sum. As an example, the digit sum of the password `\"duck1234\"` is `10`. Two values can be added with the `+` operator, the definition of the sum does however depend on the types of the values. If the sum of two values is not supported, a `TypeError` will be raised.\n",
    "\n",
    "1. Get the numeric characters from the password and store them in a list. Your password should contain at least two numeric characters.\n",
    "2. Take the sum of the first two characters from the list of numeric characters. What does the sum do for two strings?\n",
    "3. Pass the two characters to the built-in function `int()` to convert them to an `integer` before computing the sum. Does the result match your expectation now?\n",
    "4. Calculate the sum of all numeric characters in the password. The solution should work for any password. If there are no numeric characters, the result must be 0."
   ]
  },
  {
   "cell_type": "code",
   "execution_count": null,
   "id": "40a9b138-0759-4d79-b9ad-b19be6579b4e",
   "metadata": {
    "editable": true,
    "slideshow": {
     "slide_type": ""
    },
    "tags": []
   },
   "outputs": [],
   "source": []
  },
  {
   "cell_type": "markdown",
   "id": "0a1c4fdf-4b17-4627-b452-d2990b00a50d",
   "metadata": {
    "editable": false,
    "slideshow": {
     "slide_type": ""
    },
    "tags": [
     "exercise"
    ]
   },
   "source": [
    "## 1.9 Compact iteration\n",
    "There is a shorter way to get the lists of alphabetic and numeric characters in the password. You can use a so-called _list comprehension_ to write the `for` loop, the `if` statement and the creation of a list in a single line. As an example, see the following code snippet to get the numeric characters from the password:\n",
    "```python\n",
    "numeric = [char for char in password if char.isnumeric()]\n",
    "```\n",
    "\n",
    "1. Make sure that you understand the syntax of the list comprehension. Write down the regular `for` loop from [exercise 1.8](#1.8-Sum-of-digits) again to understand how everything is \"folded\" into a single line.\n",
    "2. Write the list comprehensions to save all the alphabetic characters and numeric characters from the password in separate lists.\n",
    "3. Modify the numeric character list comprehension to directly convert the numeric characters to integers with the built-in function `int()`.\n",
    "4. Pass the list of numeric characters to the function `sum()` to compute the digit sum of the password in a single line.\n",
    "5. Get the special characters from the password using a list comprehension. You can use the keywords `not`, `or` and `and` to \"build\" the required condition.\n",
    "6. Verify that the three lists contain all characters by checking their lengths compared to the length of the password."
   ]
  },
  {
   "cell_type": "code",
   "execution_count": null,
   "id": "4854aa70-0919-4451-b1a3-e4953097a4eb",
   "metadata": {
    "editable": true,
    "slideshow": {
     "slide_type": ""
    },
    "tags": []
   },
   "outputs": [],
   "source": []
  },
  {
   "cell_type": "markdown",
   "id": "fd0a6ffd-b6b1-49a0-96cc-a91cae516e44",
   "metadata": {
    "editable": false,
    "slideshow": {
     "slide_type": ""
    },
    "tags": [
     "exercise"
    ]
   },
   "source": [
    "## 1.10 Counting characters\n",
    "You want to store each unique character in the password with the corresponding count as an integer. Such a mapping of characters and counts is best represented by a `dictionary`. The characters will be the (unique) keys, and the counts will be the values that can be accessed through the respective keys. While the keys must be unique strings or numbers, there are no restrictions on the types of the values (e.g. lists or even other dictionaries would be fine).   \n",
    "There are two ways to create dictionaries. You can either use the built-in function `dict()` or curly brackets `{}`. See the following examples that create equal dictionaries:\n",
    "```python\n",
    "character_count = dict(a=4, c=3)\n",
    "character_count = {\"a\": 4, \"c\": 3}\n",
    "```\n",
    "You can access/change the values in the dictionary by using the key as the \"index\". A `KeyError` is raised if you try to read a key that is not available in the dictionary. With the keyword `in` you can check whether a dictionary contains a certain key:\n",
    "```python\n",
    "if \"a\" in character_count:\n",
    "    print(\"The character 'a' occurs in the password\")\n",
    "else:\n",
    "    print(\"The character 'a' does not occur in the password\")\n",
    "```\n",
    "Writing the value of a key is always possible. If the key does not exist, it will just be added to the dictionary. If the key already exists, the previous value will just be overwritten:\n",
    "```python\n",
    "character_count[\"f\"] = 1\n",
    "```\n",
    "\n",
    "1. Create a few dictionaries using the different syntax variants. What happens if you try to use the same key more than once?\n",
    "2. After you create a dictionary (using your preferred syntax), assign a few more key-value pairs and print/output the dictionary afterwards.\n",
    "3. Start with an empty dictionary to store the character counts of the password and write a `for` loop to iterate over the characters in the password.\n",
    "4. Store the character counts in the dictionary. Only the characters that occur in the password must be in the dictionary, no key should therefore have the value 0.\n",
    "5. Try the character counting with a few different passwords (with several duplicate characters) and make sure to always start with an empty dictionary. How are the keys ordered in the dictionary?"
   ]
  },
  {
   "cell_type": "code",
   "execution_count": null,
   "id": "1eb81677-f984-44eb-b102-5284c9955975",
   "metadata": {
    "editable": true,
    "slideshow": {
     "slide_type": ""
    },
    "tags": []
   },
   "outputs": [],
   "source": []
  },
  {
   "cell_type": "markdown",
   "id": "4a7e0591-e121-421b-b4cb-21e59b24b4bc",
   "metadata": {
    "editable": false,
    "slideshow": {
     "slide_type": ""
    },
    "tags": [
     "exercise"
    ]
   },
   "source": [
    "## 1.11 Dictionary iteration\n",
    "Iterating over the key-value pairs in a dictionary works very similar to lists. Directly iterating over the dictionary will implicitely iterate over the keys. To explicitely iterate over the keys, you can also use the dictionary method `keys()`. The following two `for` loops are therefore equivalent:\n",
    "```python\n",
    "for key in character_count:\n",
    "    print(key)\n",
    "\n",
    "for key in character_count.keys():\n",
    "    print(key)\n",
    "```\n",
    "The second `for` loop makes your code easier to read in exchange for a slightly longer line. This is ultimately a matter of personal preference, you should however not underestimate the value of code readability!    \n",
    "You can also iterate over the values with the method `values()` and the key-value pairs with the method `items()`. In the latter case you get a tuple `(key, value)` in each step of the iteration. You can use two loop variables to directly unpack the tuple during the iteration.\n",
    "\n",
    "1. Either use the `character_count` dictionary from [exercise 1.10](#1.10-Counting-characters) or create a new dictionary with a few key-value pairs.\n",
    "2. Try the `for` loops to iterate over the dictionary keys, values and items. Be creative and think of small tasks that you can solve with the loops.\n",
    "3. Combine the dictionary `for` loops with `enumerate()`. How do you have to arrange the index, the key and the value to unpack the loop over the `items()`?\n",
    "4. Compute the sum of the values in the dictionary in a single line of code. If you used the `character_count` dictionary, the sum has to match the length of the password."
   ]
  },
  {
   "cell_type": "code",
   "execution_count": null,
   "id": "9e23fd03-ff6c-40f0-a92d-c482bd373938",
   "metadata": {
    "editable": true,
    "slideshow": {
     "slide_type": ""
    },
    "tags": []
   },
   "outputs": [],
   "source": []
  },
  {
   "cell_type": "markdown",
   "id": "ec65aa66-635a-4af0-9a1d-24454f6a375a",
   "metadata": {
    "editable": false,
    "slideshow": {
     "slide_type": ""
    },
    "tags": [
     "exercise"
    ]
   },
   "source": [
    "## EXTRA: Your Password Game\n",
    "This is a creative exercise where you can just make up your own password rules. Your partner (or someone from another team) then has to find a password that fulfills all those rules. I got the idea for this exercise from [The Password Game](https://neal.fun/password-game/) by Neal Agarwal. Check out the game if you want some inspiration for possible password rules.    \n",
    "\n",
    "Each rule has to be implemented as a function that accepts the current password as a parameter and returns the description and the boolean result of the rule. As an example, see the following rule that requires a minimum length of 3 characters for the password:\n",
    "```python\n",
    "def minimum_length(password):\n",
    "    result = len(password) >= 3\n",
    "    return \"Your password must have at least 3 characters\", result\n",
    "```\n",
    "You are going to learn the details about functions tomorrow. For this exercise it is enough if you just copy the example function and change the name `minimum_length` to something unique for each rule. You can pass any number of rule functions in a list to the `PasswordGame()`. Inside each function you can check anything you want about the password. Using the things you learned today in the earlier exercises should already allow you to write quite a few rules. If this is not enough for you, look online or ask around for help to create more complex rules.\n",
    "\n",
    "1. Run the cell that defines the class `PasswordGame` once. (I added some comments if you are curious about the implementation of the game)\n",
    "2. Copy (and rename!) the function `minimum_length()` to implement as many rules as you want. Add all functions to the `rules` list.\n",
    "3. Run the cell `game = PasswordGame(rules)` to play the game. If you want to update the rules or restart the game, just run the cell again."
   ]
  },
  {
   "cell_type": "code",
   "execution_count": 59,
   "id": "311d8304-b75f-461d-b41d-3f3d0307d19b",
   "metadata": {
    "editable": false,
    "slideshow": {
     "slide_type": ""
    },
    "tags": []
   },
   "outputs": [],
   "source": [
    "import ipywidgets as widgets\n",
    "\n",
    "class PasswordGame:\n",
    "    # the colors are a light shade of red and green\n",
    "    LABEL_RED = \"#e3736b\"\n",
    "    LABEL_GREEN = \"#93e36b\"\n",
    "\n",
    "    # the layout attribute exposes CSS properties\n",
    "    # https://minrk-ipywidgets.readthedocs.io/en/latest/examples/Widget%20Styling.html\n",
    "    LABEL_LAYOUT = widgets.Layout(padding=\"0px 0px 2px 8px\")\n",
    "\n",
    "    def __init__(self, rules):\n",
    "        # the `rules` are just a list of functions\n",
    "        self.rules = rules\n",
    "        # keep track of the number of rules that are currently displayed\n",
    "        self.n_display = 1\n",
    "\n",
    "        self.label = widgets.Label(value=\"Enter your password:\", layout=self.LABEL_LAYOUT)\n",
    "        self.text = widgets.Text()\n",
    "        # register the instance `self` as the callback function\n",
    "        self.text.observe(self, names=\"value\")\n",
    "\n",
    "        # wrap the label and text input in a VBox\n",
    "        self.input = display(widgets.VBox((self.label, self.text)))\n",
    "        # prepare the output with `display_id=True` to allow `self.output.update()` later\n",
    "        self.output = display(display_id=True)\n",
    "\n",
    "    @classmethod\n",
    "    def get_label(cls, i, comment, valid):\n",
    "        # the boolean variable `valid` sets the background color\n",
    "        color = cls.LABEL_GREEN if valid else cls.LABEL_RED\n",
    "        value = f\"Rule {i+1}: {comment}\" if i >= 0 else comment\n",
    "        return widgets.Label(\n",
    "            value=value,\n",
    "            style=dict(text_color=\"black\", background=color),\n",
    "            layout=cls.LABEL_LAYOUT\n",
    "        )\n",
    "\n",
    "    def update_output(self, value):\n",
    "        # the labels are kept in separate lists based on their result\n",
    "        valid_labels = []\n",
    "        invalid_labels = []\n",
    "        for i in range(self.n_display):\n",
    "            comment, result = self.rules[i](value)\n",
    "            label = PasswordGame.get_label(i, comment, result)\n",
    "            if result:\n",
    "                valid_labels.append(label)\n",
    "            else:\n",
    "                invalid_labels.append(label)\n",
    "\n",
    "        # add a special label if all available rules are fulfilled\n",
    "        if not invalid_labels and self.n_display == len(self.rules):\n",
    "            valid_labels.append(PasswordGame.get_label(-1, \"You solved the password game!\", True))\n",
    "\n",
    "        # reverse the order of both label lists and show the invalid labels first\n",
    "        self.output.update(widgets.VBox(invalid_labels[::-1] + valid_labels[::-1]))\n",
    "\n",
    "        if not invalid_labels and self.n_display < len(self.rules):\n",
    "            # increment `n_display` if there are more rules available\n",
    "            self.n_display += 1\n",
    "            # run this method again to immediately show the new rule\n",
    "            self.update_output(value)\n",
    "\n",
    "    def __call__(self, change):\n",
    "        # this function is called when a change in `self.text` is observed\n",
    "        if change[\"type\"] != \"change\" or change[\"name\"] != \"value\":\n",
    "            return\n",
    "\n",
    "        # call the method `update_output()` with the new password\n",
    "        self.update_output(change[\"new\"])"
   ]
  },
  {
   "cell_type": "code",
   "execution_count": 60,
   "id": "295e9742-4f70-40d3-b4fb-0a7ad45c05ae",
   "metadata": {
    "editable": true,
    "slideshow": {
     "slide_type": ""
    },
    "tags": []
   },
   "outputs": [],
   "source": [
    "# task 2: define the rule functions\n",
    "def minimum_length(password):\n",
    "    result = len(password) >= 3\n",
    "    return \"Your password must have at least 3 characters\", result\n",
    "\n",
    "# add the rule functions to a list\n",
    "rules = [minimum_length]"
   ]
  },
  {
   "cell_type": "code",
   "execution_count": 61,
   "id": "51260a27-b5b4-4342-b1e0-8e755709955f",
   "metadata": {
    "editable": true,
    "slideshow": {
     "slide_type": ""
    },
    "tags": []
   },
   "outputs": [
    {
     "data": {
      "application/vnd.jupyter.widget-view+json": {
       "model_id": "7517d4a5acca4212a4b3b519e544770b",
       "version_major": 2,
       "version_minor": 0
      },
      "text/plain": [
       "VBox(children=(Label(value='Enter your password:', layout=Layout(padding='0px 0px 2px 8px')), Text(value='')))"
      ]
     },
     "metadata": {},
     "output_type": "display_data"
    },
    {
     "data": {},
     "metadata": {},
     "output_type": "display_data"
    }
   ],
   "source": [
    "# task 3: run the password game\n",
    "game = PasswordGame(rules)"
   ]
  },
  {
   "cell_type": "code",
   "execution_count": null,
   "id": "70aefe69-793a-4e89-bf1a-cfd51f673f94",
   "metadata": {
    "editable": true,
    "slideshow": {
     "slide_type": ""
    },
    "tags": []
   },
   "outputs": [],
   "source": []
  },
  {
   "cell_type": "markdown",
   "id": "79fea5db-6b62-4054-9ed6-1a8849a579d3",
   "metadata": {
    "editable": false,
    "slideshow": {
     "slide_type": ""
    },
    "tags": [
     "exercise"
    ]
   },
   "source": [
    "## EXTRA: Making a password more secure\n",
    "This exercise is a follow-up to the [first EXTRA exercise](#EXTRA:-Improving-the-password-policy) about improving the password policy. Make sure to solve this one before starting this exercise.  \n",
    "\n",
    "The password policy in this exercise uses mixed requirements from the earlier two password policies. If you want to make this exercise easier/more difficult, you can slightly modify the requirements to your liking. E.g. you can add the maximum allowed length of 16 or you can drop the numeric character requirement.\n",
    "1. The length of the password must be at least 8 characters\n",
    "2. The password must contain lower-case characters and upper-case characters\n",
    "3. The password must contain at least one numeric character\n",
    "\n",
    "If a password is not considered to be secure enough, it would be convenient to have an algorithm that automatically modifies the password to meet the security requirements. Just appending `\"aA1\"` to every password to meet the latter two requirements would be too easy to crack. The modification(s) should therefore depend on the original password. You can do this with the string methods that are built into Python. For a list of available methods see https://www.w3schools.com/python/python_ref_string.asp or find another resource online.  \n",
    "Since strings cannot be modified in place in Python (they are immutable) the best approach is to work with a list of the individual characters. You can then replace/modify the characters by assigning a new/modified character to the corresponding index in the list. After the modification(s) you can turn the list of characters into a string again with the method `\"\".join()`. See the following code snippet as an illustration. In the password `\"hello\"` the character `\"e\"` is manually replaced by the character `\"3\"` to fulfill the numeric requirement:\n",
    "```python\n",
    "password = \"hello\"\n",
    "characters = [char for char in password]\n",
    "characters[1] = \"3\"\n",
    "modified_password = \"\".join(characters)\n",
    "```\n",
    "\n",
    "**Disclaimer**: Passwords with these simple modifications are still considered to be weak according to [wikipedia/password_strength](https://en.wikipedia.org/wiki/Password_strength#Examples_of_weak_passwords) and [wikipedia/password_cracking](https://en.wikipedia.org/wiki/Password_cracking#Easy_to_remember,_hard_to_guess) since these checks can be easily automated. Nevertheless, it's a good exercise on working with strings.\n",
    "\n",
    "- Write the code to make any password pass the requirements above. You can follow the next bullet points or you can get creative and try to find your own solution.\n",
    "- If there is no lower/upper-case character, replace the first suitable character with its upper/lower-case counterpart.\n",
    "- If there is no numeric character, replace the first suitable character (lower-case or upper-case) by its [leet-speak](https://en.wikipedia.org/wiki/Leet#Table_of_leet-speak_substitutes_for_normal_letters) counterpart. The most common options are `E->3, S->5, B->8, I->1, A->4`.\n",
    "- If the password is not long enough, repeat it until the minimum required length is reached/exceeded.\n",
    "- If you cannot automatically modify the password to meet the requirements, print a message that states why the modification failed.\n",
    "- If you were able to automatically modify the password, print a message that contains the new password.\n",
    "\n",
    "To test your password modification you can try the cases from the table below. Copy the initial password from the table and check if your modified password looks the same. Some of the impossible modifications assume that only the \"most common\" numeric replacements from the exercise are used. If you included more replacments, the modification might be possible anyway.  \n",
    "\n",
    "**It's perfectly fine if your password modification algorithm does not work for all of the last five examples from the table, these are some special edge cases to push the boundaries of the modification algorithm. If you want to improve your algorithm, make sure that you understand where/why the edge cases failed beforehand.**\n",
    "\n",
    "| initial password | modified password |\n",
    "|:----------------:|:-----------------:|\n",
    "|    \"password\"    |     \"P4ssword\"    |\n",
    "|     \"duck123\"    |  \"Duck123duck123\" |\n",
    "|    \"KONSTANZ\"    |     \"kON5TANZ\"    |\n",
    "|        \"A\"       |     \"4aAAAAAA\"    |\n",
    "|       \"123\"      |    not possible   |\n",
    "|    \"AB______\"    |    not possible   |\n",
    "|        \"\"        |    not possible   |\n",
    "|      \"otto\"      |    not possible   |"
   ]
  },
  {
   "cell_type": "code",
   "execution_count": null,
   "id": "6a0fa3e2-a745-4c5f-977f-b9d591725fb9",
   "metadata": {
    "editable": true,
    "slideshow": {
     "slide_type": ""
    },
    "tags": []
   },
   "outputs": [],
   "source": []
  }
 ],
 "metadata": {
  "kernelspec": {
   "display_name": "konstanz2024",
   "language": "python",
   "name": "konstanz2024"
  },
  "language_info": {
   "codemirror_mode": {
    "name": "ipython",
    "version": 3
   },
   "file_extension": ".py",
   "mimetype": "text/x-python",
   "name": "python",
   "nbconvert_exporter": "python",
   "pygments_lexer": "ipython3",
   "version": "3.12.7"
  }
 },
 "nbformat": 4,
 "nbformat_minor": 5
}
