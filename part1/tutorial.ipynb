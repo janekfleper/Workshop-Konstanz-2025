{
 "cells": [
  {
   "cell_type": "markdown",
   "id": "d481f492-ed3d-49bb-8edc-895c921ba7a6",
   "metadata": {
    "editable": false,
    "slideshow": {
     "slide_type": ""
    },
    "tags": []
   },
   "source": [
    "## Jupyter Notebooks"
   ]
  },
  {
   "cell_type": "markdown",
   "id": "b7be01a2-0961-4f6e-8454-581716a4abed",
   "metadata": {
    "editable": false,
    "slideshow": {
     "slide_type": ""
    },
    "tags": []
   },
   "source": [
    "### Edit cells\n",
    "By default the Jupyter Notebook will be in the _command_ mode where you can create, modify or delete entire cells. When you want to change the input of a single cell, you have to use the _edit_ mode. You can either click inside a cell or you can press the `Enter` key to start the _edit_ mode for the cell that you have currently select. When you want to exit the _edit_ mode, you can either click outside of a cell or you can press the `Esc` key. If you are not sure what mode you are currently using, you can look in the status bar at the bottom of the window."
   ]
  },
  {
   "cell_type": "raw",
   "id": "2f746d4b-fcbc-4110-a355-8ed1be91f5c5",
   "metadata": {
    "editable": true,
    "raw_mimetype": "",
    "slideshow": {
     "slide_type": ""
    },
    "tags": []
   },
   "source": [
    "Exercise: Translate this line to your first language and add it to the cell below this line."
   ]
  },
  {
   "cell_type": "markdown",
   "id": "d51e540c-b6f0-4571-a5b2-94d408843f36",
   "metadata": {
    "editable": false,
    "slideshow": {
     "slide_type": ""
    },
    "tags": []
   },
   "source": [
    "### Run cells\n",
    "When you want to run a cell, you can either use the _play_ button in the menu bar at the top or you can press the keys `Shift` + `Enter`. Either option will run the cell and select the next one. This works in either mode, you don't have to exit the _edit_ mode if you are currently working on a cell. In _command_ mode you can also select multiple cells and run them at once.\n",
    "\n",
    "The square brackets next to the input and the (optional) output of `Code` cells will indicate the order in which you have executed the cells. This is important to keep track of the state of your notebook since you will not always just run the cells from top to bottom."
   ]
  },
  {
   "cell_type": "code",
   "execution_count": null,
   "id": "fd6b9474-f9ef-4b39-8e4e-f7a54ce6cad9",
   "metadata": {
    "editable": true,
    "slideshow": {
     "slide_type": ""
    },
    "tags": []
   },
   "outputs": [],
   "source": [
    "1 + 2"
   ]
  },
  {
   "cell_type": "code",
   "execution_count": null,
   "id": "b5e1fe85-94b9-437a-91c5-5851e131045c",
   "metadata": {},
   "outputs": [],
   "source": [
    "3 - 4"
   ]
  },
  {
   "cell_type": "code",
   "execution_count": null,
   "id": "6251939d-c13b-4b5e-9464-3312e8e5f47b",
   "metadata": {},
   "outputs": [],
   "source": [
    "5 * 6"
   ]
  },
  {
   "cell_type": "code",
   "execution_count": null,
   "id": "7523b373-e3ee-4507-b339-893f9870ee89",
   "metadata": {},
   "outputs": [],
   "source": [
    "7 / 8"
   ]
  },
  {
   "cell_type": "code",
   "execution_count": null,
   "id": "5c950e3a-3846-4cca-90b4-b657179ed7a3",
   "metadata": {},
   "outputs": [],
   "source": [
    "2**0.5"
   ]
  },
  {
   "cell_type": "code",
   "execution_count": null,
   "id": "a2f85aaa-f307-4975-a094-05aca46cca17",
   "metadata": {
    "editable": true,
    "slideshow": {
     "slide_type": ""
    },
    "tags": []
   },
   "outputs": [],
   "source": [
    "# compute something else here\n"
   ]
  },
  {
   "cell_type": "markdown",
   "id": "ff66b684-154e-4b03-9dee-6a1755fda98b",
   "metadata": {
    "editable": false,
    "slideshow": {
     "slide_type": ""
    },
    "tags": []
   },
   "source": [
    "### Create cells\n",
    "You can add an empty cell below the currently selected one with the `+` button in the menu bar. The same action is available by pressing the key `B` in the _command_ mode or by using the second button from the right in the cell menu. Adding an empty cell above the current one is possible with the key `A` and the third button from the right in the cell menu."
   ]
  },
  {
   "cell_type": "code",
   "execution_count": null,
   "id": "b284c52a-e7e3-45a4-b7dc-1cbf7cb60507",
   "metadata": {
    "editable": false,
    "slideshow": {
     "slide_type": ""
    },
    "tags": []
   },
   "outputs": [],
   "source": [
    "# add one cell below this cell and add two cells above this cell."
   ]
  },
  {
   "cell_type": "markdown",
   "id": "a8cf4e1b-da28-4174-b57f-25efb21b889a",
   "metadata": {
    "editable": false,
    "slideshow": {
     "slide_type": ""
    },
    "tags": []
   },
   "source": [
    "### Cell types\n",
    " There are three cell types available:\n",
    "- A `Code` cell always has an input where you can write code and an optional output where the result of the cell is displayed.\n",
    "- A `Markdown` cell can be used to do some text formatting (such as the cell you are currently reading). There is no separate output, the cell is just formatted when you run it.\n",
    "- A `Raw` cell just accepts any text as input that is not interpreted in any way. The output looks exactly like the input.\n",
    "\n",
    "If you create a new cell, the type will always be `Code` by default. You can change the cell type in the menu bar at the top of the notebook or by pressing the keys `Y`, `M` and `R` for the respective types `Code`, `Markdown` and `Raw`."
   ]
  },
  {
   "cell_type": "code",
   "execution_count": null,
   "id": "6d3400b2-a581-4fac-92cb-d24c049723e5",
   "metadata": {
    "editable": true,
    "slideshow": {
     "slide_type": ""
    },
    "tags": []
   },
   "outputs": [],
   "source": [
    "1 + 2"
   ]
  },
  {
   "cell_type": "markdown",
   "id": "8432b7fa-9ef0-4965-ad7c-4055a6a9b3c6",
   "metadata": {},
   "source": [
    "$1 + 2$"
   ]
  },
  {
   "cell_type": "raw",
   "id": "e0d2e68c-3acf-4adb-b4e3-47eb8c37f2ef",
   "metadata": {
    "editable": true,
    "raw_mimetype": "",
    "slideshow": {
     "slide_type": ""
    },
    "tags": []
   },
   "source": [
    "1 + 2"
   ]
  },
  {
   "cell_type": "markdown",
   "id": "0a27274c-2eb1-4e11-a825-ef32f9ee67ba",
   "metadata": {
    "editable": false,
    "slideshow": {
     "slide_type": ""
    },
    "tags": []
   },
   "source": [
    "### Move cells\n",
    "When you want to move cells around to change their order, you have to be in the _command_ mode. Hold down the left mouse button to the left of the cell that you want to move. Drag the cell to the new position and release the mouse button to drop the cell.\n",
    "\n",
    "Exercise: Order the cells below from your favorite color to your least favorite color."
   ]
  },
  {
   "cell_type": "markdown",
   "id": "7b637a76-73ad-4974-9d41-7f6781516498",
   "metadata": {
    "editable": false,
    "slideshow": {
     "slide_type": ""
    },
    "tags": []
   },
   "source": [
    "<div style=\"background-color: violet; height: 30px; width: 100%\"></div>"
   ]
  },
  {
   "cell_type": "markdown",
   "id": "8cb915ba-9aad-4803-8252-92a896959dbf",
   "metadata": {
    "editable": false,
    "slideshow": {
     "slide_type": ""
    },
    "tags": []
   },
   "source": [
    "<div style=\"background-color: blue; height: 30px; width: 100%\"></div>"
   ]
  },
  {
   "cell_type": "markdown",
   "id": "60355700-70c3-4b43-97ba-8090cedca282",
   "metadata": {
    "editable": false,
    "slideshow": {
     "slide_type": ""
    },
    "tags": []
   },
   "source": [
    "<div style=\"background-color: green; height: 30px; width: 100%\"></div>"
   ]
  },
  {
   "cell_type": "markdown",
   "id": "8e6cddee-bbf4-44c1-bcae-52f6c9937c4c",
   "metadata": {
    "editable": false,
    "slideshow": {
     "slide_type": ""
    },
    "tags": []
   },
   "source": [
    "<div style=\"background-color: yellow; height: 30px; width: 100%\"></div>"
   ]
  },
  {
   "cell_type": "markdown",
   "id": "f5619523-d76f-45d8-bf16-afe4843f6453",
   "metadata": {
    "editable": false,
    "slideshow": {
     "slide_type": ""
    },
    "tags": []
   },
   "source": [
    "<div style=\"background-color: orange; height: 30px; width: 100%\"></div>"
   ]
  },
  {
   "cell_type": "markdown",
   "id": "5f2a7e56-2974-4f31-80fc-5695e88afbd5",
   "metadata": {
    "editable": false,
    "slideshow": {
     "slide_type": ""
    },
    "tags": []
   },
   "source": [
    "<div style=\"background-color: red; height: 30px; width: 100%\"></div>"
   ]
  },
  {
   "cell_type": "markdown",
   "id": "a9ff1a0f-5d62-418e-a6cf-ed470d10dded",
   "metadata": {
    "editable": false,
    "slideshow": {
     "slide_type": ""
    },
    "tags": []
   },
   "source": [
    "### Copy and paste cells\n",
    "In the _command_ mode you can cut, copy and paste a cell (or multiple cells) with the keys `X`, `C` and `V` (or using the buttons in the menu bar above the Notebook). These operations also work between different Notebooks in the same Jupyter window.\n",
    "\n",
    "Exercise: Copy your favorite color from the previous section and paste it three times in this section."
   ]
  },
  {
   "cell_type": "markdown",
   "id": "8664a9b7-e4ae-4281-a635-af0ab2727855",
   "metadata": {
    "editable": false,
    "slideshow": {
     "slide_type": ""
    },
    "tags": []
   },
   "source": [
    "### Undo cell operations\n",
    "If you have done any of the cell operations from the previous sections in the _command_, you can use the keys `Z` and `Shift` + `Z` (in the _command_ mode) to undo and redo these operations. This will not affect changes inside the cells. You have to use the keys `Ctrl` + `Z` and `Ctrl` + `Shift` + `Z` (in the _edit_ mode) to undo and redo these changes.\n",
    "\n",
    "Exercise: Create a new cell, write down a calculation of your choice and run the cell. Start the _edit_ mode again and undo (some of) the changes in the cell. Exit the cell and undo the cell creation in _command_ mode."
   ]
  },
  {
   "cell_type": "markdown",
   "id": "23639f49-05c8-40fc-b29b-1714fb1ae0da",
   "metadata": {
    "editable": false,
    "slideshow": {
     "slide_type": ""
    },
    "tags": []
   },
   "source": [
    "### Save notebooks\n",
    "By default the autosave option is activated which will save your Notebook once every 2 minutes. You can also save the Notebook manually with the button in the menu bar or by pressing the keys `Ctrl` + `S`. If you want to close a Notebook with unsaved changes, you will also be prompted to save the changes or discard them."
   ]
  },
  {
   "cell_type": "code",
   "execution_count": null,
   "id": "e32d1ac0-4ae9-48ef-98e2-93101672b289",
   "metadata": {
    "editable": true,
    "slideshow": {
     "slide_type": ""
    },
    "tags": []
   },
   "outputs": [],
   "source": []
  },
  {
   "cell_type": "markdown",
   "id": "eae0aaa8-183c-4b6b-865f-73369969dbec",
   "metadata": {
    "editable": false,
    "slideshow": {
     "slide_type": ""
    },
    "tags": []
   },
   "source": [
    "## Python basics"
   ]
  },
  {
   "cell_type": "markdown",
   "id": "1070d7ce-3ed8-4d89-89ab-d47a6fc3df85",
   "metadata": {
    "editable": false,
    "slideshow": {
     "slide_type": ""
    },
    "tags": []
   },
   "source": [
    "### Variables\n",
    "In any programming language you need variables to store the results of computations, function calls etc... In Python you can just assign any value to a variable with an equal sign. See the following example where the (integer) value `3` is assigned to a variable with the name `x`:\n",
    "```python\n",
    "x = 1 + 2\n",
    "```\n",
    "The most important properties of variables are:\n",
    "- A variable name must start with a letter an underscore `_`. Ä, Ö, Ü and ß (and many Unicode letters) work but I would discourage you from ever using them for variable names!\n",
    "- A variable name can contain letters, numbers (`0` to `9`) or underscores. Only the first character must not be a number!\n",
    "- Variable names are case-sensitive, e.g. `Name` and `name` are different variables.\n",
    "- You do not need to specify the type of a variable, Python will just handle this dynamically.\n",
    "- You can overwrite any variable by just assigning another value. The previous value of the variable will then be gone.\n",
    "- If you assign a variable in a cell, it will be available in the entire Notebook. Make sure that you keep track of your variables to avoid mistakes!"
   ]
  },
  {
   "cell_type": "code",
   "execution_count": null,
   "id": "166cc0d0-ffee-4956-b23a-b2f8fa007425",
   "metadata": {
    "editable": true,
    "slideshow": {
     "slide_type": ""
    },
    "tags": []
   },
   "outputs": [],
   "source": [
    "# assign the value 3 to the variable x\n",
    "x = 1 + 2"
   ]
  },
  {
   "cell_type": "code",
   "execution_count": null,
   "id": "5209c8ad-5de8-4968-985d-cb1a51e8e946",
   "metadata": {
    "editable": true,
    "slideshow": {
     "slide_type": ""
    },
    "tags": []
   },
   "outputs": [],
   "source": [
    "# output the value of the variable x in a new cell\n",
    "x"
   ]
  },
  {
   "cell_type": "code",
   "execution_count": null,
   "id": "1bee0012-c9ba-42a6-9b42-01191e7e1f65",
   "metadata": {
    "editable": true,
    "slideshow": {
     "slide_type": ""
    },
    "tags": []
   },
   "outputs": [],
   "source": [
    "# overwrite the variable x and output it in the same cell\n",
    "x = 3 - 4\n",
    "x"
   ]
  },
  {
   "cell_type": "markdown",
   "id": "eccf13cd-2699-413a-ad50-2dc4a83c0000",
   "metadata": {
    "editable": false,
    "slideshow": {
     "slide_type": ""
    },
    "tags": []
   },
   "source": [
    "### Data types\n",
    "In every programming language there a fundamental data types to represent different kinds of values. The most important (scalar) data types in Python are `string`, `integer`, `float` and `boolean`. (This is just a selection of types to get you started, you are going to get to know more types during the workshop.)"
   ]
  },
  {
   "cell_type": "code",
   "execution_count": null,
   "id": "9cde6248-3e6c-4e9b-9627-1d4fab9e666d",
   "metadata": {
    "editable": true,
    "slideshow": {
     "slide_type": ""
    },
    "tags": []
   },
   "outputs": [],
   "source": [
    "# a string is a sequence of characters in quotation marks (either single quotes '' or double quotes \"\")\n",
    "\"hello\", \"world\""
   ]
  },
  {
   "cell_type": "code",
   "execution_count": null,
   "id": "32f88d48-15e3-4fe7-8b43-bfe1720d6402",
   "metadata": {
    "editable": true,
    "slideshow": {
     "slide_type": ""
    },
    "tags": []
   },
   "outputs": [],
   "source": [
    "# an integer is a number without a decimal part\n",
    "27, 137"
   ]
  },
  {
   "cell_type": "code",
   "execution_count": null,
   "id": "46254463-d6eb-48a1-ae89-0ca1442b8f08",
   "metadata": {
    "editable": true,
    "slideshow": {
     "slide_type": ""
    },
    "tags": []
   },
   "outputs": [],
   "source": [
    "# a float is a number with a decimal part\n",
    "4.815, 23.42"
   ]
  },
  {
   "cell_type": "code",
   "execution_count": null,
   "id": "64c2c9ec-1bdb-438d-8352-1245a354ba88",
   "metadata": {
    "editable": true,
    "slideshow": {
     "slide_type": ""
    },
    "tags": []
   },
   "outputs": [],
   "source": [
    "# a boolean is either True or False\n",
    "True, False"
   ]
  },
  {
   "cell_type": "code",
   "execution_count": null,
   "id": "35c3db20-0629-4eff-b556-d1934defc23f",
   "metadata": {
    "editable": true,
    "slideshow": {
     "slide_type": ""
    },
    "tags": []
   },
   "outputs": [],
   "source": []
  }
 ],
 "metadata": {
  "kernelspec": {
   "display_name": "konstanz2024",
   "language": "python",
   "name": "konstanz2024"
  },
  "language_info": {
   "codemirror_mode": {
    "name": "ipython",
    "version": 3
   },
   "file_extension": ".py",
   "mimetype": "text/x-python",
   "name": "python",
   "nbconvert_exporter": "python",
   "pygments_lexer": "ipython3",
   "version": "3.12.7"
  }
 },
 "nbformat": 4,
 "nbformat_minor": 5
}
