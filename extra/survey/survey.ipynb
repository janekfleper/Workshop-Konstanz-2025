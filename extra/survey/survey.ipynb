{
 "cells": [
  {
   "cell_type": "code",
   "execution_count": 1,
   "id": "3e899342-a180-4d70-8cd7-3938758b224b",
   "metadata": {
    "editable": true,
    "slideshow": {
     "slide_type": ""
    },
    "tags": []
   },
   "outputs": [],
   "source": [
    "import numpy as np\n",
    "import pandas as pd\n",
    "import matplotlib.pyplot as plt"
   ]
  },
  {
   "cell_type": "code",
   "execution_count": null,
   "id": "8c18facd-1aa8-45e0-9ab9-425d22aa6a7d",
   "metadata": {
    "editable": true,
    "slideshow": {
     "slide_type": ""
    },
    "tags": []
   },
   "outputs": [],
   "source": []
  },
  {
   "cell_type": "code",
   "execution_count": 2,
   "id": "70977489-fe60-4a2e-b56e-f2fcbcd1a49d",
   "metadata": {
    "editable": true,
    "slideshow": {
     "slide_type": ""
    },
    "tags": []
   },
   "outputs": [],
   "source": [
    "def get_question(column_name):\n",
    "    \"\"\"\n",
    "    Get the question id from a column name\n",
    "\n",
    "    Example: \"A01[SQ003]\" returns \"A01\"\n",
    "    \"\"\"\n",
    "    return column_name.split(\"[\")[0]"
   ]
  },
  {
   "cell_type": "code",
   "execution_count": 3,
   "id": "c3ff488f-0c0c-4f4a-8c83-3767e471ee7f",
   "metadata": {
    "editable": true,
    "slideshow": {
     "slide_type": ""
    },
    "tags": []
   },
   "outputs": [],
   "source": [
    "def get_reponse(column_name):\n",
    "    \"\"\"\n",
    "    Get the response id from a column name\n",
    "\n",
    "    Example: \"A01[SQ003]\" returns \"SQ003\"\n",
    "    \"\"\"\n",
    "    return column_name.split(\"[\")[1].strip(\"]\")"
   ]
  },
  {
   "cell_type": "code",
   "execution_count": 4,
   "id": "9431fe55-f19e-476e-9208-1f19b77aa3c8",
   "metadata": {
    "editable": true,
    "slideshow": {
     "slide_type": ""
    },
    "tags": []
   },
   "outputs": [],
   "source": [
    "def merge_multiple_choice(row, column_names):\n",
    "    \"\"\"\n",
    "    Merge multiple choice values from multiple columns\n",
    "\n",
    "    Pass this function to df.apply() to run it on each row of the DataFrame.\n",
    "\n",
    "    If none of the values are \"Ja\", return the value of the last column.\n",
    "    \"\"\"\n",
    "    data = dict(row[column_names])\n",
    "    for key, value in data.items():\n",
    "        if value == \"Ja\":\n",
    "            return get_reponse(key)\n",
    "    return data[column_names[-1]]"
   ]
  },
  {
   "cell_type": "code",
   "execution_count": null,
   "id": "7ed85842-c8fa-45a2-9b79-f649ff081465",
   "metadata": {
    "editable": true,
    "slideshow": {
     "slide_type": ""
    },
    "tags": []
   },
   "outputs": [],
   "source": []
  },
  {
   "cell_type": "markdown",
   "id": "ce186dd5-98b2-4db3-9bc2-1d3a742520f7",
   "metadata": {
    "editable": true,
    "slideshow": {
     "slide_type": ""
    },
    "tags": []
   },
   "source": [
    "## Loading the Excel file\n",
    "**Warning**: If you try to run this for the first time, you should get a `ModuleNotFoundError` and an `ImportError` claiming that the optional dependency `openpyxl` is missing. Use either `pip` or `conda` to install the package from the miniconda terminal. Go back to the miniconda installation notebook if you do not remember the commands.\n",
    "\n",
    "Pandas has a function that allows you to directly load an Excel file into a data frame. "
   ]
  },
  {
   "cell_type": "code",
   "execution_count": 5,
   "id": "1b441885-7612-4e7f-854b-331229fe6dfa",
   "metadata": {
    "editable": true,
    "slideshow": {
     "slide_type": ""
    },
    "tags": []
   },
   "outputs": [],
   "source": [
    "# read the excel file into a data frame with the function \"pd.read_excel()\"\n",
    "df = pd.read_excel(\"raw_data_after_certification_complete_nocontacts_23-10-16.xlsx\")"
   ]
  },
  {
   "cell_type": "code",
   "execution_count": 6,
   "id": "be7f1461-d776-4b72-a8ec-e5aac1c70b46",
   "metadata": {
    "editable": true,
    "slideshow": {
     "slide_type": ""
    },
    "tags": []
   },
   "outputs": [
    {
     "data": {
      "text/plain": [
       "Index(['id', 'A01[SQ003]', 'A01[SQ004]', 'A01[SQ006]', 'A01[SQ005]',\n",
       "       'A01[SQ008]', 'A01[SQ007]', 'A01[other]', 'A02[SQ001]', 'A02[SQ002]',\n",
       "       'A03[SQ001]', 'A03[SQ002]', 'A03[SQ003]', 'A04[SQ001]', 'A05[SQ001]',\n",
       "       'B01', 'B002a', 'B002b', 'B02[SQ002]', 'B02[SQ004]', 'B02[SQ001]',\n",
       "       'B02[SQ005]', 'B02[SQ006]', 'B05a[SQ002]', 'B05a[SQ004]', 'B05a[SQ001]',\n",
       "       'B05a[SQ003]', 'B05b[SQ003]', 'B05b[SQ001]', 'B05b[SQ002]',\n",
       "       'B05c[SQ002]', 'B05c[SQ004]', 'B05c[SQ005]', 'B05c[SQ001]',\n",
       "       'B05c[SQ003]', 'B05d[SQ004]', 'B05d[SQ001]', 'B05d[SQ003]',\n",
       "       'B42[SQ001]', 'B42[SQ002]', 'B42[SQ003]', 'B42[SQ004]', 'B42[other]',\n",
       "       'B07[SQ002]', 'B07[SQ001]', 'B07[SQ003]', 'B07[SQ004]', 'B07[SQ005]',\n",
       "       'B07[SQ006]', 'B07[other]', 'B04[SQ001]', 'B04[SQ002]', 'B04[SQ003]',\n",
       "       'B04[SQ004]', 'B04[other]', 'B03', 'B03[comment]', 'B08a[SQ001]',\n",
       "       'B08a[SQ004]', 'B08a[SQ002]', 'B08a[SQ003]', 'B08a[SQ005]',\n",
       "       'B08b[SQ001]', 'B08b[SQ004]', 'B08b[SQ002]', 'B08b[SQ003]',\n",
       "       'B08c[SQ001]', 'B08c[SQ004]', 'B08c[SQ002]', 'B09aAlle[SQ001]',\n",
       "       'B09aAlle[SQ004]', 'B09aAlle[SQ002]', 'B09aAlle[SQ003]',\n",
       "       'B09aAlle[SQ005]', 'B09aAlle[other]', 'B09cEco[SQ001]',\n",
       "       'B09cEco[SQ004]', 'B09cEco[SQ002]', 'B09cEco[SQ006]', 'B09cEco[SQ007]',\n",
       "       'B09cEco[SQ003]', 'B09cEco[SQ005]', 'B09cEco[other]', 'B10[SQ001]',\n",
       "       'B10[SQ002]', 'B43', 'C033', 'C01', 'C012', 'C03', 'B06',\n",
       "       'B06[comment]', 'C04', 'C04[comment]', 'C042', 'C05'],\n",
       "      dtype='object')"
      ]
     },
     "execution_count": 6,
     "metadata": {},
     "output_type": "execute_result"
    }
   ],
   "source": [
    "df.columns"
   ]
  },
  {
   "cell_type": "code",
   "execution_count": null,
   "id": "2e703f9d-d09c-4431-8c93-f35d5427a958",
   "metadata": {
    "editable": true,
    "slideshow": {
     "slide_type": ""
    },
    "tags": []
   },
   "outputs": [],
   "source": []
  },
  {
   "cell_type": "markdown",
   "id": "606fa826-1c03-4aab-9946-4efcaae350ce",
   "metadata": {
    "editable": true,
    "slideshow": {
     "slide_type": ""
    },
    "tags": []
   },
   "source": [
    "### Merging multiple choice columns into one\n",
    "For a multiple choice question each possible answer is stored in a separate column. To get a better overview it makes a lot of sense to merge these columns into one single column. The merged value should be the name of the column where the response was `'Ja'`. If there is some \"other\" option, this can be the default value if none of the responses are equal to `'Ja'`."
   ]
  },
  {
   "cell_type": "code",
   "execution_count": 7,
   "id": "a0f07215-cced-444c-a5ca-d9ae30a499ff",
   "metadata": {
    "editable": true,
    "slideshow": {
     "slide_type": ""
    },
    "tags": []
   },
   "outputs": [
    {
     "data": {
      "text/plain": [
       "['A01[SQ003]',\n",
       " 'A01[SQ004]',\n",
       " 'A01[SQ006]',\n",
       " 'A01[SQ005]',\n",
       " 'A01[SQ008]',\n",
       " 'A01[SQ007]',\n",
       " 'A01[other]']"
      ]
     },
     "execution_count": 7,
     "metadata": {},
     "output_type": "execute_result"
    }
   ],
   "source": [
    "# select all columns corresponding to question A01\n",
    "columns_A01 = [col for col in df.columns if col.startswith(\"A01\")]\n",
    "columns_A01"
   ]
  },
  {
   "cell_type": "code",
   "execution_count": 8,
   "id": "35c55201-6e69-417d-a0c5-e23b9735826a",
   "metadata": {
    "editable": true,
    "slideshow": {
     "slide_type": ""
    },
    "tags": []
   },
   "outputs": [],
   "source": [
    "# create the series by applying the merge function\n",
    "A01 = df.apply(merge_multiple_choice, axis=1, args=(columns_A01,))"
   ]
  },
  {
   "cell_type": "code",
   "execution_count": 9,
   "id": "94132965-4324-4c04-834e-9901bfa6bb79",
   "metadata": {
    "editable": true,
    "slideshow": {
     "slide_type": ""
    },
    "tags": []
   },
   "outputs": [],
   "source": [
    "# insert the series as a new column in the DataFrame\n",
    "df.insert(loc=1, column=\"A01\", value=A01)"
   ]
  },
  {
   "cell_type": "code",
   "execution_count": 10,
   "id": "d026484e-0c74-4d9c-b252-52bb445fac5a",
   "metadata": {
    "editable": true,
    "slideshow": {
     "slide_type": ""
    },
    "tags": []
   },
   "outputs": [],
   "source": [
    "# drop the old columns starting with \"A01\"\n",
    "df.drop(labels=columns_A01, axis=1, inplace=True)"
   ]
  },
  {
   "cell_type": "code",
   "execution_count": null,
   "id": "4861d77a-9ecc-432f-941b-ec55bb4149f3",
   "metadata": {
    "editable": true,
    "slideshow": {
     "slide_type": ""
    },
    "tags": []
   },
   "outputs": [],
   "source": []
  },
  {
   "cell_type": "markdown",
   "id": "0d5b5b8c-87d4-4c30-9d29-6329dc213a39",
   "metadata": {
    "editable": true,
    "slideshow": {
     "slide_type": ""
    },
    "tags": []
   },
   "source": [
    "## Counting "
   ]
  },
  {
   "cell_type": "code",
   "execution_count": 11,
   "id": "5b1d3707-cb4b-4d84-b97f-57eb4d92b037",
   "metadata": {
    "editable": true,
    "slideshow": {
     "slide_type": ""
    },
    "tags": []
   },
   "outputs": [
    {
     "data": {
      "text/plain": [
       "['A03[SQ001]', 'A03[SQ002]', 'A03[SQ003]']"
      ]
     },
     "execution_count": 11,
     "metadata": {},
     "output_type": "execute_result"
    }
   ],
   "source": [
    "columns_A03 = [col for col in df.columns if col.startswith(\"A03\")]\n",
    "columns_A03"
   ]
  },
  {
   "cell_type": "code",
   "execution_count": 12,
   "id": "b8f8f998-3a1a-43f4-9349-3922331625f0",
   "metadata": {
    "editable": true,
    "slideshow": {
     "slide_type": ""
    },
    "tags": []
   },
   "outputs": [],
   "source": [
    "# compute value counts for all columns at once: https://stackoverflow.com/a/32589877\n",
    "df_A03 = df.query(\"B01 == 'LEAF'\")[columns_A03].apply(pd.Series.value_counts).fillna(0).convert_dtypes()"
   ]
  },
  {
   "cell_type": "code",
   "execution_count": 13,
   "id": "75311b3a-0c88-4afa-98d2-e09a678c25a4",
   "metadata": {
    "editable": true,
    "slideshow": {
     "slide_type": ""
    },
    "tags": []
   },
   "outputs": [
    {
     "data": {
      "image/png": "[encoded data removed]",
      "text/plain": [
       "<Figure size 1200x400 with 2 Axes>"
      ]
     },
     "metadata": {},
     "output_type": "display_data"
    }
   ],
   "source": [
    "fig, axs = plt.subplots(nrows=1, ncols=2, figsize=(12, 4))\n",
    "df_A03.T.plot(kind=\"bar\", ax=axs[0])\n",
    "df_A03.plot(kind=\"bar\", ax=axs[1])\n",
    "# rotate xlabels https://stackoverflow.com/a/56139690\n",
    "for ax in axs:\n",
    "    ax.set_xticks(ax.get_xticks(), ax.get_xticklabels(), rotation=0, ha='center')\n",
    "fig.suptitle(\"query: B01 == 'LEAF'\")\n",
    "fig.savefig(\"A03.png\")"
   ]
  },
  {
   "cell_type": "code",
   "execution_count": null,
   "id": "2b532611-252a-4f92-94d9-f43b1376999b",
   "metadata": {
    "editable": true,
    "slideshow": {
     "slide_type": ""
    },
    "tags": []
   },
   "outputs": [],
   "source": []
  },
  {
   "cell_type": "code",
   "execution_count": 14,
   "id": "7a5e17d3-0fe8-4cfd-8ff9-bf927de2d8bc",
   "metadata": {
    "editable": true,
    "slideshow": {
     "slide_type": ""
    },
    "tags": []
   },
   "outputs": [
    {
     "data": {
      "text/plain": [
       "['B02[SQ002]', 'B02[SQ004]', 'B02[SQ001]', 'B02[SQ005]', 'B02[SQ006]']"
      ]
     },
     "execution_count": 14,
     "metadata": {},
     "output_type": "execute_result"
    }
   ],
   "source": [
    "columns_B02 = [col for col in df.columns if col.startswith(\"B02\")]\n",
    "columns_B02"
   ]
  },
  {
   "cell_type": "code",
   "execution_count": 15,
   "id": "35251813-4df2-4b49-a10f-896005822c80",
   "metadata": {
    "editable": true,
    "slideshow": {
     "slide_type": ""
    },
    "tags": []
   },
   "outputs": [],
   "source": [
    "df_B02 = df.query(\"B01 == 'LEAF'\")[columns_B02].apply(pd.Series.value_counts).fillna(0).convert_dtypes()"
   ]
  },
  {
   "cell_type": "code",
   "execution_count": 16,
   "id": "2fb0be06-0b9e-499a-948f-5cfd828bc1bc",
   "metadata": {
    "editable": true,
    "slideshow": {
     "slide_type": ""
    },
    "tags": []
   },
   "outputs": [
    {
     "data": {
      "image/png": "[encoded data removed]",
      "text/plain": [
       "<Figure size 1200x500 with 2 Axes>"
      ]
     },
     "metadata": {},
     "output_type": "display_data"
    }
   ],
   "source": [
    "fig, axs = plt.subplots(nrows=1, ncols=2, figsize=(12, 5))\n",
    "# https://stackoverflow.com/a/67391843\n",
    "fig.set_tight_layout(True)\n",
    "df_B02.T.plot(kind=\"bar\", ax=axs[0])\n",
    "df_B02.plot(kind=\"bar\", ax=axs[1])\n",
    "fig.suptitle(\"query: B01 == 'LEAF'\")\n",
    "fig.savefig(\"B02.png\")"
   ]
  },
  {
   "cell_type": "code",
   "execution_count": null,
   "id": "2be3349f-d07f-466f-816b-3c3e0adbb9cc",
   "metadata": {
    "editable": true,
    "slideshow": {
     "slide_type": ""
    },
    "tags": []
   },
   "outputs": [],
   "source": []
  }
 ],
 "metadata": {
  "kernelspec": {
   "display_name": "konstanz2024",
   "language": "python",
   "name": "konstanz2024"
  },
  "language_info": {
   "codemirror_mode": {
    "name": "ipython",
    "version": 3
   },
   "file_extension": ".py",
   "mimetype": "text/x-python",
   "name": "python",
   "nbconvert_exporter": "python",
   "pygments_lexer": "ipython3",
   "version": "3.12.7"
  }
 },
 "nbformat": 4,
 "nbformat_minor": 5
}
