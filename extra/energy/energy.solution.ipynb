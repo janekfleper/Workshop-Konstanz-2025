{
 "cells": [
  {
   "cell_type": "markdown",
   "id": "c9403ea7-70c8-48c8-9dd8-a4f7f9b9381a",
   "metadata": {
    "editable": true,
    "slideshow": {
     "slide_type": ""
    },
    "tags": []
   },
   "source": [
    "## Importing packages\n",
    "If you are working with a notebook, it is a good practice to import all the packages that you need at the top of the notebook. This will automatically give you a rough idea of what the notebook is about, and you will avoid random package imports throughout the notebook.\n",
    "\n",
    "- Import the three packages you have used so far with their correct renaming conventions."
   ]
  },
  {
   "cell_type": "code",
   "execution_count": 1,
   "id": "3e899342-a180-4d70-8cd7-3938758b224b",
   "metadata": {},
   "outputs": [],
   "source": [
    "import numpy as np\n",
    "import pandas as pd\n",
    "import matplotlib.pyplot as plt"
   ]
  },
  {
   "cell_type": "code",
   "execution_count": null,
   "id": "8c18facd-1aa8-45e0-9ab9-425d22aa6a7d",
   "metadata": {
    "editable": true,
    "slideshow": {
     "slide_type": ""
    },
    "tags": []
   },
   "outputs": [],
   "source": []
  },
  {
   "cell_type": "markdown",
   "id": "cee9f9b2-ca15-494f-a93d-bf24f63ccbf1",
   "metadata": {},
   "source": [
    "## Reading csv files\n",
    "The package pandas introduces the function `pd.read_csv()` that allows you to turn a csv file directly into a data frame. Depending on the specific format of the csv file, you have to use quite a few arguments to `pd.read_csv()` to read the csv file without any errors. See the following arguments that are useful/required to load the temperature csv files:\n",
    "- `sep`: separator of the data columns, this will be a comma in most cases but sometimes this is also a semicolon\n",
    "- `decimal`: decimal character for numerical data, this will be a comma if the file uses a \"German\" number format\n",
    "- `names`: list of names to use for the columns, use this if the column names are not (well) specified in the csv file\n",
    "- `usecols`: list of columns to use, if there are six columns in the csv file but you don't need the first and the last one, use `[1, 2, 3, 4]`\n",
    "- `index_col`: specify the column to be used as the index, this is applied after `usecols`\n",
    "- `skiprows`: skip the specified number/list of rows before starting to read the data columns, use this if there is some metadata at the top of your csv file\n",
    "- `header`: index of the row where the column names are specified, this is counted after applying `skiprows`\n",
    "- `nrows`: specify the number of rows to load, use this if you only want to load the entire csv file at once\n",
    "- `encoding`: to save text in a file you need an encoding that specifies how strings are transformed to bytes, the default here should be `\"utf-8\"`\n",
    "\n",
    "In any case, you should always open a csv file in an editor first to check the format. Unless you already know the arguments for the specific format, this will always be quicker than trying to blindly read the file with pandas.\n",
    "\n",
    "- Look at the csv file for the power consumption data in editor. What is used as the `delimiter` and the `decimal`? Do you have to skip any rows?\n",
    "- Use the argument `index_col` to directly use the time data as the index.\n",
    "- Specify the number of columns before loading the data frame or remove the empty column after loading the file.\n",
    "- Manually set the column names or rename the columns to get rid of the unit `[kW]` in the column names."
   ]
  },
  {
   "cell_type": "code",
   "execution_count": 2,
   "id": "44671dfa-29d0-4cbe-8f3f-eee35c47ea30",
   "metadata": {
    "editable": true,
    "slideshow": {
     "slide_type": ""
    },
    "tags": []
   },
   "outputs": [],
   "source": [
    "# the separator is \";\" instead of a comma \",\"\n",
    "# the decimal point is a comma \",\"\n",
    "# the column \"time\" is supposed to be the index\n",
    "df = pd.read_csv(\"energy-3204_oct2022-2023.csv\", sep=\";\", index_col=\"time\", decimal=\",\")"
   ]
  },
  {
   "cell_type": "code",
   "execution_count": 3,
   "id": "da371c9a-8b67-45d7-acc5-526f64fcfad9",
   "metadata": {
    "editable": true,
    "slideshow": {
     "slide_type": ""
    },
    "tags": []
   },
   "outputs": [],
   "source": [
    "# drop the weird and empty column at the end of the data frame\n",
    "# the alternative would be to use the argument usecols=[0, 1, 2, 3] in pd.read_csv()\n",
    "df.drop(\"Unnamed: 5\", axis=\"columns\", inplace=True)"
   ]
  },
  {
   "cell_type": "code",
   "execution_count": 4,
   "id": "f5ac089d-eb5c-4bfb-8b97-5950c2bd7f38",
   "metadata": {
    "editable": true,
    "slideshow": {
     "slide_type": ""
    },
    "tags": []
   },
   "outputs": [],
   "source": [
    "# remove the unit [kW] from the column names\n",
    "columns = [column.split(\"[\")[0] for column in df.columns]\n",
    "df.columns = columns"
   ]
  },
  {
   "cell_type": "code",
   "execution_count": null,
   "id": "e5b671fb-4157-404e-a396-d772804a02fa",
   "metadata": {
    "editable": true,
    "slideshow": {
     "slide_type": ""
    },
    "tags": []
   },
   "outputs": [],
   "source": []
  },
  {
   "cell_type": "markdown",
   "id": "d7912862-3b17-49a6-ad66-ae8634fe7c12",
   "metadata": {
    "editable": true,
    "slideshow": {
     "slide_type": ""
    },
    "tags": []
   },
   "source": [
    "## Converting the index to datetime objects\n",
    "The index of the data frame already looks like a datetime but these are actually just strings. If you want to properly use the index column, you have to convert it to datetime objects. Pandas provides the function `pd.to_datetime()` that will try to interpret strings/numbers as datetime objects. It might be necessary to further specify the format since this is often stored in the local time format. E.g. in Germany we use the format `day.month.year` whereas the everyday format in the US is `month/day/year`. As long as the format does not change throughout the data frame, you can always find a way to convert this to datetime objects. It might however be necessary to manually specify the datetime format. Look at the [documentation](https://pandas.pydata.org/docs/reference/api/pandas.to_datetime.html) to learn more about the options to interpret strings/numbers as datetime objects.\n",
    "\n",
    "- Convert the index of the data frame to a DatetimeIndex with the function `pd.to_datetime()`. You can directly reassign the DatetimeIndex to `df.index`.\n",
    "- What is the type of the individual values in the DatetimeIndex? Find out how you can get the hour, minute, day of week from an individual value  and from the entire DatetimeIndex.\n",
    "- EXTRA: Add the `hour` and the `dayofweek` of every value in the DatetimeIndex as new columns to the data frame. This will allow easier grouping/querying of the data."
   ]
  },
  {
   "cell_type": "code",
   "execution_count": 5,
   "id": "ceb1c944-4d9f-4012-8691-b6403568efd0",
   "metadata": {
    "editable": true,
    "slideshow": {
     "slide_type": ""
    },
    "tags": []
   },
   "outputs": [],
   "source": [
    "# create a DatetimeIndex from the string index\n",
    "df.index = pd.to_datetime(df.index)"
   ]
  },
  {
   "cell_type": "code",
   "execution_count": 6,
   "id": "13be9430-13c9-42ef-b2d6-a47b38adfb17",
   "metadata": {
    "editable": true,
    "slideshow": {
     "slide_type": ""
    },
    "tags": []
   },
   "outputs": [
    {
     "data": {
      "text/plain": [
       "(Timestamp('2022-10-01 09:00:00'), pandas._libs.tslibs.timestamps.Timestamp)"
      ]
     },
     "execution_count": 6,
     "metadata": {},
     "output_type": "execute_result"
    }
   ],
   "source": [
    "ts = df.index[0]\n",
    "ts, type(ts)"
   ]
  },
  {
   "cell_type": "code",
   "execution_count": 7,
   "id": "52761d40-dd00-4457-bb45-78270559c105",
   "metadata": {
    "editable": true,
    "slideshow": {
     "slide_type": ""
    },
    "tags": []
   },
   "outputs": [
    {
     "data": {
      "text/plain": [
       "(9, 0, 5)"
      ]
     },
     "execution_count": 7,
     "metadata": {},
     "output_type": "execute_result"
    }
   ],
   "source": [
    "ts.hour, ts.minute, ts.dayofweek"
   ]
  },
  {
   "cell_type": "code",
   "execution_count": 8,
   "id": "1e4fe673-c26b-4c38-9c86-f8b4ec2c9e12",
   "metadata": {
    "editable": true,
    "slideshow": {
     "slide_type": ""
    },
    "tags": []
   },
   "outputs": [],
   "source": [
    "# save the hours and the day of the week in additional columns, this will allow easier grouping/querying\n",
    "df[\"hour\"] = df.index.hour\n",
    "df[\"dayofweek\"] = df.index.dayofweek"
   ]
  },
  {
   "cell_type": "code",
   "execution_count": null,
   "id": "12014c55-9d90-40e6-93d2-7795e7db9725",
   "metadata": {
    "editable": true,
    "slideshow": {
     "slide_type": ""
    },
    "tags": []
   },
   "outputs": [],
   "source": []
  },
  {
   "cell_type": "markdown",
   "id": "d12a55b1-a37b-4241-a9b8-c8239be5fa80",
   "metadata": {
    "editable": true,
    "slideshow": {
     "slide_type": ""
    },
    "tags": []
   },
   "source": [
    "## Power consumption over one week\n",
    "You can index the time with a string (range) to select only a fraction of the data frame. If you only want to index the time by the days, you can omit the hours. The hours will then default to midnight of the respective days. See the following example to select all rows from the days `\"2023-10-01\"` and `\"2023-10-02\"`:\n",
    "```python\n",
    "df.loc[\"2023-10-01\":\"2023-10-02\"]\n",
    "```\n",
    "For such a time range, the stop will now be included. If you look at the rows in the data frame selection above, the column time will go from `2023-10-01 00:00:00` to `2023-10-02 23:00:00`.\n",
    "\n",
    "- Reproduce the example above to get the data for two days. Change the index range such that the data only starts at noon on the first day.\n",
    "- Select the data from the last week (starting on `\"2023-10-09\"`) and plot the column `\"P_tot\"`. There should be five peaks in your data and two constant days. Label the axes (change the xlabel if you don't like it) and add a title.\n",
    "- Look at the data from one week earlier (starting on `\"2023-10-02\"`) and plot the column `\"P_tot\"` again. Why does the second day of the week have a much smaller power consumption?"
   ]
  },
  {
   "cell_type": "code",
   "execution_count": 9,
   "id": "506e8c99-e4f1-4607-8bcf-b831e77b18a1",
   "metadata": {
    "editable": true,
    "slideshow": {
     "slide_type": ""
    },
    "tags": []
   },
   "outputs": [
    {
     "data": {
      "text/html": [
       "<div>\n",
       "<style scoped>\n",
       "    .dataframe tbody tr th:only-of-type {\n",
       "        vertical-align: middle;\n",
       "    }\n",
       "\n",
       "    .dataframe tbody tr th {\n",
       "        vertical-align: top;\n",
       "    }\n",
       "\n",
       "    .dataframe thead th {\n",
       "        text-align: right;\n",
       "    }\n",
       "</style>\n",
       "<table border=\"1\" class=\"dataframe\">\n",
       "  <thead>\n",
       "    <tr style=\"text-align: right;\">\n",
       "      <th></th>\n",
       "      <th>P1</th>\n",
       "      <th>P2</th>\n",
       "      <th>P3</th>\n",
       "      <th>P_tot</th>\n",
       "      <th>hour</th>\n",
       "      <th>dayofweek</th>\n",
       "    </tr>\n",
       "    <tr>\n",
       "      <th>time</th>\n",
       "      <th></th>\n",
       "      <th></th>\n",
       "      <th></th>\n",
       "      <th></th>\n",
       "      <th></th>\n",
       "      <th></th>\n",
       "    </tr>\n",
       "  </thead>\n",
       "  <tbody>\n",
       "    <tr>\n",
       "      <th>2023-10-01 00:00:00</th>\n",
       "      <td>98.193211</td>\n",
       "      <td>96.207589</td>\n",
       "      <td>87.476166</td>\n",
       "      <td>281.884768</td>\n",
       "      <td>0</td>\n",
       "      <td>6</td>\n",
       "    </tr>\n",
       "    <tr>\n",
       "      <th>2023-10-01 01:00:00</th>\n",
       "      <td>98.169967</td>\n",
       "      <td>96.719734</td>\n",
       "      <td>87.186740</td>\n",
       "      <td>282.076405</td>\n",
       "      <td>1</td>\n",
       "      <td>6</td>\n",
       "    </tr>\n",
       "    <tr>\n",
       "      <th>2023-10-01 02:00:00</th>\n",
       "      <td>97.992864</td>\n",
       "      <td>96.498433</td>\n",
       "      <td>87.259320</td>\n",
       "      <td>281.750634</td>\n",
       "      <td>2</td>\n",
       "      <td>6</td>\n",
       "    </tr>\n",
       "    <tr>\n",
       "      <th>2023-10-01 03:00:00</th>\n",
       "      <td>97.388837</td>\n",
       "      <td>96.124617</td>\n",
       "      <td>86.796866</td>\n",
       "      <td>280.311239</td>\n",
       "      <td>3</td>\n",
       "      <td>6</td>\n",
       "    </tr>\n",
       "    <tr>\n",
       "      <th>2023-10-01 04:00:00</th>\n",
       "      <td>97.410749</td>\n",
       "      <td>96.702541</td>\n",
       "      <td>87.493571</td>\n",
       "      <td>281.606780</td>\n",
       "      <td>4</td>\n",
       "      <td>6</td>\n",
       "    </tr>\n",
       "    <tr>\n",
       "      <th>2023-10-01 05:00:00</th>\n",
       "      <td>97.576406</td>\n",
       "      <td>96.722945</td>\n",
       "      <td>87.353517</td>\n",
       "      <td>281.648414</td>\n",
       "      <td>5</td>\n",
       "      <td>6</td>\n",
       "    </tr>\n",
       "    <tr>\n",
       "      <th>2023-10-01 06:00:00</th>\n",
       "      <td>97.643406</td>\n",
       "      <td>96.544641</td>\n",
       "      <td>88.007302</td>\n",
       "      <td>282.191007</td>\n",
       "      <td>6</td>\n",
       "      <td>6</td>\n",
       "    </tr>\n",
       "    <tr>\n",
       "      <th>2023-10-01 07:00:00</th>\n",
       "      <td>97.925002</td>\n",
       "      <td>96.542735</td>\n",
       "      <td>87.891284</td>\n",
       "      <td>282.358960</td>\n",
       "      <td>7</td>\n",
       "      <td>6</td>\n",
       "    </tr>\n",
       "    <tr>\n",
       "      <th>2023-10-01 08:00:00</th>\n",
       "      <td>97.982032</td>\n",
       "      <td>96.644263</td>\n",
       "      <td>88.119988</td>\n",
       "      <td>282.749145</td>\n",
       "      <td>8</td>\n",
       "      <td>6</td>\n",
       "    </tr>\n",
       "    <tr>\n",
       "      <th>2023-10-01 09:00:00</th>\n",
       "      <td>97.448796</td>\n",
       "      <td>95.947167</td>\n",
       "      <td>87.484473</td>\n",
       "      <td>280.887016</td>\n",
       "      <td>9</td>\n",
       "      <td>6</td>\n",
       "    </tr>\n",
       "    <tr>\n",
       "      <th>2023-10-01 10:00:00</th>\n",
       "      <td>97.813113</td>\n",
       "      <td>96.216670</td>\n",
       "      <td>87.548311</td>\n",
       "      <td>281.573247</td>\n",
       "      <td>10</td>\n",
       "      <td>6</td>\n",
       "    </tr>\n",
       "    <tr>\n",
       "      <th>2023-10-01 11:00:00</th>\n",
       "      <td>98.875477</td>\n",
       "      <td>97.399046</td>\n",
       "      <td>88.608089</td>\n",
       "      <td>284.893654</td>\n",
       "      <td>11</td>\n",
       "      <td>6</td>\n",
       "    </tr>\n",
       "    <tr>\n",
       "      <th>2023-10-01 12:00:00</th>\n",
       "      <td>98.824011</td>\n",
       "      <td>97.399509</td>\n",
       "      <td>88.403923</td>\n",
       "      <td>284.627352</td>\n",
       "      <td>12</td>\n",
       "      <td>6</td>\n",
       "    </tr>\n",
       "    <tr>\n",
       "      <th>2023-10-01 13:00:00</th>\n",
       "      <td>99.095469</td>\n",
       "      <td>97.613114</td>\n",
       "      <td>88.322293</td>\n",
       "      <td>285.034245</td>\n",
       "      <td>13</td>\n",
       "      <td>6</td>\n",
       "    </tr>\n",
       "    <tr>\n",
       "      <th>2023-10-01 14:00:00</th>\n",
       "      <td>98.171185</td>\n",
       "      <td>97.527503</td>\n",
       "      <td>88.032579</td>\n",
       "      <td>283.729524</td>\n",
       "      <td>14</td>\n",
       "      <td>6</td>\n",
       "    </tr>\n",
       "    <tr>\n",
       "      <th>2023-10-01 15:00:00</th>\n",
       "      <td>97.378308</td>\n",
       "      <td>97.059138</td>\n",
       "      <td>87.854166</td>\n",
       "      <td>282.285186</td>\n",
       "      <td>15</td>\n",
       "      <td>6</td>\n",
       "    </tr>\n",
       "    <tr>\n",
       "      <th>2023-10-01 16:00:00</th>\n",
       "      <td>96.741441</td>\n",
       "      <td>96.756923</td>\n",
       "      <td>87.851480</td>\n",
       "      <td>281.342304</td>\n",
       "      <td>16</td>\n",
       "      <td>6</td>\n",
       "    </tr>\n",
       "    <tr>\n",
       "      <th>2023-10-01 17:00:00</th>\n",
       "      <td>97.168363</td>\n",
       "      <td>95.742398</td>\n",
       "      <td>87.613964</td>\n",
       "      <td>280.521982</td>\n",
       "      <td>17</td>\n",
       "      <td>6</td>\n",
       "    </tr>\n",
       "    <tr>\n",
       "      <th>2023-10-01 18:00:00</th>\n",
       "      <td>97.372459</td>\n",
       "      <td>95.199291</td>\n",
       "      <td>88.422263</td>\n",
       "      <td>280.994040</td>\n",
       "      <td>18</td>\n",
       "      <td>6</td>\n",
       "    </tr>\n",
       "    <tr>\n",
       "      <th>2023-10-01 19:00:00</th>\n",
       "      <td>97.868822</td>\n",
       "      <td>95.431084</td>\n",
       "      <td>88.196321</td>\n",
       "      <td>281.497330</td>\n",
       "      <td>19</td>\n",
       "      <td>6</td>\n",
       "    </tr>\n",
       "    <tr>\n",
       "      <th>2023-10-01 20:00:00</th>\n",
       "      <td>97.946099</td>\n",
       "      <td>95.980035</td>\n",
       "      <td>88.947377</td>\n",
       "      <td>282.870934</td>\n",
       "      <td>20</td>\n",
       "      <td>6</td>\n",
       "    </tr>\n",
       "    <tr>\n",
       "      <th>2023-10-01 21:00:00</th>\n",
       "      <td>97.795442</td>\n",
       "      <td>96.301909</td>\n",
       "      <td>88.338635</td>\n",
       "      <td>282.433306</td>\n",
       "      <td>21</td>\n",
       "      <td>6</td>\n",
       "    </tr>\n",
       "    <tr>\n",
       "      <th>2023-10-01 22:00:00</th>\n",
       "      <td>97.822703</td>\n",
       "      <td>96.487895</td>\n",
       "      <td>88.724229</td>\n",
       "      <td>283.032908</td>\n",
       "      <td>22</td>\n",
       "      <td>6</td>\n",
       "    </tr>\n",
       "    <tr>\n",
       "      <th>2023-10-01 23:00:00</th>\n",
       "      <td>97.727932</td>\n",
       "      <td>96.704983</td>\n",
       "      <td>89.110157</td>\n",
       "      <td>283.539554</td>\n",
       "      <td>23</td>\n",
       "      <td>6</td>\n",
       "    </tr>\n",
       "    <tr>\n",
       "      <th>2023-10-02 00:00:00</th>\n",
       "      <td>98.264911</td>\n",
       "      <td>97.295743</td>\n",
       "      <td>89.675039</td>\n",
       "      <td>285.228653</td>\n",
       "      <td>0</td>\n",
       "      <td>0</td>\n",
       "    </tr>\n",
       "    <tr>\n",
       "      <th>2023-10-02 01:00:00</th>\n",
       "      <td>98.136873</td>\n",
       "      <td>97.049875</td>\n",
       "      <td>88.886840</td>\n",
       "      <td>284.073758</td>\n",
       "      <td>1</td>\n",
       "      <td>0</td>\n",
       "    </tr>\n",
       "    <tr>\n",
       "      <th>2023-10-02 02:00:00</th>\n",
       "      <td>97.651579</td>\n",
       "      <td>96.803132</td>\n",
       "      <td>88.276301</td>\n",
       "      <td>282.731018</td>\n",
       "      <td>2</td>\n",
       "      <td>0</td>\n",
       "    </tr>\n",
       "    <tr>\n",
       "      <th>2023-10-02 03:00:00</th>\n",
       "      <td>97.634535</td>\n",
       "      <td>96.411820</td>\n",
       "      <td>88.606773</td>\n",
       "      <td>282.653227</td>\n",
       "      <td>3</td>\n",
       "      <td>0</td>\n",
       "    </tr>\n",
       "    <tr>\n",
       "      <th>2023-10-02 04:00:00</th>\n",
       "      <td>97.274172</td>\n",
       "      <td>96.249933</td>\n",
       "      <td>88.203243</td>\n",
       "      <td>281.727297</td>\n",
       "      <td>4</td>\n",
       "      <td>0</td>\n",
       "    </tr>\n",
       "    <tr>\n",
       "      <th>2023-10-02 05:00:00</th>\n",
       "      <td>97.604905</td>\n",
       "      <td>96.224233</td>\n",
       "      <td>88.019317</td>\n",
       "      <td>281.848309</td>\n",
       "      <td>5</td>\n",
       "      <td>0</td>\n",
       "    </tr>\n",
       "    <tr>\n",
       "      <th>2023-10-02 06:00:00</th>\n",
       "      <td>105.715837</td>\n",
       "      <td>103.652710</td>\n",
       "      <td>94.768141</td>\n",
       "      <td>304.136680</td>\n",
       "      <td>6</td>\n",
       "      <td>0</td>\n",
       "    </tr>\n",
       "    <tr>\n",
       "      <th>2023-10-02 07:00:00</th>\n",
       "      <td>109.545997</td>\n",
       "      <td>106.060445</td>\n",
       "      <td>97.395336</td>\n",
       "      <td>313.004338</td>\n",
       "      <td>7</td>\n",
       "      <td>0</td>\n",
       "    </tr>\n",
       "    <tr>\n",
       "      <th>2023-10-02 08:00:00</th>\n",
       "      <td>120.238353</td>\n",
       "      <td>115.408727</td>\n",
       "      <td>104.261404</td>\n",
       "      <td>339.907717</td>\n",
       "      <td>8</td>\n",
       "      <td>0</td>\n",
       "    </tr>\n",
       "    <tr>\n",
       "      <th>2023-10-02 09:00:00</th>\n",
       "      <td>123.869185</td>\n",
       "      <td>119.839034</td>\n",
       "      <td>109.231070</td>\n",
       "      <td>352.939238</td>\n",
       "      <td>9</td>\n",
       "      <td>0</td>\n",
       "    </tr>\n",
       "    <tr>\n",
       "      <th>2023-10-02 10:00:00</th>\n",
       "      <td>128.494202</td>\n",
       "      <td>125.641880</td>\n",
       "      <td>113.410159</td>\n",
       "      <td>367.546166</td>\n",
       "      <td>10</td>\n",
       "      <td>0</td>\n",
       "    </tr>\n",
       "    <tr>\n",
       "      <th>2023-10-02 11:00:00</th>\n",
       "      <td>129.940879</td>\n",
       "      <td>124.107587</td>\n",
       "      <td>112.323488</td>\n",
       "      <td>366.374484</td>\n",
       "      <td>11</td>\n",
       "      <td>0</td>\n",
       "    </tr>\n",
       "    <tr>\n",
       "      <th>2023-10-02 12:00:00</th>\n",
       "      <td>126.796286</td>\n",
       "      <td>124.384287</td>\n",
       "      <td>109.525280</td>\n",
       "      <td>360.705798</td>\n",
       "      <td>12</td>\n",
       "      <td>0</td>\n",
       "    </tr>\n",
       "    <tr>\n",
       "      <th>2023-10-02 13:00:00</th>\n",
       "      <td>127.803115</td>\n",
       "      <td>124.280579</td>\n",
       "      <td>113.652664</td>\n",
       "      <td>365.736371</td>\n",
       "      <td>13</td>\n",
       "      <td>0</td>\n",
       "    </tr>\n",
       "    <tr>\n",
       "      <th>2023-10-02 14:00:00</th>\n",
       "      <td>127.388772</td>\n",
       "      <td>123.993653</td>\n",
       "      <td>115.384973</td>\n",
       "      <td>366.768526</td>\n",
       "      <td>14</td>\n",
       "      <td>0</td>\n",
       "    </tr>\n",
       "    <tr>\n",
       "      <th>2023-10-02 15:00:00</th>\n",
       "      <td>125.600812</td>\n",
       "      <td>121.976573</td>\n",
       "      <td>112.751069</td>\n",
       "      <td>360.328429</td>\n",
       "      <td>15</td>\n",
       "      <td>0</td>\n",
       "    </tr>\n",
       "    <tr>\n",
       "      <th>2023-10-02 16:00:00</th>\n",
       "      <td>119.255794</td>\n",
       "      <td>116.112703</td>\n",
       "      <td>107.638415</td>\n",
       "      <td>343.006842</td>\n",
       "      <td>16</td>\n",
       "      <td>0</td>\n",
       "    </tr>\n",
       "    <tr>\n",
       "      <th>2023-10-02 17:00:00</th>\n",
       "      <td>108.589128</td>\n",
       "      <td>104.990663</td>\n",
       "      <td>100.148178</td>\n",
       "      <td>313.728175</td>\n",
       "      <td>17</td>\n",
       "      <td>0</td>\n",
       "    </tr>\n",
       "    <tr>\n",
       "      <th>2023-10-02 18:00:00</th>\n",
       "      <td>106.000865</td>\n",
       "      <td>101.586035</td>\n",
       "      <td>96.688607</td>\n",
       "      <td>304.275426</td>\n",
       "      <td>18</td>\n",
       "      <td>0</td>\n",
       "    </tr>\n",
       "    <tr>\n",
       "      <th>2023-10-02 19:00:00</th>\n",
       "      <td>106.788242</td>\n",
       "      <td>102.582928</td>\n",
       "      <td>96.722961</td>\n",
       "      <td>306.094148</td>\n",
       "      <td>19</td>\n",
       "      <td>0</td>\n",
       "    </tr>\n",
       "    <tr>\n",
       "      <th>2023-10-02 20:00:00</th>\n",
       "      <td>103.860725</td>\n",
       "      <td>98.830511</td>\n",
       "      <td>92.949726</td>\n",
       "      <td>295.640882</td>\n",
       "      <td>20</td>\n",
       "      <td>0</td>\n",
       "    </tr>\n",
       "    <tr>\n",
       "      <th>2023-10-02 21:00:00</th>\n",
       "      <td>103.447658</td>\n",
       "      <td>97.986334</td>\n",
       "      <td>92.132461</td>\n",
       "      <td>293.566418</td>\n",
       "      <td>21</td>\n",
       "      <td>0</td>\n",
       "    </tr>\n",
       "    <tr>\n",
       "      <th>2023-10-02 22:00:00</th>\n",
       "      <td>100.646188</td>\n",
       "      <td>96.807696</td>\n",
       "      <td>90.685172</td>\n",
       "      <td>288.135795</td>\n",
       "      <td>22</td>\n",
       "      <td>0</td>\n",
       "    </tr>\n",
       "    <tr>\n",
       "      <th>2023-10-02 23:00:00</th>\n",
       "      <td>100.136514</td>\n",
       "      <td>96.640832</td>\n",
       "      <td>89.967886</td>\n",
       "      <td>286.745207</td>\n",
       "      <td>23</td>\n",
       "      <td>0</td>\n",
       "    </tr>\n",
       "  </tbody>\n",
       "</table>\n",
       "</div>"
      ],
      "text/plain": [
       "                             P1          P2          P3       P_tot  hour  \\\n",
       "time                                                                        \n",
       "2023-10-01 00:00:00   98.193211   96.207589   87.476166  281.884768     0   \n",
       "2023-10-01 01:00:00   98.169967   96.719734   87.186740  282.076405     1   \n",
       "2023-10-01 02:00:00   97.992864   96.498433   87.259320  281.750634     2   \n",
       "2023-10-01 03:00:00   97.388837   96.124617   86.796866  280.311239     3   \n",
       "2023-10-01 04:00:00   97.410749   96.702541   87.493571  281.606780     4   \n",
       "2023-10-01 05:00:00   97.576406   96.722945   87.353517  281.648414     5   \n",
       "2023-10-01 06:00:00   97.643406   96.544641   88.007302  282.191007     6   \n",
       "2023-10-01 07:00:00   97.925002   96.542735   87.891284  282.358960     7   \n",
       "2023-10-01 08:00:00   97.982032   96.644263   88.119988  282.749145     8   \n",
       "2023-10-01 09:00:00   97.448796   95.947167   87.484473  280.887016     9   \n",
       "2023-10-01 10:00:00   97.813113   96.216670   87.548311  281.573247    10   \n",
       "2023-10-01 11:00:00   98.875477   97.399046   88.608089  284.893654    11   \n",
       "2023-10-01 12:00:00   98.824011   97.399509   88.403923  284.627352    12   \n",
       "2023-10-01 13:00:00   99.095469   97.613114   88.322293  285.034245    13   \n",
       "2023-10-01 14:00:00   98.171185   97.527503   88.032579  283.729524    14   \n",
       "2023-10-01 15:00:00   97.378308   97.059138   87.854166  282.285186    15   \n",
       "2023-10-01 16:00:00   96.741441   96.756923   87.851480  281.342304    16   \n",
       "2023-10-01 17:00:00   97.168363   95.742398   87.613964  280.521982    17   \n",
       "2023-10-01 18:00:00   97.372459   95.199291   88.422263  280.994040    18   \n",
       "2023-10-01 19:00:00   97.868822   95.431084   88.196321  281.497330    19   \n",
       "2023-10-01 20:00:00   97.946099   95.980035   88.947377  282.870934    20   \n",
       "2023-10-01 21:00:00   97.795442   96.301909   88.338635  282.433306    21   \n",
       "2023-10-01 22:00:00   97.822703   96.487895   88.724229  283.032908    22   \n",
       "2023-10-01 23:00:00   97.727932   96.704983   89.110157  283.539554    23   \n",
       "2023-10-02 00:00:00   98.264911   97.295743   89.675039  285.228653     0   \n",
       "2023-10-02 01:00:00   98.136873   97.049875   88.886840  284.073758     1   \n",
       "2023-10-02 02:00:00   97.651579   96.803132   88.276301  282.731018     2   \n",
       "2023-10-02 03:00:00   97.634535   96.411820   88.606773  282.653227     3   \n",
       "2023-10-02 04:00:00   97.274172   96.249933   88.203243  281.727297     4   \n",
       "2023-10-02 05:00:00   97.604905   96.224233   88.019317  281.848309     5   \n",
       "2023-10-02 06:00:00  105.715837  103.652710   94.768141  304.136680     6   \n",
       "2023-10-02 07:00:00  109.545997  106.060445   97.395336  313.004338     7   \n",
       "2023-10-02 08:00:00  120.238353  115.408727  104.261404  339.907717     8   \n",
       "2023-10-02 09:00:00  123.869185  119.839034  109.231070  352.939238     9   \n",
       "2023-10-02 10:00:00  128.494202  125.641880  113.410159  367.546166    10   \n",
       "2023-10-02 11:00:00  129.940879  124.107587  112.323488  366.374484    11   \n",
       "2023-10-02 12:00:00  126.796286  124.384287  109.525280  360.705798    12   \n",
       "2023-10-02 13:00:00  127.803115  124.280579  113.652664  365.736371    13   \n",
       "2023-10-02 14:00:00  127.388772  123.993653  115.384973  366.768526    14   \n",
       "2023-10-02 15:00:00  125.600812  121.976573  112.751069  360.328429    15   \n",
       "2023-10-02 16:00:00  119.255794  116.112703  107.638415  343.006842    16   \n",
       "2023-10-02 17:00:00  108.589128  104.990663  100.148178  313.728175    17   \n",
       "2023-10-02 18:00:00  106.000865  101.586035   96.688607  304.275426    18   \n",
       "2023-10-02 19:00:00  106.788242  102.582928   96.722961  306.094148    19   \n",
       "2023-10-02 20:00:00  103.860725   98.830511   92.949726  295.640882    20   \n",
       "2023-10-02 21:00:00  103.447658   97.986334   92.132461  293.566418    21   \n",
       "2023-10-02 22:00:00  100.646188   96.807696   90.685172  288.135795    22   \n",
       "2023-10-02 23:00:00  100.136514   96.640832   89.967886  286.745207    23   \n",
       "\n",
       "                     dayofweek  \n",
       "time                            \n",
       "2023-10-01 00:00:00          6  \n",
       "2023-10-01 01:00:00          6  \n",
       "2023-10-01 02:00:00          6  \n",
       "2023-10-01 03:00:00          6  \n",
       "2023-10-01 04:00:00          6  \n",
       "2023-10-01 05:00:00          6  \n",
       "2023-10-01 06:00:00          6  \n",
       "2023-10-01 07:00:00          6  \n",
       "2023-10-01 08:00:00          6  \n",
       "2023-10-01 09:00:00          6  \n",
       "2023-10-01 10:00:00          6  \n",
       "2023-10-01 11:00:00          6  \n",
       "2023-10-01 12:00:00          6  \n",
       "2023-10-01 13:00:00          6  \n",
       "2023-10-01 14:00:00          6  \n",
       "2023-10-01 15:00:00          6  \n",
       "2023-10-01 16:00:00          6  \n",
       "2023-10-01 17:00:00          6  \n",
       "2023-10-01 18:00:00          6  \n",
       "2023-10-01 19:00:00          6  \n",
       "2023-10-01 20:00:00          6  \n",
       "2023-10-01 21:00:00          6  \n",
       "2023-10-01 22:00:00          6  \n",
       "2023-10-01 23:00:00          6  \n",
       "2023-10-02 00:00:00          0  \n",
       "2023-10-02 01:00:00          0  \n",
       "2023-10-02 02:00:00          0  \n",
       "2023-10-02 03:00:00          0  \n",
       "2023-10-02 04:00:00          0  \n",
       "2023-10-02 05:00:00          0  \n",
       "2023-10-02 06:00:00          0  \n",
       "2023-10-02 07:00:00          0  \n",
       "2023-10-02 08:00:00          0  \n",
       "2023-10-02 09:00:00          0  \n",
       "2023-10-02 10:00:00          0  \n",
       "2023-10-02 11:00:00          0  \n",
       "2023-10-02 12:00:00          0  \n",
       "2023-10-02 13:00:00          0  \n",
       "2023-10-02 14:00:00          0  \n",
       "2023-10-02 15:00:00          0  \n",
       "2023-10-02 16:00:00          0  \n",
       "2023-10-02 17:00:00          0  \n",
       "2023-10-02 18:00:00          0  \n",
       "2023-10-02 19:00:00          0  \n",
       "2023-10-02 20:00:00          0  \n",
       "2023-10-02 21:00:00          0  \n",
       "2023-10-02 22:00:00          0  \n",
       "2023-10-02 23:00:00          0  "
      ]
     },
     "execution_count": 9,
     "metadata": {},
     "output_type": "execute_result"
    }
   ],
   "source": [
    "# there should be 48 columns in the new data frame\n",
    "df.loc[\"2023-10-01\":\"2023-10-02\"]"
   ]
  },
  {
   "cell_type": "code",
   "execution_count": 10,
   "id": "2d050f78-b70b-496f-8c80-e312a82ae362",
   "metadata": {
    "editable": true,
    "slideshow": {
     "slide_type": ""
    },
    "tags": []
   },
   "outputs": [
    {
     "data": {
      "text/html": [
       "<div>\n",
       "<style scoped>\n",
       "    .dataframe tbody tr th:only-of-type {\n",
       "        vertical-align: middle;\n",
       "    }\n",
       "\n",
       "    .dataframe tbody tr th {\n",
       "        vertical-align: top;\n",
       "    }\n",
       "\n",
       "    .dataframe thead th {\n",
       "        text-align: right;\n",
       "    }\n",
       "</style>\n",
       "<table border=\"1\" class=\"dataframe\">\n",
       "  <thead>\n",
       "    <tr style=\"text-align: right;\">\n",
       "      <th></th>\n",
       "      <th>P1</th>\n",
       "      <th>P2</th>\n",
       "      <th>P3</th>\n",
       "      <th>P_tot</th>\n",
       "      <th>hour</th>\n",
       "      <th>dayofweek</th>\n",
       "    </tr>\n",
       "    <tr>\n",
       "      <th>time</th>\n",
       "      <th></th>\n",
       "      <th></th>\n",
       "      <th></th>\n",
       "      <th></th>\n",
       "      <th></th>\n",
       "      <th></th>\n",
       "    </tr>\n",
       "  </thead>\n",
       "  <tbody>\n",
       "    <tr>\n",
       "      <th>2023-10-01 12:00:00</th>\n",
       "      <td>98.824011</td>\n",
       "      <td>97.399509</td>\n",
       "      <td>88.403923</td>\n",
       "      <td>284.627352</td>\n",
       "      <td>12</td>\n",
       "      <td>6</td>\n",
       "    </tr>\n",
       "    <tr>\n",
       "      <th>2023-10-01 13:00:00</th>\n",
       "      <td>99.095469</td>\n",
       "      <td>97.613114</td>\n",
       "      <td>88.322293</td>\n",
       "      <td>285.034245</td>\n",
       "      <td>13</td>\n",
       "      <td>6</td>\n",
       "    </tr>\n",
       "    <tr>\n",
       "      <th>2023-10-01 14:00:00</th>\n",
       "      <td>98.171185</td>\n",
       "      <td>97.527503</td>\n",
       "      <td>88.032579</td>\n",
       "      <td>283.729524</td>\n",
       "      <td>14</td>\n",
       "      <td>6</td>\n",
       "    </tr>\n",
       "    <tr>\n",
       "      <th>2023-10-01 15:00:00</th>\n",
       "      <td>97.378308</td>\n",
       "      <td>97.059138</td>\n",
       "      <td>87.854166</td>\n",
       "      <td>282.285186</td>\n",
       "      <td>15</td>\n",
       "      <td>6</td>\n",
       "    </tr>\n",
       "    <tr>\n",
       "      <th>2023-10-01 16:00:00</th>\n",
       "      <td>96.741441</td>\n",
       "      <td>96.756923</td>\n",
       "      <td>87.851480</td>\n",
       "      <td>281.342304</td>\n",
       "      <td>16</td>\n",
       "      <td>6</td>\n",
       "    </tr>\n",
       "    <tr>\n",
       "      <th>2023-10-01 17:00:00</th>\n",
       "      <td>97.168363</td>\n",
       "      <td>95.742398</td>\n",
       "      <td>87.613964</td>\n",
       "      <td>280.521982</td>\n",
       "      <td>17</td>\n",
       "      <td>6</td>\n",
       "    </tr>\n",
       "    <tr>\n",
       "      <th>2023-10-01 18:00:00</th>\n",
       "      <td>97.372459</td>\n",
       "      <td>95.199291</td>\n",
       "      <td>88.422263</td>\n",
       "      <td>280.994040</td>\n",
       "      <td>18</td>\n",
       "      <td>6</td>\n",
       "    </tr>\n",
       "    <tr>\n",
       "      <th>2023-10-01 19:00:00</th>\n",
       "      <td>97.868822</td>\n",
       "      <td>95.431084</td>\n",
       "      <td>88.196321</td>\n",
       "      <td>281.497330</td>\n",
       "      <td>19</td>\n",
       "      <td>6</td>\n",
       "    </tr>\n",
       "    <tr>\n",
       "      <th>2023-10-01 20:00:00</th>\n",
       "      <td>97.946099</td>\n",
       "      <td>95.980035</td>\n",
       "      <td>88.947377</td>\n",
       "      <td>282.870934</td>\n",
       "      <td>20</td>\n",
       "      <td>6</td>\n",
       "    </tr>\n",
       "    <tr>\n",
       "      <th>2023-10-01 21:00:00</th>\n",
       "      <td>97.795442</td>\n",
       "      <td>96.301909</td>\n",
       "      <td>88.338635</td>\n",
       "      <td>282.433306</td>\n",
       "      <td>21</td>\n",
       "      <td>6</td>\n",
       "    </tr>\n",
       "    <tr>\n",
       "      <th>2023-10-01 22:00:00</th>\n",
       "      <td>97.822703</td>\n",
       "      <td>96.487895</td>\n",
       "      <td>88.724229</td>\n",
       "      <td>283.032908</td>\n",
       "      <td>22</td>\n",
       "      <td>6</td>\n",
       "    </tr>\n",
       "    <tr>\n",
       "      <th>2023-10-01 23:00:00</th>\n",
       "      <td>97.727932</td>\n",
       "      <td>96.704983</td>\n",
       "      <td>89.110157</td>\n",
       "      <td>283.539554</td>\n",
       "      <td>23</td>\n",
       "      <td>6</td>\n",
       "    </tr>\n",
       "    <tr>\n",
       "      <th>2023-10-02 00:00:00</th>\n",
       "      <td>98.264911</td>\n",
       "      <td>97.295743</td>\n",
       "      <td>89.675039</td>\n",
       "      <td>285.228653</td>\n",
       "      <td>0</td>\n",
       "      <td>0</td>\n",
       "    </tr>\n",
       "    <tr>\n",
       "      <th>2023-10-02 01:00:00</th>\n",
       "      <td>98.136873</td>\n",
       "      <td>97.049875</td>\n",
       "      <td>88.886840</td>\n",
       "      <td>284.073758</td>\n",
       "      <td>1</td>\n",
       "      <td>0</td>\n",
       "    </tr>\n",
       "    <tr>\n",
       "      <th>2023-10-02 02:00:00</th>\n",
       "      <td>97.651579</td>\n",
       "      <td>96.803132</td>\n",
       "      <td>88.276301</td>\n",
       "      <td>282.731018</td>\n",
       "      <td>2</td>\n",
       "      <td>0</td>\n",
       "    </tr>\n",
       "    <tr>\n",
       "      <th>2023-10-02 03:00:00</th>\n",
       "      <td>97.634535</td>\n",
       "      <td>96.411820</td>\n",
       "      <td>88.606773</td>\n",
       "      <td>282.653227</td>\n",
       "      <td>3</td>\n",
       "      <td>0</td>\n",
       "    </tr>\n",
       "    <tr>\n",
       "      <th>2023-10-02 04:00:00</th>\n",
       "      <td>97.274172</td>\n",
       "      <td>96.249933</td>\n",
       "      <td>88.203243</td>\n",
       "      <td>281.727297</td>\n",
       "      <td>4</td>\n",
       "      <td>0</td>\n",
       "    </tr>\n",
       "    <tr>\n",
       "      <th>2023-10-02 05:00:00</th>\n",
       "      <td>97.604905</td>\n",
       "      <td>96.224233</td>\n",
       "      <td>88.019317</td>\n",
       "      <td>281.848309</td>\n",
       "      <td>5</td>\n",
       "      <td>0</td>\n",
       "    </tr>\n",
       "    <tr>\n",
       "      <th>2023-10-02 06:00:00</th>\n",
       "      <td>105.715837</td>\n",
       "      <td>103.652710</td>\n",
       "      <td>94.768141</td>\n",
       "      <td>304.136680</td>\n",
       "      <td>6</td>\n",
       "      <td>0</td>\n",
       "    </tr>\n",
       "    <tr>\n",
       "      <th>2023-10-02 07:00:00</th>\n",
       "      <td>109.545997</td>\n",
       "      <td>106.060445</td>\n",
       "      <td>97.395336</td>\n",
       "      <td>313.004338</td>\n",
       "      <td>7</td>\n",
       "      <td>0</td>\n",
       "    </tr>\n",
       "    <tr>\n",
       "      <th>2023-10-02 08:00:00</th>\n",
       "      <td>120.238353</td>\n",
       "      <td>115.408727</td>\n",
       "      <td>104.261404</td>\n",
       "      <td>339.907717</td>\n",
       "      <td>8</td>\n",
       "      <td>0</td>\n",
       "    </tr>\n",
       "    <tr>\n",
       "      <th>2023-10-02 09:00:00</th>\n",
       "      <td>123.869185</td>\n",
       "      <td>119.839034</td>\n",
       "      <td>109.231070</td>\n",
       "      <td>352.939238</td>\n",
       "      <td>9</td>\n",
       "      <td>0</td>\n",
       "    </tr>\n",
       "    <tr>\n",
       "      <th>2023-10-02 10:00:00</th>\n",
       "      <td>128.494202</td>\n",
       "      <td>125.641880</td>\n",
       "      <td>113.410159</td>\n",
       "      <td>367.546166</td>\n",
       "      <td>10</td>\n",
       "      <td>0</td>\n",
       "    </tr>\n",
       "    <tr>\n",
       "      <th>2023-10-02 11:00:00</th>\n",
       "      <td>129.940879</td>\n",
       "      <td>124.107587</td>\n",
       "      <td>112.323488</td>\n",
       "      <td>366.374484</td>\n",
       "      <td>11</td>\n",
       "      <td>0</td>\n",
       "    </tr>\n",
       "    <tr>\n",
       "      <th>2023-10-02 12:00:00</th>\n",
       "      <td>126.796286</td>\n",
       "      <td>124.384287</td>\n",
       "      <td>109.525280</td>\n",
       "      <td>360.705798</td>\n",
       "      <td>12</td>\n",
       "      <td>0</td>\n",
       "    </tr>\n",
       "    <tr>\n",
       "      <th>2023-10-02 13:00:00</th>\n",
       "      <td>127.803115</td>\n",
       "      <td>124.280579</td>\n",
       "      <td>113.652664</td>\n",
       "      <td>365.736371</td>\n",
       "      <td>13</td>\n",
       "      <td>0</td>\n",
       "    </tr>\n",
       "    <tr>\n",
       "      <th>2023-10-02 14:00:00</th>\n",
       "      <td>127.388772</td>\n",
       "      <td>123.993653</td>\n",
       "      <td>115.384973</td>\n",
       "      <td>366.768526</td>\n",
       "      <td>14</td>\n",
       "      <td>0</td>\n",
       "    </tr>\n",
       "    <tr>\n",
       "      <th>2023-10-02 15:00:00</th>\n",
       "      <td>125.600812</td>\n",
       "      <td>121.976573</td>\n",
       "      <td>112.751069</td>\n",
       "      <td>360.328429</td>\n",
       "      <td>15</td>\n",
       "      <td>0</td>\n",
       "    </tr>\n",
       "    <tr>\n",
       "      <th>2023-10-02 16:00:00</th>\n",
       "      <td>119.255794</td>\n",
       "      <td>116.112703</td>\n",
       "      <td>107.638415</td>\n",
       "      <td>343.006842</td>\n",
       "      <td>16</td>\n",
       "      <td>0</td>\n",
       "    </tr>\n",
       "    <tr>\n",
       "      <th>2023-10-02 17:00:00</th>\n",
       "      <td>108.589128</td>\n",
       "      <td>104.990663</td>\n",
       "      <td>100.148178</td>\n",
       "      <td>313.728175</td>\n",
       "      <td>17</td>\n",
       "      <td>0</td>\n",
       "    </tr>\n",
       "    <tr>\n",
       "      <th>2023-10-02 18:00:00</th>\n",
       "      <td>106.000865</td>\n",
       "      <td>101.586035</td>\n",
       "      <td>96.688607</td>\n",
       "      <td>304.275426</td>\n",
       "      <td>18</td>\n",
       "      <td>0</td>\n",
       "    </tr>\n",
       "    <tr>\n",
       "      <th>2023-10-02 19:00:00</th>\n",
       "      <td>106.788242</td>\n",
       "      <td>102.582928</td>\n",
       "      <td>96.722961</td>\n",
       "      <td>306.094148</td>\n",
       "      <td>19</td>\n",
       "      <td>0</td>\n",
       "    </tr>\n",
       "    <tr>\n",
       "      <th>2023-10-02 20:00:00</th>\n",
       "      <td>103.860725</td>\n",
       "      <td>98.830511</td>\n",
       "      <td>92.949726</td>\n",
       "      <td>295.640882</td>\n",
       "      <td>20</td>\n",
       "      <td>0</td>\n",
       "    </tr>\n",
       "    <tr>\n",
       "      <th>2023-10-02 21:00:00</th>\n",
       "      <td>103.447658</td>\n",
       "      <td>97.986334</td>\n",
       "      <td>92.132461</td>\n",
       "      <td>293.566418</td>\n",
       "      <td>21</td>\n",
       "      <td>0</td>\n",
       "    </tr>\n",
       "    <tr>\n",
       "      <th>2023-10-02 22:00:00</th>\n",
       "      <td>100.646188</td>\n",
       "      <td>96.807696</td>\n",
       "      <td>90.685172</td>\n",
       "      <td>288.135795</td>\n",
       "      <td>22</td>\n",
       "      <td>0</td>\n",
       "    </tr>\n",
       "    <tr>\n",
       "      <th>2023-10-02 23:00:00</th>\n",
       "      <td>100.136514</td>\n",
       "      <td>96.640832</td>\n",
       "      <td>89.967886</td>\n",
       "      <td>286.745207</td>\n",
       "      <td>23</td>\n",
       "      <td>0</td>\n",
       "    </tr>\n",
       "  </tbody>\n",
       "</table>\n",
       "</div>"
      ],
      "text/plain": [
       "                             P1          P2          P3       P_tot  hour  \\\n",
       "time                                                                        \n",
       "2023-10-01 12:00:00   98.824011   97.399509   88.403923  284.627352    12   \n",
       "2023-10-01 13:00:00   99.095469   97.613114   88.322293  285.034245    13   \n",
       "2023-10-01 14:00:00   98.171185   97.527503   88.032579  283.729524    14   \n",
       "2023-10-01 15:00:00   97.378308   97.059138   87.854166  282.285186    15   \n",
       "2023-10-01 16:00:00   96.741441   96.756923   87.851480  281.342304    16   \n",
       "2023-10-01 17:00:00   97.168363   95.742398   87.613964  280.521982    17   \n",
       "2023-10-01 18:00:00   97.372459   95.199291   88.422263  280.994040    18   \n",
       "2023-10-01 19:00:00   97.868822   95.431084   88.196321  281.497330    19   \n",
       "2023-10-01 20:00:00   97.946099   95.980035   88.947377  282.870934    20   \n",
       "2023-10-01 21:00:00   97.795442   96.301909   88.338635  282.433306    21   \n",
       "2023-10-01 22:00:00   97.822703   96.487895   88.724229  283.032908    22   \n",
       "2023-10-01 23:00:00   97.727932   96.704983   89.110157  283.539554    23   \n",
       "2023-10-02 00:00:00   98.264911   97.295743   89.675039  285.228653     0   \n",
       "2023-10-02 01:00:00   98.136873   97.049875   88.886840  284.073758     1   \n",
       "2023-10-02 02:00:00   97.651579   96.803132   88.276301  282.731018     2   \n",
       "2023-10-02 03:00:00   97.634535   96.411820   88.606773  282.653227     3   \n",
       "2023-10-02 04:00:00   97.274172   96.249933   88.203243  281.727297     4   \n",
       "2023-10-02 05:00:00   97.604905   96.224233   88.019317  281.848309     5   \n",
       "2023-10-02 06:00:00  105.715837  103.652710   94.768141  304.136680     6   \n",
       "2023-10-02 07:00:00  109.545997  106.060445   97.395336  313.004338     7   \n",
       "2023-10-02 08:00:00  120.238353  115.408727  104.261404  339.907717     8   \n",
       "2023-10-02 09:00:00  123.869185  119.839034  109.231070  352.939238     9   \n",
       "2023-10-02 10:00:00  128.494202  125.641880  113.410159  367.546166    10   \n",
       "2023-10-02 11:00:00  129.940879  124.107587  112.323488  366.374484    11   \n",
       "2023-10-02 12:00:00  126.796286  124.384287  109.525280  360.705798    12   \n",
       "2023-10-02 13:00:00  127.803115  124.280579  113.652664  365.736371    13   \n",
       "2023-10-02 14:00:00  127.388772  123.993653  115.384973  366.768526    14   \n",
       "2023-10-02 15:00:00  125.600812  121.976573  112.751069  360.328429    15   \n",
       "2023-10-02 16:00:00  119.255794  116.112703  107.638415  343.006842    16   \n",
       "2023-10-02 17:00:00  108.589128  104.990663  100.148178  313.728175    17   \n",
       "2023-10-02 18:00:00  106.000865  101.586035   96.688607  304.275426    18   \n",
       "2023-10-02 19:00:00  106.788242  102.582928   96.722961  306.094148    19   \n",
       "2023-10-02 20:00:00  103.860725   98.830511   92.949726  295.640882    20   \n",
       "2023-10-02 21:00:00  103.447658   97.986334   92.132461  293.566418    21   \n",
       "2023-10-02 22:00:00  100.646188   96.807696   90.685172  288.135795    22   \n",
       "2023-10-02 23:00:00  100.136514   96.640832   89.967886  286.745207    23   \n",
       "\n",
       "                     dayofweek  \n",
       "time                            \n",
       "2023-10-01 12:00:00          6  \n",
       "2023-10-01 13:00:00          6  \n",
       "2023-10-01 14:00:00          6  \n",
       "2023-10-01 15:00:00          6  \n",
       "2023-10-01 16:00:00          6  \n",
       "2023-10-01 17:00:00          6  \n",
       "2023-10-01 18:00:00          6  \n",
       "2023-10-01 19:00:00          6  \n",
       "2023-10-01 20:00:00          6  \n",
       "2023-10-01 21:00:00          6  \n",
       "2023-10-01 22:00:00          6  \n",
       "2023-10-01 23:00:00          6  \n",
       "2023-10-02 00:00:00          0  \n",
       "2023-10-02 01:00:00          0  \n",
       "2023-10-02 02:00:00          0  \n",
       "2023-10-02 03:00:00          0  \n",
       "2023-10-02 04:00:00          0  \n",
       "2023-10-02 05:00:00          0  \n",
       "2023-10-02 06:00:00          0  \n",
       "2023-10-02 07:00:00          0  \n",
       "2023-10-02 08:00:00          0  \n",
       "2023-10-02 09:00:00          0  \n",
       "2023-10-02 10:00:00          0  \n",
       "2023-10-02 11:00:00          0  \n",
       "2023-10-02 12:00:00          0  \n",
       "2023-10-02 13:00:00          0  \n",
       "2023-10-02 14:00:00          0  \n",
       "2023-10-02 15:00:00          0  \n",
       "2023-10-02 16:00:00          0  \n",
       "2023-10-02 17:00:00          0  \n",
       "2023-10-02 18:00:00          0  \n",
       "2023-10-02 19:00:00          0  \n",
       "2023-10-02 20:00:00          0  \n",
       "2023-10-02 21:00:00          0  \n",
       "2023-10-02 22:00:00          0  \n",
       "2023-10-02 23:00:00          0  "
      ]
     },
     "execution_count": 10,
     "metadata": {},
     "output_type": "execute_result"
    }
   ],
   "source": [
    "# add the time 12:00 to the start of the range, the data frame should now be reduced to 36 rows\n",
    "df.loc[\"2023-10-01 12:00\":\"2023-10-02\"]"
   ]
  },
  {
   "cell_type": "code",
   "execution_count": 11,
   "id": "ed0772a3-8793-48b1-954e-98f240834b9f",
   "metadata": {
    "editable": true,
    "slideshow": {
     "slide_type": ""
    },
    "tags": []
   },
   "outputs": [
    {
     "data": {
      "text/plain": [
       "Text(0.5, 1.0, 'Total power consumption over one week')"
      ]
     },
     "execution_count": 11,
     "metadata": {},
     "output_type": "execute_result"
    },
    {
     "data": {
      "image/png": "[encoded data removed]",
      "text/plain": [
       "<Figure size 640x480 with 1 Axes>"
      ]
     },
     "metadata": {},
     "output_type": "display_data"
    }
   ],
   "source": [
    "# from Monday to Friday the power consumption changes a lot during the day\n",
    "# on Saturday and Sunday the power consumption is constant\n",
    "df.loc[\"2023-10-09\":\"2023-10-15\"][\"P_tot\"].plot()\n",
    "plt.xlabel(\"datetime\")\n",
    "plt.ylabel(\"P_total / kW\")\n",
    "plt.title(\"Total power consumption over one week\")"
   ]
  },
  {
   "cell_type": "code",
   "execution_count": 12,
   "id": "e6c43a82-34d4-4c4b-a1a0-8733cb973f88",
   "metadata": {
    "editable": true,
    "slideshow": {
     "slide_type": ""
    },
    "tags": []
   },
   "outputs": [
    {
     "data": {
      "text/plain": [
       "Text(0.5, 1.0, 'Total power consumption over one week with a national holiday')"
      ]
     },
     "execution_count": 12,
     "metadata": {},
     "output_type": "execute_result"
    },
    {
     "data": {
      "image/png": "[encoded data removed]",
      "text/plain": [
       "<Figure size 640x480 with 1 Axes>"
      ]
     },
     "metadata": {},
     "output_type": "display_data"
    }
   ],
   "source": [
    "# 2023-10-03 was the national holiday \"Tag der Deutschen Einheit\" or \"German Unity Day\"\n",
    "df.loc[\"2023-10-02\":\"2023-10-08\"][\"P_tot\"].plot()\n",
    "plt.xlabel(\"datetime\")\n",
    "plt.ylabel(\"P_total / kW\")\n",
    "plt.title(\"Total power consumption over one week with a national holiday\")"
   ]
  },
  {
   "cell_type": "code",
   "execution_count": null,
   "id": "4ae3e93d-5227-4623-a299-783e6a629c22",
   "metadata": {
    "editable": true,
    "slideshow": {
     "slide_type": ""
    },
    "tags": []
   },
   "outputs": [],
   "source": []
  },
  {
   "cell_type": "markdown",
   "id": "fe389e4f-9918-4a87-8b30-716c3d6717dc",
   "metadata": {
    "editable": true,
    "slideshow": {
     "slide_type": ""
    },
    "tags": []
   },
   "source": [
    "## Highest power consumption during the day/night\n",
    "For this exercise you can assume that the day lasts from 07:00 to 22:00 (including 22:00) and the night lasts from 23:00 to 06:00 (including 06:00). Define two query strings that represent these conditions. As an example, if your column is called `\"hour\"`, you would use the following query to select everything up to 12:00 (including 12:00)\n",
    "```python\n",
    "query_morning = \"hour <= 12\"\n",
    "df.query(query_morning)\n",
    "```\n",
    "You can combine conditions with `and`/`or`. The usage of parentheses in the queries is optional if you only have two conditions. You can however always use them to improve the readability of the queries.  \n",
    "\n",
    "- Apply the two queries for the day and the night to the data frame. What is the maximum value of the column `\"P_tot\"` during the day/the night?\n",
    "- Find the index/timestamp where the highest power consumptions were measured with the method `.idxmax()`. Save these data points in new variables for later use. They should be on the days `\"2023-05-11\"` and `\"2023-05-12\"`.\n",
    "- Display the total power consumption in the range from `\"2023-05-10\"` to `\"2023-05-13\"`. Add the maximum data points to the plot with `plt.scatter()` and label them. Use different marker shapes or different colors for the day/night maximum.\n",
    "- If you look at the maximum data point of the night in the plot, would you use different time ranges to separate the day and the night?"
   ]
  },
  {
   "cell_type": "code",
   "execution_count": 13,
   "id": "f374f5c0-ce61-4892-9818-4b3becbd1437",
   "metadata": {
    "editable": true,
    "slideshow": {
     "slide_type": ""
    },
    "tags": []
   },
   "outputs": [],
   "source": [
    "# define the queries to include the interval limits\n",
    "query_day = \"(hour >= 7) and (hour <= 22)\"\n",
    "query_night = \"(hour >= 23) or (hour <= 6)\""
   ]
  },
  {
   "cell_type": "code",
   "execution_count": 14,
   "id": "7602d948-8c5a-4d6e-a252-0cfb44085799",
   "metadata": {
    "editable": true,
    "slideshow": {
     "slide_type": ""
    },
    "tags": []
   },
   "outputs": [
    {
     "data": {
      "text/plain": [
       "(np.float64(422.67168256587325), np.float64(346.18100480067494))"
      ]
     },
     "execution_count": 14,
     "metadata": {},
     "output_type": "execute_result"
    }
   ],
   "source": [
    "df.query(query_day)[\"P_tot\"].max(), df.query(query_night)[\"P_tot\"].max()"
   ]
  },
  {
   "cell_type": "code",
   "execution_count": 15,
   "id": "584bc157-82c8-429e-80ad-c054c1f84f8d",
   "metadata": {
    "editable": true,
    "slideshow": {
     "slide_type": ""
    },
    "tags": []
   },
   "outputs": [],
   "source": [
    "max_point_day = df.loc[df.query(query_day)[\"P_tot\"].idxmax()]\n",
    "max_point_night = df.loc[df.query(query_night)[\"P_tot\"].idxmax()]"
   ]
  },
  {
   "cell_type": "code",
   "execution_count": 16,
   "id": "d39f5e4a-cecb-4738-8a2c-57a12d236f9c",
   "metadata": {
    "editable": true,
    "slideshow": {
     "slide_type": ""
    },
    "tags": []
   },
   "outputs": [
    {
     "data": {
      "text/plain": [
       "<matplotlib.legend.Legend at 0x76c4af7133b0>"
      ]
     },
     "execution_count": 16,
     "metadata": {},
     "output_type": "execute_result"
    },
    {
     "data": {
      "image/png": "[encoded data removed]",
      "text/plain": [
       "<Figure size 640x480 with 1 Axes>"
      ]
     },
     "metadata": {},
     "output_type": "display_data"
    }
   ],
   "source": [
    "# the plot suggests that the range for the night is too long, the nightly maximum is clearly not part of the nightly baseline anymore\n",
    "df[\"2023-05-10\":\"2023-05-13\"][\"P_tot\"].plot()\n",
    "# use zorder=2 to display the markers on top of the line plot\n",
    "plt.scatter(max_point_day.name, max_point_day.P_tot, marker=\"d\", color=\"r\", edgecolor=\"k\", label=\"day max\", zorder=2)\n",
    "plt.scatter(max_point_night.name, max_point_night.P_tot, marker=\"o\", color=\"r\", edgecolor=\"k\", label=\"night max\", zorder=2)\n",
    "plt.legend()"
   ]
  },
  {
   "cell_type": "code",
   "execution_count": null,
   "id": "3f2924f0-8f13-44c6-ad79-f62dc0afef74",
   "metadata": {
    "editable": true,
    "slideshow": {
     "slide_type": ""
    },
    "tags": []
   },
   "outputs": [],
   "source": []
  },
  {
   "cell_type": "markdown",
   "id": "6b0ac9c4-3b5e-4070-9707-ecec8c9956ba",
   "metadata": {
    "editable": true,
    "slideshow": {
     "slide_type": ""
    },
    "tags": []
   },
   "source": [
    "## Power consumption as a function of the hour\n",
    "If you look at the power consumption over a few days, you can clearly see that the consumption varies a lot throughout a regular weekday. To take a closer look at the average changes over a day, you want to group all the data by the column `\"hour\"`. You can then compute the average of the columns per unique value of the `\"hour\"`. The averaged data frame will then have the `\"hour\"` as the index.\n",
    "\n",
    "- Use the column `\"dayofweek\"` to write a query that selects only the weekdays. If you are not sure on which day the week starts, look at the data from this week and compare the dates to the values in the column `\"dayofweek\"`.\n",
    "- How many data points did you remove from the original data frame with the weekday query?\n",
    "- Select only the weekdays with a query and use the data frame method `.groupby()` to group the data by the column `\"hour\"`, and store this group as a new variable. You can then use the method `.mean()` to directly compute the mean values of all data frame columns for each hour."
   ]
  },
  {
   "cell_type": "code",
   "execution_count": 17,
   "id": "f1c4a2b2-f541-4874-afd4-36e6e1a69259",
   "metadata": {
    "editable": true,
    "slideshow": {
     "slide_type": ""
    },
    "tags": []
   },
   "outputs": [],
   "source": [
    "# the week starts on Monday with the value 0\n",
    "weekday_query = \"dayofweek < 5\""
   ]
  },
  {
   "cell_type": "code",
   "execution_count": 18,
   "id": "c9bafe58-aa48-45ab-b2b8-00d5737ae57c",
   "metadata": {
    "editable": true,
    "slideshow": {
     "slide_type": ""
    },
    "tags": []
   },
   "outputs": [
    {
     "data": {
      "text/plain": [
       "(9094, 6464, 2630)"
      ]
     },
     "execution_count": 18,
     "metadata": {},
     "output_type": "execute_result"
    }
   ],
   "source": [
    "# compare the lengths after applying the weekday query\n",
    "len(df), len(df.query(weekday_query)), len(df) - len(df.query(weekday_query))"
   ]
  },
  {
   "cell_type": "code",
   "execution_count": 19,
   "id": "29c11be8-73a1-458c-91e7-2ff6897e093b",
   "metadata": {
    "editable": true,
    "slideshow": {
     "slide_type": ""
    },
    "tags": []
   },
   "outputs": [],
   "source": [
    "# group the data by the \"hour\" column\n",
    "hour_group = df.query(weekday_query).groupby(\"hour\")"
   ]
  },
  {
   "cell_type": "code",
   "execution_count": 20,
   "id": "c9f5c36e-7ef2-4c42-b00e-aac9b3b5f1a5",
   "metadata": {
    "editable": true,
    "slideshow": {
     "slide_type": ""
    },
    "tags": []
   },
   "outputs": [],
   "source": [
    "# compute the mean for each column in the data frame for each hour\n",
    "hour_mean = hour_group.mean()"
   ]
  },
  {
   "cell_type": "code",
   "execution_count": 21,
   "id": "15b15f6b-7348-47a0-993e-ce45a9ca9348",
   "metadata": {
    "editable": true,
    "slideshow": {
     "slide_type": ""
    },
    "tags": []
   },
   "outputs": [
    {
     "data": {
      "text/plain": [
       "<Axes: xlabel='hour'>"
      ]
     },
     "execution_count": 21,
     "metadata": {},
     "output_type": "execute_result"
    },
    {
     "data": {
      "image/png": "[encoded data removed]",
      "text/plain": [
       "<Figure size 640x480 with 1 Axes>"
      ]
     },
     "metadata": {},
     "output_type": "display_data"
    }
   ],
   "source": [
    "# display the total power column with the hour as the x-values\n",
    "hour_mean[\"P_tot\"].plot(marker=\"o\", linestyle=\"none\")"
   ]
  },
  {
   "cell_type": "code",
   "execution_count": 22,
   "id": "584def91-cc34-4f0b-a5bd-0c1fd69f34bf",
   "metadata": {
    "editable": true,
    "slideshow": {
     "slide_type": ""
    },
    "tags": []
   },
   "outputs": [],
   "source": [
    "# compute the mean, the standard deviation and the standard error of the total power consumption column\n",
    "# https://www.geeksforgeeks.org/how-to-plot-mean-and-standard-deviation-in-pandas/\n",
    "# there is a FutureWarning that suggests to use \"mean\" and \"std\" instead of np.mean and np.std\n",
    "P_tot = hour_group[\"P_tot\"].agg([\"mean\", \"std\", \"sem\"])"
   ]
  },
  {
   "cell_type": "code",
   "execution_count": 23,
   "id": "6c69ef1d-fb20-4b4b-99db-bda2536f3d32",
   "metadata": {
    "editable": true,
    "slideshow": {
     "slide_type": ""
    },
    "tags": []
   },
   "outputs": [
    {
     "data": {
      "text/plain": [
       "<Axes: xlabel='hour', ylabel='mean'>"
      ]
     },
     "execution_count": 23,
     "metadata": {},
     "output_type": "execute_result"
    },
    {
     "data": {
      "image/png": "[encoded data removed]",
      "text/plain": [
       "<Figure size 640x480 with 1 Axes>"
      ]
     },
     "metadata": {},
     "output_type": "display_data"
    }
   ],
   "source": [
    "# use the argument \"yerr\" to include the standard deviation/standard error as error bars\n",
    "P_tot.reset_index().plot(\"hour\", \"mean\", \"scatter\", yerr=\"sem\")"
   ]
  },
  {
   "cell_type": "code",
   "execution_count": null,
   "id": "588d72eb-76b1-420d-ae9e-0c338cb91961",
   "metadata": {
    "editable": true,
    "slideshow": {
     "slide_type": ""
    },
    "tags": []
   },
   "outputs": [],
   "source": []
  }
 ],
 "metadata": {
  "kernelspec": {
   "display_name": "konstanz2024",
   "language": "python",
   "name": "konstanz2024"
  },
  "language_info": {
   "codemirror_mode": {
    "name": "ipython",
    "version": 3
   },
   "file_extension": ".py",
   "mimetype": "text/x-python",
   "name": "python",
   "nbconvert_exporter": "python",
   "pygments_lexer": "ipython3",
   "version": "3.12.7"
  }
 },
 "nbformat": 4,
 "nbformat_minor": 5
}
