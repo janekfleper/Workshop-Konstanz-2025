{
 "cells": [
  {
   "cell_type": "markdown",
   "id": "285ff669-da20-4cf2-9d12-65b500b3def8",
   "metadata": {
    "editable": false,
    "slideshow": {
     "slide_type": ""
    },
    "tags": [
     "exercise"
    ]
   },
   "source": [
    "## 4.1 Importing packages\n",
    "If you are working with a notebook, it is good practice to import all the packages that you need at the top of the notebook. This will directly show you which packages you need to have installed, and you will avoid random package imports throughout the notebook.\n",
    "\n",
    "1. Import the three packages you have used so far with their correct renaming conventions."
   ]
  },
  {
   "cell_type": "code",
   "execution_count": 1,
   "id": "89366d89-a09f-4ead-a35d-5c044ae681b4",
   "metadata": {
    "editable": true,
    "slideshow": {
     "slide_type": ""
    },
    "tags": []
   },
   "outputs": [],
   "source": [
    "# task 1\n",
    "import numpy as np\n",
    "import pandas as pd\n",
    "import matplotlib.pyplot as plt"
   ]
  },
  {
   "cell_type": "code",
   "execution_count": null,
   "id": "2237a9aa-5b2f-476e-9d7f-5c7ceadd7942",
   "metadata": {
    "editable": true,
    "slideshow": {
     "slide_type": ""
    },
    "tags": []
   },
   "outputs": [],
   "source": []
  },
  {
   "cell_type": "markdown",
   "id": "4b1cab7a-d363-4744-86dd-7cac93d98309",
   "metadata": {
    "editable": false,
    "slideshow": {
     "slide_type": ""
    },
    "tags": [
     "exercise"
    ]
   },
   "source": [
    "## 4.2 Loading a file into a data frame\n",
    "In practice you should always try to use a function \n",
    "If your data has a fixed format, you can load a file directly into a data frame. There are many functions available such as `pd.read_csv()`, `pd.read_excel()`, `pd.read_hdf()` etc... For a list of all supported formats please see the [user guide on IO tools](https://pandas.pydata.org/docs/user_guide/io.html).\n",
    "\n",
    "Since the passwords are all in separate lines in the file, the most suitable function is `pd.read_table(name)` which just reads data from a generic table in a file called `name`. Since there is no header specified in the file, you have to call the function with the keyword argument `header=None`. If you want to name the column(s) manually, you can pass a list to the keyword argument `names` with the column name(s). Conveniently, the function `pd.read_table()` will automatically remove the newline characters and it will skip empty lines. You therefore do not have to do any preprocessing or filtering (for now).\n",
    "\n",
    "When you load a lot of data from a file, errors can always happen. If a line has a bad format, an invalid character or any other issue, the line should just be skipped to allow the file to be loaded regardless. You can then check the line manually or use another tool to resolve the error. The corresponding keyword argument to skip bad lines is called `on_bad_lines`, and if you pass the value `\"warn\"` you will receive a warning for each line that was skipped.\n",
    "\n",
    "The file `passwords.txt` in todays directory contains ~1 million passwords. If you would rather continue working with a smaller sample size, please use the file `day3/passwords.txt`.\n",
    "\n",
    "1. Use the function `pd.read_table(name, header=None)` to load your passwords into a data frame. If there is an error when loading the file, also use the argument `on_bad_lines=\"warn\"`. What is the name of the password column in the data frame?\n",
    "2. Use the keyword argument `names` to change the name of the column when loading the file into a data frame.\n",
    "\n",
    "<!-- Load the passwords again, and prepare the data frame with all the columns from yesterday. The index should contain the **unique** passwords and you should have the counts, the lengths, the digit sums, the number of alphabetic characters and the number of numeric characters in the data frame. -->"
   ]
  },
  {
   "cell_type": "code",
   "execution_count": 2,
   "id": "503851cc-b1ad-4ea4-ba2c-1084d4ebd838",
   "metadata": {
    "editable": true,
    "slideshow": {
     "slide_type": ""
    },
    "tags": []
   },
   "outputs": [
    {
     "name": "stderr",
     "output_type": "stream",
     "text": [
      "/tmp/ipykernel_101509/364429445.py:4: ParserWarning: Skipping line 676579: expected 1 fields, saw 2\n",
      "Skipping line 748327: expected 1 fields, saw 2\n",
      "Skipping line 875766: expected 1 fields, saw 2\n",
      "\n",
      "  df = pd.read_table(\"passwords.txt\", header=None, on_bad_lines=\"warn\")\n"
     ]
    },
    {
     "data": {
      "text/html": [
       "<div>\n",
       "<style scoped>\n",
       "    .dataframe tbody tr th:only-of-type {\n",
       "        vertical-align: middle;\n",
       "    }\n",
       "\n",
       "    .dataframe tbody tr th {\n",
       "        vertical-align: top;\n",
       "    }\n",
       "\n",
       "    .dataframe thead th {\n",
       "        text-align: right;\n",
       "    }\n",
       "</style>\n",
       "<table border=\"1\" class=\"dataframe\">\n",
       "  <thead>\n",
       "    <tr style=\"text-align: right;\">\n",
       "      <th></th>\n",
       "      <th>0</th>\n",
       "    </tr>\n",
       "  </thead>\n",
       "  <tbody>\n",
       "    <tr>\n",
       "      <th>0</th>\n",
       "      <td>lfc</td>\n",
       "    </tr>\n",
       "    <tr>\n",
       "      <th>1</th>\n",
       "      <td>LFL870206</td>\n",
       "    </tr>\n",
       "    <tr>\n",
       "      <th>2</th>\n",
       "      <td>123abc</td>\n",
       "    </tr>\n",
       "    <tr>\n",
       "      <th>3</th>\n",
       "      <td>123abc@</td>\n",
       "    </tr>\n",
       "    <tr>\n",
       "      <th>4</th>\n",
       "      <td>teh-cnt</td>\n",
       "    </tr>\n",
       "    <tr>\n",
       "      <th>...</th>\n",
       "      <td>...</td>\n",
       "    </tr>\n",
       "    <tr>\n",
       "      <th>999843</th>\n",
       "      <td>1974irina</td>\n",
       "    </tr>\n",
       "    <tr>\n",
       "      <th>999844</th>\n",
       "      <td>1974sombel</td>\n",
       "    </tr>\n",
       "    <tr>\n",
       "      <th>999845</th>\n",
       "      <td>vr19781974</td>\n",
       "    </tr>\n",
       "    <tr>\n",
       "      <th>999846</th>\n",
       "      <td>rajib1974</td>\n",
       "    </tr>\n",
       "    <tr>\n",
       "      <th>999847</th>\n",
       "      <td>raj270207</td>\n",
       "    </tr>\n",
       "  </tbody>\n",
       "</table>\n",
       "<p>999848 rows × 1 columns</p>\n",
       "</div>"
      ],
      "text/plain": [
       "                 0\n",
       "0              lfc\n",
       "1        LFL870206\n",
       "2           123abc\n",
       "3          123abc@\n",
       "4          teh-cnt\n",
       "...            ...\n",
       "999843   1974irina\n",
       "999844  1974sombel\n",
       "999845  vr19781974\n",
       "999846   rajib1974\n",
       "999847   raj270207\n",
       "\n",
       "[999848 rows x 1 columns]"
      ]
     },
     "execution_count": 2,
     "metadata": {},
     "output_type": "execute_result"
    }
   ],
   "source": [
    "# task 1\n",
    "# the lines 676579, 748327 and 875766 are skipped, those lines contain tabulator characters \"\\t\" which makes the function pd.read_table() think that there are two values in a line\n",
    "# the name of the password column is the integer value 0, you can therefore access the column with df[0]\n",
    "df = pd.read_table(\"passwords.txt\", header=None, on_bad_lines=\"warn\")\n",
    "df"
   ]
  },
  {
   "cell_type": "code",
   "execution_count": 3,
   "id": "6d8aeeb1-04f2-41fb-aa3e-44970598a5f1",
   "metadata": {
    "editable": true,
    "slideshow": {
     "slide_type": ""
    },
    "tags": []
   },
   "outputs": [
    {
     "name": "stderr",
     "output_type": "stream",
     "text": [
      "/tmp/ipykernel_101509/2084597823.py:2: ParserWarning: Skipping line 676579: expected 1 fields, saw 2\n",
      "Skipping line 748327: expected 1 fields, saw 2\n",
      "Skipping line 875766: expected 1 fields, saw 2\n",
      "\n",
      "  df = pd.read_table(\"passwords.txt\", header=None, names=[\"password\"], on_bad_lines=\"warn\")\n"
     ]
    },
    {
     "data": {
      "text/html": [
       "<div>\n",
       "<style scoped>\n",
       "    .dataframe tbody tr th:only-of-type {\n",
       "        vertical-align: middle;\n",
       "    }\n",
       "\n",
       "    .dataframe tbody tr th {\n",
       "        vertical-align: top;\n",
       "    }\n",
       "\n",
       "    .dataframe thead th {\n",
       "        text-align: right;\n",
       "    }\n",
       "</style>\n",
       "<table border=\"1\" class=\"dataframe\">\n",
       "  <thead>\n",
       "    <tr style=\"text-align: right;\">\n",
       "      <th></th>\n",
       "      <th>password</th>\n",
       "    </tr>\n",
       "  </thead>\n",
       "  <tbody>\n",
       "    <tr>\n",
       "      <th>0</th>\n",
       "      <td>lfc</td>\n",
       "    </tr>\n",
       "    <tr>\n",
       "      <th>1</th>\n",
       "      <td>LFL870206</td>\n",
       "    </tr>\n",
       "    <tr>\n",
       "      <th>2</th>\n",
       "      <td>123abc</td>\n",
       "    </tr>\n",
       "    <tr>\n",
       "      <th>3</th>\n",
       "      <td>123abc@</td>\n",
       "    </tr>\n",
       "    <tr>\n",
       "      <th>4</th>\n",
       "      <td>teh-cnt</td>\n",
       "    </tr>\n",
       "    <tr>\n",
       "      <th>...</th>\n",
       "      <td>...</td>\n",
       "    </tr>\n",
       "    <tr>\n",
       "      <th>999843</th>\n",
       "      <td>1974irina</td>\n",
       "    </tr>\n",
       "    <tr>\n",
       "      <th>999844</th>\n",
       "      <td>1974sombel</td>\n",
       "    </tr>\n",
       "    <tr>\n",
       "      <th>999845</th>\n",
       "      <td>vr19781974</td>\n",
       "    </tr>\n",
       "    <tr>\n",
       "      <th>999846</th>\n",
       "      <td>rajib1974</td>\n",
       "    </tr>\n",
       "    <tr>\n",
       "      <th>999847</th>\n",
       "      <td>raj270207</td>\n",
       "    </tr>\n",
       "  </tbody>\n",
       "</table>\n",
       "<p>999848 rows × 1 columns</p>\n",
       "</div>"
      ],
      "text/plain": [
       "          password\n",
       "0              lfc\n",
       "1        LFL870206\n",
       "2           123abc\n",
       "3          123abc@\n",
       "4          teh-cnt\n",
       "...            ...\n",
       "999843   1974irina\n",
       "999844  1974sombel\n",
       "999845  vr19781974\n",
       "999846   rajib1974\n",
       "999847   raj270207\n",
       "\n",
       "[999848 rows x 1 columns]"
      ]
     },
     "execution_count": 3,
     "metadata": {},
     "output_type": "execute_result"
    }
   ],
   "source": [
    "# task 2: pass a list of names (only one name for the single column in this case) to change the column names\n",
    "df = pd.read_table(\"passwords.txt\", header=None, names=[\"password\"], on_bad_lines=\"warn\")\n",
    "df"
   ]
  },
  {
   "cell_type": "code",
   "execution_count": null,
   "id": "c11c8440-98e0-4354-bfe5-13c3b09568ed",
   "metadata": {
    "editable": true,
    "slideshow": {
     "slide_type": ""
    },
    "tags": []
   },
   "outputs": [],
   "source": []
  },
  {
   "cell_type": "markdown",
   "id": "6b20cc66-327e-472e-a45b-cef66d0bb2f9",
   "metadata": {
    "editable": false,
    "slideshow": {
     "slide_type": ""
    },
    "tags": [
     "exercise"
    ]
   },
   "source": [
    "## 4.3 Preparing the data frame again\n",
    "Since you have loaded the raw passwords into a data frame, you can directly use pandas to get the unique passwords and their counts. Single columns of a data frame are called series (here `s`), and they have a method `s.value_counts()` that will return a new series with the unique values as the index and the corresponding counts as a column called `\"count\"`. This replaces the function `np.unique(passwords, return_counts=True) that you used in the previous notebook.\n",
    "\n",
    "1. Get the password column from the data frame and assign it to a variable called `passwords`. Use the function `type()` to make sure that the type of the variable is `pandas.core.series.Series`.\n",
    "2. Call the method `passwords.value_counts()` to get the unique passwords and their counts and assign the new series to the variable `unique_passwords`. How is this new series sorted?\n",
    "3. Create a data frame from the new series again by calling the function `pd.DataFrame(unique_passwords)` or by calling the method `unique_passwords.to_frame()`. Assign this data frame to a new variable which you will work with for the rest of the notebook.\n",
    "4. Calculate the lengths, the digit sums, and the counts of alphabetic, numeric (and special) characters again and assign the results to new columns in the data frame."
   ]
  },
  {
   "cell_type": "code",
   "execution_count": 4,
   "id": "f8c2fbff-2999-4c2f-9f3e-683aa9ca7ddd",
   "metadata": {
    "editable": true,
    "slideshow": {
     "slide_type": ""
    },
    "tags": []
   },
   "outputs": [
    {
     "data": {
      "text/plain": [
       "pandas.core.series.Series"
      ]
     },
     "execution_count": 4,
     "metadata": {},
     "output_type": "execute_result"
    }
   ],
   "source": [
    "# task 1: use square brackets to read a column from the data frame\n",
    "passwords = df[\"password\"]\n",
    "type(passwords)"
   ]
  },
  {
   "cell_type": "code",
   "execution_count": 5,
   "id": "98848b17-bce1-4fb0-aa75-1554170f08dc",
   "metadata": {
    "editable": true,
    "slideshow": {
     "slide_type": ""
    },
    "tags": []
   },
   "outputs": [
    {
     "data": {
      "text/plain": [
       "password\n",
       "123456           18635\n",
       "111111            6992\n",
       "123456789         6578\n",
       "123123            2731\n",
       "000000            2288\n",
       "                 ...  \n",
       "962464yjs            1\n",
       "gad1141504gad        1\n",
       "dg.86634317          1\n",
       "jinminte             1\n",
       "qq1141501320         1\n",
       "Name: count, Length: 739089, dtype: int64"
      ]
     },
     "execution_count": 5,
     "metadata": {},
     "output_type": "execute_result"
    }
   ],
   "source": [
    "# task 2: the passwords are directly sorted by their counts\n",
    "unique_passwords = passwords.value_counts()\n",
    "unique_passwords"
   ]
  },
  {
   "cell_type": "code",
   "execution_count": 6,
   "id": "be86a71d-9d88-4465-9ccb-ece8764a2154",
   "metadata": {
    "editable": true,
    "slideshow": {
     "slide_type": ""
    },
    "tags": []
   },
   "outputs": [
    {
     "data": {
      "text/html": [
       "<div>\n",
       "<style scoped>\n",
       "    .dataframe tbody tr th:only-of-type {\n",
       "        vertical-align: middle;\n",
       "    }\n",
       "\n",
       "    .dataframe tbody tr th {\n",
       "        vertical-align: top;\n",
       "    }\n",
       "\n",
       "    .dataframe thead th {\n",
       "        text-align: right;\n",
       "    }\n",
       "</style>\n",
       "<table border=\"1\" class=\"dataframe\">\n",
       "  <thead>\n",
       "    <tr style=\"text-align: right;\">\n",
       "      <th></th>\n",
       "      <th>count</th>\n",
       "    </tr>\n",
       "    <tr>\n",
       "      <th>password</th>\n",
       "      <th></th>\n",
       "    </tr>\n",
       "  </thead>\n",
       "  <tbody>\n",
       "    <tr>\n",
       "      <th>123456</th>\n",
       "      <td>18635</td>\n",
       "    </tr>\n",
       "    <tr>\n",
       "      <th>111111</th>\n",
       "      <td>6992</td>\n",
       "    </tr>\n",
       "    <tr>\n",
       "      <th>123456789</th>\n",
       "      <td>6578</td>\n",
       "    </tr>\n",
       "    <tr>\n",
       "      <th>123123</th>\n",
       "      <td>2731</td>\n",
       "    </tr>\n",
       "    <tr>\n",
       "      <th>000000</th>\n",
       "      <td>2288</td>\n",
       "    </tr>\n",
       "    <tr>\n",
       "      <th>...</th>\n",
       "      <td>...</td>\n",
       "    </tr>\n",
       "    <tr>\n",
       "      <th>962464yjs</th>\n",
       "      <td>1</td>\n",
       "    </tr>\n",
       "    <tr>\n",
       "      <th>gad1141504gad</th>\n",
       "      <td>1</td>\n",
       "    </tr>\n",
       "    <tr>\n",
       "      <th>dg.86634317</th>\n",
       "      <td>1</td>\n",
       "    </tr>\n",
       "    <tr>\n",
       "      <th>jinminte</th>\n",
       "      <td>1</td>\n",
       "    </tr>\n",
       "    <tr>\n",
       "      <th>qq1141501320</th>\n",
       "      <td>1</td>\n",
       "    </tr>\n",
       "  </tbody>\n",
       "</table>\n",
       "<p>739089 rows × 1 columns</p>\n",
       "</div>"
      ],
      "text/plain": [
       "               count\n",
       "password            \n",
       "123456         18635\n",
       "111111          6992\n",
       "123456789       6578\n",
       "123123          2731\n",
       "000000          2288\n",
       "...              ...\n",
       "962464yjs          1\n",
       "gad1141504gad      1\n",
       "dg.86634317        1\n",
       "jinminte           1\n",
       "qq1141501320       1\n",
       "\n",
       "[739089 rows x 1 columns]"
      ]
     },
     "execution_count": 6,
     "metadata": {},
     "output_type": "execute_result"
    }
   ],
   "source": [
    "# task 3: create a data frame from the series again\n",
    "df = unique_passwords.to_frame()\n",
    "df"
   ]
  },
  {
   "cell_type": "code",
   "execution_count": 7,
   "id": "f7ce514c-5a66-4f80-abe7-4a5a079fcff7",
   "metadata": {
    "editable": true,
    "slideshow": {
     "slide_type": ""
    },
    "tags": []
   },
   "outputs": [],
   "source": [
    "# task 4: implement the functions to compute all the password metrics again\n",
    "def get_alphabetic_characters(password):\n",
    "    return [character for character in password if character.isalpha()]\n",
    "\n",
    "def get_numeric_characters(password):\n",
    "    return [int(character) for character in password if character.isnumeric()]\n",
    "\n",
    "# use isalnum() which is equal to (isalpha() or isnumeric())\n",
    "def get_special_characters(password):\n",
    "    return [character for character in password if not character.isalnum()]\n",
    "\n",
    "# use the function get_numeric_characters() here to compute the digit sum\n",
    "def compute_digit_sum(password):\n",
    "    return sum(get_numeric_characters(password))"
   ]
  },
  {
   "cell_type": "code",
   "execution_count": 8,
   "id": "00fd1a6f-2a80-42a8-a5ce-8adb37fb3f26",
   "metadata": {
    "editable": true,
    "slideshow": {
     "slide_type": ""
    },
    "tags": []
   },
   "outputs": [],
   "source": [
    "# task 4: add the length, the digit sum and the character counts to the data frame\n",
    "df[\"length\"] = np.array([len(password) for password in df.index])\n",
    "df[\"digit_sum\"] = np.array([compute_digit_sum(password) for password in df.index])\n",
    "df[\"n_alphabetic\"] = np.array([len(get_alphabetic_characters(password)) for password in df.index])\n",
    "df[\"n_numeric\"] = np.array([len(get_numeric_characters(password)) for password in df.index])\n",
    "df[\"n_special\"] = np.array([len(get_special_characters(password)) for password in df.index])"
   ]
  },
  {
   "cell_type": "code",
   "execution_count": null,
   "id": "f1dc73b1-ee88-4a12-876a-4a9955206baa",
   "metadata": {
    "editable": true,
    "slideshow": {
     "slide_type": ""
    },
    "tags": []
   },
   "outputs": [],
   "source": []
  },
  {
   "cell_type": "markdown",
   "id": "bb125890-3a2f-4991-8fea-b31227d79087",
   "metadata": {
    "editable": false,
    "slideshow": {
     "slide_type": ""
    },
    "tags": [
     "exercise"
    ]
   },
   "source": [
    "## 4.4 Creating multiple plots in one figure\n",
    "So far you have only used the functions `plt.plot()`, `plt.bar()` etc. that automatically create a figure with a single plot (which is also called axis). The Jupyter environment will automatically call the function `plt.show()` for you at the end of the cell to actually display the figure/plot.  \n",
    "\n",
    "If you want to have multiple plots/axes in one figure, you have to define the shape of the figure beforehand. The corresponding function in matplotlib is `plt.subplots()` where you can specify how many rows and columns of axes you want to have in the figure. As an example, if you want to create three axes in a row, you can use the following code snippet:\n",
    "```python\n",
    "fig, axs = plt.subplots(ncols=3)\n",
    "```\n",
    "The function will return a figure and an array of axes and they will be automatically displayed if you execute the cell. Instead of calling `plt.plot()`, you can now plot something in a specific axes by calling `axs[i].plot()`. The arguments will be the same, you can pass the x-values, the y-data and some styling just like in `plt.plot()`. See the following code snippet that will create two axes showing different linear functions:\n",
    "```python\n",
    "fig, axs = plt.subplots(ncols=2)\n",
    "axs[0].plot(np.arange(10))\n",
    "axs[1].plot(-np.arange(40))\n",
    "```\n",
    "\n",
    "If you want to plot something directly from a data frame, you have to tell the data frame method which axis you want to use. For example, if you want to plot the digit sum (in the column `\"digit_sum\"`) as a function of the number of alphabetic characters (in the column `\"n_alphabetic\"`) in the second axis of the figure, you can use the following code snippet:\n",
    "```python\n",
    "fig, axs = plt.subplots(ncols=3)\n",
    "df.plot(\"n_alphabetic\", \"digit_sum\", kind=\"scatter\", ax=axs[1])\n",
    "```\n",
    "\n",
    "If you want to change the overall size of the figure, you can pass a list with the width and the height to the parameter `figsize` of the function `plt.subplots()`. As an example, see the following code snippet that will return a very wide figure with two axes:\n",
    "```python\n",
    "fig, axs = plt.subplots(ncols=2, figsize=[20, 4])\n",
    "```\n",
    "\n",
    "To save your figure at the end of the cell, you can use the method `fig.savefig(name)` with the `name` of the figure. See the following code snippet to create a new figure with three empty axes, and to save it to the file `\"plot.png\"` at the end of the cell:\n",
    "```python\n",
    "fig, axs = plt.subplots(ncols=3)\n",
    "fig.savefig(\"plot.png\")\n",
    "```\n",
    "\n",
    "1. Create a new figure with three empty axes in one column. If you do not like the aspect ratio, use the parameter `figsize` to change the size of the figure.\n",
    "2. Create a new figure with two axes in one row. Show the digit sum as a function of the password length in the first axes, and show the digit sum as a function of the number of numeric characters in the second axes. In both axes, display the maximum possible digit sum. Assign labels to all the data and add a legend.\n",
    "3. Create a new figure with two axes in one row. Display different columns from the data frame in the two axes. Save the figure and open the file on your own device to check that everything looks as expected.\n",
    "4. EXTRA: Create a figure with 4 axes in 2 rows. How do you have to index the `axs` to select the individual plots? Fill the axes with some data from the data frame. Call `fig.set_tight_layout(True)` if the axes are overlapping with the labels."
   ]
  },
  {
   "cell_type": "code",
   "execution_count": 9,
   "id": "5bf72704-5410-42f6-a104-97b080dcef56",
   "metadata": {
    "editable": true,
    "slideshow": {
     "slide_type": ""
    },
    "tags": []
   },
   "outputs": [
    {
     "data": {
      "image/png": "[encoded data removed]",
      "text/plain": [
       "<Figure size 300x600 with 3 Axes>"
      ]
     },
     "metadata": {},
     "output_type": "display_data"
    }
   ],
   "source": [
    "# task 1: by specifying nrows=3, you will receive three equally sized axes that are stacked in a column\n",
    "fig, axs = plt.subplots(nrows=3, figsize=(3, 6))"
   ]
  },
  {
   "cell_type": "code",
   "execution_count": 10,
   "id": "eeafd2f1-8255-4c65-b94e-2963ca294416",
   "metadata": {
    "editable": true,
    "slideshow": {
     "slide_type": ""
    },
    "tags": []
   },
   "outputs": [
    {
     "data": {
      "text/plain": [
       "<matplotlib.legend.Legend at 0x76e9d9814f80>"
      ]
     },
     "execution_count": 10,
     "metadata": {},
     "output_type": "execute_result"
    },
    {
     "data": {
      "image/png": "[encoded data removed]",
      "text/plain": [
       "<Figure size 1200x400 with 2 Axes>"
      ]
     },
     "metadata": {},
     "output_type": "display_data"
    }
   ],
   "source": [
    "# task 2: use ncols=2 and figsize=[12, 4] to get two reasonably sized plots/axes in a row\n",
    "fig, axs = plt.subplots(ncols=2, figsize=[12, 4])\n",
    "\n",
    "# plot the digit sum as a function of the length in the first axes\n",
    "# compute the maximum digit sum for x in [0, maximum length - 1]\n",
    "maximum_digit_sum = 9 * np.arange(df[\"length\"].max())\n",
    "# create a scatter plot with x = \"length\" and y = \"digit_sum\" in axs[0]\n",
    "df.plot(\"length\", \"digit_sum\", kind=\"scatter\", ax=axs[0], label=\"data\")\n",
    "# plot the maximum_digit_sum as a linear function\n",
    "# you need to specify a color since plot() does not care/know that the scattered points already use the color blue\n",
    "axs[0].plot(maximum_digit_sum, label=\"maximum\", color=\"orange\")\n",
    "axs[0].legend()\n",
    "\n",
    "# plot the digit sum as a function of the number of numeric characters in the second axes\n",
    "# this is identical to the previous axis, just with x = \"n_numeric\"\n",
    "maximum_digit_sum = 9 * np.arange(df[\"n_numeric\"].max())\n",
    "df.plot(\"n_numeric\", \"digit_sum\", kind=\"scatter\", ax=axs[1], label=\"data\")\n",
    "axs[1].plot(maximum_digit_sum, label=\"maximum\", color=\"orange\")\n",
    "axs[1].legend()"
   ]
  },
  {
   "cell_type": "code",
   "execution_count": 11,
   "id": "36aa27af-ec48-4b91-8788-1d2299c18c19",
   "metadata": {
    "editable": true,
    "slideshow": {
     "slide_type": ""
    },
    "tags": []
   },
   "outputs": [
    {
     "data": {
      "image/png": "[encoded data removed]",
      "text/plain": [
       "<Figure size 1200x400 with 2 Axes>"
      ]
     },
     "metadata": {},
     "output_type": "display_data"
    }
   ],
   "source": [
    "# task 3: display some data from the data frame in the two axes\n",
    "fig, axs = plt.subplots(ncols=2, figsize=[12, 4])\n",
    "df.plot(\"n_numeric\", \"digit_sum\", kind=\"scatter\", ax=axs[0])\n",
    "df.plot(\"n_alphabetic\", \"digit_sum\", kind=\"scatter\", ax=axs[1])\n",
    "fig.savefig(\"plot.png\")"
   ]
  },
  {
   "cell_type": "code",
   "execution_count": 12,
   "id": "fe2f7ef0-6940-42cf-8389-d5cf2cd3ad1d",
   "metadata": {
    "editable": true,
    "slideshow": {
     "slide_type": ""
    },
    "tags": []
   },
   "outputs": [
    {
     "data": {
      "text/plain": [
       "<Axes: xlabel='n_alphabetic', ylabel='length'>"
      ]
     },
     "execution_count": 12,
     "metadata": {},
     "output_type": "execute_result"
    },
    {
     "data": {
      "image/png": "[encoded data removed]",
      "text/plain": [
       "<Figure size 1200x800 with 4 Axes>"
      ]
     },
     "metadata": {},
     "output_type": "display_data"
    }
   ],
   "source": [
    "# task 4: you can select the separate axes with a row index and a column index, e.g. axs[0,1] will be the second axes in the first row\n",
    "fig, axs = plt.subplots(nrows=2, ncols=2, figsize=(12, 8))\n",
    "fig.set_tight_layout(True)\n",
    "df.plot(\"n_numeric\", \"digit_sum\", kind=\"scatter\", ax=axs[0,0])\n",
    "df.plot(\"n_alphabetic\", \"digit_sum\", kind=\"scatter\", ax=axs[0,1])\n",
    "df.plot(\"n_numeric\", \"length\", kind=\"scatter\", ax=axs[1,0])\n",
    "df.plot(\"n_alphabetic\", \"length\", kind=\"scatter\", ax=axs[1,1])"
   ]
  },
  {
   "cell_type": "code",
   "execution_count": null,
   "id": "1b1bfb3a-c39f-4baa-8df9-7d40732e6e37",
   "metadata": {
    "editable": true,
    "slideshow": {
     "slide_type": ""
    },
    "tags": []
   },
   "outputs": [],
   "source": []
  },
  {
   "cell_type": "markdown",
   "id": "6bb44fe7-2630-4ff5-9037-99b18132c6f7",
   "metadata": {
    "editable": false,
    "slideshow": {
     "slide_type": ""
    },
    "tags": [
     "exercise"
    ]
   },
   "source": [
    "## EXTRA: Computing the palindrome depth\n",
    "A palindrome is a word/string that reads the same backwards as forwards, for example \"radar\" or \"level\". Instead of just checking all passwords whether they are a palindrome or not, the exercise is to count the number of matching characters up to the middle when reading the password backwards and forwards. If the number of characters is odd, you also have to include the middle character in the count. See the following examples to clarify how the palindrome depth is defined:\n",
    "```\n",
    "radar -> 3\n",
    "12abcd21 -> 2\n",
    "levels -> 0\n",
    "```\n",
    "\n",
    "1. Write the function that computes the palindrome depth for a single password. Try the examples and two other passwords to check that your function works correctly.\n",
    "2. Use the function to calculate the palindrome depth for the passwords in your data frame and add the values to the data frame as a new column.\n",
    "3. Identify the true palindromes (e.g. `\"radar\"` or `\"level\"`, but not `\"abca\"`) using the palindrome depths and the lengths of the passwords. The result should be a boolean array that you can add to the data frame as a new column.\n",
    "4. Visualize your results and see if you can find anything interesting."
   ]
  },
  {
   "cell_type": "code",
   "execution_count": 13,
   "id": "a317d697-c147-41d3-89c6-58da6b9fffc7",
   "metadata": {
    "editable": true,
    "slideshow": {
     "slide_type": ""
    },
    "tags": []
   },
   "outputs": [],
   "source": [
    "# task 1: see the docstring of the function for the explanation of the computation\n",
    "def palindrome_depth(password):\n",
    "    \"\"\"\n",
    "    Since the password is checked forwards and backwards, you only have to\n",
    "    iterate over half of the password length. The integer division // 2 is\n",
    "    required to get an integer result. With a regular division the result\n",
    "    would be a float that cannot be used in the function range().\n",
    "\n",
    "    The for-loop is interrupted by the return statement as soon as it finds a\n",
    "    character pair that is not equal. The current value of i will then be the\n",
    "    palindrome depth. See the examples below to further illustrate this.\n",
    "\n",
    "    If the length of the password is odd, the middle character does not have\n",
    "    to be checked since this will contribute to the palindrome count in any\n",
    "    case. This is only relevant if the for-loop is completed. In that case the\n",
    "    palindrome depth should include the middle character in the count. E.g.\n",
    "    the password \"radar\" is supposed to have the palindrome depth 3. You can\n",
    "    achieve this by adding 1 to the password length before doing the integer\n",
    "    division by 2. See a few examples (not in Python syntax!):\n",
    "        length = 4 -> (4 + 1) // 2 = 2\n",
    "        length = 5 -> (5 + 1) // 2 = 3\n",
    "        length = 6 -> (6 + 1) // 2 = 3\n",
    "\n",
    "    Example\n",
    "    -------\n",
    "    password = \"radar\"\n",
    "    i = 0 -> \"r\" == \"r\"\n",
    "    i = 1 -> \"a\" == \"a\"\n",
    "    for loop is over -> return 3\n",
    "\n",
    "    password = \"12abcd21\"\n",
    "    i = 0 -> \"1\" == \"1\"\n",
    "    i = 1 -> \"2\" == \"2\"\n",
    "    i = 2 -> \"a\" != \"d\"\n",
    "    return the current value of the index as the depth\n",
    "    \"\"\"\n",
    "    for i in range(len(password) // 2):\n",
    "        if password[i] != password[-1-i]:\n",
    "            return i\n",
    "    return (len(password) + 1) // 2"
   ]
  },
  {
   "cell_type": "code",
   "execution_count": 14,
   "id": "f29aef6b-8626-4e2a-8464-3d13efd88ea6",
   "metadata": {
    "editable": true,
    "slideshow": {
     "slide_type": ""
    },
    "tags": []
   },
   "outputs": [
    {
     "name": "stdout",
     "output_type": "stream",
     "text": [
      "radar: 3\n",
      "12abcd21: 2\n",
      "levels: 0\n",
      "otto: 2\n",
      "_!#?#.#!_: 3\n"
     ]
    }
   ],
   "source": [
    "# task 1: create a list of passwords to test and print them with their palindrome depths\n",
    "test_passwords = [\"radar\", \"12abcd21\", \"levels\", \"otto\", \"_!#?#.#!_\"]\n",
    "for password in test_passwords:\n",
    "    print(f\"{password}: {palindrome_depth(password)}\")"
   ]
  },
  {
   "cell_type": "code",
   "execution_count": 15,
   "id": "d4ee3be3-902f-43fd-a277-93b7bd3d4f55",
   "metadata": {
    "editable": true,
    "slideshow": {
     "slide_type": ""
    },
    "tags": []
   },
   "outputs": [],
   "source": [
    "# task 2: continue with a copy of the basic data frame for this exercise, this is not required but the data frame would otherwise get quite wide over three EXTRA exercises\n",
    "df_palindrome = df.copy()"
   ]
  },
  {
   "cell_type": "code",
   "execution_count": 16,
   "id": "31fd8a6b-2cce-4bb7-b270-8e776b8180f2",
   "metadata": {
    "editable": true,
    "slideshow": {
     "slide_type": ""
    },
    "tags": []
   },
   "outputs": [],
   "source": [
    "# task 2: add the column \"palindrome_depth\" to the data frame\n",
    "df_palindrome[\"palindrome_depth\"] = np.array([palindrome_depth(password) for password in df.index])"
   ]
  },
  {
   "cell_type": "code",
   "execution_count": 17,
   "id": "70c489dc-9591-49e0-ad05-5a64cd7debb3",
   "metadata": {
    "editable": true,
    "slideshow": {
     "slide_type": ""
    },
    "tags": []
   },
   "outputs": [],
   "source": [
    "# task 3: add the boolean column \"palindrome\" by comparing the password \"length\" to the \"palindrome_depth\"\n",
    "# the value (length + 1) // 2 is equal to the return value of the function palindrome_depth() for true palindromes\n",
    "df_palindrome[\"palindrome\"] = (df_palindrome[\"length\"] + 1) // 2 == df_palindrome[\"palindrome_depth\"]"
   ]
  },
  {
   "cell_type": "code",
   "execution_count": 18,
   "id": "098054e9-b2ef-4bcd-b285-47a3c2c799c4",
   "metadata": {
    "editable": true,
    "slideshow": {
     "slide_type": ""
    },
    "tags": []
   },
   "outputs": [
    {
     "data": {
      "text/html": [
       "<div>\n",
       "<style scoped>\n",
       "    .dataframe tbody tr th:only-of-type {\n",
       "        vertical-align: middle;\n",
       "    }\n",
       "\n",
       "    .dataframe tbody tr th {\n",
       "        vertical-align: top;\n",
       "    }\n",
       "\n",
       "    .dataframe thead th {\n",
       "        text-align: right;\n",
       "    }\n",
       "</style>\n",
       "<table border=\"1\" class=\"dataframe\">\n",
       "  <thead>\n",
       "    <tr style=\"text-align: right;\">\n",
       "      <th></th>\n",
       "      <th>count</th>\n",
       "      <th>length</th>\n",
       "      <th>digit_sum</th>\n",
       "      <th>n_alphabetic</th>\n",
       "      <th>n_numeric</th>\n",
       "      <th>n_special</th>\n",
       "      <th>palindrome_depth</th>\n",
       "      <th>palindrome</th>\n",
       "    </tr>\n",
       "    <tr>\n",
       "      <th>password</th>\n",
       "      <th></th>\n",
       "      <th></th>\n",
       "      <th></th>\n",
       "      <th></th>\n",
       "      <th></th>\n",
       "      <th></th>\n",
       "      <th></th>\n",
       "      <th></th>\n",
       "    </tr>\n",
       "  </thead>\n",
       "  <tbody>\n",
       "    <tr>\n",
       "      <th>111111</th>\n",
       "      <td>6992</td>\n",
       "      <td>6</td>\n",
       "      <td>6</td>\n",
       "      <td>0</td>\n",
       "      <td>6</td>\n",
       "      <td>0</td>\n",
       "      <td>3</td>\n",
       "      <td>True</td>\n",
       "    </tr>\n",
       "    <tr>\n",
       "      <th>000000</th>\n",
       "      <td>2288</td>\n",
       "      <td>6</td>\n",
       "      <td>0</td>\n",
       "      <td>0</td>\n",
       "      <td>6</td>\n",
       "      <td>0</td>\n",
       "      <td>3</td>\n",
       "      <td>True</td>\n",
       "    </tr>\n",
       "    <tr>\n",
       "      <th>11111</th>\n",
       "      <td>1408</td>\n",
       "      <td>5</td>\n",
       "      <td>5</td>\n",
       "      <td>0</td>\n",
       "      <td>5</td>\n",
       "      <td>0</td>\n",
       "      <td>3</td>\n",
       "      <td>True</td>\n",
       "    </tr>\n",
       "    <tr>\n",
       "      <th>222222</th>\n",
       "      <td>1380</td>\n",
       "      <td>6</td>\n",
       "      <td>12</td>\n",
       "      <td>0</td>\n",
       "      <td>6</td>\n",
       "      <td>0</td>\n",
       "      <td>3</td>\n",
       "      <td>True</td>\n",
       "    </tr>\n",
       "    <tr>\n",
       "      <th>666</th>\n",
       "      <td>1075</td>\n",
       "      <td>3</td>\n",
       "      <td>18</td>\n",
       "      <td>0</td>\n",
       "      <td>3</td>\n",
       "      <td>0</td>\n",
       "      <td>2</td>\n",
       "      <td>True</td>\n",
       "    </tr>\n",
       "    <tr>\n",
       "      <th>...</th>\n",
       "      <td>...</td>\n",
       "      <td>...</td>\n",
       "      <td>...</td>\n",
       "      <td>...</td>\n",
       "      <td>...</td>\n",
       "      <td>...</td>\n",
       "      <td>...</td>\n",
       "      <td>...</td>\n",
       "    </tr>\n",
       "    <tr>\n",
       "      <th>11411411</th>\n",
       "      <td>1</td>\n",
       "      <td>8</td>\n",
       "      <td>14</td>\n",
       "      <td>0</td>\n",
       "      <td>8</td>\n",
       "      <td>0</td>\n",
       "      <td>4</td>\n",
       "      <td>True</td>\n",
       "    </tr>\n",
       "    <tr>\n",
       "      <th>kekek</th>\n",
       "      <td>1</td>\n",
       "      <td>5</td>\n",
       "      <td>0</td>\n",
       "      <td>5</td>\n",
       "      <td>0</td>\n",
       "      <td>0</td>\n",
       "      <td>3</td>\n",
       "      <td>True</td>\n",
       "    </tr>\n",
       "    <tr>\n",
       "      <th>917719</th>\n",
       "      <td>1</td>\n",
       "      <td>6</td>\n",
       "      <td>34</td>\n",
       "      <td>0</td>\n",
       "      <td>6</td>\n",
       "      <td>0</td>\n",
       "      <td>3</td>\n",
       "      <td>True</td>\n",
       "    </tr>\n",
       "    <tr>\n",
       "      <th>868868</th>\n",
       "      <td>1</td>\n",
       "      <td>6</td>\n",
       "      <td>44</td>\n",
       "      <td>0</td>\n",
       "      <td>6</td>\n",
       "      <td>0</td>\n",
       "      <td>3</td>\n",
       "      <td>True</td>\n",
       "    </tr>\n",
       "    <tr>\n",
       "      <th>5210125</th>\n",
       "      <td>1</td>\n",
       "      <td>7</td>\n",
       "      <td>16</td>\n",
       "      <td>0</td>\n",
       "      <td>7</td>\n",
       "      <td>0</td>\n",
       "      <td>4</td>\n",
       "      <td>True</td>\n",
       "    </tr>\n",
       "  </tbody>\n",
       "</table>\n",
       "<p>2193 rows × 8 columns</p>\n",
       "</div>"
      ],
      "text/plain": [
       "          count  length  digit_sum  n_alphabetic  n_numeric  n_special  \\\n",
       "password                                                                 \n",
       "111111     6992       6          6             0          6          0   \n",
       "000000     2288       6          0             0          6          0   \n",
       "11111      1408       5          5             0          5          0   \n",
       "222222     1380       6         12             0          6          0   \n",
       "666        1075       3         18             0          3          0   \n",
       "...         ...     ...        ...           ...        ...        ...   \n",
       "11411411      1       8         14             0          8          0   \n",
       "kekek         1       5          0             5          0          0   \n",
       "917719        1       6         34             0          6          0   \n",
       "868868        1       6         44             0          6          0   \n",
       "5210125       1       7         16             0          7          0   \n",
       "\n",
       "          palindrome_depth  palindrome  \n",
       "password                                \n",
       "111111                   3        True  \n",
       "000000                   3        True  \n",
       "11111                    3        True  \n",
       "222222                   3        True  \n",
       "666                      2        True  \n",
       "...                    ...         ...  \n",
       "11411411                 4        True  \n",
       "kekek                    3        True  \n",
       "917719                   3        True  \n",
       "868868                   3        True  \n",
       "5210125                  4        True  \n",
       "\n",
       "[2193 rows x 8 columns]"
      ]
     },
     "execution_count": 18,
     "metadata": {},
     "output_type": "execute_result"
    }
   ],
   "source": [
    "# task 3: there are a little over 2000 true palindromes in the dataset\n",
    "df_palindrome.query(\"palindrome\")"
   ]
  },
  {
   "cell_type": "code",
   "execution_count": 19,
   "id": "508c4461-aca9-4955-88d8-a8094d5bd68b",
   "metadata": {
    "editable": true,
    "slideshow": {
     "slide_type": ""
    },
    "tags": []
   },
   "outputs": [],
   "source": [
    "# task 4: only look at the passwords with a finite \"palindrome_depth\"\n",
    "# save the partial data frame in a new variable since this will be used for all plots\n",
    "df_plot = df_palindrome.query(\"palindrome_depth > 0\")"
   ]
  },
  {
   "cell_type": "code",
   "execution_count": 20,
   "id": "3f653c7b-1f59-46ab-88cf-bee92587fe9a",
   "metadata": {
    "editable": true,
    "slideshow": {
     "slide_type": ""
    },
    "tags": []
   },
   "outputs": [],
   "source": [
    "# task 4: group the data by specific columns\n",
    "group_length = df_plot.groupby(\"length\")\n",
    "group_alphabetic = df_plot.groupby(\"n_alphabetic\")\n",
    "group_numeric = df_plot.groupby(\"n_numeric\")"
   ]
  },
  {
   "cell_type": "code",
   "execution_count": 21,
   "id": "1c6a5ebc-cb13-428e-8c00-dfa66965f136",
   "metadata": {
    "editable": true,
    "slideshow": {
     "slide_type": ""
    },
    "tags": []
   },
   "outputs": [
    {
     "data": {
      "text/plain": [
       "<matplotlib.legend.Legend at 0x76e9d981d100>"
      ]
     },
     "execution_count": 21,
     "metadata": {},
     "output_type": "execute_result"
    },
    {
     "data": {
      "image/png": "[encoded data removed]",
      "text/plain": [
       "<Figure size 800x400 with 1 Axes>"
      ]
     },
     "metadata": {},
     "output_type": "display_data"
    }
   ],
   "source": [
    "# task 4: there is a true palindrome in the data frame for every length up to 30\n",
    "# the mean palindrome depth is quite constant as a function of the length, most passwords will only have a depth of 1 or 2 characters\n",
    "# the increase of the palindrome_depth with the length is mostly due to passwords consisting of only a single unique character\n",
    "fig, axs = plt.subplots(ncols=1, figsize=(8, 4))\n",
    "maximum_palindrome_depth = (np.arange(41) + 1) // 2\n",
    "group_length.mean().plot(y=\"palindrome_depth\", marker=\"o\", ls=\"none\", label=\"mean depth\", ax=axs)\n",
    "group_length.max().plot(y=\"palindrome_depth\", marker=\"o\", ls=\"none\", label=\"max depth\", ax=axs)\n",
    "axs.plot(maximum_palindrome_depth, label=\"maximum possible depth\")\n",
    "axs.set_ylabel(\"palindrome depth\")\n",
    "axs.set_xlim(-1, 41)\n",
    "axs.legend()"
   ]
  },
  {
   "cell_type": "code",
   "execution_count": null,
   "id": "d8b6bd05-d983-4fea-8535-af4f409cc38d",
   "metadata": {
    "editable": true,
    "slideshow": {
     "slide_type": ""
    },
    "tags": []
   },
   "outputs": [],
   "source": []
  },
  {
   "cell_type": "markdown",
   "id": "7997a4bb-bdfe-4c6e-a1d2-8e11b90a0686",
   "metadata": {
    "editable": false,
    "slideshow": {
     "slide_type": ""
    },
    "tags": [
     "exercise"
    ]
   },
   "source": [
    "## EXTRA: Computing the password strength\n",
    "The [password strength](https://en.wikipedia.org/wiki/Password_strength) estimates how many trials you need on average to crack a password using a brute-force approach. The equation for the information entropy is\n",
    "$$\n",
    "H = L \\frac{\\log{N}}{\\log{2}}\n",
    "$$\n",
    "where $L$ is the length of the password and $N$ is the number of possible symbols that depends on the set of symbols. If a passwords consists only of numeric characters, there will only be 10 possible symbols. On the other hand, if a password contains numeric characters and alphabetic characters the number of possible symbols will be higher. See the table on [Entropy per symbol](https://en.wikipedia.org/wiki/Password_strength#Random_passwords) for the relevant symbol sets.\n",
    "\n",
    "1. Write the function that computes the password strength of a single password based on the symbol set and the password length. You should differentiate between at least the following three symbol sets:\n",
    "   - Arabic numerals (0–9)\n",
    "   - Case insensitive Latin alphabet (a–z or A–Z)\n",
    "   - All ASCII printable characters (a-z, A-Z, 0-9 and special characters)\n",
    "   - Use more symbol sets if you want to\n",
    "2. Compute the password strength for each password in the data frame and add the result as a new column.\n",
    "3. Visualize your results and see if you can find anything interesting."
   ]
  },
  {
   "cell_type": "code",
   "execution_count": 22,
   "id": "79165a56-4a6f-4d56-95dc-7b3bea48e1ec",
   "metadata": {
    "editable": true,
    "slideshow": {
     "slide_type": ""
    },
    "tags": []
   },
   "outputs": [],
   "source": [
    "# task 1\n",
    "def password_strength(password):\n",
    "    # use the functions from exercise 4.3\n",
    "    numeric = get_numeric_characters(password)\n",
    "    alphabetic = get_alphabetic_characters(password)\n",
    "    special = get_special_characters(password)\n",
    "    # use the boolean value of the lists to check if they are empty\n",
    "\n",
    "    symbol_count = 0\n",
    "    # there are 10 numeric characters\n",
    "    if numeric:\n",
    "        symbol_count += 10\n",
    "    # there are 2*26 alphabetic characters (if you don't handle lower-case and upper-case characters separately)\n",
    "    if alphabetic:\n",
    "        symbol_count += 52\n",
    "    # there should be 95 - 62 = 33 special characters\n",
    "    if special:\n",
    "        symbol_count += 33\n",
    "    return len(password) * np.log2(symbol_count)"
   ]
  },
  {
   "cell_type": "code",
   "execution_count": 23,
   "id": "14986749-a107-452e-9c5f-1f396f73f7fa",
   "metadata": {
    "editable": true,
    "slideshow": {
     "slide_type": ""
    },
    "tags": []
   },
   "outputs": [],
   "source": [
    "# task 2: continue with a copy of the basic data frame for this exercise, this is not required but the data frame would otherwise get quite wide over three EXTRA exercises\n",
    "df_strength = df.copy()"
   ]
  },
  {
   "cell_type": "code",
   "execution_count": 24,
   "id": "66e17905-affb-48f5-827a-ed7c0483e9b5",
   "metadata": {
    "editable": true,
    "slideshow": {
     "slide_type": ""
    },
    "tags": []
   },
   "outputs": [],
   "source": [
    "# task 2: add the password strength as a column to the data frame\n",
    "df_strength[\"password_strength\"] = np.array([password_strength(password) for password in df.index])\n",
    "\n",
    "# add the relative password strength per character to the data frame\n",
    "# I only realized that this is more interesting than the absolute password strength while trying to create some interesting plots\n",
    "# it would have been better to only calculate the relative password strength with the function password_strength() in the first place\n",
    "df_strength[\"relative_password_strength\"] = df_strength[\"password_strength\"] / df_strength[\"length\"]"
   ]
  },
  {
   "cell_type": "code",
   "execution_count": 25,
   "id": "ce96621b-4a59-4454-953c-304e69205bc4",
   "metadata": {
    "editable": true,
    "slideshow": {
     "slide_type": ""
    },
    "tags": []
   },
   "outputs": [],
   "source": [
    "# task 3: remove the extreme lengths and only look at duplicate passwords\n",
    "df_plot = df_strength.query(\"length < 50 and count > 1\")"
   ]
  },
  {
   "cell_type": "code",
   "execution_count": 26,
   "id": "63d304ca-121c-4a94-aed6-e76ef48c8b2a",
   "metadata": {
    "editable": true,
    "slideshow": {
     "slide_type": ""
    },
    "tags": []
   },
   "outputs": [
    {
     "data": {
      "text/plain": [
       "Text(0.5, 0.98, 'Password strength per character')"
      ]
     },
     "execution_count": 26,
     "metadata": {},
     "output_type": "execute_result"
    },
    {
     "data": {
      "image/png": "[encoded data removed]",
      "text/plain": [
       "<Figure size 1100x800 with 4 Axes>"
      ]
     },
     "metadata": {},
     "output_type": "display_data"
    }
   ],
   "source": [
    "# task 3: display the password strength as a function of the length and the character counts\n",
    "\n",
    "# use sharey=True to share the scale and labels of the y axis in each row\n",
    "fig, axs = plt.subplots(nrows=2, ncols=2, figsize=(11, 8), sharey=True)\n",
    "# reduce the spacing between the plots/axes\n",
    "fig.set_tight_layout(True)\n",
    "\n",
    "# group the data by the x-values and compute the mean across those groups\n",
    "df_plot.groupby(\"length\").mean().plot(y=\"relative_password_strength\", marker=\"o\", linestyle=\"none\", ax=axs[0,0], legend=False)\n",
    "df_plot.groupby(\"n_alphabetic\").mean().plot(y=\"relative_password_strength\", marker=\"o\", linestyle=\"none\", ax=axs[0,1], legend=False)\n",
    "df_plot.groupby(\"n_numeric\").mean().plot(y=\"relative_password_strength\", marker=\"o\", linestyle=\"none\", ax=axs[1,0], legend=False)\n",
    "df_plot.groupby(\"n_special\").mean().plot(y=\"relative_password_strength\", marker=\"o\", linestyle=\"none\", ax=axs[1,1], legend=False)\n",
    "fig.suptitle(\"Password strength per character\", fontsize=16)\n",
    "\n",
    "# up to ~20 characters the password strength per character still increases with the length because most passwords will contain all character types\n",
    "# the password strength is practically constant as a function of n_alphabetic, only for n_alphabetic = 0 the value is significantly lower\n",
    "# the password strength drops significantly for n_numeric between 6 and 16, most likely because these passwords will consist only of numeric characters\n",
    "# the password strength is maximal for n_special from 1 to 4 (the data point at n_special = 15 is only the average of two passwords)"
   ]
  },
  {
   "cell_type": "code",
   "execution_count": null,
   "id": "ad267307-38d8-47ed-883a-a0790dc8699e",
   "metadata": {
    "editable": true,
    "slideshow": {
     "slide_type": ""
    },
    "tags": []
   },
   "outputs": [],
   "source": []
  },
  {
   "cell_type": "markdown",
   "id": "9140707c-9089-4ab5-8ebc-25a53b18a0d8",
   "metadata": {
    "editable": false,
    "slideshow": {
     "slide_type": ""
    },
    "tags": [
     "exercise"
    ]
   },
   "source": [
    "## EXTRA: Computing numeric character frequencies\n",
    "To analyze which digits are used the most frequently in the password you have to count the individual numeric characters for each password. If a numeric character does not occur in a password, the count should be zero. See the following example as an illustration:\n",
    "```python\n",
    "password = \"1234123459\"\n",
    "get_numeric_character_counts(password) -> {\"0\": 0, \"1\": 2, \"2\": 2, \"3\": 2, \"4\": 2, \"5\": 1, \"6\": 0, \"7\": 0, \"8\": 0, \"9\": 1}\n",
    "```\n",
    "\n",
    "1. Write the function that counts the individual numeric characters in a single password.\n",
    "2. Get the counts from each password in the data frame and assign the data to the data frame. You need ten additional columns in the data frame, one for each numeric character.\n",
    "3. Visualize your results and see if you can find anything interesting."
   ]
  },
  {
   "cell_type": "code",
   "execution_count": 27,
   "id": "839b907d-2a67-4588-b926-71c664774d67",
   "metadata": {
    "editable": true,
    "slideshow": {
     "slide_type": ""
    },
    "tags": []
   },
   "outputs": [],
   "source": [
    "# task 1: if you create a list of numeric characters and pass this to a pandas Series, you can just use the method .value_counts() to get the unique values and their counts\n",
    "# I did not test how this compares to creating a dictionary with the characters and their counts (like you did on day1 and day2) in terms of runtime and memory load\n",
    "def get_numeric_character_counts(password):\n",
    "    series = pd.Series([char for char in password if char.isnumeric()]).value_counts()\n",
    "    # replace the name \"count\" by the value of password since this will be the index when all the series are combined into a single data frame\n",
    "    series.name = password \n",
    "    return series"
   ]
  },
  {
   "cell_type": "code",
   "execution_count": 28,
   "id": "dd878ddf-5aaa-4671-8407-17410c4634a0",
   "metadata": {
    "editable": true,
    "slideshow": {
     "slide_type": ""
    },
    "tags": []
   },
   "outputs": [],
   "source": [
    "# task 2: get a series with the numeric characters of each password and append them all to a list\n",
    "# then create a data frame from the list of series\n",
    "# WARNING: this might take a while to run!\n",
    "df_numeric_characters = pd.DataFrame([get_numeric_character_counts(password) for password in df.index])"
   ]
  },
  {
   "cell_type": "code",
   "execution_count": 29,
   "id": "77cbbd31-dae1-46d1-b7d7-baaf75aee057",
   "metadata": {
    "editable": true,
    "slideshow": {
     "slide_type": ""
    },
    "tags": []
   },
   "outputs": [],
   "source": [
    "# task 2: if a numeric character was missing from the password the series returned from get_numeric_character_counts() will just not have this index\n",
    "# in the data frame the empty columns for each password are filled with NaN (not a number)\n",
    "# since we want these values to be zero we can use the method .fillna(0) to replace all NaN values with 0\n",
    "# use the method .convert_dtypes() to convert everything to integer values again, the dtype was float earlier due to the NaN values\n",
    "df_numeric_characters = df_numeric_characters.fillna(0).convert_dtypes()"
   ]
  },
  {
   "cell_type": "code",
   "execution_count": 30,
   "id": "ef053bc2-7aa2-46f3-a4d4-fb2f39e752b0",
   "metadata": {
    "editable": true,
    "slideshow": {
     "slide_type": ""
    },
    "tags": []
   },
   "outputs": [
    {
     "data": {
      "text/html": [
       "<div>\n",
       "<style scoped>\n",
       "    .dataframe tbody tr th:only-of-type {\n",
       "        vertical-align: middle;\n",
       "    }\n",
       "\n",
       "    .dataframe tbody tr th {\n",
       "        vertical-align: top;\n",
       "    }\n",
       "\n",
       "    .dataframe thead th {\n",
       "        text-align: right;\n",
       "    }\n",
       "</style>\n",
       "<table border=\"1\" class=\"dataframe\">\n",
       "  <thead>\n",
       "    <tr style=\"text-align: right;\">\n",
       "      <th></th>\n",
       "      <th>count</th>\n",
       "      <th>length</th>\n",
       "      <th>digit_sum</th>\n",
       "      <th>n_alphabetic</th>\n",
       "      <th>n_numeric</th>\n",
       "      <th>n_special</th>\n",
       "      <th>1</th>\n",
       "      <th>2</th>\n",
       "      <th>3</th>\n",
       "      <th>4</th>\n",
       "      <th>5</th>\n",
       "      <th>6</th>\n",
       "      <th>7</th>\n",
       "      <th>8</th>\n",
       "      <th>9</th>\n",
       "      <th>0</th>\n",
       "    </tr>\n",
       "    <tr>\n",
       "      <th>password</th>\n",
       "      <th></th>\n",
       "      <th></th>\n",
       "      <th></th>\n",
       "      <th></th>\n",
       "      <th></th>\n",
       "      <th></th>\n",
       "      <th></th>\n",
       "      <th></th>\n",
       "      <th></th>\n",
       "      <th></th>\n",
       "      <th></th>\n",
       "      <th></th>\n",
       "      <th></th>\n",
       "      <th></th>\n",
       "      <th></th>\n",
       "      <th></th>\n",
       "    </tr>\n",
       "  </thead>\n",
       "  <tbody>\n",
       "    <tr>\n",
       "      <th>123456</th>\n",
       "      <td>18635</td>\n",
       "      <td>6</td>\n",
       "      <td>21</td>\n",
       "      <td>0</td>\n",
       "      <td>6</td>\n",
       "      <td>0</td>\n",
       "      <td>1</td>\n",
       "      <td>1</td>\n",
       "      <td>1</td>\n",
       "      <td>1</td>\n",
       "      <td>1</td>\n",
       "      <td>1</td>\n",
       "      <td>0</td>\n",
       "      <td>0</td>\n",
       "      <td>0</td>\n",
       "      <td>0</td>\n",
       "    </tr>\n",
       "    <tr>\n",
       "      <th>111111</th>\n",
       "      <td>6992</td>\n",
       "      <td>6</td>\n",
       "      <td>6</td>\n",
       "      <td>0</td>\n",
       "      <td>6</td>\n",
       "      <td>0</td>\n",
       "      <td>6</td>\n",
       "      <td>0</td>\n",
       "      <td>0</td>\n",
       "      <td>0</td>\n",
       "      <td>0</td>\n",
       "      <td>0</td>\n",
       "      <td>0</td>\n",
       "      <td>0</td>\n",
       "      <td>0</td>\n",
       "      <td>0</td>\n",
       "    </tr>\n",
       "    <tr>\n",
       "      <th>123456789</th>\n",
       "      <td>6578</td>\n",
       "      <td>9</td>\n",
       "      <td>45</td>\n",
       "      <td>0</td>\n",
       "      <td>9</td>\n",
       "      <td>0</td>\n",
       "      <td>1</td>\n",
       "      <td>1</td>\n",
       "      <td>1</td>\n",
       "      <td>1</td>\n",
       "      <td>1</td>\n",
       "      <td>1</td>\n",
       "      <td>1</td>\n",
       "      <td>1</td>\n",
       "      <td>1</td>\n",
       "      <td>0</td>\n",
       "    </tr>\n",
       "    <tr>\n",
       "      <th>123123</th>\n",
       "      <td>2731</td>\n",
       "      <td>6</td>\n",
       "      <td>12</td>\n",
       "      <td>0</td>\n",
       "      <td>6</td>\n",
       "      <td>0</td>\n",
       "      <td>2</td>\n",
       "      <td>2</td>\n",
       "      <td>2</td>\n",
       "      <td>0</td>\n",
       "      <td>0</td>\n",
       "      <td>0</td>\n",
       "      <td>0</td>\n",
       "      <td>0</td>\n",
       "      <td>0</td>\n",
       "      <td>0</td>\n",
       "    </tr>\n",
       "    <tr>\n",
       "      <th>000000</th>\n",
       "      <td>2288</td>\n",
       "      <td>6</td>\n",
       "      <td>0</td>\n",
       "      <td>0</td>\n",
       "      <td>6</td>\n",
       "      <td>0</td>\n",
       "      <td>0</td>\n",
       "      <td>0</td>\n",
       "      <td>0</td>\n",
       "      <td>0</td>\n",
       "      <td>0</td>\n",
       "      <td>0</td>\n",
       "      <td>0</td>\n",
       "      <td>0</td>\n",
       "      <td>0</td>\n",
       "      <td>6</td>\n",
       "    </tr>\n",
       "    <tr>\n",
       "      <th>...</th>\n",
       "      <td>...</td>\n",
       "      <td>...</td>\n",
       "      <td>...</td>\n",
       "      <td>...</td>\n",
       "      <td>...</td>\n",
       "      <td>...</td>\n",
       "      <td>...</td>\n",
       "      <td>...</td>\n",
       "      <td>...</td>\n",
       "      <td>...</td>\n",
       "      <td>...</td>\n",
       "      <td>...</td>\n",
       "      <td>...</td>\n",
       "      <td>...</td>\n",
       "      <td>...</td>\n",
       "      <td>...</td>\n",
       "    </tr>\n",
       "    <tr>\n",
       "      <th>962464yjs</th>\n",
       "      <td>1</td>\n",
       "      <td>9</td>\n",
       "      <td>31</td>\n",
       "      <td>3</td>\n",
       "      <td>6</td>\n",
       "      <td>0</td>\n",
       "      <td>0</td>\n",
       "      <td>1</td>\n",
       "      <td>0</td>\n",
       "      <td>2</td>\n",
       "      <td>0</td>\n",
       "      <td>2</td>\n",
       "      <td>0</td>\n",
       "      <td>0</td>\n",
       "      <td>1</td>\n",
       "      <td>0</td>\n",
       "    </tr>\n",
       "    <tr>\n",
       "      <th>gad1141504gad</th>\n",
       "      <td>1</td>\n",
       "      <td>13</td>\n",
       "      <td>16</td>\n",
       "      <td>6</td>\n",
       "      <td>7</td>\n",
       "      <td>0</td>\n",
       "      <td>3</td>\n",
       "      <td>0</td>\n",
       "      <td>0</td>\n",
       "      <td>2</td>\n",
       "      <td>1</td>\n",
       "      <td>0</td>\n",
       "      <td>0</td>\n",
       "      <td>0</td>\n",
       "      <td>0</td>\n",
       "      <td>1</td>\n",
       "    </tr>\n",
       "    <tr>\n",
       "      <th>dg.86634317</th>\n",
       "      <td>1</td>\n",
       "      <td>11</td>\n",
       "      <td>38</td>\n",
       "      <td>2</td>\n",
       "      <td>8</td>\n",
       "      <td>1</td>\n",
       "      <td>1</td>\n",
       "      <td>0</td>\n",
       "      <td>2</td>\n",
       "      <td>1</td>\n",
       "      <td>0</td>\n",
       "      <td>2</td>\n",
       "      <td>1</td>\n",
       "      <td>1</td>\n",
       "      <td>0</td>\n",
       "      <td>0</td>\n",
       "    </tr>\n",
       "    <tr>\n",
       "      <th>jinminte</th>\n",
       "      <td>1</td>\n",
       "      <td>8</td>\n",
       "      <td>0</td>\n",
       "      <td>8</td>\n",
       "      <td>0</td>\n",
       "      <td>0</td>\n",
       "      <td>0</td>\n",
       "      <td>0</td>\n",
       "      <td>0</td>\n",
       "      <td>0</td>\n",
       "      <td>0</td>\n",
       "      <td>0</td>\n",
       "      <td>0</td>\n",
       "      <td>0</td>\n",
       "      <td>0</td>\n",
       "      <td>0</td>\n",
       "    </tr>\n",
       "    <tr>\n",
       "      <th>qq1141501320</th>\n",
       "      <td>1</td>\n",
       "      <td>12</td>\n",
       "      <td>18</td>\n",
       "      <td>2</td>\n",
       "      <td>10</td>\n",
       "      <td>0</td>\n",
       "      <td>4</td>\n",
       "      <td>1</td>\n",
       "      <td>1</td>\n",
       "      <td>1</td>\n",
       "      <td>1</td>\n",
       "      <td>0</td>\n",
       "      <td>0</td>\n",
       "      <td>0</td>\n",
       "      <td>0</td>\n",
       "      <td>2</td>\n",
       "    </tr>\n",
       "  </tbody>\n",
       "</table>\n",
       "<p>739089 rows × 16 columns</p>\n",
       "</div>"
      ],
      "text/plain": [
       "               count  length  digit_sum  n_alphabetic  n_numeric  n_special  \\\n",
       "password                                                                      \n",
       "123456         18635       6         21             0          6          0   \n",
       "111111          6992       6          6             0          6          0   \n",
       "123456789       6578       9         45             0          9          0   \n",
       "123123          2731       6         12             0          6          0   \n",
       "000000          2288       6          0             0          6          0   \n",
       "...              ...     ...        ...           ...        ...        ...   \n",
       "962464yjs          1       9         31             3          6          0   \n",
       "gad1141504gad      1      13         16             6          7          0   \n",
       "dg.86634317        1      11         38             2          8          1   \n",
       "jinminte           1       8          0             8          0          0   \n",
       "qq1141501320       1      12         18             2         10          0   \n",
       "\n",
       "               1  2  3  4  5  6  7  8  9  0  \n",
       "password                                     \n",
       "123456         1  1  1  1  1  1  0  0  0  0  \n",
       "111111         6  0  0  0  0  0  0  0  0  0  \n",
       "123456789      1  1  1  1  1  1  1  1  1  0  \n",
       "123123         2  2  2  0  0  0  0  0  0  0  \n",
       "000000         0  0  0  0  0  0  0  0  0  6  \n",
       "...           .. .. .. .. .. .. .. .. .. ..  \n",
       "962464yjs      0  1  0  2  0  2  0  0  1  0  \n",
       "gad1141504gad  3  0  0  2  1  0  0  0  0  1  \n",
       "dg.86634317    1  0  2  1  0  2  1  1  0  0  \n",
       "jinminte       0  0  0  0  0  0  0  0  0  0  \n",
       "qq1141501320   4  1  1  1  1  0  0  0  0  2  \n",
       "\n",
       "[739089 rows x 16 columns]"
      ]
     },
     "execution_count": 30,
     "metadata": {},
     "output_type": "execute_result"
    }
   ],
   "source": [
    "# create a new data frame by joining the base data frame and the data frame with the numeric character counts\n",
    "# since the two data frames have the same index and no duplicate columns, joining/combining works without any issues\n",
    "df_numeric = df.join(df_numeric_characters)\n",
    "df_numeric"
   ]
  },
  {
   "cell_type": "code",
   "execution_count": 31,
   "id": "2611fdcd-06c9-4632-9006-9103c4a1c6d5",
   "metadata": {
    "editable": true,
    "slideshow": {
     "slide_type": ""
    },
    "tags": []
   },
   "outputs": [
    {
     "data": {
      "text/plain": [
       "['0', '1', '2', '3', '4', '5', '6', '7', '8', '9']"
      ]
     },
     "execution_count": 31,
     "metadata": {},
     "output_type": "execute_result"
    }
   ],
   "source": [
    "# task 3: create a list with the labels of the numeric character columns for the plotting later\n",
    "numeric_columns = [str(n) for n in range(10)]\n",
    "numeric_columns"
   ]
  },
  {
   "cell_type": "code",
   "execution_count": 32,
   "id": "8b3fe24a-d5bf-4d36-a36d-f6d2ca65247a",
   "metadata": {
    "editable": true,
    "slideshow": {
     "slide_type": ""
    },
    "tags": []
   },
   "outputs": [
    {
     "data": {
      "text/plain": [
       "Text(0.5, 1.05, 'Mean numeric character count of 739089 passwords')"
      ]
     },
     "execution_count": 32,
     "metadata": {},
     "output_type": "execute_result"
    },
    {
     "data": {
      "image/png": "[encoded data removed]",
      "text/plain": [
       "<Figure size 2000x400 with 3 Axes>"
      ]
     },
     "metadata": {},
     "output_type": "display_data"
    }
   ],
   "source": [
    "# task 3\n",
    "# the numeric character \"1\" is by far the most frequent one, this was to be expected\n",
    "# if you only look at passwords with four numeric characters, the character \"9\" is quite common compared to \"3\"-\"8\". This could be due to years (e.g. year of birth) from the last century often being used in passwords.\n",
    "fig, axs = plt.subplots(ncols=3, figsize=(20, 4), sharey=True)\n",
    "query0 = \"n_numeric == 3\"\n",
    "query1 = \"n_numeric == 4\"\n",
    "df_numeric.query(query0).mean()[numeric_columns].plot(kind=\"bar\", ax=axs[0])\n",
    "df_numeric.query(query1).mean()[numeric_columns].plot(kind=\"bar\", ax=axs[1])\n",
    "df_numeric.mean()[numeric_columns].plot(kind=\"bar\", ax=axs[2])\n",
    "\n",
    "axs[0].set_title(query0)\n",
    "axs[1].set_title(query1)\n",
    "axs[2].set_title(\"full dataset\")\n",
    "axs[0].set_ylabel(\"mean character count\")\n",
    "fig.suptitle(f\"Mean numeric character count of {len(df_numeric)} passwords\", fontsize=16, y=1.05)"
   ]
  },
  {
   "cell_type": "code",
   "execution_count": null,
   "id": "e59dbff1-4982-4998-a8dc-12ee83116a59",
   "metadata": {
    "editable": true,
    "slideshow": {
     "slide_type": ""
    },
    "tags": []
   },
   "outputs": [],
   "source": []
  }
 ],
 "metadata": {
  "kernelspec": {
   "display_name": "Python 3 (ipykernel)",
   "language": "python",
   "name": "python3"
  },
  "language_info": {
   "codemirror_mode": {
    "name": "ipython",
    "version": 3
   },
   "file_extension": ".py",
   "mimetype": "text/x-python",
   "name": "python",
   "nbconvert_exporter": "python",
   "pygments_lexer": "ipython3",
   "version": "3.12.7"
  }
 },
 "nbformat": 4,
 "nbformat_minor": 5
}
