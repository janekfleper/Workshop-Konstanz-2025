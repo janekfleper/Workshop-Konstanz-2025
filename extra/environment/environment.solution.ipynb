{
 "cells": [
  {
   "cell_type": "markdown",
   "id": "65cc29c6-246f-4bff-943b-e2876b49a76f",
   "metadata": {
    "editable": true,
    "slideshow": {
     "slide_type": ""
    },
    "tags": []
   },
   "source": [
    "## Importing packages\n",
    "If you are working with a notebook, it is a good practice to import all the packages that you need at the top of the notebook. This will automatically give you a rough idea of what the notebook is about, and you will avoid random package imports throughout the notebook.\n",
    "\n",
    "- Import the three packages you have used so far with their correct renaming conventions."
   ]
  },
  {
   "cell_type": "code",
   "execution_count": 1,
   "id": "77e2173c-07c1-435f-848c-7f18f66d54da",
   "metadata": {
    "editable": true,
    "slideshow": {
     "slide_type": ""
    },
    "tags": []
   },
   "outputs": [],
   "source": [
    "import numpy as np\n",
    "import pandas as pd\n",
    "import matplotlib.pyplot as plt"
   ]
  },
  {
   "cell_type": "code",
   "execution_count": null,
   "id": "1add35bd-3ab6-454e-bb26-4b4ef9cd719c",
   "metadata": {
    "editable": true,
    "slideshow": {
     "slide_type": ""
    },
    "tags": []
   },
   "outputs": [],
   "source": []
  },
  {
   "cell_type": "markdown",
   "id": "9aa2b95c-b0c9-47a0-8d78-9bc80b900c88",
   "metadata": {
    "editable": true,
    "slideshow": {
     "slide_type": ""
    },
    "tags": []
   },
   "source": [
    "## Reading csv files\n",
    "The package pandas introduces the function `pd.read_csv()` that allows you to turn a csv file directly into a data frame. Depending on the specific format of the csv file, you have to use quite a few arguments to `pd.read_csv()` to read the csv file without any errors. See the following arguments that are useful/required to load the temperature csv files:\n",
    "- `sep`: separator of the data columns, this will be a comma in most cases but sometimes this is also a semicolon\n",
    "- `decimal`: decimal character for numerical data, this will be a comma if the file uses a \"German\" number format\n",
    "- `names`: list of names to use for the columns, use this if the column names are not (well) specified in the csv file\n",
    "- `usecols`: list of columns to use, if there are six columns in the csv file but you don't need the first and the last one, use `[1, 2, 3, 4]`\n",
    "- `index_col`: specify the column to be used as the index, this is applied after `usecols`\n",
    "- `skiprows`: skip the specified number/list of rows before starting to read the data columns, use this if there is some metadata at the top of your csv file\n",
    "- `header`: index of the row where the column names are specified, this is counted after applying `skiprows`\n",
    "- `nrows`: specify the number of rows to load, use this if you only want to load the entire csv file at once\n",
    "- `encoding`: to save text in a file you need an encoding that specifies how strings are transformed to bytes, the default here should be `\"utf-8\"`\n",
    "\n",
    "In any case, you should always open a csv file in an editor first to check the format. Unless you already know the arguments for the specific format, this will always be quicker than trying to blindly read the file with pandas.  \n",
    "\n",
    "For the temperature and pressure files in the folders `thr_188*` the encoding is `\"cp1252\"`. Without this encoding, pandas raises a `UnicodeDecodeError` with the error message `'utf-8' codec can't decode byte 0xb0 in position 740: invalid start byte`. If you google the error message, there is a Stack Overflow question where this issue is adressed https://stackoverflow.com/q/18171739. There are several suggestions to solve this issue, but only using `encoding=\"cp1252\"` actually resolves the issue. The encoding seems to be somehow related to Windows, maybe the data was saved/exported to the csv file on a Windows machine?\n",
    "\n",
    "- Look at the csv file for the temperature and pressure data in an editor. Which rows do you have to skip to get the actual data columns?\n",
    "- Either define the column names manually or adjust `skiprows` and use the `header` to get the column names directly from the csv file.\n",
    "- Rename the columns if necessary. You can assign a new list of column names to `df.columns` or you can use the method `df.rename()` with the argument `columns`.\n",
    "- The time data should be the index of the data frame. If this is still a column in your data frame, use the method `df.set_index()` to move the column to the index."
   ]
  },
  {
   "cell_type": "code",
   "execution_count": 2,
   "id": "d80af123-8b32-402c-8fd0-3a7f061737cc",
   "metadata": {
    "editable": true,
    "slideshow": {
     "slide_type": ""
    },
    "tags": []
   },
   "outputs": [],
   "source": [
    "file_name = \"temp_data/thr_1881/20230504-20230616_aqt-obg-188_SN1881.csv\"\n",
    "# file_name = \"temp_data/thr_1883/20230504-20230612_aqt-obg-184_SN1883.csv\"\n",
    "column_names = [\"timecode\", \"raw_temperature\", \"temperature\", \"raw_pressure\", \"pressure\"]\n",
    "columns = [1, 2, 3, 4, 5]\n",
    "df = pd.read_csv(\n",
    "    file_name,\n",
    "    index_col=0, # use the \"timecode\" column as the index\n",
    "    names=column_names, # manually set the column names\n",
    "    usecols=columns, # only use the columns with the indices 1 to 5\n",
    "    skiprows=18, # skip the first 18 rows\n",
    "    encoding=\"cp1252\" # specify the file encoding\n",
    ")"
   ]
  },
  {
   "cell_type": "code",
   "execution_count": 3,
   "id": "6e1ef46b-e824-4be4-9540-eec6eb0675e5",
   "metadata": {
    "editable": true,
    "slideshow": {
     "slide_type": ""
    },
    "tags": []
   },
   "outputs": [
    {
     "data": {
      "text/plain": [
       "Index(['03.05.2023 23:00:00', '03.05.2023 23:00:30', '03.05.2023 23:01:00',\n",
       "       '03.05.2023 23:01:30', '03.05.2023 23:02:00', '03.05.2023 23:02:30',\n",
       "       '03.05.2023 23:03:00', '03.05.2023 23:03:30', '03.05.2023 23:04:00',\n",
       "       '03.05.2023 23:04:30',\n",
       "       ...\n",
       "       '16.06.2023 15:40:00', '16.06.2023 15:40:30', '16.06.2023 15:41:00',\n",
       "       '16.06.2023 15:41:30', '16.06.2023 15:42:00', '16.06.2023 15:42:30',\n",
       "       '16.06.2023 15:43:00', '16.06.2023 15:43:30', '16.06.2023 15:44:00',\n",
       "       '16.06.2023 15:44:30'],\n",
       "      dtype='object', name='timecode', length=125850)"
      ]
     },
     "execution_count": 3,
     "metadata": {},
     "output_type": "execute_result"
    }
   ],
   "source": [
    "df.index"
   ]
  },
  {
   "cell_type": "code",
   "execution_count": null,
   "id": "25041b9b-d96e-4dc1-8639-6f1257fda39f",
   "metadata": {
    "editable": true,
    "slideshow": {
     "slide_type": ""
    },
    "tags": []
   },
   "outputs": [],
   "source": []
  },
  {
   "cell_type": "markdown",
   "id": "00cc6eed-10e9-4085-9f25-b3b2a45ee958",
   "metadata": {
    "editable": true,
    "slideshow": {
     "slide_type": ""
    },
    "tags": []
   },
   "source": [
    "## Converting the index to datetime objects\n",
    "The index of the data frame already looks like a datetime but these are actually just strings. If you want to properly use the index column, you have to convert it to datetime objects. Pandas provides the function `pd.to_datetime()` that will try to interpret strings/numbers as datetime objects. It might be necessary to further specify the format since this is often stored in the local time format. E.g. in Germany we use the format `day.month.year` whereas the everyday format in the US is `month/day/year`. As long as the format does not change throughout the data frame, you can always find a way to convert this to datetime objects. It might however be necessary to manually specify the datetime format. Look at the [documentation](https://pandas.pydata.org/docs/reference/api/pandas.to_datetime.html) to learn more about the options to interpret strings/numbers as datetime objects.\n",
    "\n",
    "- Convert the index of the data frame to a DatetimeIndex with the function `pd.to_datetime()`. You can directly reassign the DatetimeIndex to `df.index`.\n",
    "- What is the type of the individual values in the DatetimeIndex? Find out how you can get the hour, minute, day of week from an individual value  and from the entire DatetimeIndex."
   ]
  },
  {
   "cell_type": "code",
   "execution_count": 4,
   "id": "c1028418-d6ab-41c9-a821-8ab72ce188e5",
   "metadata": {
    "editable": true,
    "slideshow": {
     "slide_type": ""
    },
    "tags": []
   },
   "outputs": [],
   "source": [
    "# either use dayfirst=True to specify the \"German\" format\n",
    "df.index = pd.to_datetime(df.index, dayfirst=True)"
   ]
  },
  {
   "cell_type": "code",
   "execution_count": 5,
   "id": "fb806a27-0ef3-42c3-bc21-206ad2eacbe9",
   "metadata": {
    "editable": true,
    "slideshow": {
     "slide_type": ""
    },
    "tags": []
   },
   "outputs": [],
   "source": [
    "# specify format to convert strings to datetimes\n",
    "timecode_format = \"%d.%m.%Y %H:%M:%S\"\n",
    "df.index = pd.to_datetime(df.index, format=timecode_format)"
   ]
  },
  {
   "cell_type": "code",
   "execution_count": null,
   "id": "69466999-ada0-42e7-a641-b1fcfdf1a344",
   "metadata": {
    "editable": true,
    "slideshow": {
     "slide_type": ""
    },
    "tags": []
   },
   "outputs": [],
   "source": []
  },
  {
   "cell_type": "markdown",
   "id": "e7186a04-6d11-4763-8175-76f69f2161a6",
   "metadata": {
    "editable": true,
    "slideshow": {
     "slide_type": ""
    },
    "tags": []
   },
   "source": [
    "## Indexing the data frame with datetime ranges\n",
    "Since the index is now a DatetimeIndex, you can conveniently specify time ranges to select rows from the data frame. You don't even have to create a `pd.Timestamp`, you can directly use strings in the format `year-month-day`. As an example, if you want to select the data from `10.06.2023` to `14.06.2023`, you can use\n",
    "```python\n",
    "df.loc[\"2023-06-10\":\"2023-06-14\"]\n",
    "```\n",
    "If you only specify the date, the time will default to midnight in both cases. You can however also include the time if you need a more fine-grained row selection.\n",
    "\n",
    "- What happens if you use a single date (not a range) to index the data frame? What will be the first/last time in the selected rows?\n",
    "- Use an index range to get rows from an 8 hour interval on a date of your choice. What is the average temperature and pressure in the selected interval?\n",
    "- Create a plot to display one week of temperature data (from Monday to Sunday)."
   ]
  },
  {
   "cell_type": "code",
   "execution_count": 6,
   "id": "3fcec2ec-2569-408b-9cad-0ac8fbf44e3a",
   "metadata": {
    "editable": true,
    "slideshow": {
     "slide_type": ""
    },
    "tags": []
   },
   "outputs": [
    {
     "data": {
      "text/html": [
       "<div>\n",
       "<style scoped>\n",
       "    .dataframe tbody tr th:only-of-type {\n",
       "        vertical-align: middle;\n",
       "    }\n",
       "\n",
       "    .dataframe tbody tr th {\n",
       "        vertical-align: top;\n",
       "    }\n",
       "\n",
       "    .dataframe thead th {\n",
       "        text-align: right;\n",
       "    }\n",
       "</style>\n",
       "<table border=\"1\" class=\"dataframe\">\n",
       "  <thead>\n",
       "    <tr style=\"text-align: right;\">\n",
       "      <th></th>\n",
       "      <th>raw_temperature</th>\n",
       "      <th>temperature</th>\n",
       "      <th>raw_pressure</th>\n",
       "      <th>pressure</th>\n",
       "    </tr>\n",
       "    <tr>\n",
       "      <th>timecode</th>\n",
       "      <th></th>\n",
       "      <th></th>\n",
       "      <th></th>\n",
       "      <th></th>\n",
       "    </tr>\n",
       "  </thead>\n",
       "  <tbody>\n",
       "    <tr>\n",
       "      <th>2023-05-25 00:00:00</th>\n",
       "      <td>30032</td>\n",
       "      <td>15.511612</td>\n",
       "      <td>26710</td>\n",
       "      <td>1.050942</td>\n",
       "    </tr>\n",
       "    <tr>\n",
       "      <th>2023-05-25 00:00:30</th>\n",
       "      <td>30032</td>\n",
       "      <td>15.511612</td>\n",
       "      <td>26703</td>\n",
       "      <td>1.048996</td>\n",
       "    </tr>\n",
       "    <tr>\n",
       "      <th>2023-05-25 00:01:00</th>\n",
       "      <td>30031</td>\n",
       "      <td>15.512939</td>\n",
       "      <td>26703</td>\n",
       "      <td>1.048996</td>\n",
       "    </tr>\n",
       "    <tr>\n",
       "      <th>2023-05-25 00:01:30</th>\n",
       "      <td>30031</td>\n",
       "      <td>15.512939</td>\n",
       "      <td>26704</td>\n",
       "      <td>1.049274</td>\n",
       "    </tr>\n",
       "    <tr>\n",
       "      <th>2023-05-25 00:02:00</th>\n",
       "      <td>30031</td>\n",
       "      <td>15.512939</td>\n",
       "      <td>26709</td>\n",
       "      <td>1.050664</td>\n",
       "    </tr>\n",
       "    <tr>\n",
       "      <th>...</th>\n",
       "      <td>...</td>\n",
       "      <td>...</td>\n",
       "      <td>...</td>\n",
       "      <td>...</td>\n",
       "    </tr>\n",
       "    <tr>\n",
       "      <th>2023-05-25 23:57:30</th>\n",
       "      <td>28826</td>\n",
       "      <td>17.125778</td>\n",
       "      <td>26713</td>\n",
       "      <td>1.051776</td>\n",
       "    </tr>\n",
       "    <tr>\n",
       "      <th>2023-05-25 23:58:00</th>\n",
       "      <td>28849</td>\n",
       "      <td>17.094715</td>\n",
       "      <td>26711</td>\n",
       "      <td>1.051220</td>\n",
       "    </tr>\n",
       "    <tr>\n",
       "      <th>2023-05-25 23:58:30</th>\n",
       "      <td>28866</td>\n",
       "      <td>17.071762</td>\n",
       "      <td>26714</td>\n",
       "      <td>1.052054</td>\n",
       "    </tr>\n",
       "    <tr>\n",
       "      <th>2023-05-25 23:59:00</th>\n",
       "      <td>28861</td>\n",
       "      <td>17.078512</td>\n",
       "      <td>26713</td>\n",
       "      <td>1.051776</td>\n",
       "    </tr>\n",
       "    <tr>\n",
       "      <th>2023-05-25 23:59:30</th>\n",
       "      <td>28892</td>\n",
       "      <td>17.036671</td>\n",
       "      <td>26714</td>\n",
       "      <td>1.052054</td>\n",
       "    </tr>\n",
       "  </tbody>\n",
       "</table>\n",
       "<p>2880 rows × 4 columns</p>\n",
       "</div>"
      ],
      "text/plain": [
       "                     raw_temperature  temperature  raw_pressure  pressure\n",
       "timecode                                                                 \n",
       "2023-05-25 00:00:00            30032    15.511612         26710  1.050942\n",
       "2023-05-25 00:00:30            30032    15.511612         26703  1.048996\n",
       "2023-05-25 00:01:00            30031    15.512939         26703  1.048996\n",
       "2023-05-25 00:01:30            30031    15.512939         26704  1.049274\n",
       "2023-05-25 00:02:00            30031    15.512939         26709  1.050664\n",
       "...                              ...          ...           ...       ...\n",
       "2023-05-25 23:57:30            28826    17.125778         26713  1.051776\n",
       "2023-05-25 23:58:00            28849    17.094715         26711  1.051220\n",
       "2023-05-25 23:58:30            28866    17.071762         26714  1.052054\n",
       "2023-05-25 23:59:00            28861    17.078512         26713  1.051776\n",
       "2023-05-25 23:59:30            28892    17.036671         26714  1.052054\n",
       "\n",
       "[2880 rows x 4 columns]"
      ]
     },
     "execution_count": 6,
     "metadata": {},
     "output_type": "execute_result"
    }
   ],
   "source": [
    "df.loc[\"2023-05-25\"]"
   ]
  },
  {
   "cell_type": "code",
   "execution_count": 7,
   "id": "543d4613-d941-4682-bfb6-3802ad37185e",
   "metadata": {
    "editable": true,
    "slideshow": {
     "slide_type": ""
    },
    "tags": []
   },
   "outputs": [
    {
     "data": {
      "text/plain": [
       "raw_temperature    27683.958420\n",
       "temperature           18.688401\n",
       "raw_pressure       26667.024948\n",
       "pressure               1.038996\n",
       "dtype: float64"
      ]
     },
     "execution_count": 7,
     "metadata": {},
     "output_type": "execute_result"
    }
   ],
   "source": [
    "df.loc[\"2023-06-01 04:30\":\"2023-06-01 12:30\"].mean()"
   ]
  },
  {
   "cell_type": "code",
   "execution_count": 8,
   "id": "8a202e1c-8e1e-4e94-81e4-648fe2b593cd",
   "metadata": {
    "editable": true,
    "slideshow": {
     "slide_type": ""
    },
    "tags": []
   },
   "outputs": [
    {
     "data": {
      "text/plain": [
       "<Axes: xlabel='timecode'>"
      ]
     },
     "execution_count": 8,
     "metadata": {},
     "output_type": "execute_result"
    },
    {
     "data": {
      "image/png": "[encoded data removed]",
      "text/plain": [
       "<Figure size 640x480 with 1 Axes>"
      ]
     },
     "metadata": {},
     "output_type": "display_data"
    }
   ],
   "source": [
    "df.loc[\"2023-06-05\":\"2023-06-11\"][\"temperature\"].plot()"
   ]
  },
  {
   "cell_type": "code",
   "execution_count": null,
   "id": "d545a29d-80c5-4c23-9ad8-4ac7223db272",
   "metadata": {
    "editable": true,
    "slideshow": {
     "slide_type": ""
    },
    "tags": []
   },
   "outputs": [],
   "source": []
  }
 ],
 "metadata": {
  "kernelspec": {
   "display_name": "konstanz2024",
   "language": "python",
   "name": "konstanz2024"
  },
  "language_info": {
   "codemirror_mode": {
    "name": "ipython",
    "version": 3
   },
   "file_extension": ".py",
   "mimetype": "text/x-python",
   "name": "python",
   "nbconvert_exporter": "python",
   "pygments_lexer": "ipython3",
   "version": "3.12.7"
  }
 },
 "nbformat": 4,
 "nbformat_minor": 5
}
