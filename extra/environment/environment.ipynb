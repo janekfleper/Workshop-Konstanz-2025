{
 "cells": [
  {
   "cell_type": "markdown",
   "id": "65cc29c6-246f-4bff-943b-e2876b49a76f",
   "metadata": {
    "editable": true,
    "slideshow": {
     "slide_type": ""
    },
    "tags": []
   },
   "source": [
    "## Importing packages\n",
    "If you are working with a notebook, it is a good practice to import all the packages that you need at the top of the notebook. This will automatically give you a rough idea of what the notebook is about, and you will avoid random package imports throughout the notebook.\n",
    "\n",
    "- Import the three packages you have used so far with their correct renaming conventions."
   ]
  },
  {
   "cell_type": "code",
   "execution_count": null,
   "id": "1add35bd-3ab6-454e-bb26-4b4ef9cd719c",
   "metadata": {},
   "outputs": [],
   "source": []
  },
  {
   "cell_type": "markdown",
   "id": "9aa2b95c-b0c9-47a0-8d78-9bc80b900c88",
   "metadata": {},
   "source": [
    "## Reading csv files\n",
    "The package pandas introduces the function `pd.read_csv()` that allows you to turn a csv file directly into a data frame. Depending on the specific format of the csv file, you have to use quite a few arguments to `pd.read_csv()` to read the csv file without any errors. See the following arguments that are useful/required to load the temperature csv files:\n",
    "- `sep`: separator of the data columns, this will be a comma in most cases but sometimes this is also a semicolon\n",
    "- `decimal`: decimal character for numerical data, this will be a comma if the file uses a \"German\" number format\n",
    "- `names`: list of names to use for the columns, use this if the column names are not (well) specified in the csv file\n",
    "- `usecols`: list of columns to use, if there are six columns in the csv file but you don't need the first and the last one, use `[1, 2, 3, 4]`\n",
    "- `index_col`: specify the column to be used as the index, this is applied after `usecols`\n",
    "- `skiprows`: skip the specified number/list of rows before starting to read the data columns, use this if there is some metadata at the top of your csv file\n",
    "- `header`: index of the row where the column names are specified, this is counted after applying `skiprows`\n",
    "- `nrows`: specify the number of rows to load, use this if you only want to load the entire csv file at once\n",
    "- `encoding`: to save text in a file you need an encoding that specifies how strings are transformed to bytes, the default here should be `\"utf-8\"`\n",
    "\n",
    "In any case, you should always open a csv file in an editor first to check the format. Unless you already know the arguments for the specific format, this will always be quicker than trying to blindly read the file with pandas.  \n",
    "\n",
    "For the temperature and pressure files in the folders `thr_188*` the encoding is `\"cp1252\"`. Without this encoding, pandas raises a `UnicodeDecodeError` with the error message `'utf-8' codec can't decode byte 0xb0 in position 740: invalid start byte`. If you google the error message, there is a Stack Overflow question where this issue is adressed https://stackoverflow.com/q/18171739. There are several suggestions to solve this issue, but only using `encoding=\"cp1252\"` actually resolves the issue. The encoding seems to be somehow related to Windows, maybe the data was saved/exported to the csv file on a Windows machine?\n",
    "\n",
    "- Look at the csv file for the temperature and pressure data in an editor. Which rows do you have to skip to get the actual data columns?\n",
    "- Either define the column names manually or adjust `skiprows` and use the `header` to get the column names directly from the csv file.\n",
    "- Rename the columns if necessary. You can assign a new list of column names to `df.columns` or you can use the method `df.rename()` with the argument `columns`.\n",
    "- The time data should be the index of the data frame. If this is still a column in your data frame, use the method `df.set_index()` to move the column to the index."
   ]
  },
  {
   "cell_type": "code",
   "execution_count": null,
   "id": "25041b9b-d96e-4dc1-8639-6f1257fda39f",
   "metadata": {},
   "outputs": [],
   "source": []
  },
  {
   "cell_type": "markdown",
   "id": "00cc6eed-10e9-4085-9f25-b3b2a45ee958",
   "metadata": {},
   "source": [
    "## Converting the index to datetime objects\n",
    "The index of the data frame already looks like a datetime but these are actually just strings. If you want to properly use the index column, you have to convert it to datetime objects. Pandas provides the function `pd.to_datetime()` that will try to interpret strings/numbers as datetime objects. It might be necessary to further specify the format since this is often stored in the local time format. E.g. in Germany we use the format `day.month.year` whereas the everyday format in the US is `month/day/year`. As long as the format does not change throughout the data frame, you can always find a way to convert this to datetime objects. It might however be necessary to manually specify the datetime format. Look at the [documentation](https://pandas.pydata.org/docs/reference/api/pandas.to_datetime.html) to learn more about the options to interpret strings/numbers as datetime objects.\n",
    "\n",
    "- Convert the index of the data frame to a DatetimeIndex with the function `pd.to_datetime()`. You can directly reassign the DatetimeIndex to `df.index`.\n",
    "- What is the type of the individual values in the DatetimeIndex? Find out how you can get the hour, minute, day of week from an individual value  and from the entire DatetimeIndex."
   ]
  },
  {
   "cell_type": "code",
   "execution_count": null,
   "id": "69466999-ada0-42e7-a641-b1fcfdf1a344",
   "metadata": {},
   "outputs": [],
   "source": []
  },
  {
   "cell_type": "markdown",
   "id": "e7186a04-6d11-4763-8175-76f69f2161a6",
   "metadata": {},
   "source": [
    "## Indexing the data frame with datetime ranges\n",
    "Since the index is now a DatetimeIndex, you can conveniently specify time ranges to select rows from the data frame. You don't even have to create a `pd.Timestamp`, you can directly use strings in the format `year-month-day`. As an example, if you want to select the data from `10.06.2023` to `14.06.2023`, you can use\n",
    "```python\n",
    "df.loc[\"2023-06-10\":\"2023-06-14\"]\n",
    "```\n",
    "If you only specify the date, the time will default to midnight in both cases. You can however also include the time if you need a more fine-grained row selection.\n",
    "\n",
    "- What happens if you use a single date (not a range) to index the data frame? What will be the first/last time in the selected rows?\n",
    "- Use an index range to get rows from an 8 hour interval on a date of your choice. What is the average temperature and pressure in the selected interval?\n",
    "- Create a plot to display one week of temperature data (from Monday to Sunday)."
   ]
  },
  {
   "cell_type": "code",
   "execution_count": null,
   "id": "d545a29d-80c5-4c23-9ad8-4ac7223db272",
   "metadata": {},
   "outputs": [],
   "source": []
  }
 ],
 "metadata": {
  "kernelspec": {
   "display_name": "Python 3 (ipykernel)",
   "language": "python",
   "name": "python3"
  },
  "language_info": {
   "codemirror_mode": {
    "name": "ipython",
    "version": 3
   },
   "file_extension": ".py",
   "mimetype": "text/x-python",
   "name": "python",
   "nbconvert_exporter": "python",
   "pygments_lexer": "ipython3",
   "version": "3.12.7"
  }
 },
 "nbformat": 4,
 "nbformat_minor": 5
}
